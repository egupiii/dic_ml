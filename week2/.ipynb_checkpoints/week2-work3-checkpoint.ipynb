{
 "cells": [
  {
   "cell_type": "markdown",
   "metadata": {},
   "source": [
    "## 【課題1】内積を手計算しよう\n",
    "\n",
    "\n",
    "$$\n",
    "    \\boldsymbol{A} =\n",
    "        \\left[\\begin{array}{ccc}\n",
    "            -1 & 2 & 3 \\\\\n",
    "            4 & -5 & 6 \\\\\n",
    "            7 & 8 & -9 \\\\\n",
    "        \\end{array}\\right] \\quad,\n",
    "    \\boldsymbol{B} =\n",
    "        \\left[\\begin{array}{ccc}\n",
    "            0 & 2 & 1 \\\\\n",
    "            0 & 2 & -8 \\\\\n",
    "            2 & 9 & -1 \\\\\n",
    "        \\end{array}\\right] \\quad\n",
    "$$\n",
    "\n",
    "\n",
    "よって、\n",
    "\n",
    "\n",
    "$$\n",
    "    \\boldsymbol{A * B} =\n",
    "        \\left[\\begin{array}{ccc}\n",
    "            6 & 29 & -20 \\\\\n",
    "            12 & 52 & 38 \\\\\n",
    "            -18 & -51 & -48 \\\\\n",
    "        \\end{array}\\right] \\quad\n",
    "$$"
   ]
  },
  {
   "cell_type": "code",
   "execution_count": 48,
   "metadata": {},
   "outputs": [
    {
     "data": {
      "text/plain": [
       "6"
      ]
     },
     "execution_count": 48,
     "metadata": {},
     "output_type": "execute_result"
    }
   ],
   "source": [
    "# compute an inner product of single arrays\n",
    "\n",
    "import numpy as np\n",
    "\n",
    "A = np.array([[-1,2,3], [4,-5,6], [7,8,-9]])\n",
    "B = np.array([[0,2,1], [0,2,-8], [2,9,-1]])\n",
    "\n",
    "ele00 = 0\n",
    "for _ in range(3):\n",
    "    item = A[0][_] * B[_][0]\n",
    "    ele00 += item\n",
    "\n",
    "ele00"
   ]
  },
  {
   "cell_type": "code",
   "execution_count": 50,
   "metadata": {},
   "outputs": [
    {
     "data": {
      "text/plain": [
       "array([[  6,  29, -20],\n",
       "       [ 12,  52,  38],\n",
       "       [-18, -51, -48]])"
      ]
     },
     "execution_count": 50,
     "metadata": {},
     "output_type": "execute_result"
    }
   ],
   "source": [
    "# compute an inner product of multidimensional arrays by \"for\"\n",
    "\n",
    "ans = []\n",
    "for k in range(3):\n",
    "    for j in range(3):\n",
    "        ele = 0\n",
    "        for i in range(3):\n",
    "            ele += A[k][i] * B[i][j]\n",
    "        ans.append(ele)\n",
    "\n",
    "np.array(ans).reshape(3,3)"
   ]
  },
  {
   "cell_type": "code",
   "execution_count": 51,
   "metadata": {},
   "outputs": [
    {
     "data": {
      "text/plain": [
       "array([[  6,  29, -20],\n",
       "       [ 12,  52,  38],\n",
       "       [-18, -51, -48]])"
      ]
     },
     "execution_count": 51,
     "metadata": {},
     "output_type": "execute_result"
    }
   ],
   "source": [
    "# compute an inner product of multidimensional arrays by np.dot\n",
    "\n",
    "np.dot(A,B)"
   ]
  },
  {
   "cell_type": "markdown",
   "metadata": {},
   "source": [
    "## 【課題5】内積ができないときはどうするか\n",
    "\n",
    "\n",
    "$$\n",
    "    \\boldsymbol{A} =\n",
    "        \\left[\\begin{array}{ccc}\n",
    "            -1 & 2 & 3 \\\\\n",
    "            4 & -5 & 6 \\\\\n",
    "        \\end{array}\\right] \\quad,\n",
    "    \\boldsymbol{B} =\n",
    "        \\left[\\begin{array}{ccc}\n",
    "            -9 & 8 & 7 \\\\\n",
    "            6 & -5 & 4 \\\\\n",
    "        \\end{array}\\right] \\quad\n",
    "$$\n",
    "\n",
    "\n",
    "行列 $ A * B $ が計算できない理由は、行列 $ A $ の列数と、行列 $ B $ の行数が同じでないため。"
   ]
  },
  {
   "cell_type": "code",
   "execution_count": 54,
   "metadata": {},
   "outputs": [
    {
     "data": {
      "text/plain": [
       "array([[ 46,  -4],\n",
       "       [-34,  73]])"
      ]
     },
     "execution_count": 54,
     "metadata": {},
     "output_type": "execute_result"
    }
   ],
   "source": [
    "# # compute an inner product of multidimensional arrays by transposing\n",
    "\n",
    "A = np.array([[-1,2,3], [4,-5,6]])\n",
    "B = np.array([[-9,8,7], [6,-5,4]])\n",
    "\n",
    "np.dot(A,B.T)"
   ]
  },
  {
   "cell_type": "code",
   "execution_count": null,
   "metadata": {},
   "outputs": [],
   "source": []
  }
 ],
 "metadata": {
  "kernelspec": {
   "display_name": "Python 3",
   "language": "python",
   "name": "python3"
  },
  "language_info": {
   "codemirror_mode": {
    "name": "ipython",
    "version": 3
   },
   "file_extension": ".py",
   "mimetype": "text/x-python",
   "name": "python",
   "nbconvert_exporter": "python",
   "pygments_lexer": "ipython3",
   "version": "3.6.7"
  }
 },
 "nbformat": 4,
 "nbformat_minor": 2
}
