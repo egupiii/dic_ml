{
 "cells": [
  {
   "cell_type": "markdown",
   "metadata": {},
   "source": [
    "# 1.この課題の目的\n",
    "\n",
    "\n",
    "機械学習で使われている勾配降下法の仕組みを知る"
   ]
  },
  {
   "cell_type": "markdown",
   "metadata": {},
   "source": [
    "# 2.富士山から下りたい\n",
    "\n",
    "\n",
    "授業前課題2では「勾配降下法」に触れました。勾配降下法は山や谷を下ることに例えられます。\n",
    "\n",
    "\n",
    "先週は紙を折って超えることを目指した富士山を、今週は頂上付近から下りていくことにしましょう。\n",
    "\n",
    "\n",
    "この断面図を見れば低い場所はすぐに分かりますが、あなたは暗闇の中、  赤い点の箇所(x=136)にいるという状況を想像します。足元の傾きしか分からない中で富士山から下りるというプログラムを作っていきましょう。"
   ]
  },
  {
   "cell_type": "code",
   "execution_count": 1,
   "metadata": {},
   "outputs": [],
   "source": [
    "# get data from a csv file\n",
    "\n",
    "import numpy as np\n",
    "\n",
    "np.set_printoptions(suppress=True) # set a prohibition of exponential notations\n",
    "fuji = np.loadtxt(\"week2_session_mtfuji_data.csv\",delimiter=\",\", skiprows=1)"
   ]
  },
  {
   "cell_type": "code",
   "execution_count": 2,
   "metadata": {},
   "outputs": [
    {
     "name": "stdout",
     "output_type": "stream",
     "text": [
      "[[  130.          35.352505   138.756638  2563.4      41888.      ]\n",
      " [  131.          35.35418    138.753742  2703.1      42210.      ]\n",
      " [  132.          35.355855   138.750846  2825.55     42532.      ]\n",
      " [  133.          35.35753    138.74795   2967.9      42854.      ]\n",
      " [  134.          35.359205   138.745054  3087.81     43177.      ]\n",
      " [  135.          35.36088    138.742157  3266.24     43499.      ]\n",
      " [  136.          35.362555   138.739261  3434.59     43821.      ]\n",
      " [  137.          35.36423    138.736364  3600.08     44143.      ]\n",
      " [  138.          35.365904   138.733468  3679.96     44466.      ]\n",
      " [  139.          35.367579   138.730571  3664.9      44788.      ]\n",
      " [  140.          35.369253   138.727674  3567.76     45110.      ]\n",
      " [  141.          35.370928   138.724777  3348.43     45432.      ]\n",
      " [  142.          35.372602   138.72188   3171.53     45754.      ]\n",
      " [  143.          35.374277   138.718982  3019.8      46077.      ]\n",
      " [  144.          35.375951   138.716085  2864.56     46399.      ]\n",
      " [  145.          35.377625   138.713188  2713.03     46721.      ]\n",
      " [  146.          35.379299   138.71029   2566.6      47043.      ]\n",
      " [  147.          35.380973   138.707392  2450.23     47366.      ]\n",
      " [  148.          35.382647   138.704494  2334.42     47688.      ]\n",
      " [  149.          35.384321   138.701596  2240.98     48010.      ]]\n"
     ]
    }
   ],
   "source": [
    "# check the contents of the csv file\n",
    "\n",
    "print(fuji[130:150])"
   ]
  },
  {
   "cell_type": "markdown",
   "metadata": {},
   "source": [
    "## 【問題1】断面図の作成\n",
    "\n",
    "\n",
    "前述の断面図をMatplotlibを使い作成してください。x=136の地点の赤い点や矢印も表示させてください。\n",
    "\n",
    "\n",
    "これ以降の問題では下りる過程の可視化を行いますが、その際にはこの断面図を活用してください。"
   ]
  },
  {
   "cell_type": "code",
   "execution_count": 3,
   "metadata": {},
   "outputs": [
    {
     "data": {
      "image/png": "[encoded data removed]",
      "text/plain": [
       "<Figure size 432x288 with 1 Axes>"
      ]
     },
     "metadata": {
      "needs_background": "light"
     },
     "output_type": "display_data"
    }
   ],
   "source": [
    "# create a cross-sectional view\n",
    "\n",
    "import matplotlib.pyplot as plt\n",
    "%matplotlib inline\n",
    "\n",
    "plt.xlabel(\"x\")\n",
    "plt.ylabel(\"elevation[m]\")\n",
    "plt.title(\"Mt. Fuji\")\n",
    "plt.plot(fuji[:,0], fuji[:,3])\n",
    "plt.plot(fuji[136,0],fuji[136,3],c=\"r\",marker='o')\n",
    "plt.annotate( \"you\", xy=(136,fuji[136,3]), xytext=(80,3000), \n",
    "             arrowprops=dict(facecolor='pink'), color=\"k\")\n",
    "\n",
    "plt.show()"
   ]
  },
  {
   "cell_type": "markdown",
   "metadata": {},
   "source": [
    "## 【問題2】勾配の計算の関数\n",
    "\n",
    "\n",
    "授業前課題では各地点での勾配を最初に求めました。しかし、暗闇の富士山の比喩を考えると、知ることができるのはあなたがいる地点の勾配だけです。\n",
    "\n",
    "\n",
    "ここでは「あなたが今いる地点x」と「その隣の地点x-1」の関係による勾配を求める関数を作成しましょう。\n",
    "\n",
    "\n",
    "この関数が返す値を「今いる地点の勾配」として次の問題で作成する関数内で使ってください。\n",
    "\n",
    "\n",
    "勾配は授業前課題で行ったように、以下の計算で求まります。\n",
    "\n",
    "\n",
    "このデータでは「標高（elevation)」がyに相当します。xはそのまま「その地点の番号(x)」です。"
   ]
  },
  {
   "cell_type": "code",
   "execution_count": 4,
   "metadata": {},
   "outputs": [],
   "source": [
    "# create a def of computing each slope\n",
    "\n",
    "def compute_slope(x):\n",
    "    return (fuji[x,3]-fuji[x-1,3]) / (x-(x-1))"
   ]
  },
  {
   "cell_type": "code",
   "execution_count": 5,
   "metadata": {},
   "outputs": [
    {
     "data": {
      "text/plain": [
       "168.35000000000036"
      ]
     },
     "execution_count": 5,
     "metadata": {},
     "output_type": "execute_result"
    }
   ],
   "source": [
    "# check the above def\n",
    "\n",
    "compute_slope(136)"
   ]
  },
  {
   "cell_type": "code",
   "execution_count": 6,
   "metadata": {},
   "outputs": [
    {
     "data": {
      "text/plain": [
       "-1725.8"
      ]
     },
     "execution_count": 6,
     "metadata": {},
     "output_type": "execute_result"
    }
   ],
   "source": [
    "# need to add an condition to the above def that it dose not conclude x <= 0\n",
    "\n",
    "compute_slope(0)\n",
    "# compute_slope(-10)"
   ]
  },
  {
   "cell_type": "markdown",
   "metadata": {},
   "source": [
    "## 【問題3】勾配降下法の関数を作成\n",
    "\n",
    "\n",
    "授業前課題では説明までとした勾配降下法ですが、これを行う関数を作成してください。\n",
    "\n",
    "\n",
    "数式で表すと 「移動すべき地点 = 今いる地点 - α × 今いる地点の勾配」 となります。\n",
    "\n",
    "\n",
    "この関数を使い、あなたが今いるxが136の地点（標高3434.59[m]）から、山を下っていきましょう。移動毎の標高はリストに記録し、その過程を可視化してください。断面図を目視したり、読み込んだ数値を確認して分かることと比べてどうなっているでしょうか。\n",
    "\n",
    "\n",
    "<u>実装上の注意</u>\n",
    "\n",
    "\n",
    "移動すべき地点は基本的には少数となりますが、勾配の情報は整数値の場所でしか得られません。そのため、四捨五入により整数値に変換する必要があります。\n",
    "\n",
    "\n",
    "<u>可視化のヒント</u>\n",
    "\n",
    "\n",
    "断面図の中に点を表示したり、繰り返し毎の標高や勾配を折れ線グラフで見てみることができます。\n",
    "\n",
    "\n",
    "<u>αの補足</u>\n",
    "\n",
    "\n",
    "αは0より大きい任意の値をとるハイパーパラメータです。機械学習の分野では学習率という名前で呼ばれます。この値によって下り方が変わりますから、関数の引数にしてください。複数試し、うまく下りられるαの値を見つけましょう。\n",
    "\n",
    "\n",
    "<u>初期値の補足</u>\n",
    "\n",
    "\n",
    "最初に居たx=136の地点のことを初期値と呼びます。この初期値によってどこに下っていくかが変わりますから、これも関数の引数にしてください。"
   ]
  },
  {
   "cell_type": "code",
   "execution_count": 7,
   "metadata": {},
   "outputs": [],
   "source": [
    "# create a def of the gradient descent\n",
    "\n",
    "round=lambda x:(x*2+1)//2\n",
    "\n",
    "\n",
    "def gradient_descent(x, alpha):\n",
    "    slope = compute_slope(x)\n",
    "    y_array =  np.array([fuji[x,3]])\n",
    "    \n",
    "    if slope > 0:\n",
    "        while True:\n",
    "            slope = compute_slope(x)\n",
    "            if slope > 0:\n",
    "                x -= alpha * slope\n",
    "                x = int(round(x))\n",
    "                y_array = np.append(y_array,fuji[x,3])   # wanna use \"np.concatenate\"\n",
    "            else:\n",
    "                return x, y_array\n",
    "    \n",
    "    else:\n",
    "        while True:\n",
    "            slope = compute_slope(x)\n",
    "            if slope < 0:\n",
    "                x -= alpha * slope\n",
    "                x = int(round(x))\n",
    "                y_array = np.append(y_array,fuji[x,3])   # wanna use \"np.concatenate\"\n",
    "            else:\n",
    "                return x, y_array"
   ]
  },
  {
   "cell_type": "code",
   "execution_count": 23,
   "metadata": {},
   "outputs": [
    {
     "data": {
      "text/plain": [
       "72"
      ]
     },
     "execution_count": 23,
     "metadata": {},
     "output_type": "execute_result"
    }
   ],
   "source": [
    "# in a case of x = 136\n",
    "\n",
    "x, y_array = gradient_descent(136, 0.25)\n",
    "\n",
    "x"
   ]
  },
  {
   "cell_type": "code",
   "execution_count": 24,
   "metadata": {},
   "outputs": [
    {
     "data": {
      "text/plain": [
       "array([3434.59,  660.43,  536.54,  471.82,  420.6 ,  418.41,  355.68])"
      ]
     },
     "execution_count": 24,
     "metadata": {},
     "output_type": "execute_result"
    }
   ],
   "source": [
    "y_array"
   ]
  },
  {
   "cell_type": "code",
   "execution_count": 25,
   "metadata": {},
   "outputs": [
    {
     "data": {
      "image/png": "[encoded data removed]",
      "text/plain": [
       "<Figure size 432x288 with 1 Axes>"
      ]
     },
     "metadata": {
      "needs_background": "light"
     },
     "output_type": "display_data"
    }
   ],
   "source": [
    "plt.plot(y_array)\n",
    "\n",
    "plt.show()"
   ]
  },
  {
   "cell_type": "markdown",
   "metadata": {},
   "source": [
    "## 【問題4】初期値の変更\n",
    "\n",
    "\n",
    "ここまでの問題では最初のxを136としましたが、xの初期値を変更すると結果が変化します。特にxを139より大きい値にすると、富士山の反対側の斜面を下りていくことになります。\n",
    "\n",
    "\n",
    "そういった初期値を設定した上で、移動毎の標高はリストに記録し、その過程を可視化してください。"
   ]
  },
  {
   "cell_type": "code",
   "execution_count": 26,
   "metadata": {},
   "outputs": [
    {
     "data": {
      "text/plain": [
       "185"
      ]
     },
     "execution_count": 26,
     "metadata": {},
     "output_type": "execute_result"
    }
   ],
   "source": [
    "# in a case of x = 140\n",
    "\n",
    "x2, y_array2 = gradient_descent(140, 0.17)\n",
    "\n",
    "x2"
   ]
  },
  {
   "cell_type": "code",
   "execution_count": 27,
   "metadata": {},
   "outputs": [
    {
     "data": {
      "text/plain": [
       "array([3567.76, 1623.73, 1259.24, 1201.31, 1095.73, 1043.91, 1033.52,\n",
       "        993.63, 1094.28])"
      ]
     },
     "execution_count": 27,
     "metadata": {},
     "output_type": "execute_result"
    }
   ],
   "source": [
    "y_array2"
   ]
  },
  {
   "cell_type": "code",
   "execution_count": 28,
   "metadata": {},
   "outputs": [
    {
     "data": {
      "image/png": "[encoded data removed]",
      "text/plain": [
       "<Figure size 432x288 with 1 Axes>"
      ]
     },
     "metadata": {
      "needs_background": "light"
     },
     "output_type": "display_data"
    }
   ],
   "source": [
    "plt.plot(y_array2)\n",
    "\n",
    "plt.show()"
   ]
  },
  {
   "cell_type": "markdown",
   "metadata": {},
   "source": [
    "## 【問題5】（アドバンス課題）並列計算\n",
    "\n",
    "\n",
    "初期値によって結果が変化するわけですから、0から299まで全ての初期値の計算を行ってみるということを考えられます。\n",
    "\n",
    "\n",
    "for文を使い繰り返すこともできますが、NumPyの配列を工夫して使うことで複数の計算を同時に行うことができます。\n",
    "\n",
    "\n",
    "ここまで作成した関数を複数の初期値が同時に計算できるように改良してください。\n",
    "\n",
    "\n",
    "この改良は次のハイパーパラメータの検証にも応用することができます。\n",
    "\n",
    "\n",
    "<u>ヒント</u>\n",
    "\n",
    "\n",
    "NumPyは配列間で四則演算などの操作が可能です。以下のサンプルコードの3行目と4行目の挙動を参考にしてください。\n",
    "\n",
    "\n",
    "特に4行目の計算はブロードキャストと呼ばれるNumPy独特の機能であるため、各自でも調査してください。"
   ]
  },
  {
   "cell_type": "code",
   "execution_count": 29,
   "metadata": {},
   "outputs": [],
   "source": [
    "# parallel computation\n",
    "\n",
    "def gradient_descent2(x, alpha):\n",
    "    slope = compute_slope(x)\n",
    "    y_array = fuji[x,3].reshape(len(x),1)\n",
    "    \n",
    "    for _ in range(20):\n",
    "        slope = compute_slope(x)\n",
    "        x = x.astype(np.float64)\n",
    "        x -= alpha * slope\n",
    "        x = round(x).astype(np.int64)\n",
    "        y_array = np.concatenate((y_array,fuji[x,3].reshape(len(x),1)),axis=1)\n",
    "    \n",
    "    return x, y_array"
   ]
  },
  {
   "cell_type": "code",
   "execution_count": 30,
   "metadata": {
    "scrolled": true
   },
   "outputs": [
    {
     "data": {
      "text/plain": [
       "array([  1,  75, 180, 249])"
      ]
     },
     "execution_count": 30,
     "metadata": {},
     "output_type": "execute_result"
    }
   ],
   "source": [
    "#  let x multiple values and do a parallel computation at the same time\n",
    "\n",
    "# WHY? \"cannot substitue values more than 297, or less than 1 into the elements of the \n",
    "# following 'x_array' \"\n",
    "x_array = np.array([1,136,140,297])\n",
    "\n",
    "x3, y_array3 = gradient_descent2(x_array, 0.2)\n",
    "\n",
    "x3"
   ]
  },
  {
   "cell_type": "code",
   "execution_count": 31,
   "metadata": {},
   "outputs": [
    {
     "data": {
      "text/plain": [
       "array([[   0.  ,    0.  ,    0.  ,    0.  ,    0.  ,    0.  ,    0.  ,\n",
       "           0.  ,    0.  ,    0.  ,    0.  ,    0.  ,    0.  ,    0.  ,\n",
       "           0.  ,    0.  ,    0.  ,    0.  ,    0.  ,    0.  ,    0.  ],\n",
       "       [3434.59,  817.62,  741.17,  672.36,  631.71,  575.07,  505.1 ,\n",
       "         458.66,  418.41,  368.91,  412.27,  390.14,  386.64,  371.19,\n",
       "         371.19,  371.19,  371.19,  371.19,  371.19,  371.19,  371.19],\n",
       "       [3567.76, 1525.57, 1095.73, 1033.52,  993.63, 1203.92, 1306.46,\n",
       "        1182.32, 1081.07, 1049.33, 1043.91, 1033.52,  993.63, 1203.92,\n",
       "        1306.46, 1182.32, 1081.07, 1049.33, 1043.91, 1033.52,  993.63],\n",
       "       [1973.99, 2102.67, 1144.26, 1599.43,  915.92,  422.18,  915.92,\n",
       "         422.18,  915.92,  422.18,  915.92,  422.18,  915.92,  422.18,\n",
       "         915.92,  422.18,  915.92,  422.18,  915.92,  422.18,  915.92]])"
      ]
     },
     "execution_count": 31,
     "metadata": {},
     "output_type": "execute_result"
    }
   ],
   "source": [
    "y_array3"
   ]
  },
  {
   "cell_type": "code",
   "execution_count": 32,
   "metadata": {},
   "outputs": [
    {
     "data": {
      "image/png": "[encoded data removed]",
      "text/plain": [
       "<Figure size 432x288 with 1 Axes>"
      ]
     },
     "metadata": {
      "needs_background": "light"
     },
     "output_type": "display_data"
    }
   ],
   "source": [
    "plt.plot(y_array3.T)\n",
    "\n",
    "plt.show()"
   ]
  },
  {
   "cell_type": "markdown",
   "metadata": {},
   "source": [
    "## 【問題6】（アドバンス課題）ハイパーパラメータの検証\n",
    "\n",
    "\n",
    "勾配降下法の中でαはハイパーパラメータであり、前の問題でも複数試して良い結果が得られるものを探しました。これを発展させ、αを一定間隔で変化させていき、それぞれの山の下り方の比較を行ってください。うまい下り方となるαを見つけるだけではなく、大きかったり小さかった時にどうなるのかを検証して説明してください。\n",
    "\n",
    "\n",
    "<u>ヒント</u>\n",
    "\n",
    "\n",
    "検証のための一例として、横軸をα、縦軸を一定回の繰り返し後のxや標高にした散布図を描いてみるという方法が考えられます。"
   ]
  },
  {
   "cell_type": "code",
   "execution_count": 33,
   "metadata": {},
   "outputs": [],
   "source": [
    "# verify hyper parameters\n",
    "\n",
    "def gradient_descent3(x, alpha):\n",
    "    slope = compute_slope(x)\n",
    "    y_array = fuji[x,3].reshape(len(x),1)\n",
    "    \n",
    "    for _ in range(20):\n",
    "        slope = compute_slope(x)\n",
    "        x = x.astype(np.float64)\n",
    "        x -= alpha * slope\n",
    "        x = round(x).astype(np.int64)\n",
    "        y_array = np.concatenate((y_array,fuji[x,3].reshape(len(x),1)),axis=1)\n",
    "    \n",
    "    return x, y_array"
   ]
  },
  {
   "cell_type": "code",
   "execution_count": 34,
   "metadata": {},
   "outputs": [],
   "source": [
    "# create a def of changing values of alpha at regular intervals\n",
    "\n",
    "def changing_alpha(alpha):\n",
    "    alpha_list = []\n",
    "    for _ in range(4):\n",
    "        alpha += 0.1\n",
    "        alpha_list.append(alpha)\n",
    "    \n",
    "    return np.array(alpha_list)"
   ]
  },
  {
   "cell_type": "code",
   "execution_count": 35,
   "metadata": {},
   "outputs": [
    {
     "data": {
      "text/plain": [
       "array([-299,   75,  182,  265])"
      ]
     },
     "execution_count": 35,
     "metadata": {},
     "output_type": "execute_result"
    }
   ],
   "source": [
    "#  let alpha multiple values and do a parallel computation at the same time, too\n",
    "\n",
    "# WHY? \"cannot substitue values more than 269, or less than -299 into the elements of the \n",
    "# following 'x_array1' \"\n",
    "x_array1 = np.array([-299,136,140,269])\n",
    "alpha_array = changing_alpha(0)\n",
    "\n",
    "x4, y_array4 = gradient_descent3(x_array1, alpha_array)\n",
    "\n",
    "x4"
   ]
  },
  {
   "cell_type": "code",
   "execution_count": 36,
   "metadata": {},
   "outputs": [
    {
     "data": {
      "text/plain": [
       "array([[   0.  ,    0.  ,    0.  ,    0.  ,    0.  ,    0.  ,    0.  ,\n",
       "           0.  ,    0.  ,    0.  ,    0.  ,    0.  ,    0.  ,    0.  ,\n",
       "           0.  ,    0.  ,    0.  ,    0.  ,    0.  ,    0.  ,    0.  ],\n",
       "       [3434.59,  817.62,  741.17,  672.36,  631.71,  575.07,  505.1 ,\n",
       "         458.66,  418.41,  368.91,  412.27,  390.14,  386.64,  371.19,\n",
       "         371.19,  371.19,  371.19,  371.19,  371.19,  371.19,  371.19],\n",
       "       [3567.76, 1182.32, 1053.28, 1022.1 ,  970.58, 1321.2 , 1963.73,\n",
       "         985.66,  960.52, 1203.92, 1904.2 , 1124.83,  970.58, 1321.2 ,\n",
       "        1963.73,  985.66,  960.52, 1203.92, 1904.2 , 1124.83,  970.58],\n",
       "       [1776.91,  929.33, 1376.17, 1745.04,  909.89, 1755.81,  929.33,\n",
       "        1376.17, 1745.04,  909.89, 1755.81,  929.33, 1376.17, 1745.04,\n",
       "         909.89, 1755.81,  929.33, 1376.17, 1745.04,  909.89, 1755.81]])"
      ]
     },
     "execution_count": 36,
     "metadata": {},
     "output_type": "execute_result"
    }
   ],
   "source": [
    "y_array4"
   ]
  },
  {
   "cell_type": "code",
   "execution_count": 37,
   "metadata": {},
   "outputs": [
    {
     "data": {
      "image/png": "[encoded data removed]",
      "text/plain": [
       "<Figure size 432x288 with 1 Axes>"
      ]
     },
     "metadata": {
      "needs_background": "light"
     },
     "output_type": "display_data"
    }
   ],
   "source": [
    "plt.plot(alpha_array,y_array4)\n",
    "\n",
    "plt.show()"
   ]
  },
  {
   "cell_type": "markdown",
   "metadata": {},
   "source": [
    "## 【問題7】（アドバンス課題）局所最適解\n",
    "\n",
    "\n",
    "山を下りることで最終的には海（標高が0）に向かいたいですが、勾配降下法は「局所的最適解」となる地点にしか到達しない可能性があります。局所的最適解とはどういったもので、それへの対策はどういったことができるかを調査して説明してください。\n",
    "\n",
    "\n",
    "言葉だけではなく、作成した関数も活用できると良いでしょう。"
   ]
  },
  {
   "cell_type": "markdown",
   "metadata": {},
   "source": [
    "### 回答\n",
    "\n",
    "\n",
    "降下し始めた地点の周辺の範囲内（局所的な範囲内）でなら、最も低い地点まで降下できるが、その降った地点が、全体の中で最も低い地点（今回の場合は、標高が0の地点）とは限らない。\n",
    "\n",
    "\n",
    "例えば、今回の問題３では、x = 136 の地点から降下していった場合、x = 72 の地点までしか降下できなかった。これは、自分が書いたコードが、勾配の正負が逆転した時に終了するような形になっており、x = 72 の地点から、山を登る形になってしまっているからである。\n",
    "\n",
    "\n",
    "対策としては、範囲をいくつかに分解して、それぞれで局所的最適解を求め、その中で、最適なものを解とする方法が考えられる。\n",
    "\n",
    "\n",
    "今回の場合は、x軸を10等分してそれぞれで最適解を求め、その中から最も標高が低い地点のx座標を取れば、ある程度の解を求めることができる。"
   ]
  },
  {
   "cell_type": "code",
   "execution_count": null,
   "metadata": {},
   "outputs": [],
   "source": []
  }
 ],
 "metadata": {
  "kernelspec": {
   "display_name": "Python 3",
   "language": "python",
   "name": "python3"
  },
  "language_info": {
   "codemirror_mode": {
    "name": "ipython",
    "version": 3
   },
   "file_extension": ".py",
   "mimetype": "text/x-python",
   "name": "python",
   "nbconvert_exporter": "python",
   "pygments_lexer": "ipython3",
   "version": "3.6.7"
  }
 },
 "nbformat": 4,
 "nbformat_minor": 2
}
