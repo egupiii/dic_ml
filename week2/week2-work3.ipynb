{
 "cells": [
  {
   "cell_type": "markdown",
   "metadata": {},
   "source": [
    "## 【課題$1$】内積を手計算しよう\n",
    "\n",
    "\n",
    "$$\n",
    "    \\boldsymbol{A} =\n",
    "        \\left[\\begin{array}{ccc}\n",
    "            -1 & 2 & 3 \\\\\n",
    "            4 & -5 & 6 \\\\\n",
    "            7 & 8 & -9 \\\\\n",
    "        \\end{array}\\right] \\quad,\n",
    "    \\boldsymbol{B} =\n",
    "        \\left[\\begin{array}{ccc}\n",
    "            0 & 2 & 1 \\\\\n",
    "            0 & 2 & -8 \\\\\n",
    "            2 & 9 & -1 \\\\\n",
    "        \\end{array}\\right] \\quad\n",
    "$$\n",
    "\n",
    "\n",
    "よって、\n",
    "\n",
    "\n",
    "$$\n",
    "    \\boldsymbol{A * B} =\n",
    "        \\left[\\begin{array}{ccc}\n",
    "            6 & 29 & -20 \\\\\n",
    "            12 & 52 & 38 \\\\\n",
    "            -18 & -51 & -48 \\\\\n",
    "        \\end{array}\\right] \\quad\n",
    "$$"
   ]
  },
  {
   "cell_type": "markdown",
   "metadata": {},
   "source": [
    "## 【課題$2$】$1$次元配列の内積をfor文で計算しよう\n",
    "\n",
    "\n",
    "まずは、ご自身で配列のindexを指定し、\n",
    "\n",
    "\n",
    "- 行列$A$の$(0,0)$の要素と行列$B$の$(0,0)$の要素を掛け合わせる\n",
    "\n",
    "\n",
    "- 行列$A$の$(0,1)$の要素と行列$B$の$(1,0)$の要素を掛け合わせる\n",
    "\n",
    "\n",
    "- 行列$A$の$(0,2)$の要素と行列$B$の$(2,0)$の要素を掛け合わせる\n",
    "\n",
    "\n",
    "- それらの値を全て足し合わせる\n",
    "\n",
    "\n",
    "のフローをfor文を使って計算してください。"
   ]
  },
  {
   "cell_type": "code",
   "execution_count": 48,
   "metadata": {},
   "outputs": [
    {
     "data": {
      "text/plain": [
       "6"
      ]
     },
     "execution_count": 48,
     "metadata": {},
     "output_type": "execute_result"
    }
   ],
   "source": [
    "# compute an inner product of single arrays\n",
    "\n",
    "import numpy as np\n",
    "\n",
    "A = np.array([[-1,2,3], [4,-5,6], [7,8,-9]])\n",
    "B = np.array([[0,2,1], [0,2,-8], [2,9,-1]])\n",
    "\n",
    "ele00 = 0\n",
    "for _ in range(3):\n",
    "    item = A[0][_] * B[_][0]\n",
    "    ele00 += item\n",
    "\n",
    "ele00"
   ]
  },
  {
   "cell_type": "markdown",
   "metadata": {},
   "source": [
    "## 【課題$3$】多次元配列の内積をfor文で計算しよう\n",
    "\n",
    "\n",
    "for文を使って行列$A$、$B$の積を計算しましょう！【課題$2$】では$(0,0)$のみ計算していただきましたが、全て計算してください。\n",
    "\n",
    "> ヒント  \n",
    "indexの移行は行方向と列方向があるので、【課題$2$】で実装していただいたコードに加えて、さらに$2$回for文が必要になります。"
   ]
  },
  {
   "cell_type": "code",
   "execution_count": 50,
   "metadata": {},
   "outputs": [
    {
     "data": {
      "text/plain": [
       "array([[  6,  29, -20],\n",
       "       [ 12,  52,  38],\n",
       "       [-18, -51, -48]])"
      ]
     },
     "execution_count": 50,
     "metadata": {},
     "output_type": "execute_result"
    }
   ],
   "source": [
    "# compute an inner product of multidimensional arrays by \"for\"\n",
    "\n",
    "ans = []\n",
    "for k in range(3):\n",
    "    for j in range(3):\n",
    "        ele = 0\n",
    "        for i in range(3):\n",
    "            ele += A[k][i] * B[i][j]\n",
    "        ans.append(ele)\n",
    "\n",
    "np.array(ans).reshape(3,3)"
   ]
  },
  {
   "cell_type": "markdown",
   "metadata": {},
   "source": [
    "## 【課題$4$】内積をnp.dotで計算しよう\n",
    "\n",
    "\n",
    "np.dot($A$,$B$)を計算して、【課題$3$】と同じになることを試してください。"
   ]
  },
  {
   "cell_type": "code",
   "execution_count": 51,
   "metadata": {},
   "outputs": [
    {
     "data": {
      "text/plain": [
       "array([[  6,  29, -20],\n",
       "       [ 12,  52,  38],\n",
       "       [-18, -51, -48]])"
      ]
     },
     "execution_count": 51,
     "metadata": {},
     "output_type": "execute_result"
    }
   ],
   "source": [
    "# compute an inner product of multidimensional arrays by np.dot\n",
    "\n",
    "np.dot(A,B)"
   ]
  },
  {
   "cell_type": "markdown",
   "metadata": {},
   "source": [
    "## 【課題5】内積ができないときはどうするか\n",
    "\n",
    "\n",
    "以下のような例を考えます。\n",
    "\n",
    "\n",
    "$$\n",
    "    \\boldsymbol{A} =\n",
    "        \\left[\\begin{array}{ccc}\n",
    "            -1 & 2 & 3 \\\\\n",
    "            4 & -5 & 6 \\\\\n",
    "        \\end{array}\\right] \\quad,\n",
    "    \\boldsymbol{B} =\n",
    "        \\left[\\begin{array}{ccc}\n",
    "            -9 & 8 & 7 \\\\\n",
    "            6 & -5 & 4 \\\\\n",
    "        \\end{array}\\right] \\quad\n",
    "$$\n",
    "\n",
    "\n",
    "行列$A*B$を計算しようとすると、エラーが出て計算できません。なぜエラーが出るのか理由を記載してください。\n",
    "\n",
    "\n",
    "行列 $ A * B $ が計算できない理由は、行列 $ A $ の列数と、行列 $ B $ の行数が同じでないため。"
   ]
  },
  {
   "cell_type": "markdown",
   "metadata": {},
   "source": [
    "そして、行列$A$、$B$のどちらかにある操作をするとエラーが出ずに計算できます。\n",
    "\n",
    "自分である操作を施し、内積を計算してください。"
   ]
  },
  {
   "cell_type": "code",
   "execution_count": 54,
   "metadata": {},
   "outputs": [
    {
     "data": {
      "text/plain": [
       "array([[ 46,  -4],\n",
       "       [-34,  73]])"
      ]
     },
     "execution_count": 54,
     "metadata": {},
     "output_type": "execute_result"
    }
   ],
   "source": [
    "# # compute an inner product of multidimensional arrays by transposing\n",
    "\n",
    "A = np.array([[-1,2,3], [4,-5,6]])\n",
    "B = np.array([[-9,8,7], [6,-5,4]])\n",
    "\n",
    "np.dot(A,B.T)"
   ]
  },
  {
   "cell_type": "code",
   "execution_count": null,
   "metadata": {},
   "outputs": [],
   "source": []
  }
 ],
 "metadata": {
  "kernelspec": {
   "display_name": "Python 3",
   "language": "python",
   "name": "python3"
  },
  "language_info": {
   "codemirror_mode": {
    "name": "ipython",
    "version": 3
   },
   "file_extension": ".py",
   "mimetype": "text/x-python",
   "name": "python",
   "nbconvert_exporter": "python",
   "pygments_lexer": "ipython3",
   "version": "3.6.7"
  }
 },
 "nbformat": 4,
 "nbformat_minor": 2
}
