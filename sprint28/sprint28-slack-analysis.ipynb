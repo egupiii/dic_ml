{
 "cells": [
  {
   "cell_type": "markdown",
   "metadata": {},
   "source": [
    "# NLP on Slack"
   ]
  },
  {
   "cell_type": "code",
   "execution_count": 24,
   "metadata": {
    "ExecuteTime": {
     "end_time": "2019-05-09T16:04:09.283044Z",
     "start_time": "2019-05-09T16:04:09.263809Z"
    }
   },
   "outputs": [],
   "source": [
    "# Definitions for text cleaning\n",
    "\n",
    "\n",
    "def remove_URL(text):\n",
    "    cleaned = re.sub(\n",
    "        r\"(https?|ftp)(:\\/\\/[-_\\.!~*\\'()a-zA-Z0-9;\\/?:\\@&=\\+\\$,%#]+)\", \"\", str(text))\n",
    "    return cleaned\n",
    "\n",
    "\n",
    "def remove_bracket(text):\n",
    "    cleaned = re.sub(\"(?<=【).*?(?=】)\", \"\", str(text))\n",
    "    return cleaned\n",
    "\n",
    "\n",
    "def remove_bracket2(text):\n",
    "    cleaned = re.sub(\"(?<=\\<).*?(?=\\>)\", \"\", str(text))\n",
    "    return cleaned\n",
    "\n",
    "\n",
    "def remove_bracket3(text):\n",
    "    cleaned = re.sub(\"(?<=\\{).*?(?=\\})\", \"\", str(text))\n",
    "    return cleaned\n",
    "\n",
    "\n",
    "def remove_emoji(text):\n",
    "    cleaned = re.sub(\"(?<=:).*?(?=:)\", \"\", str(text))\n",
    "    return cleaned\n",
    "\n",
    "\n",
    "def normalize_number(text):\n",
    "    replaced_text = re.sub(r'\\d+', '0', text)\n",
    "    return replaced_text\n",
    "\n",
    "\n",
    "def remove_space(text):\n",
    "    replaced_text = re.sub(r'\\s+', '', text)\n",
    "    return replaced_text\n",
    "\n",
    "\n",
    "def normal_char_pickup(text):\n",
    "    cleaned = re.findall('[ーあ-んア-ン一-鿐\\s]', text)\n",
    "    return cleaned\n",
    "\n",
    "\n",
    "def text_cleaning(text):\n",
    "    tmp = remove_URL(text)\n",
    "    tmp = remove_bracket(tmp)\n",
    "    tmp = remove_bracket2(tmp)\n",
    "    tmp = remove_emoji(tmp)\n",
    "    tmp = normalize_number(tmp)\n",
    "    tmp = normal_char_pickup(tmp)\n",
    "    tmp = ','.join(tmp)\n",
    "    tmp = remove_space(tmp)\n",
    "    cleaned = tmp.replace(\",\", \"\")\n",
    "    return cleaned"
   ]
  },
  {
   "cell_type": "markdown",
   "metadata": {},
   "source": [
    "## [Task 0] Tips\n",
    "\n",
    "<br />\n",
    "\n",
    "There are many kinds of useful libraries for NLP except for Janome. For example,\n",
    "\n",
    "<br />\n",
    "\n",
    "- Mecab http://taku910.github.io/mecab/\n",
    "\n",
    "\n",
    "- chariot https://github.com/chakki-works/chariot\n",
    "\n",
    "\n",
    "- nltk https://www.nltk.org/\n",
    "\n",
    "\n",
    "- StanfordNLP https://stanfordnlp.github.io/stanfordnlp/installation_download.html#human-languages-supported-by-stanfordnlp\n",
    "\n",
    "\n",
    "- Ginza https://megagonlabs.github.io/ginza/"
   ]
  },
  {
   "cell_type": "markdown",
   "metadata": {},
   "source": [
    "## [Task 1] Review NLP\n",
    "\n",
    "<br />\n",
    "\n",
    "I am going to use the following files to analyze contents on Slack.\n",
    "\n",
    "1. 2019-01-ai.json: Data of a history of messages on a channel named \"2019-01-ai\" on my Slack\n",
    "\n",
    "\n",
    "2. random.json: Data of a history of messages on a channel named \"random\" on my Slack\n",
    "\n",
    "\n",
    "3. global.json: Data of a history of messages on a channel named \"global\" on my Slack\n",
    "\n",
    "\n",
    "4. users_dict.json: Users' ID: Names of users\n",
    "\n",
    "\n",
    "5. emoji.json: Names of emojis: URL of emojis"
   ]
  },
  {
   "cell_type": "code",
   "execution_count": 65,
   "metadata": {
    "ExecuteTime": {
     "end_time": "2019-05-09T16:56:59.096057Z",
     "start_time": "2019-05-09T16:56:59.091103Z"
    }
   },
   "outputs": [],
   "source": [
    "import collections\n",
    "import json\n",
    "import re\n",
    "\n",
    "import matplotlib.pyplot as plt\n",
    "import numpy as np\n",
    "import pandas as pd\n",
    "from janome.tokenizer import Tokenizer\n",
    "from scipy.sparse.linalg import norm\n",
    "from sklearn.model_selection import train_test_split\n",
    "from wordcloud import WordCloud"
   ]
  },
  {
   "cell_type": "code",
   "execution_count": 22,
   "metadata": {
    "ExecuteTime": {
     "end_time": "2019-05-09T15:47:27.272470Z",
     "start_time": "2019-05-09T15:47:27.255519Z"
    }
   },
   "outputs": [
    {
     "name": "stdout",
     "output_type": "stream",
     "text": [
      "dict_keys(['ok', 'messages', 'has_more', 'is_limited'])\n",
      "dict_keys(['ok', 'emoji', 'cache_ts'])\n",
      "dict_keys(['ok', 'messages', 'has_more', 'is_limited'])\n",
      "dict_keys(['ok', 'messages', 'has_more', 'is_limited'])\n",
      "dict_keys(['U0CGPM9T2', 'U5WEHDZRC', 'U71KZN0HL', 'U7MLFT82K', 'U9SL33S1M', 'UCFCLSRCK', 'UEG9UR1AM', 'UEHD8A6H3', 'UEJ7TBV0R', 'UEJA5HS3G', 'UEVMB7YDN', 'UF1A4QA10', 'UF1KE2X8B', 'UG0P51PNC'])\n"
     ]
    }
   ],
   "source": [
    "# Load files\n",
    "\n",
    "path = \"slack_data/\"\n",
    "files = [\"2019-01-ai\", \"emoji\", \"global\", \"random\", \"users_dict\"]\n",
    "\n",
    "dic_list = []\n",
    "for file in files:\n",
    "    # Open\n",
    "    f = open(path + file + \".json\", \"r\")\n",
    "    # Load a JSON file and transform it to a dictionary\n",
    "    dic = json.load(f)\n",
    "    # Close\n",
    "    f.close()\n",
    "    # Append\n",
    "    dic_list.append(dic)\n",
    "    # Check keys of the dictionary\n",
    "    print(dic.keys())\n",
    "\n",
    "# Get the files one by one\n",
    "ai = dic_list[0]\n",
    "emoji = dic_list[1]\n",
    "global_ = dic_list[2]\n",
    "random = dic_list[3]\n",
    "users = dic_list[4]"
   ]
  },
  {
   "cell_type": "code",
   "execution_count": 32,
   "metadata": {
    "ExecuteTime": {
     "end_time": "2019-05-09T16:21:18.177338Z",
     "start_time": "2019-05-09T16:21:18.172579Z"
    }
   },
   "outputs": [],
   "source": [
    "# Focus on the \"messages\" and the \"emoji\"\n",
    "\n",
    "messages_ai = ai[\"messages\"]\n",
    "messages_global = global_[\"messages\"]\n",
    "messages_random = random[\"messages\"]\n",
    "\n",
    "emojis = emoji[\"emoji\"]"
   ]
  },
  {
   "cell_type": "code",
   "execution_count": 33,
   "metadata": {
    "ExecuteTime": {
     "end_time": "2019-05-09T16:21:24.354566Z",
     "start_time": "2019-05-09T16:21:24.347240Z"
    }
   },
   "outputs": [
    {
     "data": {
      "text/plain": [
       "{'client_msg_id': '6f87c23f-cead-4eb0-b814-89adc7173025',\n",
       " 'type': 'message',\n",
       " 'text': '腹痛のため遅れます。',\n",
       " 'user': 'UEG9UR1AM',\n",
       " 'ts': '1554425975.002100',\n",
       " 'reactions': [{'name': 'annoying_dog', 'users': ['U9SL33S1M'], 'count': 1}]}"
      ]
     },
     "execution_count": 33,
     "metadata": {},
     "output_type": "execute_result"
    }
   ],
   "source": [
    "# Check the contents\n",
    "\n",
    "messages_ai[0]"
   ]
  },
  {
   "cell_type": "code",
   "execution_count": 37,
   "metadata": {
    "ExecuteTime": {
     "end_time": "2019-05-09T16:22:08.887402Z",
     "start_time": "2019-05-09T16:22:08.880967Z"
    }
   },
   "outputs": [
    {
     "data": {
      "text/plain": [
       "{'user': 'UHNEF4ZEZ',\n",
       " 'type': 'message',\n",
       " 'subtype': 'channel_join',\n",
       " 'ts': '1554367090.000200',\n",
       " 'text': '<@UHNEF4ZEZ> has joined the channel'}"
      ]
     },
     "execution_count": 37,
     "metadata": {},
     "output_type": "execute_result"
    }
   ],
   "source": [
    "messages_global[0]"
   ]
  },
  {
   "cell_type": "code",
   "execution_count": 39,
   "metadata": {
    "ExecuteTime": {
     "end_time": "2019-05-09T16:22:22.281896Z",
     "start_time": "2019-05-09T16:22:22.274628Z"
    },
    "scrolled": true
   },
   "outputs": [
    {
     "data": {
      "text/plain": [
       "{'client_msg_id': '180df26d-49ff-4eaf-ba4b-4341008fd8e9',\n",
       " 'type': 'message',\n",
       " 'text': '<!channel>\\n受講生の皆さん、こんにちは！\\nDIVE INTO CODEのCMOの丸田です。\\n\\n【Facebookシェアのお願い】本日、DIVE INTO CODEのFacebookで、DEMODAY 6thのご登壇者の＊田中元基さん＊をご紹介しました！＊ぜひ応援の気持ちを込めて、投稿のチェックやシェアをしていただけると嬉しいです＊ :blush:\\nどうぞよろしくお願い致します。\\n\\n<https://www.facebook.com/diveintocode.jp/posts/1323804734424646>',\n",
       " 'user': 'UGJTSGW1H',\n",
       " 'ts': '1554359771.037900',\n",
       " 'attachments': [{'title': 'DIVE INTO CODE',\n",
       "   'title_link': 'https://www.facebook.com/diveintocode.jp/posts/1323804734424646',\n",
       "   'text': '【DEMODAY6th ご登壇者様のご紹介！】4/7のDEMODAY6thもいよいよ目前！本日はご登壇者の田中元基さんをご紹介します。 DIVE INTO...',\n",
       "   'fallback': 'DIVE INTO CODE',\n",
       "   'image_url': 'https://scontent-iad3-1.xx.fbcdn.net/v/t1.0-9/56760725_1323804164424703_914698635273306112_o.png?_nc_cat=111&_nc_ht=scontent-iad3-1.xx&oh=86086eeb4b6f5bd26bc3a534296b81fb&oe=5D0466B8',\n",
       "   'from_url': 'https://www.facebook.com/diveintocode.jp/posts/1323804734424646',\n",
       "   'image_width': 515,\n",
       "   'image_height': 250,\n",
       "   'image_bytes': 576616,\n",
       "   'service_icon': 'https://static.xx.fbcdn.net/rsrc.php/yz/r/KFyVIAWzntM.ico',\n",
       "   'service_name': 'facebook.com',\n",
       "   'id': 1,\n",
       "   'original_url': 'https://www.facebook.com/diveintocode.jp/posts/1323804734424646'}]}"
      ]
     },
     "execution_count": 39,
     "metadata": {},
     "output_type": "execute_result"
    }
   ],
   "source": [
    "messages_random[1]"
   ]
  },
  {
   "cell_type": "code",
   "execution_count": 42,
   "metadata": {
    "ExecuteTime": {
     "end_time": "2019-05-09T16:23:05.682421Z",
     "start_time": "2019-05-09T16:23:05.675465Z"
    },
    "scrolled": true
   },
   "outputs": [
    {
     "data": {
      "text/plain": [
       "dict_keys(['bowtie', 'squirrel', 'glitch_crab', 'piggy', 'cubimal_chick', 'dusty_stick', 'slack', 'pride', 'thumbsup_all', 'slack_call', 'shipit', 'white_square', 'black_square', 'simple_smile', 'neckbeard', 'metal', 'fu', 'feelsgood', 'finnadie', 'goberserk', 'godmode', 'hurtrealbad', 'rage1', 'rage2', 'rage3', 'rage4', 'suspect', 'trollface', 'octocat', 'beryl', 'rube', 'troll', 'hituji', 'haisyo', 'pikachu1', 'akan', 'pikachu2', 'koduck', 'purin', 'fushigidane', 'hitokage', 'zenigame', 'koiking_to_gyarados', 'inu', 'annoying_dog', 'yattane', 'oo', 'suteki', 'jyuyou', 'nice', 'me', 'hi', 'funasshi', 'goya', 'diveintocode', 'gosurf', 'doki', 'miffy', 'miffy1', 'miffy2', 'cookie1', 'arukuma', 'arukuma2', 'arukuma3', 'arukuma4', 'luffy', 'sasugassu', 'teruteru', 'shiba-ta', 'tommy', 'ichipankun', 'complete', 'amuro', 'noro', 'hiyachu', 'observer', 'hulk', 'skype_bow', 'slime', 'kaggle_gm', 'kaggle_master', 'kaggle_expert', 'kaggle_contributor', 'kaggle_novice', 'emoi', 'ninja', 'ninja1', 'ninja2', 'hihou'])"
      ]
     },
     "execution_count": 42,
     "metadata": {},
     "output_type": "execute_result"
    }
   ],
   "source": [
    "emojis.keys()"
   ]
  },
  {
   "cell_type": "markdown",
   "metadata": {},
   "source": [
    "### 2019-01-ai.json"
   ]
  },
  {
   "cell_type": "code",
   "execution_count": 43,
   "metadata": {
    "ExecuteTime": {
     "end_time": "2019-05-09T16:27:48.755877Z",
     "start_time": "2019-05-09T16:27:48.751340Z"
    }
   },
   "outputs": [],
   "source": [
    "# Extract values of all the \"text\"s from the \"messages\"\n",
    "\n",
    "text_ai = []\n",
    "for i in range(len(messages_ai)):\n",
    "    text_ai += messages_ai[i][\"text\"]"
   ]
  },
  {
   "cell_type": "code",
   "execution_count": 44,
   "metadata": {
    "ExecuteTime": {
     "end_time": "2019-05-09T16:28:31.676286Z",
     "start_time": "2019-05-09T16:28:31.664758Z"
    }
   },
   "outputs": [],
   "source": [
    "# Text cleaning\n",
    "\n",
    "text_ai_cleaned = text_cleaning(text_ai)"
   ]
  },
  {
   "cell_type": "code",
   "execution_count": 45,
   "metadata": {
    "ExecuteTime": {
     "end_time": "2019-05-09T16:28:35.648464Z",
     "start_time": "2019-05-09T16:28:35.642053Z"
    }
   },
   "outputs": [
    {
     "data": {
      "text/plain": [
       "'腹痛のため遅れます時間ほどおくれますすいません分程遅れますだいごーやりおったすいません昼ぐらいにいきますすいません遅れますすいません今起きました分くらい遅れるかもしれません化するとメモリエラーになりますね皆さんは問題ないです現在分散表現として注目を浴びているのがですはデバイスでは年のと以降常時の起動ワードによってハンズフリーで使えるようになったそのためスリープ時も含めて周囲の音を聞き取る必要がありプライバシーの問題が懸念されたがは段階の措置を講じている川上問題これにします'"
      ]
     },
     "execution_count": 45,
     "metadata": {},
     "output_type": "execute_result"
    }
   ],
   "source": [
    "text_ai_cleaned"
   ]
  },
  {
   "cell_type": "code",
   "execution_count": 46,
   "metadata": {
    "ExecuteTime": {
     "end_time": "2019-05-09T16:31:21.481358Z",
     "start_time": "2019-05-09T16:31:20.189785Z"
    }
   },
   "outputs": [],
   "source": [
    "# Split the above sentence into words\n",
    "\n",
    "words_ai = []\n",
    "t = Tokenizer()\n",
    "for token in t.tokenize(text_ai_cleaned):\n",
    "    if token.part_of_speech.split(',')[0] == \"名詞\" or token.part_of_speech.split(',')[0] == \"動詞\" or token.part_of_speech.split(',')[0] == \"形容詞\":\n",
    "        words_ai.append(token.surface)"
   ]
  },
  {
   "cell_type": "code",
   "execution_count": 53,
   "metadata": {
    "ExecuteTime": {
     "end_time": "2019-05-09T16:40:17.488901Z",
     "start_time": "2019-05-09T16:40:17.484223Z"
    },
    "scrolled": true
   },
   "outputs": [
    {
     "name": "stdout",
     "output_type": "stream",
     "text": [
      "['腹痛', 'ため', '遅れ', '時間', 'おくれ', '程', '遅れ', 'だい', 'ー', 'やり', 'おっ', '昼', 'いき', '遅れ', '起き', '分', '遅れる', 'しれ', '化', 'する', 'メモリ', 'エラー', 'なり', '皆さん', '問題', '現在', '分散', '表現', '注目', '浴び', 'いる', 'の', 'デバイス', '年', 'の', '以降', '常時', '起動', 'ワード', 'ハンズフリー', '使える', 'よう', 'なっ', 'ため', 'スリープ', '時', '含め', '周囲', '音', '聞き取る', '必要', 'あり', 'プライバシー', '問題', '懸念', 'さ', 'れ', '段階', '措置', '講じ', 'いる', '川上', '問題', 'これ', 'し']\n"
     ]
    }
   ],
   "source": [
    "print(words_ai)"
   ]
  },
  {
   "cell_type": "code",
   "execution_count": 49,
   "metadata": {
    "ExecuteTime": {
     "end_time": "2019-05-09T16:35:47.780362Z",
     "start_time": "2019-05-09T16:35:47.775408Z"
    }
   },
   "outputs": [
    {
     "name": "stdout",
     "output_type": "stream",
     "text": [
      "Number of words on '2019-01-ai.json': 65\n"
     ]
    }
   ],
   "source": [
    "# Count the number of the words\n",
    "\n",
    "print(\"Number of words on '2019-01-ai.json':\", len(words_ai))"
   ]
  },
  {
   "cell_type": "code",
   "execution_count": 54,
   "metadata": {
    "ExecuteTime": {
     "end_time": "2019-05-09T16:40:27.317650Z",
     "start_time": "2019-05-09T16:40:27.312504Z"
    },
    "scrolled": true
   },
   "outputs": [
    {
     "name": "stdout",
     "output_type": "stream",
     "text": [
      "Counter({'遅れ': 3, '問題': 3, 'ため': 2, 'いる': 2, 'の': 2, '腹痛': 1, '時間': 1, 'おくれ': 1, '程': 1, 'だい': 1, 'ー': 1, 'やり': 1, 'おっ': 1, '昼': 1, 'いき': 1, '起き': 1, '分': 1, '遅れる': 1, 'しれ': 1, '化': 1, 'する': 1, 'メモリ': 1, 'エラー': 1, 'なり': 1, '皆さん': 1, '現在': 1, '分散': 1, '表現': 1, '注目': 1, '浴び': 1, 'デバイス': 1, '年': 1, '以降': 1, '常時': 1, '起動': 1, 'ワード': 1, 'ハンズフリー': 1, '使える': 1, 'よう': 1, 'なっ': 1, 'スリープ': 1, '時': 1, '含め': 1, '周囲': 1, '音': 1, '聞き取る': 1, '必要': 1, 'あり': 1, 'プライバシー': 1, '懸念': 1, 'さ': 1, 'れ': 1, '段階': 1, '措置': 1, '講じ': 1, '川上': 1, 'これ': 1, 'し': 1})\n"
     ]
    }
   ],
   "source": [
    "# Count how many kinds the words include\n",
    "\n",
    "print(collections.Counter(words_ai))"
   ]
  },
  {
   "cell_type": "markdown",
   "metadata": {},
   "source": [
    "## [Task 2] WordCloud\n",
    "\n",
    "<br />\n",
    "\n",
    "WordCloud\n",
    "\n",
    "\n",
    "https://github.com/amueller/word_cloud"
   ]
  },
  {
   "cell_type": "code",
   "execution_count": 57,
   "metadata": {
    "ExecuteTime": {
     "end_time": "2019-05-09T16:52:30.219875Z",
     "start_time": "2019-05-09T16:52:30.215241Z"
    }
   },
   "outputs": [],
   "source": [
    "# Connect the words\n",
    "\n",
    "string = ''\n",
    "for i in range(len(words_ai)):\n",
    "    word = \"{} \".format(words_ai[i])\n",
    "    string += word"
   ]
  },
  {
   "cell_type": "code",
   "execution_count": 58,
   "metadata": {
    "ExecuteTime": {
     "end_time": "2019-05-09T16:52:32.821257Z",
     "start_time": "2019-05-09T16:52:32.814869Z"
    }
   },
   "outputs": [
    {
     "data": {
      "text/plain": [
       "'腹痛 ため 遅れ 時間 おくれ 程 遅れ だい ー やり おっ 昼 いき 遅れ 起き 分 遅れる しれ 化 する メモリ エラー なり 皆さん 問題 現在 分散 表現 注目 浴び いる の デバイス 年 の 以降 常時 起動 ワード ハンズフリー 使える よう なっ ため スリープ 時 含め 周囲 音 聞き取る 必要 あり プライバシー 問題 懸念 さ れ 段階 措置 講じ いる 川上 問題 これ し '"
      ]
     },
     "execution_count": 58,
     "metadata": {},
     "output_type": "execute_result"
    }
   ],
   "source": [
    "string"
   ]
  },
  {
   "cell_type": "code",
   "execution_count": 59,
   "metadata": {
    "ExecuteTime": {
     "end_time": "2019-05-09T16:52:48.211949Z",
     "start_time": "2019-05-09T16:52:46.808094Z"
    }
   },
   "outputs": [],
   "source": [
    "# WordCloud\n",
    "\n",
    "wordcloud = WordCloud(background_color=\"white\",\n",
    "                      font_path=\"/System/Library/Fonts/ヒラギノ明朝 ProN.ttc\",\n",
    "                      width=800, height=600).generate(string)"
   ]
  },
  {
   "cell_type": "code",
   "execution_count": 67,
   "metadata": {
    "ExecuteTime": {
     "end_time": "2019-05-09T16:57:55.828749Z",
     "start_time": "2019-05-09T16:57:55.634101Z"
    }
   },
   "outputs": [
    {
     "data": {
      "image/png": "[encoded data removed]",
      "text/plain": [
       "<Figure size 432x288 with 1 Axes>"
      ]
     },
     "metadata": {
      "needs_background": "light"
     },
     "output_type": "display_data"
    }
   ],
   "source": [
    "# Plot the result\n",
    "\n",
    "plt.imshow(wordcloud, interpolation='bilinear')\n",
    "plt.axis(\"off\")\n",
    "plt.show()"
   ]
  },
  {
   "cell_type": "code",
   "execution_count": 68,
   "metadata": {
    "ExecuteTime": {
     "end_time": "2019-05-09T16:58:28.612542Z",
     "start_time": "2019-05-09T16:58:28.351941Z"
    }
   },
   "outputs": [
    {
     "data": {
      "text/plain": [
       "<wordcloud.wordcloud.WordCloud at 0x1a2ca9e630>"
      ]
     },
     "execution_count": 68,
     "metadata": {},
     "output_type": "execute_result"
    }
   ],
   "source": [
    "wordcloud.to_file(\"./wordcloud_ai.png\")"
   ]
  },
  {
   "cell_type": "markdown",
   "metadata": {},
   "source": [
    "## [Task 3] What Kind of Person He/She is"
   ]
  },
  {
   "cell_type": "code",
   "execution_count": null,
   "metadata": {},
   "outputs": [],
   "source": []
  }
 ],
 "metadata": {
  "kernelspec": {
   "display_name": "Python 3",
   "language": "python",
   "name": "python3"
  },
  "language_info": {
   "codemirror_mode": {
    "name": "ipython",
    "version": 3
   },
   "file_extension": ".py",
   "mimetype": "text/x-python",
   "name": "python",
   "nbconvert_exporter": "python",
   "pygments_lexer": "ipython3",
   "version": "3.6.8"
  },
  "toc": {
   "base_numbering": 1,
   "nav_menu": {},
   "number_sections": true,
   "sideBar": true,
   "skip_h1_title": false,
   "title_cell": "Table of Contents",
   "title_sidebar": "Contents",
   "toc_cell": false,
   "toc_position": {},
   "toc_section_display": true,
   "toc_window_display": false
  },
  "varInspector": {
   "cols": {
    "lenName": 16,
    "lenType": 16,
    "lenVar": 40
   },
   "kernels_config": {
    "python": {
     "delete_cmd_postfix": "",
     "delete_cmd_prefix": "del ",
     "library": "var_list.py",
     "varRefreshCmd": "print(var_dic_list())"
    },
    "r": {
     "delete_cmd_postfix": ") ",
     "delete_cmd_prefix": "rm(",
     "library": "var_list.r",
     "varRefreshCmd": "cat(var_dic_list()) "
    }
   },
   "types_to_exclude": [
    "module",
    "function",
    "builtin_function_or_method",
    "instance",
    "_Feature"
   ],
   "window_display": false
  }
 },
 "nbformat": 4,
 "nbformat_minor": 2
}
