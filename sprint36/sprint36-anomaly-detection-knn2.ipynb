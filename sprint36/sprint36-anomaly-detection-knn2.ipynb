{
 "cells": [
  {
   "cell_type": "markdown",
   "metadata": {},
   "source": [
    "# Anomaly Detection for Time Series Data\n",
    "\n",
    "<br />\n",
    "\n",
    "I am going to do outlier detections for prices data of Bitcoin by KNN.\n",
    "\n",
    "<br />\n",
    "\n",
    "\"仮想通貨(暗号通貨)４本値CSVゲッター from Cryptowatch\"\n",
    "\n",
    "\n",
    "http://nipper.work/btc/index.php?market=bitFlyer&coin=BTCJPY&periods=86400&after=1420070400"
   ]
  },
  {
   "cell_type": "code",
   "execution_count": 1,
   "metadata": {
    "ExecuteTime": {
     "end_time": "2019-05-09T11:03:10.483938Z",
     "start_time": "2019-05-09T11:03:09.541895Z"
    }
   },
   "outputs": [],
   "source": [
    "from statistics import mean, variance\n",
    "\n",
    "import matplotlib.pyplot as plt\n",
    "import numpy as np\n",
    "import pandas as pd\n",
    "from scipy import stats\n",
    "from sklearn.neighbors import NearestNeighbors"
   ]
  },
  {
   "cell_type": "code",
   "execution_count": 2,
   "metadata": {
    "ExecuteTime": {
     "end_time": "2019-05-09T11:03:10.502196Z",
     "start_time": "2019-05-09T11:03:10.486460Z"
    }
   },
   "outputs": [],
   "source": [
    "# Read the data\n",
    "\n",
    "data = pd.read_csv(\"btc.csv\", encoding=\"shift-jis\", header=None)"
   ]
  },
  {
   "cell_type": "code",
   "execution_count": 3,
   "metadata": {
    "ExecuteTime": {
     "end_time": "2019-05-09T11:03:10.523379Z",
     "start_time": "2019-05-09T11:03:10.503789Z"
    },
    "scrolled": true
   },
   "outputs": [
    {
     "data": {
      "text/html": [
       "<div>\n",
       "<style scoped>\n",
       "    .dataframe tbody tr th:only-of-type {\n",
       "        vertical-align: middle;\n",
       "    }\n",
       "\n",
       "    .dataframe tbody tr th {\n",
       "        vertical-align: top;\n",
       "    }\n",
       "\n",
       "    .dataframe thead th {\n",
       "        text-align: right;\n",
       "    }\n",
       "</style>\n",
       "<table border=\"1\" class=\"dataframe\">\n",
       "  <thead>\n",
       "    <tr style=\"text-align: right;\">\n",
       "      <th></th>\n",
       "      <th>0</th>\n",
       "      <th>1</th>\n",
       "      <th>2</th>\n",
       "      <th>3</th>\n",
       "      <th>4</th>\n",
       "      <th>5</th>\n",
       "    </tr>\n",
       "  </thead>\n",
       "  <tbody>\n",
       "    <tr>\n",
       "      <th>0</th>\n",
       "      <td>2016-12-30 00:00:00</td>\n",
       "      <td>0.00769</td>\n",
       "      <td>0.00875</td>\n",
       "      <td>0.00769</td>\n",
       "      <td>0.00845</td>\n",
       "      <td>7870.4500</td>\n",
       "    </tr>\n",
       "    <tr>\n",
       "      <th>1</th>\n",
       "      <td>2016-12-31 00:00:00</td>\n",
       "      <td>0.00850</td>\n",
       "      <td>0.00891</td>\n",
       "      <td>0.00842</td>\n",
       "      <td>0.00843</td>\n",
       "      <td>3269.1045</td>\n",
       "    </tr>\n",
       "    <tr>\n",
       "      <th>2</th>\n",
       "      <td>2017-01-01 00:00:00</td>\n",
       "      <td>0.00856</td>\n",
       "      <td>0.00864</td>\n",
       "      <td>0.00826</td>\n",
       "      <td>0.00833</td>\n",
       "      <td>3206.9350</td>\n",
       "    </tr>\n",
       "    <tr>\n",
       "      <th>3</th>\n",
       "      <td>2017-01-02 00:00:00</td>\n",
       "      <td>0.00838</td>\n",
       "      <td>0.00892</td>\n",
       "      <td>0.00811</td>\n",
       "      <td>0.00821</td>\n",
       "      <td>5814.5170</td>\n",
       "    </tr>\n",
       "    <tr>\n",
       "      <th>4</th>\n",
       "      <td>2017-01-03 00:00:00</td>\n",
       "      <td>0.00821</td>\n",
       "      <td>0.00854</td>\n",
       "      <td>0.00800</td>\n",
       "      <td>0.00850</td>\n",
       "      <td>690.7145</td>\n",
       "    </tr>\n",
       "  </tbody>\n",
       "</table>\n",
       "</div>"
      ],
      "text/plain": [
       "                     0        1        2        3        4          5\n",
       "0  2016-12-30 00:00:00  0.00769  0.00875  0.00769  0.00845  7870.4500\n",
       "1  2016-12-31 00:00:00  0.00850  0.00891  0.00842  0.00843  3269.1045\n",
       "2  2017-01-01 00:00:00  0.00856  0.00864  0.00826  0.00833  3206.9350\n",
       "3  2017-01-02 00:00:00  0.00838  0.00892  0.00811  0.00821  5814.5170\n",
       "4  2017-01-03 00:00:00  0.00821  0.00854  0.00800  0.00850   690.7145"
      ]
     },
     "execution_count": 3,
     "metadata": {},
     "output_type": "execute_result"
    }
   ],
   "source": [
    "# Check\n",
    "\n",
    "data.head()"
   ]
  },
  {
   "cell_type": "code",
   "execution_count": 4,
   "metadata": {
    "ExecuteTime": {
     "end_time": "2019-05-09T11:03:10.532034Z",
     "start_time": "2019-05-09T11:03:10.525724Z"
    }
   },
   "outputs": [
    {
     "data": {
      "text/plain": [
       "(366, 6)"
      ]
     },
     "execution_count": 4,
     "metadata": {},
     "output_type": "execute_result"
    }
   ],
   "source": [
    "data.shape"
   ]
  },
  {
   "cell_type": "markdown",
   "metadata": {},
   "source": [
    "- Explanations of the columns\n",
    "\n",
    "\n",
    "    - 0: Date and time\n",
    "    \n",
    "    - 1: Opening price\n",
    "    \n",
    "    - 2: Highest price\n",
    "    \n",
    "    - 3: Lowest price\n",
    "    \n",
    "    - 4: Closing price\n",
    "    \n",
    "    - 5: Volume"
   ]
  },
  {
   "cell_type": "code",
   "execution_count": 5,
   "metadata": {
    "ExecuteTime": {
     "end_time": "2019-05-09T11:03:14.918431Z",
     "start_time": "2019-05-09T11:03:10.535442Z"
    },
    "scrolled": true
   },
   "outputs": [
    {
     "data": {
      "image/png": "[encoded data removed]",
      "text/plain": [
       "<Figure size 432x288 with 1 Axes>"
      ]
     },
     "metadata": {},
     "output_type": "display_data"
    }
   ],
   "source": [
    "# Visualize the data\n",
    "\n",
    "plt.figure(facecolor=\"azure\", edgecolor=\"coral\", linewidth=2)\n",
    "\n",
    "plt.plot(data.iloc[:, 0], data.iloc[:, 1])\n",
    "\n",
    "plt.title(\"Price Fluctuation of Bitcoin\")\n",
    "plt.xlabel(\"Date and Time\")\n",
    "plt.ylabel(\"Price\")\n",
    "plt.show()"
   ]
  },
  {
   "cell_type": "markdown",
   "metadata": {},
   "source": [
    "## [Task 1] Hotelling's T-Squared Distribution\n",
    "\n",
    "<br />\n",
    "\n",
    "The following is a flow of anomaly detections by using Hotelling's T-squared distribution.\n",
    "\n",
    "\n",
    "1. Decide an anomalous incidence rate(false detection rate), $\\alpha$.\n",
    "\n",
    "\n",
    "2. Let a probability density Chi-square distribution where degree of freedom is $M$ and the scale factor is $1$, and decide a threshold $a_{th}$.\n",
    "\n",
    "\n",
    "3. Compute sample mean and sample variance.\n",
    "\n",
    "\n",
    "4. Compute Mahalanobis distance by using the score already computed.\n",
    "\n",
    "\n",
    "5. Let the condition anomalous if the value computed on the previous step is more than $a_{th}$."
   ]
  },
  {
   "cell_type": "code",
   "execution_count": 9,
   "metadata": {
    "ExecuteTime": {
     "end_time": "2019-05-09T11:04:14.061772Z",
     "start_time": "2019-05-09T11:04:14.055615Z"
    }
   },
   "outputs": [],
   "source": [
    "# Get the data of opening prices\n",
    "\n",
    "target_data = data.iloc[:, 1:2].values\n",
    "\n",
    "opening_prices = []\n",
    "for i in range(len(target_data)):\n",
    "    opening_prices.append(target_data[i, 0])"
   ]
  },
  {
   "cell_type": "code",
   "execution_count": 11,
   "metadata": {
    "ExecuteTime": {
     "end_time": "2019-05-09T11:04:50.617200Z",
     "start_time": "2019-05-09T11:04:50.431523Z"
    }
   },
   "outputs": [
    {
     "data": {
      "image/png": "[encoded data removed]",
      "text/plain": [
       "<Figure size 432x288 with 1 Axes>"
      ]
     },
     "metadata": {
      "needs_background": "light"
     },
     "output_type": "display_data"
    }
   ],
   "source": [
    "# Compute sample mean\n",
    "sample_mean = mean(opening_prices)\n",
    "\n",
    "# Compute sample variance\n",
    "sample_variance = variance(opening_prices)\n",
    "\n",
    "# Compute the degree of abnormality\n",
    "scores = []\n",
    "for x in opening_prices:\n",
    "    mahalanobis_dis = (x-sample_mean)**2 / sample_variance\n",
    "    scores.append(mahalanobis_dis)\n",
    "\n",
    "# Set the 1-level threshold by Chi-square distribution\n",
    "threshold = stats.chi2.interval(0.99, 1)[1]\n",
    "\n",
    "# Plot the results\n",
    "plt.plot(scores, \"o\", color=\"b\")\n",
    "plt.plot([0, 365], [threshold, threshold], \"k-\", color=\"r\", ls=\"dashed\")\n",
    "plt.xlabel(\"Sample Number\")\n",
    "plt.ylabel(\"Anomaly Score\")\n",
    "plt.ylim([0, 10])\n",
    "plt.show()"
   ]
  },
  {
   "cell_type": "code",
   "execution_count": 12,
   "metadata": {
    "ExecuteTime": {
     "end_time": "2019-05-09T11:04:52.660988Z",
     "start_time": "2019-05-09T11:04:52.652642Z"
    }
   },
   "outputs": [
    {
     "data": {
      "text/plain": [
       "[165, 166, 169]"
      ]
     },
     "execution_count": 12,
     "metadata": {},
     "output_type": "execute_result"
    }
   ],
   "source": [
    "# Create a list for dates that anomalous values are detected\n",
    "\n",
    "over = filter(lambda x: x > threshold, scores)\n",
    "over_list = list(over)\n",
    "[scores.index(i) for i in over_list]"
   ]
  },
  {
   "cell_type": "code",
   "execution_count": null,
   "metadata": {},
   "outputs": [],
   "source": []
  }
 ],
 "metadata": {
  "kernelspec": {
   "display_name": "Python 3",
   "language": "python",
   "name": "python3"
  },
  "language_info": {
   "codemirror_mode": {
    "name": "ipython",
    "version": 3
   },
   "file_extension": ".py",
   "mimetype": "text/x-python",
   "name": "python",
   "nbconvert_exporter": "python",
   "pygments_lexer": "ipython3",
   "version": "3.6.8"
  },
  "toc": {
   "base_numbering": 1,
   "nav_menu": {},
   "number_sections": true,
   "sideBar": true,
   "skip_h1_title": false,
   "title_cell": "Table of Contents",
   "title_sidebar": "Contents",
   "toc_cell": false,
   "toc_position": {},
   "toc_section_display": true,
   "toc_window_display": false
  },
  "varInspector": {
   "cols": {
    "lenName": 16,
    "lenType": 16,
    "lenVar": 40
   },
   "kernels_config": {
    "python": {
     "delete_cmd_postfix": "",
     "delete_cmd_prefix": "del ",
     "library": "var_list.py",
     "varRefreshCmd": "print(var_dic_list())"
    },
    "r": {
     "delete_cmd_postfix": ") ",
     "delete_cmd_prefix": "rm(",
     "library": "var_list.r",
     "varRefreshCmd": "cat(var_dic_list()) "
    }
   },
   "types_to_exclude": [
    "module",
    "function",
    "builtin_function_or_method",
    "instance",
    "_Feature"
   ],
   "window_display": false
  }
 },
 "nbformat": 4,
 "nbformat_minor": 2
}
