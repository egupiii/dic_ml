{
 "cells": [
  {
   "cell_type": "markdown",
   "metadata": {},
   "source": [
    "## [Task 1] Item-Based\n",
    "\n",
    "<br />\n",
    "\n",
    "I am going to do item-based recommendations by using data of travelers."
   ]
  },
  {
   "cell_type": "code",
   "execution_count": 1,
   "metadata": {
    "ExecuteTime": {
     "end_time": "2019-04-15T09:38:43.124929Z",
     "start_time": "2019-04-15T09:38:42.264410Z"
    }
   },
   "outputs": [],
   "source": [
    "import numpy as np\n",
    "import pandas as pd"
   ]
  },
  {
   "cell_type": "code",
   "execution_count": 2,
   "metadata": {
    "ExecuteTime": {
     "end_time": "2019-04-15T09:38:43.138264Z",
     "start_time": "2019-04-15T09:38:43.128807Z"
    }
   },
   "outputs": [],
   "source": [
    "# Prepare concise dataset of travelers\n",
    "\n",
    "travelers = np.array([[1, 2, 4, 3],\n",
    "             [1, 1, 2, 4],\n",
    "             [3, 5, 2, 2],\n",
    "             [3, 4, 2, 3],\n",
    "             [3, 3, 0, 4],\n",
    "             [3, 3, 1, 4]])\n",
    "\n",
    "# Data of a target user\n",
    "target = np.array([1, 0, 0, 0])"
   ]
  },
  {
   "cell_type": "code",
   "execution_count": 3,
   "metadata": {
    "ExecuteTime": {
     "end_time": "2019-04-15T09:38:43.145539Z",
     "start_time": "2019-04-15T09:38:43.140968Z"
    }
   },
   "outputs": [],
   "source": [
    "# Create a dataframe\n",
    "\n",
    "columns = [\"Hawaii\", \"Guam\", \"London\", \"NewYork\"]\n",
    "\n",
    "df = pd.DataFrame(travelers, columns=columns)"
   ]
  },
  {
   "cell_type": "code",
   "execution_count": 4,
   "metadata": {
    "ExecuteTime": {
     "end_time": "2019-04-15T09:38:43.180149Z",
     "start_time": "2019-04-15T09:38:43.150356Z"
    }
   },
   "outputs": [
    {
     "data": {
      "text/html": [
       "<div>\n",
       "<style scoped>\n",
       "    .dataframe tbody tr th:only-of-type {\n",
       "        vertical-align: middle;\n",
       "    }\n",
       "\n",
       "    .dataframe tbody tr th {\n",
       "        vertical-align: top;\n",
       "    }\n",
       "\n",
       "    .dataframe thead th {\n",
       "        text-align: right;\n",
       "    }\n",
       "</style>\n",
       "<table border=\"1\" class=\"dataframe\">\n",
       "  <thead>\n",
       "    <tr style=\"text-align: right;\">\n",
       "      <th></th>\n",
       "      <th>Hawaii</th>\n",
       "      <th>Guam</th>\n",
       "      <th>London</th>\n",
       "      <th>NewYork</th>\n",
       "    </tr>\n",
       "  </thead>\n",
       "  <tbody>\n",
       "    <tr>\n",
       "      <th>0</th>\n",
       "      <td>1</td>\n",
       "      <td>2</td>\n",
       "      <td>4</td>\n",
       "      <td>3</td>\n",
       "    </tr>\n",
       "    <tr>\n",
       "      <th>1</th>\n",
       "      <td>1</td>\n",
       "      <td>1</td>\n",
       "      <td>2</td>\n",
       "      <td>4</td>\n",
       "    </tr>\n",
       "    <tr>\n",
       "      <th>2</th>\n",
       "      <td>3</td>\n",
       "      <td>5</td>\n",
       "      <td>2</td>\n",
       "      <td>2</td>\n",
       "    </tr>\n",
       "    <tr>\n",
       "      <th>3</th>\n",
       "      <td>3</td>\n",
       "      <td>4</td>\n",
       "      <td>2</td>\n",
       "      <td>3</td>\n",
       "    </tr>\n",
       "    <tr>\n",
       "      <th>4</th>\n",
       "      <td>3</td>\n",
       "      <td>3</td>\n",
       "      <td>0</td>\n",
       "      <td>4</td>\n",
       "    </tr>\n",
       "    <tr>\n",
       "      <th>5</th>\n",
       "      <td>3</td>\n",
       "      <td>3</td>\n",
       "      <td>1</td>\n",
       "      <td>4</td>\n",
       "    </tr>\n",
       "  </tbody>\n",
       "</table>\n",
       "</div>"
      ],
      "text/plain": [
       "   Hawaii  Guam  London  NewYork\n",
       "0       1     2       4        3\n",
       "1       1     1       2        4\n",
       "2       3     5       2        2\n",
       "3       3     4       2        3\n",
       "4       3     3       0        4\n",
       "5       3     3       1        4"
      ]
     },
     "execution_count": 4,
     "metadata": {},
     "output_type": "execute_result"
    }
   ],
   "source": [
    "# Check\n",
    "\n",
    "df"
   ]
  },
  {
   "cell_type": "markdown",
   "metadata": {},
   "source": [
    "### Create A Similarity Matrix among Items"
   ]
  },
  {
   "cell_type": "code",
   "execution_count": 5,
   "metadata": {
    "ExecuteTime": {
     "end_time": "2019-04-15T09:38:43.189874Z",
     "start_time": "2019-04-15T09:38:43.183420Z"
    }
   },
   "outputs": [],
   "source": [
    "# Define of cosine similarity\n",
    "\n",
    "def cos_sim(v1, v2):\n",
    "    return np.dot(v1, v2) / (np.linalg.norm(v1) * np.linalg.norm(v2))"
   ]
  },
  {
   "cell_type": "code",
   "execution_count": 6,
   "metadata": {
    "ExecuteTime": {
     "end_time": "2019-04-15T09:38:43.200875Z",
     "start_time": "2019-04-15T09:38:43.194403Z"
    }
   },
   "outputs": [],
   "source": [
    "# Create lists of each country\n",
    "\n",
    "countries_list = []\n",
    "for i, name in enumerate(columns):\n",
    "    name = []\n",
    "    for j in range(len(travelers)):\n",
    "        name.append(travelers[j][i])\n",
    "    countries_list.append(name)\n",
    "\n",
    "coutries_array = np.array(countries_list)"
   ]
  },
  {
   "cell_type": "code",
   "execution_count": 8,
   "metadata": {
    "ExecuteTime": {
     "end_time": "2019-04-15T09:39:00.336027Z",
     "start_time": "2019-04-15T09:39:00.328698Z"
    }
   },
   "outputs": [
    {
     "data": {
      "text/plain": [
       "array([[1, 1, 3, 3, 3, 3],\n",
       "       [2, 1, 5, 4, 3, 3],\n",
       "       [4, 2, 2, 2, 0, 1],\n",
       "       [3, 4, 2, 3, 4, 4]])"
      ]
     },
     "execution_count": 8,
     "metadata": {},
     "output_type": "execute_result"
    }
   ],
   "source": [
    "# Check\n",
    "\n",
    "coutries_array"
   ]
  },
  {
   "cell_type": "code",
   "execution_count": 12,
   "metadata": {
    "ExecuteTime": {
     "end_time": "2019-04-15T09:52:49.689315Z",
     "start_time": "2019-04-15T09:52:49.681924Z"
    }
   },
   "outputs": [],
   "source": [
    "# Compute cosine similarities\n",
    "\n",
    "cos_sim_list = []\n",
    "for i in range(len(coutries_array)):\n",
    "    temporary_list = []\n",
    "    for j in range(len(coutries_array)):\n",
    "        temporary_list.append(cos_sim(coutries_array[i], coutries_array[j]))\n",
    "    cos_sim_list.append(temporary_list)\n",
    "\n",
    "cos_sim_array = np.array(cos_sim_list)"
   ]
  },
  {
   "cell_type": "code",
   "execution_count": 13,
   "metadata": {
    "ExecuteTime": {
     "end_time": "2019-04-15T09:52:50.322064Z",
     "start_time": "2019-04-15T09:52:50.313657Z"
    }
   },
   "outputs": [
    {
     "data": {
      "text/plain": [
       "array([[1.        , 0.97332853, 0.63259899, 0.89190174],\n",
       "       [0.97332853, 1.        , 0.71956944, 0.83666003],\n",
       "       [0.63259899, 0.71956944, 1.        , 0.75462449],\n",
       "       [0.89190174, 0.83666003, 0.75462449, 1.        ]])"
      ]
     },
     "execution_count": 13,
     "metadata": {},
     "output_type": "execute_result"
    }
   ],
   "source": [
    "# Check\n",
    "\n",
    "cos_sim_array"
   ]
  },
  {
   "cell_type": "code",
   "execution_count": 14,
   "metadata": {
    "ExecuteTime": {
     "end_time": "2019-04-15T09:53:50.789641Z",
     "start_time": "2019-04-15T09:53:50.784435Z"
    }
   },
   "outputs": [],
   "source": [
    "# Create a dataframe\n",
    "\n",
    "df_sim_matrix = pd.DataFrame(cos_sim_array, index=columns, columns=columns)"
   ]
  },
  {
   "cell_type": "code",
   "execution_count": 15,
   "metadata": {
    "ExecuteTime": {
     "end_time": "2019-04-15T09:54:02.478435Z",
     "start_time": "2019-04-15T09:54:02.464653Z"
    }
   },
   "outputs": [
    {
     "data": {
      "text/html": [
       "<div>\n",
       "<style scoped>\n",
       "    .dataframe tbody tr th:only-of-type {\n",
       "        vertical-align: middle;\n",
       "    }\n",
       "\n",
       "    .dataframe tbody tr th {\n",
       "        vertical-align: top;\n",
       "    }\n",
       "\n",
       "    .dataframe thead th {\n",
       "        text-align: right;\n",
       "    }\n",
       "</style>\n",
       "<table border=\"1\" class=\"dataframe\">\n",
       "  <thead>\n",
       "    <tr style=\"text-align: right;\">\n",
       "      <th></th>\n",
       "      <th>Hawaii</th>\n",
       "      <th>Guam</th>\n",
       "      <th>London</th>\n",
       "      <th>NewYork</th>\n",
       "    </tr>\n",
       "  </thead>\n",
       "  <tbody>\n",
       "    <tr>\n",
       "      <th>Hawaii</th>\n",
       "      <td>1.000000</td>\n",
       "      <td>0.973329</td>\n",
       "      <td>0.632599</td>\n",
       "      <td>0.891902</td>\n",
       "    </tr>\n",
       "    <tr>\n",
       "      <th>Guam</th>\n",
       "      <td>0.973329</td>\n",
       "      <td>1.000000</td>\n",
       "      <td>0.719569</td>\n",
       "      <td>0.836660</td>\n",
       "    </tr>\n",
       "    <tr>\n",
       "      <th>London</th>\n",
       "      <td>0.632599</td>\n",
       "      <td>0.719569</td>\n",
       "      <td>1.000000</td>\n",
       "      <td>0.754624</td>\n",
       "    </tr>\n",
       "    <tr>\n",
       "      <th>NewYork</th>\n",
       "      <td>0.891902</td>\n",
       "      <td>0.836660</td>\n",
       "      <td>0.754624</td>\n",
       "      <td>1.000000</td>\n",
       "    </tr>\n",
       "  </tbody>\n",
       "</table>\n",
       "</div>"
      ],
      "text/plain": [
       "           Hawaii      Guam    London   NewYork\n",
       "Hawaii   1.000000  0.973329  0.632599  0.891902\n",
       "Guam     0.973329  1.000000  0.719569  0.836660\n",
       "London   0.632599  0.719569  1.000000  0.754624\n",
       "NewYork  0.891902  0.836660  0.754624  1.000000"
      ]
     },
     "execution_count": 15,
     "metadata": {},
     "output_type": "execute_result"
    }
   ],
   "source": [
    "# Check\n",
    "\n",
    "df_sim_matrix"
   ]
  },
  {
   "cell_type": "markdown",
   "metadata": {},
   "source": [
    "### Recommend by Inner Products of User's Vector and Similarity Matrix"
   ]
  },
  {
   "cell_type": "code",
   "execution_count": 22,
   "metadata": {
    "ExecuteTime": {
     "end_time": "2019-04-15T10:02:45.014974Z",
     "start_time": "2019-04-15T10:02:45.010729Z"
    }
   },
   "outputs": [],
   "source": [
    "# Compute inner products\n",
    "\n",
    "inner_products = np.dot(cos_sim_array, target)"
   ]
  },
  {
   "cell_type": "code",
   "execution_count": 23,
   "metadata": {
    "ExecuteTime": {
     "end_time": "2019-04-15T10:02:45.258671Z",
     "start_time": "2019-04-15T10:02:45.251314Z"
    }
   },
   "outputs": [
    {
     "data": {
      "text/plain": [
       "array([1.        , 0.97332853, 0.63259899, 0.89190174])"
      ]
     },
     "execution_count": 23,
     "metadata": {},
     "output_type": "execute_result"
    }
   ],
   "source": [
    "# Check\n",
    "\n",
    "inner_products"
   ]
  },
  {
   "cell_type": "markdown",
   "metadata": {},
   "source": [
    "    - I recommend Guam as next destination to the target user by the above result."
   ]
  },
  {
   "cell_type": "markdown",
   "metadata": {},
   "source": [
    "## [Task 2] User-Based"
   ]
  },
  {
   "cell_type": "code",
   "execution_count": null,
   "metadata": {},
   "outputs": [],
   "source": []
  }
 ],
 "metadata": {
  "kernelspec": {
   "display_name": "Python 3",
   "language": "python",
   "name": "python3"
  },
  "language_info": {
   "codemirror_mode": {
    "name": "ipython",
    "version": 3
   },
   "file_extension": ".py",
   "mimetype": "text/x-python",
   "name": "python",
   "nbconvert_exporter": "python",
   "pygments_lexer": "ipython3",
   "version": "3.6.8"
  },
  "toc": {
   "base_numbering": 1,
   "nav_menu": {},
   "number_sections": true,
   "sideBar": true,
   "skip_h1_title": false,
   "title_cell": "Table of Contents",
   "title_sidebar": "Contents",
   "toc_cell": false,
   "toc_position": {},
   "toc_section_display": true,
   "toc_window_display": false
  },
  "varInspector": {
   "cols": {
    "lenName": 16,
    "lenType": 16,
    "lenVar": 40
   },
   "kernels_config": {
    "python": {
     "delete_cmd_postfix": "",
     "delete_cmd_prefix": "del ",
     "library": "var_list.py",
     "varRefreshCmd": "print(var_dic_list())"
    },
    "r": {
     "delete_cmd_postfix": ") ",
     "delete_cmd_prefix": "rm(",
     "library": "var_list.r",
     "varRefreshCmd": "cat(var_dic_list()) "
    }
   },
   "types_to_exclude": [
    "module",
    "function",
    "builtin_function_or_method",
    "instance",
    "_Feature"
   ],
   "window_display": false
  }
 },
 "nbformat": 4,
 "nbformat_minor": 2
}
