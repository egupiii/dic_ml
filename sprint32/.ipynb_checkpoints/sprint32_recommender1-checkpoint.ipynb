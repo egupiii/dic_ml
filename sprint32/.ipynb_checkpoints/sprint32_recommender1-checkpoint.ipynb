{
 "cells": [
  {
   "cell_type": "markdown",
   "metadata": {},
   "source": [
    "## [Task 1] Item-Based\n",
    "\n",
    "<br />\n",
    "\n",
    "I am going to do item-based recommendations by using data of travelers."
   ]
  },
  {
   "cell_type": "code",
   "execution_count": 1,
   "metadata": {
    "ExecuteTime": {
     "end_time": "2019-04-21T06:17:04.655848Z",
     "start_time": "2019-04-21T06:17:03.133646Z"
    }
   },
   "outputs": [],
   "source": [
    "import matplotlib.pyplot as plt\n",
    "import numpy as np\n",
    "import pandas as pd\n",
    "import seaborn as sns"
   ]
  },
  {
   "cell_type": "code",
   "execution_count": 2,
   "metadata": {
    "ExecuteTime": {
     "end_time": "2019-04-17T02:26:56.807200Z",
     "start_time": "2019-04-17T02:26:56.800828Z"
    }
   },
   "outputs": [],
   "source": [
    "# Prepare concise dataset of travelers\n",
    "\n",
    "travelers = np.array([[1, 2, 4, 3],\n",
    "                      [1, 1, 2, 4],\n",
    "                      [3, 5, 2, 2],\n",
    "                      [3, 4, 2, 3],\n",
    "                      [3, 3, 0, 4],\n",
    "                      [3, 3, 1, 4]])\n",
    "\n",
    "# Data of a target user\n",
    "target = np.array([1, 0, 0, 0])"
   ]
  },
  {
   "cell_type": "code",
   "execution_count": 3,
   "metadata": {
    "ExecuteTime": {
     "end_time": "2019-04-17T02:26:57.446618Z",
     "start_time": "2019-04-17T02:26:57.436685Z"
    }
   },
   "outputs": [],
   "source": [
    "# Create a dataframe\n",
    "\n",
    "columns = [\"Hawaii\", \"Guam\", \"London\", \"NewYork\"]\n",
    "\n",
    "df = pd.DataFrame(travelers, columns=columns)"
   ]
  },
  {
   "cell_type": "code",
   "execution_count": 4,
   "metadata": {
    "ExecuteTime": {
     "end_time": "2019-04-17T02:26:58.282002Z",
     "start_time": "2019-04-17T02:26:58.264438Z"
    }
   },
   "outputs": [
    {
     "data": {
      "text/html": [
       "<div>\n",
       "<style scoped>\n",
       "    .dataframe tbody tr th:only-of-type {\n",
       "        vertical-align: middle;\n",
       "    }\n",
       "\n",
       "    .dataframe tbody tr th {\n",
       "        vertical-align: top;\n",
       "    }\n",
       "\n",
       "    .dataframe thead th {\n",
       "        text-align: right;\n",
       "    }\n",
       "</style>\n",
       "<table border=\"1\" class=\"dataframe\">\n",
       "  <thead>\n",
       "    <tr style=\"text-align: right;\">\n",
       "      <th></th>\n",
       "      <th>Hawaii</th>\n",
       "      <th>Guam</th>\n",
       "      <th>London</th>\n",
       "      <th>NewYork</th>\n",
       "    </tr>\n",
       "  </thead>\n",
       "  <tbody>\n",
       "    <tr>\n",
       "      <th>0</th>\n",
       "      <td>1</td>\n",
       "      <td>2</td>\n",
       "      <td>4</td>\n",
       "      <td>3</td>\n",
       "    </tr>\n",
       "    <tr>\n",
       "      <th>1</th>\n",
       "      <td>1</td>\n",
       "      <td>1</td>\n",
       "      <td>2</td>\n",
       "      <td>4</td>\n",
       "    </tr>\n",
       "    <tr>\n",
       "      <th>2</th>\n",
       "      <td>3</td>\n",
       "      <td>5</td>\n",
       "      <td>2</td>\n",
       "      <td>2</td>\n",
       "    </tr>\n",
       "    <tr>\n",
       "      <th>3</th>\n",
       "      <td>3</td>\n",
       "      <td>4</td>\n",
       "      <td>2</td>\n",
       "      <td>3</td>\n",
       "    </tr>\n",
       "    <tr>\n",
       "      <th>4</th>\n",
       "      <td>3</td>\n",
       "      <td>3</td>\n",
       "      <td>0</td>\n",
       "      <td>4</td>\n",
       "    </tr>\n",
       "    <tr>\n",
       "      <th>5</th>\n",
       "      <td>3</td>\n",
       "      <td>3</td>\n",
       "      <td>1</td>\n",
       "      <td>4</td>\n",
       "    </tr>\n",
       "  </tbody>\n",
       "</table>\n",
       "</div>"
      ],
      "text/plain": [
       "   Hawaii  Guam  London  NewYork\n",
       "0       1     2       4        3\n",
       "1       1     1       2        4\n",
       "2       3     5       2        2\n",
       "3       3     4       2        3\n",
       "4       3     3       0        4\n",
       "5       3     3       1        4"
      ]
     },
     "execution_count": 4,
     "metadata": {},
     "output_type": "execute_result"
    }
   ],
   "source": [
    "# Check\n",
    "\n",
    "df"
   ]
  },
  {
   "cell_type": "markdown",
   "metadata": {},
   "source": [
    "### Similarity Matrix between Items"
   ]
  },
  {
   "cell_type": "code",
   "execution_count": 5,
   "metadata": {
    "ExecuteTime": {
     "end_time": "2019-04-17T02:27:00.093413Z",
     "start_time": "2019-04-17T02:27:00.087294Z"
    }
   },
   "outputs": [],
   "source": [
    "# Define of cosine similarity\n",
    "\n",
    "\n",
    "def cos_sim(v1, v2):\n",
    "    return np.dot(v1, v2) / (np.linalg.norm(v1) * np.linalg.norm(v2))"
   ]
  },
  {
   "cell_type": "code",
   "execution_count": 6,
   "metadata": {
    "ExecuteTime": {
     "end_time": "2019-04-17T02:27:00.573981Z",
     "start_time": "2019-04-17T02:27:00.567976Z"
    }
   },
   "outputs": [],
   "source": [
    "# Create lists of each country\n",
    "\n",
    "countries_list = []\n",
    "for i, name in enumerate(columns):\n",
    "    name = []\n",
    "    for j in range(len(travelers)):\n",
    "        name.append(travelers[j][i])\n",
    "    countries_list.append(name)\n",
    "\n",
    "coutries_array = np.array(countries_list)"
   ]
  },
  {
   "cell_type": "code",
   "execution_count": 7,
   "metadata": {
    "ExecuteTime": {
     "end_time": "2019-04-17T02:27:01.274209Z",
     "start_time": "2019-04-17T02:27:01.267437Z"
    }
   },
   "outputs": [
    {
     "data": {
      "text/plain": [
       "array([[1, 1, 3, 3, 3, 3],\n",
       "       [2, 1, 5, 4, 3, 3],\n",
       "       [4, 2, 2, 2, 0, 1],\n",
       "       [3, 4, 2, 3, 4, 4]])"
      ]
     },
     "execution_count": 7,
     "metadata": {},
     "output_type": "execute_result"
    }
   ],
   "source": [
    "# Check\n",
    "\n",
    "coutries_array"
   ]
  },
  {
   "cell_type": "code",
   "execution_count": 8,
   "metadata": {
    "ExecuteTime": {
     "end_time": "2019-04-17T02:27:02.575001Z",
     "start_time": "2019-04-17T02:27:02.564272Z"
    }
   },
   "outputs": [],
   "source": [
    "# Compute cosine similarities\n",
    "\n",
    "cos_sim_list = []\n",
    "for i in range(len(coutries_array)):\n",
    "    temporary_list = []\n",
    "    for j in range(len(coutries_array)):\n",
    "        temporary_list.append(cos_sim(coutries_array[i], coutries_array[j]))\n",
    "    cos_sim_list.append(temporary_list)\n",
    "\n",
    "cos_sim_array = np.array(cos_sim_list)"
   ]
  },
  {
   "cell_type": "code",
   "execution_count": 9,
   "metadata": {
    "ExecuteTime": {
     "end_time": "2019-04-17T02:27:03.091558Z",
     "start_time": "2019-04-17T02:27:03.083568Z"
    }
   },
   "outputs": [
    {
     "data": {
      "text/plain": [
       "array([[1.        , 0.97332853, 0.63259899, 0.89190174],\n",
       "       [0.97332853, 1.        , 0.71956944, 0.83666003],\n",
       "       [0.63259899, 0.71956944, 1.        , 0.75462449],\n",
       "       [0.89190174, 0.83666003, 0.75462449, 1.        ]])"
      ]
     },
     "execution_count": 9,
     "metadata": {},
     "output_type": "execute_result"
    }
   ],
   "source": [
    "# Check\n",
    "\n",
    "cos_sim_array"
   ]
  },
  {
   "cell_type": "code",
   "execution_count": 10,
   "metadata": {
    "ExecuteTime": {
     "end_time": "2019-04-17T02:27:04.840904Z",
     "start_time": "2019-04-17T02:27:04.833590Z"
    }
   },
   "outputs": [],
   "source": [
    "# Create a dataframe\n",
    "\n",
    "df_sim_matrix = pd.DataFrame(cos_sim_array, index=columns, columns=columns)"
   ]
  },
  {
   "cell_type": "code",
   "execution_count": 11,
   "metadata": {
    "ExecuteTime": {
     "end_time": "2019-04-17T02:27:05.257895Z",
     "start_time": "2019-04-17T02:27:05.243473Z"
    }
   },
   "outputs": [
    {
     "data": {
      "text/html": [
       "<div>\n",
       "<style scoped>\n",
       "    .dataframe tbody tr th:only-of-type {\n",
       "        vertical-align: middle;\n",
       "    }\n",
       "\n",
       "    .dataframe tbody tr th {\n",
       "        vertical-align: top;\n",
       "    }\n",
       "\n",
       "    .dataframe thead th {\n",
       "        text-align: right;\n",
       "    }\n",
       "</style>\n",
       "<table border=\"1\" class=\"dataframe\">\n",
       "  <thead>\n",
       "    <tr style=\"text-align: right;\">\n",
       "      <th></th>\n",
       "      <th>Hawaii</th>\n",
       "      <th>Guam</th>\n",
       "      <th>London</th>\n",
       "      <th>NewYork</th>\n",
       "    </tr>\n",
       "  </thead>\n",
       "  <tbody>\n",
       "    <tr>\n",
       "      <th>Hawaii</th>\n",
       "      <td>1.000000</td>\n",
       "      <td>0.973329</td>\n",
       "      <td>0.632599</td>\n",
       "      <td>0.891902</td>\n",
       "    </tr>\n",
       "    <tr>\n",
       "      <th>Guam</th>\n",
       "      <td>0.973329</td>\n",
       "      <td>1.000000</td>\n",
       "      <td>0.719569</td>\n",
       "      <td>0.836660</td>\n",
       "    </tr>\n",
       "    <tr>\n",
       "      <th>London</th>\n",
       "      <td>0.632599</td>\n",
       "      <td>0.719569</td>\n",
       "      <td>1.000000</td>\n",
       "      <td>0.754624</td>\n",
       "    </tr>\n",
       "    <tr>\n",
       "      <th>NewYork</th>\n",
       "      <td>0.891902</td>\n",
       "      <td>0.836660</td>\n",
       "      <td>0.754624</td>\n",
       "      <td>1.000000</td>\n",
       "    </tr>\n",
       "  </tbody>\n",
       "</table>\n",
       "</div>"
      ],
      "text/plain": [
       "           Hawaii      Guam    London   NewYork\n",
       "Hawaii   1.000000  0.973329  0.632599  0.891902\n",
       "Guam     0.973329  1.000000  0.719569  0.836660\n",
       "London   0.632599  0.719569  1.000000  0.754624\n",
       "NewYork  0.891902  0.836660  0.754624  1.000000"
      ]
     },
     "execution_count": 11,
     "metadata": {},
     "output_type": "execute_result"
    }
   ],
   "source": [
    "# Check\n",
    "\n",
    "df_sim_matrix"
   ]
  },
  {
   "cell_type": "markdown",
   "metadata": {},
   "source": [
    "### Recommend by Inner Products of User's Vector and Similarity Matrix"
   ]
  },
  {
   "cell_type": "code",
   "execution_count": 12,
   "metadata": {
    "ExecuteTime": {
     "end_time": "2019-04-17T02:27:06.929640Z",
     "start_time": "2019-04-17T02:27:06.921638Z"
    }
   },
   "outputs": [],
   "source": [
    "# Compute inner products\n",
    "\n",
    "inner_products = np.dot(cos_sim_array, target)"
   ]
  },
  {
   "cell_type": "code",
   "execution_count": 13,
   "metadata": {
    "ExecuteTime": {
     "end_time": "2019-04-17T02:27:09.114039Z",
     "start_time": "2019-04-17T02:27:09.106431Z"
    }
   },
   "outputs": [
    {
     "data": {
      "text/plain": [
       "array([1.        , 0.97332853, 0.63259899, 0.89190174])"
      ]
     },
     "execution_count": 13,
     "metadata": {},
     "output_type": "execute_result"
    }
   ],
   "source": [
    "# Check\n",
    "\n",
    "inner_products"
   ]
  },
  {
   "cell_type": "code",
   "execution_count": 14,
   "metadata": {
    "ExecuteTime": {
     "end_time": "2019-04-17T02:27:09.887869Z",
     "start_time": "2019-04-17T02:27:09.879668Z"
    }
   },
   "outputs": [
    {
     "data": {
      "text/plain": [
       "'Guam'"
      ]
     },
     "execution_count": 14,
     "metadata": {},
     "output_type": "execute_result"
    }
   ],
   "source": [
    "# Output the recommendation\n",
    "\n",
    "# Change 1 to -1\n",
    "new_inner_products = np.where(\n",
    "    inner_products == np.amax(inner_products), -1, inner_products)\n",
    "\n",
    "# Get an index of max values\n",
    "index = np.argmax(new_inner_products)\n",
    "\n",
    "# Output\n",
    "columns[index]"
   ]
  },
  {
   "cell_type": "markdown",
   "metadata": {},
   "source": [
    "    - I recommend Guam as next destination to the target user by the above result."
   ]
  },
  {
   "cell_type": "markdown",
   "metadata": {},
   "source": [
    "## [Task 2] User-Based\n",
    "\n",
    "<br />\n",
    "\n",
    "I am going to recommend a book to the following user1 by the following data."
   ]
  },
  {
   "cell_type": "code",
   "execution_count": 2,
   "metadata": {
    "ExecuteTime": {
     "end_time": "2019-04-21T06:17:12.191665Z",
     "start_time": "2019-04-21T06:17:12.184495Z"
    }
   },
   "outputs": [],
   "source": [
    "# Prepare concise dataset of consumers who bought books\n",
    "\n",
    "readers = np.array([[2, 2, 4, np.nan, np.nan],\n",
    "                    [1, 1, 2, 4, 3],\n",
    "                    [0, 5, 2, 2, 5],\n",
    "                    [2, 4, 2, 3, 4],\n",
    "                    [1, 3, 0, 4, 1]])"
   ]
  },
  {
   "cell_type": "code",
   "execution_count": 3,
   "metadata": {
    "ExecuteTime": {
     "end_time": "2019-04-21T06:17:12.795509Z",
     "start_time": "2019-04-21T06:17:12.787863Z"
    }
   },
   "outputs": [],
   "source": [
    "# Create a dataframe\n",
    "\n",
    "columns2 = [\"ゼロから作るDeepLearning\", \"Python機械学習プログラミング\",\n",
    "            \"ゼロから作るDeepLearning-自然言語処理編-\", \"はじめてのパターン認識\", \"これからの強化学習\"]\n",
    "\n",
    "rows = [\"user1\", \"user2\", \"user3\", \"user4\", \"user5\"]\n",
    "\n",
    "df2 = pd.DataFrame(readers, index=rows, columns=columns2)"
   ]
  },
  {
   "cell_type": "code",
   "execution_count": 4,
   "metadata": {
    "ExecuteTime": {
     "end_time": "2019-04-21T06:17:15.944776Z",
     "start_time": "2019-04-21T06:17:15.925841Z"
    }
   },
   "outputs": [
    {
     "data": {
      "text/html": [
       "<div>\n",
       "<style scoped>\n",
       "    .dataframe tbody tr th:only-of-type {\n",
       "        vertical-align: middle;\n",
       "    }\n",
       "\n",
       "    .dataframe tbody tr th {\n",
       "        vertical-align: top;\n",
       "    }\n",
       "\n",
       "    .dataframe thead th {\n",
       "        text-align: right;\n",
       "    }\n",
       "</style>\n",
       "<table border=\"1\" class=\"dataframe\">\n",
       "  <thead>\n",
       "    <tr style=\"text-align: right;\">\n",
       "      <th></th>\n",
       "      <th>ゼロから作るDeepLearning</th>\n",
       "      <th>Python機械学習プログラミング</th>\n",
       "      <th>ゼロから作るDeepLearning-自然言語処理編-</th>\n",
       "      <th>はじめてのパターン認識</th>\n",
       "      <th>これからの強化学習</th>\n",
       "    </tr>\n",
       "  </thead>\n",
       "  <tbody>\n",
       "    <tr>\n",
       "      <th>user1</th>\n",
       "      <td>2.0</td>\n",
       "      <td>2.0</td>\n",
       "      <td>4.0</td>\n",
       "      <td>NaN</td>\n",
       "      <td>NaN</td>\n",
       "    </tr>\n",
       "    <tr>\n",
       "      <th>user2</th>\n",
       "      <td>1.0</td>\n",
       "      <td>1.0</td>\n",
       "      <td>2.0</td>\n",
       "      <td>4.0</td>\n",
       "      <td>3.0</td>\n",
       "    </tr>\n",
       "    <tr>\n",
       "      <th>user3</th>\n",
       "      <td>0.0</td>\n",
       "      <td>5.0</td>\n",
       "      <td>2.0</td>\n",
       "      <td>2.0</td>\n",
       "      <td>5.0</td>\n",
       "    </tr>\n",
       "    <tr>\n",
       "      <th>user4</th>\n",
       "      <td>2.0</td>\n",
       "      <td>4.0</td>\n",
       "      <td>2.0</td>\n",
       "      <td>3.0</td>\n",
       "      <td>4.0</td>\n",
       "    </tr>\n",
       "    <tr>\n",
       "      <th>user5</th>\n",
       "      <td>1.0</td>\n",
       "      <td>3.0</td>\n",
       "      <td>0.0</td>\n",
       "      <td>4.0</td>\n",
       "      <td>1.0</td>\n",
       "    </tr>\n",
       "  </tbody>\n",
       "</table>\n",
       "</div>"
      ],
      "text/plain": [
       "       ゼロから作るDeepLearning  Python機械学習プログラミング  ゼロから作るDeepLearning-自然言語処理編-  \\\n",
       "user1                 2.0                2.0                          4.0   \n",
       "user2                 1.0                1.0                          2.0   \n",
       "user3                 0.0                5.0                          2.0   \n",
       "user4                 2.0                4.0                          2.0   \n",
       "user5                 1.0                3.0                          0.0   \n",
       "\n",
       "       はじめてのパターン認識  これからの強化学習  \n",
       "user1          NaN        NaN  \n",
       "user2          4.0        3.0  \n",
       "user3          2.0        5.0  \n",
       "user4          3.0        4.0  \n",
       "user5          4.0        1.0  "
      ]
     },
     "execution_count": 4,
     "metadata": {},
     "output_type": "execute_result"
    }
   ],
   "source": [
    "# Check\n",
    "\n",
    "df2"
   ]
  },
  {
   "cell_type": "markdown",
   "metadata": {},
   "source": [
    "### Correlation Matrix per Each User"
   ]
  },
  {
   "cell_type": "code",
   "execution_count": 12,
   "metadata": {
    "ExecuteTime": {
     "end_time": "2019-04-21T06:20:23.384631Z",
     "start_time": "2019-04-21T06:20:23.380343Z"
    }
   },
   "outputs": [],
   "source": [
    "# Transpose\n",
    "\n",
    "trans_readers = readers.T"
   ]
  },
  {
   "cell_type": "code",
   "execution_count": 13,
   "metadata": {
    "ExecuteTime": {
     "end_time": "2019-04-21T06:20:23.858903Z",
     "start_time": "2019-04-21T06:20:23.851238Z"
    }
   },
   "outputs": [
    {
     "data": {
      "text/plain": [
       "array([[ 2.,  1.,  0.,  2.,  1.],\n",
       "       [ 2.,  1.,  5.,  4.,  3.],\n",
       "       [ 4.,  2.,  2.,  2.,  0.],\n",
       "       [nan,  4.,  2.,  3.,  4.],\n",
       "       [nan,  3.,  5.,  4.,  1.]])"
      ]
     },
     "execution_count": 13,
     "metadata": {},
     "output_type": "execute_result"
    }
   ],
   "source": [
    "# Check\n",
    "\n",
    "trans_readers"
   ]
  },
  {
   "cell_type": "code",
   "execution_count": 14,
   "metadata": {
    "ExecuteTime": {
     "end_time": "2019-04-21T06:20:25.096815Z",
     "start_time": "2019-04-21T06:20:25.090799Z"
    }
   },
   "outputs": [],
   "source": [
    "# Recreate the dataframe for users\n",
    "\n",
    "df2_users = pd.DataFrame(trans_readers, index=columns2, columns=rows)"
   ]
  },
  {
   "cell_type": "code",
   "execution_count": 15,
   "metadata": {
    "ExecuteTime": {
     "end_time": "2019-04-21T06:20:26.858542Z",
     "start_time": "2019-04-21T06:20:26.851074Z"
    }
   },
   "outputs": [],
   "source": [
    "new_df2_users = df2_users.dropna(axis=0, how=\"any\")"
   ]
  },
  {
   "cell_type": "code",
   "execution_count": 16,
   "metadata": {
    "ExecuteTime": {
     "end_time": "2019-04-21T06:20:27.269879Z",
     "start_time": "2019-04-21T06:20:27.254442Z"
    }
   },
   "outputs": [
    {
     "data": {
      "text/html": [
       "<div>\n",
       "<style scoped>\n",
       "    .dataframe tbody tr th:only-of-type {\n",
       "        vertical-align: middle;\n",
       "    }\n",
       "\n",
       "    .dataframe tbody tr th {\n",
       "        vertical-align: top;\n",
       "    }\n",
       "\n",
       "    .dataframe thead th {\n",
       "        text-align: right;\n",
       "    }\n",
       "</style>\n",
       "<table border=\"1\" class=\"dataframe\">\n",
       "  <thead>\n",
       "    <tr style=\"text-align: right;\">\n",
       "      <th></th>\n",
       "      <th>user1</th>\n",
       "      <th>user2</th>\n",
       "      <th>user3</th>\n",
       "      <th>user4</th>\n",
       "      <th>user5</th>\n",
       "    </tr>\n",
       "  </thead>\n",
       "  <tbody>\n",
       "    <tr>\n",
       "      <th>ゼロから作るDeepLearning</th>\n",
       "      <td>2.0</td>\n",
       "      <td>1.0</td>\n",
       "      <td>0.0</td>\n",
       "      <td>2.0</td>\n",
       "      <td>1.0</td>\n",
       "    </tr>\n",
       "    <tr>\n",
       "      <th>Python機械学習プログラミング</th>\n",
       "      <td>2.0</td>\n",
       "      <td>1.0</td>\n",
       "      <td>5.0</td>\n",
       "      <td>4.0</td>\n",
       "      <td>3.0</td>\n",
       "    </tr>\n",
       "    <tr>\n",
       "      <th>ゼロから作るDeepLearning-自然言語処理編-</th>\n",
       "      <td>4.0</td>\n",
       "      <td>2.0</td>\n",
       "      <td>2.0</td>\n",
       "      <td>2.0</td>\n",
       "      <td>0.0</td>\n",
       "    </tr>\n",
       "  </tbody>\n",
       "</table>\n",
       "</div>"
      ],
      "text/plain": [
       "                             user1  user2  user3  user4  user5\n",
       "ゼロから作るDeepLearning             2.0    1.0    0.0    2.0    1.0\n",
       "Python機械学習プログラミング              2.0    1.0    5.0    4.0    3.0\n",
       "ゼロから作るDeepLearning-自然言語処理編-    4.0    2.0    2.0    2.0    0.0"
      ]
     },
     "execution_count": 16,
     "metadata": {},
     "output_type": "execute_result"
    }
   ],
   "source": [
    "# Check\n",
    "\n",
    "new_df2_users"
   ]
  },
  {
   "cell_type": "code",
   "execution_count": 17,
   "metadata": {
    "ExecuteTime": {
     "end_time": "2019-04-21T06:20:43.733477Z",
     "start_time": "2019-04-21T06:20:43.725997Z"
    }
   },
   "outputs": [],
   "source": [
    "# Correlation matrix\n",
    "\n",
    "df_corr = new_df2_users.corr(method='pearson')"
   ]
  },
  {
   "cell_type": "code",
   "execution_count": 18,
   "metadata": {
    "ExecuteTime": {
     "end_time": "2019-04-21T06:20:44.825017Z",
     "start_time": "2019-04-21T06:20:44.809758Z"
    }
   },
   "outputs": [
    {
     "data": {
      "text/html": [
       "<div>\n",
       "<style scoped>\n",
       "    .dataframe tbody tr th:only-of-type {\n",
       "        vertical-align: middle;\n",
       "    }\n",
       "\n",
       "    .dataframe tbody tr th {\n",
       "        vertical-align: top;\n",
       "    }\n",
       "\n",
       "    .dataframe thead th {\n",
       "        text-align: right;\n",
       "    }\n",
       "</style>\n",
       "<table border=\"1\" class=\"dataframe\">\n",
       "  <thead>\n",
       "    <tr style=\"text-align: right;\">\n",
       "      <th></th>\n",
       "      <th>user1</th>\n",
       "      <th>user2</th>\n",
       "      <th>user3</th>\n",
       "      <th>user4</th>\n",
       "      <th>user5</th>\n",
       "    </tr>\n",
       "  </thead>\n",
       "  <tbody>\n",
       "    <tr>\n",
       "      <th>user1</th>\n",
       "      <td>1.000000</td>\n",
       "      <td>1.000000</td>\n",
       "      <td>-0.114708</td>\n",
       "      <td>-0.500000</td>\n",
       "      <td>-0.755929</td>\n",
       "    </tr>\n",
       "    <tr>\n",
       "      <th>user2</th>\n",
       "      <td>1.000000</td>\n",
       "      <td>1.000000</td>\n",
       "      <td>-0.114708</td>\n",
       "      <td>-0.500000</td>\n",
       "      <td>-0.755929</td>\n",
       "    </tr>\n",
       "    <tr>\n",
       "      <th>user3</th>\n",
       "      <td>-0.114708</td>\n",
       "      <td>-0.114708</td>\n",
       "      <td>1.000000</td>\n",
       "      <td>0.917663</td>\n",
       "      <td>0.737043</td>\n",
       "    </tr>\n",
       "    <tr>\n",
       "      <th>user4</th>\n",
       "      <td>-0.500000</td>\n",
       "      <td>-0.500000</td>\n",
       "      <td>0.917663</td>\n",
       "      <td>1.000000</td>\n",
       "      <td>0.944911</td>\n",
       "    </tr>\n",
       "    <tr>\n",
       "      <th>user5</th>\n",
       "      <td>-0.755929</td>\n",
       "      <td>-0.755929</td>\n",
       "      <td>0.737043</td>\n",
       "      <td>0.944911</td>\n",
       "      <td>1.000000</td>\n",
       "    </tr>\n",
       "  </tbody>\n",
       "</table>\n",
       "</div>"
      ],
      "text/plain": [
       "          user1     user2     user3     user4     user5\n",
       "user1  1.000000  1.000000 -0.114708 -0.500000 -0.755929\n",
       "user2  1.000000  1.000000 -0.114708 -0.500000 -0.755929\n",
       "user3 -0.114708 -0.114708  1.000000  0.917663  0.737043\n",
       "user4 -0.500000 -0.500000  0.917663  1.000000  0.944911\n",
       "user5 -0.755929 -0.755929  0.737043  0.944911  1.000000"
      ]
     },
     "execution_count": 18,
     "metadata": {},
     "output_type": "execute_result"
    }
   ],
   "source": [
    "# Check\n",
    "\n",
    "df_corr"
   ]
  },
  {
   "cell_type": "code",
   "execution_count": 19,
   "metadata": {
    "ExecuteTime": {
     "end_time": "2019-04-21T06:20:47.901008Z",
     "start_time": "2019-04-21T06:20:47.548338Z"
    }
   },
   "outputs": [
    {
     "data": {
      "image/png": "[encoded data removed]",
      "text/plain": [
       "<Figure size 432x288 with 2 Axes>"
      ]
     },
     "metadata": {
      "needs_background": "light"
     },
     "output_type": "display_data"
    }
   ],
   "source": [
    "# Display the heatmap\n",
    "\n",
    "plt.figure()\n",
    "sns.heatmap(df_corr, annot=True, square=True)\n",
    "\n",
    "plt.show()"
   ]
  },
  {
   "cell_type": "markdown",
   "metadata": {},
   "source": [
    "    - I recommend products that the user2 bought to the user1 by the above result."
   ]
  },
  {
   "cell_type": "code",
   "execution_count": null,
   "metadata": {},
   "outputs": [],
   "source": []
  }
 ],
 "metadata": {
  "kernelspec": {
   "display_name": "Python 3",
   "language": "python",
   "name": "python3"
  },
  "language_info": {
   "codemirror_mode": {
    "name": "ipython",
    "version": 3
   },
   "file_extension": ".py",
   "mimetype": "text/x-python",
   "name": "python",
   "nbconvert_exporter": "python",
   "pygments_lexer": "ipython3",
   "version": "3.6.8"
  },
  "toc": {
   "base_numbering": 1,
   "nav_menu": {},
   "number_sections": true,
   "sideBar": true,
   "skip_h1_title": false,
   "title_cell": "Table of Contents",
   "title_sidebar": "Contents",
   "toc_cell": false,
   "toc_position": {},
   "toc_section_display": true,
   "toc_window_display": false
  },
  "varInspector": {
   "cols": {
    "lenName": 16,
    "lenType": 16,
    "lenVar": 40
   },
   "kernels_config": {
    "python": {
     "delete_cmd_postfix": "",
     "delete_cmd_prefix": "del ",
     "library": "var_list.py",
     "varRefreshCmd": "print(var_dic_list())"
    },
    "r": {
     "delete_cmd_postfix": ") ",
     "delete_cmd_prefix": "rm(",
     "library": "var_list.r",
     "varRefreshCmd": "cat(var_dic_list()) "
    }
   },
   "types_to_exclude": [
    "module",
    "function",
    "builtin_function_or_method",
    "instance",
    "_Feature"
   ],
   "window_display": false
  }
 },
 "nbformat": 4,
 "nbformat_minor": 2
}
