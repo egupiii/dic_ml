{
 "cells": [
  {
   "cell_type": "markdown",
   "metadata": {},
   "source": [
    "## [Task 1] Item-Based\n",
    "\n",
    "<br />\n",
    "\n",
    "I am going to do item-based recommendations by using data of travelers."
   ]
  },
  {
   "cell_type": "code",
   "execution_count": 20,
   "metadata": {
    "ExecuteTime": {
     "end_time": "2019-04-16T04:51:09.941233Z",
     "start_time": "2019-04-16T04:51:08.944145Z"
    }
   },
   "outputs": [],
   "source": [
    "import matplotlib.pyplot as plt\n",
    "import numpy as np\n",
    "import pandas as pd\n",
    "import seaborn as sns"
   ]
  },
  {
   "cell_type": "code",
   "execution_count": 2,
   "metadata": {
    "ExecuteTime": {
     "end_time": "2019-04-16T04:14:06.968791Z",
     "start_time": "2019-04-16T04:14:06.962714Z"
    }
   },
   "outputs": [],
   "source": [
    "# Prepare concise dataset of travelers\n",
    "\n",
    "travelers = np.array([[1, 2, 4, 3],\n",
    "                      [1, 1, 2, 4],\n",
    "                      [3, 5, 2, 2],\n",
    "                      [3, 4, 2, 3],\n",
    "                      [3, 3, 0, 4],\n",
    "                      [3, 3, 1, 4]])\n",
    "\n",
    "# Data of a target user\n",
    "target = np.array([1, 0, 0, 0])"
   ]
  },
  {
   "cell_type": "code",
   "execution_count": 3,
   "metadata": {
    "ExecuteTime": {
     "end_time": "2019-04-16T04:14:06.977322Z",
     "start_time": "2019-04-16T04:14:06.972336Z"
    }
   },
   "outputs": [],
   "source": [
    "# Create a dataframe\n",
    "\n",
    "columns = [\"Hawaii\", \"Guam\", \"London\", \"NewYork\"]\n",
    "\n",
    "df = pd.DataFrame(travelers, columns=columns)"
   ]
  },
  {
   "cell_type": "code",
   "execution_count": 4,
   "metadata": {
    "ExecuteTime": {
     "end_time": "2019-04-16T04:14:07.005462Z",
     "start_time": "2019-04-16T04:14:06.980566Z"
    }
   },
   "outputs": [
    {
     "data": {
      "text/html": [
       "<div>\n",
       "<style scoped>\n",
       "    .dataframe tbody tr th:only-of-type {\n",
       "        vertical-align: middle;\n",
       "    }\n",
       "\n",
       "    .dataframe tbody tr th {\n",
       "        vertical-align: top;\n",
       "    }\n",
       "\n",
       "    .dataframe thead th {\n",
       "        text-align: right;\n",
       "    }\n",
       "</style>\n",
       "<table border=\"1\" class=\"dataframe\">\n",
       "  <thead>\n",
       "    <tr style=\"text-align: right;\">\n",
       "      <th></th>\n",
       "      <th>Hawaii</th>\n",
       "      <th>Guam</th>\n",
       "      <th>London</th>\n",
       "      <th>NewYork</th>\n",
       "    </tr>\n",
       "  </thead>\n",
       "  <tbody>\n",
       "    <tr>\n",
       "      <th>0</th>\n",
       "      <td>1</td>\n",
       "      <td>2</td>\n",
       "      <td>4</td>\n",
       "      <td>3</td>\n",
       "    </tr>\n",
       "    <tr>\n",
       "      <th>1</th>\n",
       "      <td>1</td>\n",
       "      <td>1</td>\n",
       "      <td>2</td>\n",
       "      <td>4</td>\n",
       "    </tr>\n",
       "    <tr>\n",
       "      <th>2</th>\n",
       "      <td>3</td>\n",
       "      <td>5</td>\n",
       "      <td>2</td>\n",
       "      <td>2</td>\n",
       "    </tr>\n",
       "    <tr>\n",
       "      <th>3</th>\n",
       "      <td>3</td>\n",
       "      <td>4</td>\n",
       "      <td>2</td>\n",
       "      <td>3</td>\n",
       "    </tr>\n",
       "    <tr>\n",
       "      <th>4</th>\n",
       "      <td>3</td>\n",
       "      <td>3</td>\n",
       "      <td>0</td>\n",
       "      <td>4</td>\n",
       "    </tr>\n",
       "    <tr>\n",
       "      <th>5</th>\n",
       "      <td>3</td>\n",
       "      <td>3</td>\n",
       "      <td>1</td>\n",
       "      <td>4</td>\n",
       "    </tr>\n",
       "  </tbody>\n",
       "</table>\n",
       "</div>"
      ],
      "text/plain": [
       "   Hawaii  Guam  London  NewYork\n",
       "0       1     2       4        3\n",
       "1       1     1       2        4\n",
       "2       3     5       2        2\n",
       "3       3     4       2        3\n",
       "4       3     3       0        4\n",
       "5       3     3       1        4"
      ]
     },
     "execution_count": 4,
     "metadata": {},
     "output_type": "execute_result"
    }
   ],
   "source": [
    "# Check\n",
    "\n",
    "df"
   ]
  },
  {
   "cell_type": "markdown",
   "metadata": {},
   "source": [
    "### Similarity Matrix between Items"
   ]
  },
  {
   "cell_type": "code",
   "execution_count": 5,
   "metadata": {
    "ExecuteTime": {
     "end_time": "2019-04-16T04:14:07.014605Z",
     "start_time": "2019-04-16T04:14:07.009775Z"
    }
   },
   "outputs": [],
   "source": [
    "# Define of cosine similarity\n",
    "\n",
    "\n",
    "def cos_sim(v1, v2):\n",
    "    return np.dot(v1, v2) / (np.linalg.norm(v1) * np.linalg.norm(v2))"
   ]
  },
  {
   "cell_type": "code",
   "execution_count": 6,
   "metadata": {
    "ExecuteTime": {
     "end_time": "2019-04-16T04:14:07.024401Z",
     "start_time": "2019-04-16T04:14:07.017965Z"
    }
   },
   "outputs": [],
   "source": [
    "# Create lists of each country\n",
    "\n",
    "countries_list = []\n",
    "for i, name in enumerate(columns):\n",
    "    name = []\n",
    "    for j in range(len(travelers)):\n",
    "        name.append(travelers[j][i])\n",
    "    countries_list.append(name)\n",
    "\n",
    "coutries_array = np.array(countries_list)"
   ]
  },
  {
   "cell_type": "code",
   "execution_count": 7,
   "metadata": {
    "ExecuteTime": {
     "end_time": "2019-04-16T04:14:07.034423Z",
     "start_time": "2019-04-16T04:14:07.027747Z"
    }
   },
   "outputs": [
    {
     "data": {
      "text/plain": [
       "array([[1, 1, 3, 3, 3, 3],\n",
       "       [2, 1, 5, 4, 3, 3],\n",
       "       [4, 2, 2, 2, 0, 1],\n",
       "       [3, 4, 2, 3, 4, 4]])"
      ]
     },
     "execution_count": 7,
     "metadata": {},
     "output_type": "execute_result"
    }
   ],
   "source": [
    "# Check\n",
    "\n",
    "coutries_array"
   ]
  },
  {
   "cell_type": "code",
   "execution_count": 8,
   "metadata": {
    "ExecuteTime": {
     "end_time": "2019-04-16T04:14:07.044553Z",
     "start_time": "2019-04-16T04:14:07.036871Z"
    }
   },
   "outputs": [],
   "source": [
    "# Compute cosine similarities\n",
    "\n",
    "cos_sim_list = []\n",
    "for i in range(len(coutries_array)):\n",
    "    temporary_list = []\n",
    "    for j in range(len(coutries_array)):\n",
    "        temporary_list.append(cos_sim(coutries_array[i], coutries_array[j]))\n",
    "    cos_sim_list.append(temporary_list)\n",
    "\n",
    "cos_sim_array = np.array(cos_sim_list)"
   ]
  },
  {
   "cell_type": "code",
   "execution_count": 9,
   "metadata": {
    "ExecuteTime": {
     "end_time": "2019-04-16T04:14:07.051858Z",
     "start_time": "2019-04-16T04:14:07.046432Z"
    }
   },
   "outputs": [
    {
     "data": {
      "text/plain": [
       "array([[1.        , 0.97332853, 0.63259899, 0.89190174],\n",
       "       [0.97332853, 1.        , 0.71956944, 0.83666003],\n",
       "       [0.63259899, 0.71956944, 1.        , 0.75462449],\n",
       "       [0.89190174, 0.83666003, 0.75462449, 1.        ]])"
      ]
     },
     "execution_count": 9,
     "metadata": {},
     "output_type": "execute_result"
    }
   ],
   "source": [
    "# Check\n",
    "\n",
    "cos_sim_array"
   ]
  },
  {
   "cell_type": "code",
   "execution_count": 10,
   "metadata": {
    "ExecuteTime": {
     "end_time": "2019-04-16T04:14:07.059705Z",
     "start_time": "2019-04-16T04:14:07.054923Z"
    }
   },
   "outputs": [],
   "source": [
    "# Create a dataframe\n",
    "\n",
    "df_sim_matrix = pd.DataFrame(cos_sim_array, index=columns, columns=columns)"
   ]
  },
  {
   "cell_type": "code",
   "execution_count": 11,
   "metadata": {
    "ExecuteTime": {
     "end_time": "2019-04-16T04:14:07.079382Z",
     "start_time": "2019-04-16T04:14:07.063789Z"
    }
   },
   "outputs": [
    {
     "data": {
      "text/html": [
       "<div>\n",
       "<style scoped>\n",
       "    .dataframe tbody tr th:only-of-type {\n",
       "        vertical-align: middle;\n",
       "    }\n",
       "\n",
       "    .dataframe tbody tr th {\n",
       "        vertical-align: top;\n",
       "    }\n",
       "\n",
       "    .dataframe thead th {\n",
       "        text-align: right;\n",
       "    }\n",
       "</style>\n",
       "<table border=\"1\" class=\"dataframe\">\n",
       "  <thead>\n",
       "    <tr style=\"text-align: right;\">\n",
       "      <th></th>\n",
       "      <th>Hawaii</th>\n",
       "      <th>Guam</th>\n",
       "      <th>London</th>\n",
       "      <th>NewYork</th>\n",
       "    </tr>\n",
       "  </thead>\n",
       "  <tbody>\n",
       "    <tr>\n",
       "      <th>Hawaii</th>\n",
       "      <td>1.000000</td>\n",
       "      <td>0.973329</td>\n",
       "      <td>0.632599</td>\n",
       "      <td>0.891902</td>\n",
       "    </tr>\n",
       "    <tr>\n",
       "      <th>Guam</th>\n",
       "      <td>0.973329</td>\n",
       "      <td>1.000000</td>\n",
       "      <td>0.719569</td>\n",
       "      <td>0.836660</td>\n",
       "    </tr>\n",
       "    <tr>\n",
       "      <th>London</th>\n",
       "      <td>0.632599</td>\n",
       "      <td>0.719569</td>\n",
       "      <td>1.000000</td>\n",
       "      <td>0.754624</td>\n",
       "    </tr>\n",
       "    <tr>\n",
       "      <th>NewYork</th>\n",
       "      <td>0.891902</td>\n",
       "      <td>0.836660</td>\n",
       "      <td>0.754624</td>\n",
       "      <td>1.000000</td>\n",
       "    </tr>\n",
       "  </tbody>\n",
       "</table>\n",
       "</div>"
      ],
      "text/plain": [
       "           Hawaii      Guam    London   NewYork\n",
       "Hawaii   1.000000  0.973329  0.632599  0.891902\n",
       "Guam     0.973329  1.000000  0.719569  0.836660\n",
       "London   0.632599  0.719569  1.000000  0.754624\n",
       "NewYork  0.891902  0.836660  0.754624  1.000000"
      ]
     },
     "execution_count": 11,
     "metadata": {},
     "output_type": "execute_result"
    }
   ],
   "source": [
    "# Check\n",
    "\n",
    "df_sim_matrix"
   ]
  },
  {
   "cell_type": "markdown",
   "metadata": {},
   "source": [
    "### Recommend by Inner Products of User's Vector and Similarity Matrix"
   ]
  },
  {
   "cell_type": "code",
   "execution_count": 12,
   "metadata": {
    "ExecuteTime": {
     "end_time": "2019-04-16T04:14:07.091002Z",
     "start_time": "2019-04-16T04:14:07.085054Z"
    }
   },
   "outputs": [],
   "source": [
    "# Compute inner products\n",
    "\n",
    "inner_products = np.dot(cos_sim_array, target)"
   ]
  },
  {
   "cell_type": "code",
   "execution_count": 13,
   "metadata": {
    "ExecuteTime": {
     "end_time": "2019-04-16T04:14:07.104073Z",
     "start_time": "2019-04-16T04:14:07.095333Z"
    }
   },
   "outputs": [
    {
     "data": {
      "text/plain": [
       "array([1.        , 0.97332853, 0.63259899, 0.89190174])"
      ]
     },
     "execution_count": 13,
     "metadata": {},
     "output_type": "execute_result"
    }
   ],
   "source": [
    "# Check\n",
    "\n",
    "inner_products"
   ]
  },
  {
   "cell_type": "code",
   "execution_count": 14,
   "metadata": {
    "ExecuteTime": {
     "end_time": "2019-04-16T04:14:07.118935Z",
     "start_time": "2019-04-16T04:14:07.108869Z"
    }
   },
   "outputs": [
    {
     "data": {
      "text/plain": [
       "'Guam'"
      ]
     },
     "execution_count": 14,
     "metadata": {},
     "output_type": "execute_result"
    }
   ],
   "source": [
    "# Output the recommendation\n",
    "\n",
    "# Change 1 to -1\n",
    "new_inner_products = np.where(\n",
    "    inner_products == np.amax(inner_products), -1, inner_products)\n",
    "\n",
    "# Get an index of max values\n",
    "index = np.argmax(new_inner_products)\n",
    "\n",
    "# Output\n",
    "columns[index]"
   ]
  },
  {
   "cell_type": "markdown",
   "metadata": {},
   "source": [
    "    - I recommend Guam as next destination to the target user by the above result."
   ]
  },
  {
   "cell_type": "markdown",
   "metadata": {},
   "source": [
    "## [Task 2] User-Based\n",
    "\n",
    "<br />\n",
    "\n",
    "I am going to recommend a book to the following user1 by the following data."
   ]
  },
  {
   "cell_type": "code",
   "execution_count": 17,
   "metadata": {
    "ExecuteTime": {
     "end_time": "2019-04-16T04:35:49.771948Z",
     "start_time": "2019-04-16T04:35:49.766364Z"
    }
   },
   "outputs": [],
   "source": [
    "# Prepare concise dataset of consumers who bought books\n",
    "\n",
    "readers = np.array([[2, 2, 4, np.nan, np.nan],\n",
    "                    [1, 1, 2, 4, 3],\n",
    "                    [0, 5, 2, 2, 5],\n",
    "                    [2, 4, 2, 3, 4],\n",
    "                    [1, 3, 0, 4, 1]])"
   ]
  },
  {
   "cell_type": "code",
   "execution_count": 23,
   "metadata": {
    "ExecuteTime": {
     "end_time": "2019-04-16T04:56:20.726145Z",
     "start_time": "2019-04-16T04:56:20.719762Z"
    }
   },
   "outputs": [],
   "source": [
    "# Create a dataframe\n",
    "\n",
    "columns2 = [\"ゼロから作るDeepLearning\", \"Python機械学習プログラミング\",\n",
    "            \"ゼロから作るDeepLearning-自然言語処理編-\", \"はじめてのパターン認識\", \"これからの強化学習\"]\n",
    "\n",
    "rows = [\"user1\", \"user2\", \"user3\", \"user4\", \"user5\"]\n",
    "\n",
    "df2 = pd.DataFrame(readers, index=rows, columns=columns2)"
   ]
  },
  {
   "cell_type": "code",
   "execution_count": 24,
   "metadata": {
    "ExecuteTime": {
     "end_time": "2019-04-16T04:56:21.549266Z",
     "start_time": "2019-04-16T04:56:21.533807Z"
    }
   },
   "outputs": [
    {
     "data": {
      "text/html": [
       "<div>\n",
       "<style scoped>\n",
       "    .dataframe tbody tr th:only-of-type {\n",
       "        vertical-align: middle;\n",
       "    }\n",
       "\n",
       "    .dataframe tbody tr th {\n",
       "        vertical-align: top;\n",
       "    }\n",
       "\n",
       "    .dataframe thead th {\n",
       "        text-align: right;\n",
       "    }\n",
       "</style>\n",
       "<table border=\"1\" class=\"dataframe\">\n",
       "  <thead>\n",
       "    <tr style=\"text-align: right;\">\n",
       "      <th></th>\n",
       "      <th>ゼロから作るDeepLearning</th>\n",
       "      <th>Python機械学習プログラミング</th>\n",
       "      <th>ゼロから作るDeepLearning-自然言語処理編-</th>\n",
       "      <th>はじめてのパターン認識</th>\n",
       "      <th>これからの強化学習</th>\n",
       "    </tr>\n",
       "  </thead>\n",
       "  <tbody>\n",
       "    <tr>\n",
       "      <th>user1</th>\n",
       "      <td>2.0</td>\n",
       "      <td>2.0</td>\n",
       "      <td>4.0</td>\n",
       "      <td>NaN</td>\n",
       "      <td>NaN</td>\n",
       "    </tr>\n",
       "    <tr>\n",
       "      <th>user2</th>\n",
       "      <td>1.0</td>\n",
       "      <td>1.0</td>\n",
       "      <td>2.0</td>\n",
       "      <td>4.0</td>\n",
       "      <td>3.0</td>\n",
       "    </tr>\n",
       "    <tr>\n",
       "      <th>user3</th>\n",
       "      <td>0.0</td>\n",
       "      <td>5.0</td>\n",
       "      <td>2.0</td>\n",
       "      <td>2.0</td>\n",
       "      <td>5.0</td>\n",
       "    </tr>\n",
       "    <tr>\n",
       "      <th>user4</th>\n",
       "      <td>2.0</td>\n",
       "      <td>4.0</td>\n",
       "      <td>2.0</td>\n",
       "      <td>3.0</td>\n",
       "      <td>4.0</td>\n",
       "    </tr>\n",
       "    <tr>\n",
       "      <th>user5</th>\n",
       "      <td>1.0</td>\n",
       "      <td>3.0</td>\n",
       "      <td>0.0</td>\n",
       "      <td>4.0</td>\n",
       "      <td>1.0</td>\n",
       "    </tr>\n",
       "  </tbody>\n",
       "</table>\n",
       "</div>"
      ],
      "text/plain": [
       "       ゼロから作るDeepLearning  Python機械学習プログラミング  ゼロから作るDeepLearning-自然言語処理編-  \\\n",
       "user1                 2.0                2.0                          4.0   \n",
       "user2                 1.0                1.0                          2.0   \n",
       "user3                 0.0                5.0                          2.0   \n",
       "user4                 2.0                4.0                          2.0   \n",
       "user5                 1.0                3.0                          0.0   \n",
       "\n",
       "       はじめてのパターン認識  これからの強化学習  \n",
       "user1          NaN        NaN  \n",
       "user2          4.0        3.0  \n",
       "user3          2.0        5.0  \n",
       "user4          3.0        4.0  \n",
       "user5          4.0        1.0  "
      ]
     },
     "execution_count": 24,
     "metadata": {},
     "output_type": "execute_result"
    }
   ],
   "source": [
    "# Check\n",
    "\n",
    "df2"
   ]
  },
  {
   "cell_type": "markdown",
   "metadata": {},
   "source": [
    "### Correlation Matrix per Each User"
   ]
  },
  {
   "cell_type": "code",
   "execution_count": 27,
   "metadata": {
    "ExecuteTime": {
     "end_time": "2019-04-16T05:00:46.689524Z",
     "start_time": "2019-04-16T05:00:46.683686Z"
    }
   },
   "outputs": [],
   "source": [
    "# Recreate the dataframe for users\n",
    "\n",
    "df2_users = pd.DataFrame(readers, index=columns2, columns=rows)"
   ]
  },
  {
   "cell_type": "code",
   "execution_count": 30,
   "metadata": {
    "ExecuteTime": {
     "end_time": "2019-04-16T05:01:10.120676Z",
     "start_time": "2019-04-16T05:01:10.105366Z"
    }
   },
   "outputs": [
    {
     "data": {
      "text/html": [
       "<div>\n",
       "<style scoped>\n",
       "    .dataframe tbody tr th:only-of-type {\n",
       "        vertical-align: middle;\n",
       "    }\n",
       "\n",
       "    .dataframe tbody tr th {\n",
       "        vertical-align: top;\n",
       "    }\n",
       "\n",
       "    .dataframe thead th {\n",
       "        text-align: right;\n",
       "    }\n",
       "</style>\n",
       "<table border=\"1\" class=\"dataframe\">\n",
       "  <thead>\n",
       "    <tr style=\"text-align: right;\">\n",
       "      <th></th>\n",
       "      <th>user1</th>\n",
       "      <th>user2</th>\n",
       "      <th>user3</th>\n",
       "      <th>user4</th>\n",
       "      <th>user5</th>\n",
       "    </tr>\n",
       "  </thead>\n",
       "  <tbody>\n",
       "    <tr>\n",
       "      <th>ゼロから作るDeepLearning</th>\n",
       "      <td>2.0</td>\n",
       "      <td>2.0</td>\n",
       "      <td>4.0</td>\n",
       "      <td>NaN</td>\n",
       "      <td>NaN</td>\n",
       "    </tr>\n",
       "    <tr>\n",
       "      <th>Python機械学習プログラミング</th>\n",
       "      <td>1.0</td>\n",
       "      <td>1.0</td>\n",
       "      <td>2.0</td>\n",
       "      <td>4.0</td>\n",
       "      <td>3.0</td>\n",
       "    </tr>\n",
       "    <tr>\n",
       "      <th>ゼロから作るDeepLearning-自然言語処理編-</th>\n",
       "      <td>0.0</td>\n",
       "      <td>5.0</td>\n",
       "      <td>2.0</td>\n",
       "      <td>2.0</td>\n",
       "      <td>5.0</td>\n",
       "    </tr>\n",
       "    <tr>\n",
       "      <th>はじめてのパターン認識</th>\n",
       "      <td>2.0</td>\n",
       "      <td>4.0</td>\n",
       "      <td>2.0</td>\n",
       "      <td>3.0</td>\n",
       "      <td>4.0</td>\n",
       "    </tr>\n",
       "    <tr>\n",
       "      <th>これからの強化学習</th>\n",
       "      <td>1.0</td>\n",
       "      <td>3.0</td>\n",
       "      <td>0.0</td>\n",
       "      <td>4.0</td>\n",
       "      <td>1.0</td>\n",
       "    </tr>\n",
       "  </tbody>\n",
       "</table>\n",
       "</div>"
      ],
      "text/plain": [
       "                             user1  user2  user3  user4  user5\n",
       "ゼロから作るDeepLearning             2.0    2.0    4.0    NaN    NaN\n",
       "Python機械学習プログラミング              1.0    1.0    2.0    4.0    3.0\n",
       "ゼロから作るDeepLearning-自然言語処理編-    0.0    5.0    2.0    2.0    5.0\n",
       "はじめてのパターン認識                    2.0    4.0    2.0    3.0    4.0\n",
       "これからの強化学習                      1.0    3.0    0.0    4.0    1.0"
      ]
     },
     "execution_count": 30,
     "metadata": {},
     "output_type": "execute_result"
    }
   ],
   "source": [
    "# Check\n",
    "\n",
    "df2_users"
   ]
  },
  {
   "cell_type": "code",
   "execution_count": 31,
   "metadata": {
    "ExecuteTime": {
     "end_time": "2019-04-16T05:01:46.012768Z",
     "start_time": "2019-04-16T05:01:46.008035Z"
    }
   },
   "outputs": [],
   "source": [
    "# Correlation matrix\n",
    "\n",
    "df_corr = df2_users.corr(method='pearson')"
   ]
  },
  {
   "cell_type": "code",
   "execution_count": 32,
   "metadata": {
    "ExecuteTime": {
     "end_time": "2019-04-16T05:01:48.737165Z",
     "start_time": "2019-04-16T05:01:48.723435Z"
    }
   },
   "outputs": [
    {
     "data": {
      "text/html": [
       "<div>\n",
       "<style scoped>\n",
       "    .dataframe tbody tr th:only-of-type {\n",
       "        vertical-align: middle;\n",
       "    }\n",
       "\n",
       "    .dataframe tbody tr th {\n",
       "        vertical-align: top;\n",
       "    }\n",
       "\n",
       "    .dataframe thead th {\n",
       "        text-align: right;\n",
       "    }\n",
       "</style>\n",
       "<table border=\"1\" class=\"dataframe\">\n",
       "  <thead>\n",
       "    <tr style=\"text-align: right;\">\n",
       "      <th></th>\n",
       "      <th>user1</th>\n",
       "      <th>user2</th>\n",
       "      <th>user3</th>\n",
       "      <th>user4</th>\n",
       "      <th>user5</th>\n",
       "    </tr>\n",
       "  </thead>\n",
       "  <tbody>\n",
       "    <tr>\n",
       "      <th>user1</th>\n",
       "      <td>1.000000</td>\n",
       "      <td>-0.377964</td>\n",
       "      <td>0.422577</td>\n",
       "      <td>0.426401</td>\n",
       "      <td>-0.239046</td>\n",
       "    </tr>\n",
       "    <tr>\n",
       "      <th>user2</th>\n",
       "      <td>-0.377964</td>\n",
       "      <td>1.000000</td>\n",
       "      <td>-0.223607</td>\n",
       "      <td>-0.866400</td>\n",
       "      <td>0.542857</td>\n",
       "    </tr>\n",
       "    <tr>\n",
       "      <th>user3</th>\n",
       "      <td>0.422577</td>\n",
       "      <td>-0.223607</td>\n",
       "      <td>1.000000</td>\n",
       "      <td>-0.522233</td>\n",
       "      <td>0.878310</td>\n",
       "    </tr>\n",
       "    <tr>\n",
       "      <th>user4</th>\n",
       "      <td>0.426401</td>\n",
       "      <td>-0.866400</td>\n",
       "      <td>-0.522233</td>\n",
       "      <td>1.000000</td>\n",
       "      <td>-0.866400</td>\n",
       "    </tr>\n",
       "    <tr>\n",
       "      <th>user5</th>\n",
       "      <td>-0.239046</td>\n",
       "      <td>0.542857</td>\n",
       "      <td>0.878310</td>\n",
       "      <td>-0.866400</td>\n",
       "      <td>1.000000</td>\n",
       "    </tr>\n",
       "  </tbody>\n",
       "</table>\n",
       "</div>"
      ],
      "text/plain": [
       "          user1     user2     user3     user4     user5\n",
       "user1  1.000000 -0.377964  0.422577  0.426401 -0.239046\n",
       "user2 -0.377964  1.000000 -0.223607 -0.866400  0.542857\n",
       "user3  0.422577 -0.223607  1.000000 -0.522233  0.878310\n",
       "user4  0.426401 -0.866400 -0.522233  1.000000 -0.866400\n",
       "user5 -0.239046  0.542857  0.878310 -0.866400  1.000000"
      ]
     },
     "execution_count": 32,
     "metadata": {},
     "output_type": "execute_result"
    }
   ],
   "source": [
    "# Check\n",
    "\n",
    "df_corr"
   ]
  },
  {
   "cell_type": "code",
   "execution_count": 34,
   "metadata": {
    "ExecuteTime": {
     "end_time": "2019-04-16T05:05:24.490681Z",
     "start_time": "2019-04-16T05:05:24.219568Z"
    }
   },
   "outputs": [
    {
     "data": {
      "image/png": "[encoded data removed]",
      "text/plain": [
       "<Figure size 432x288 with 2 Axes>"
      ]
     },
     "metadata": {
      "needs_background": "light"
     },
     "output_type": "display_data"
    }
   ],
   "source": [
    "# Display the heatmap\n",
    "\n",
    "plt.figure()\n",
    "sns.heatmap(df_corr, annot=True, square=True)\n",
    "\n",
    "plt.show()"
   ]
  },
  {
   "cell_type": "markdown",
   "metadata": {},
   "source": [
    "    - I recommend products that the user4 bought to the user1 by the above result."
   ]
  },
  {
   "cell_type": "code",
   "execution_count": null,
   "metadata": {},
   "outputs": [],
   "source": []
  }
 ],
 "metadata": {
  "kernelspec": {
   "display_name": "Python 3",
   "language": "python",
   "name": "python3"
  },
  "language_info": {
   "codemirror_mode": {
    "name": "ipython",
    "version": 3
   },
   "file_extension": ".py",
   "mimetype": "text/x-python",
   "name": "python",
   "nbconvert_exporter": "python",
   "pygments_lexer": "ipython3",
   "version": "3.6.8"
  },
  "toc": {
   "base_numbering": 1,
   "nav_menu": {},
   "number_sections": true,
   "sideBar": true,
   "skip_h1_title": false,
   "title_cell": "Table of Contents",
   "title_sidebar": "Contents",
   "toc_cell": false,
   "toc_position": {},
   "toc_section_display": true,
   "toc_window_display": false
  },
  "varInspector": {
   "cols": {
    "lenName": 16,
    "lenType": 16,
    "lenVar": 40
   },
   "kernels_config": {
    "python": {
     "delete_cmd_postfix": "",
     "delete_cmd_prefix": "del ",
     "library": "var_list.py",
     "varRefreshCmd": "print(var_dic_list())"
    },
    "r": {
     "delete_cmd_postfix": ") ",
     "delete_cmd_prefix": "rm(",
     "library": "var_list.r",
     "varRefreshCmd": "cat(var_dic_list()) "
    }
   },
   "types_to_exclude": [
    "module",
    "function",
    "builtin_function_or_method",
    "instance",
    "_Feature"
   ],
   "window_display": false
  }
 },
 "nbformat": 4,
 "nbformat_minor": 2
}
