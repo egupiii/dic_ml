{
 "cells": [
  {
   "cell_type": "markdown",
   "metadata": {},
   "source": [
    "# Implementation from Scratch\n",
    "\n",
    "<br />\n",
    "\n",
    "I am going to implement algorithms by using the least kinds of libraries such as Numpy possible.\n",
    "\n",
    "\n",
    "Decision tree can be used as both classification and regression. However, I will only implement classification one this time."
   ]
  },
  {
   "cell_type": "markdown",
   "metadata": {},
   "source": [
    "## [Task 1] Create a Definition to Compute Gini Impurity\n",
    "\n",
    "<br />\n",
    "\n",
    "I create a definition to compute Gini impurity that is an index value to split space.\n",
    "\n",
    "Gini impurity $I(t)$ against node $t$ can be computed by the following equation.\n",
    "\n",
    "$$\n",
    "I(t) = 1-\\sum_{i=1}^{K}P^2(C_i|t) = 1-\\sum_{i=1}^{K}(\\frac{N_{t,i}}{N_{t,all}})^{2}\n",
    "$$\n",
    "\n",
    "$t$: index of a node\n",
    "\n",
    "$i$: index of a class\n",
    "\n",
    "$K$: the number of classes\n",
    "\n",
    "$C_i$: ith class\n",
    "\n",
    "$P(C_i|t)$: ratio of $C_i$ in terms of $t$th node\n",
    "\n",
    "$N_{t,i}$: the number of samples coming into $i$th class in terms of $t$th node\n",
    "\n",
    "$N_{t,all}$: total number of samples in terms of $t$th node"
   ]
  },
  {
   "cell_type": "markdown",
   "metadata": {},
   "source": [
    "## [Task 2] Create a Definition to Compute Information Gain\n",
    "\n",
    "<br />\n",
    "\n",
    "I am going to create a definition to compute information gains. When using the definition, I import the definition to compute Gini impurity. \n",
    "\n",
    "$$\n",
    "IG(p) = I(p)-\\frac{N_{left,all}}{N_{p,all}}I(left)-\\frac{N_{right,all}}{N_{p,all}}I(right)\n",
    "$$\n",
    "\n",
    "$p$: index of a parent node\n",
    "\n",
    "$left$: index of a node located on the left side of the decition tree\n",
    "\n",
    "$right$: index of a node located on the right side of the decition tree"
   ]
  },
  {
   "cell_type": "markdown",
   "metadata": {},
   "source": [
    "## [Task 3] Create a Class of Decision Tree Classifier whose depth is 1.\n",
    "\n",
    "<br />\n",
    "\n",
    "I am going to create a class of decision tree classifier whose depth is 1.\n",
    "\n",
    "<br />\n",
    "\n",
    "#### <u>Algorithms of Decision Tree</u>\n",
    "\n",
    "\n",
    "- I will focus on any feature, think of all the patterns of thresholds and compute each information gain. The method of letting each value a threshold is general. Indeed, the number of thresholds is one less than the number of samples. Then, I will choose the most biggest information gain among all kinds of the splits as the method of splitting the node.\n",
    "\n",
    "\n",
    "- A node whose gini impurity is 0, or a node whose depth is designated is named leaf. I am going to record what class the leaf is classified when the prediction. In a case that gini impurity is not 0, I will decide a class to classify the node by majority vote."
   ]
  },
  {
   "cell_type": "code",
   "execution_count": 45,
   "metadata": {},
   "outputs": [],
   "source": [
    "import numpy as np\n",
    "import matplotlib.pyplot as plt\n",
    "from matplotlib.colors import ListedColormap\n",
    "import matplotlib.patches as mpatches\n",
    "from sklearn.model_selection import train_test_split\n",
    "from sklearn.metrics import accuracy_score\n",
    "from sklearn.metrics import precision_score\n",
    "from sklearn.metrics import recall_score\n",
    "from sklearn.metrics import f1_score\n",
    "from sklearn.metrics import confusion_matrix"
   ]
  },
  {
   "cell_type": "code",
   "execution_count": 39,
   "metadata": {},
   "outputs": [],
   "source": [
    "# Create a class of decision tree from scratch\n",
    "\n",
    "class ScratchDecisionTreeClassifier():\n",
    "    \"\"\"\n",
    "    Implement decision tree from scratch.\n",
    "    \n",
    "    Attributes\n",
    "    ----------\n",
    "    self.threshold: float\n",
    "        thresholds\n",
    "    \n",
    "    self.left_label: int\n",
    "        label of a left tree\n",
    "    \n",
    "    self.right_label: int\n",
    "        label of a right tree\n",
    "    \"\"\"\n",
    "    \n",
    "    def fit(self, X, y, X_val=None, y_val=None):\n",
    "        \"\"\"\n",
    "        Fit datasets by decision tree.\n",
    "        \n",
    "        Parameters\n",
    "        ----------\n",
    "        X: ndarray whose shape is (n_samples,n_features)\n",
    "            Features of train dataset\n",
    "        \n",
    "        y: ndarray whose shape is (n_samples,)\n",
    "            Correct values of train dataset\n",
    "        \n",
    "        X_val: ndarray whose shape is (n_samples,n_features)\n",
    "            Features of validation dataset\n",
    "        \n",
    "        y_val: ndarray whose shape is (n_samples,)\n",
    "            Correct values of validation dataset\n",
    "        \"\"\"\n",
    "        \n",
    "        # Transform arrays to move their features to rows\n",
    "        X = X.T\n",
    "        if (X_val is not None) and (y_val is not None):\n",
    "            X_val = X_val.T\n",
    "        \n",
    "        # Decide a threshold\n",
    "        self.threshold = self._best_threshold(X, y)\n",
    "#         print(\"self.threshold\",self.threshold)\n",
    "    \n",
    "    \n",
    "    def predict(self, X):\n",
    "        \"\"\"\n",
    "        Prediction\n",
    "        \n",
    "        Parameters\n",
    "        ----------\n",
    "        X: ndarray whose shape is (n_samples,n_features)\n",
    "            Samples\n",
    "        \n",
    "        \n",
    "        Returns\n",
    "        ----------\n",
    "        ndarray whose shape is (n_samples,1)\n",
    "            Results of the prediction\n",
    "        \"\"\"\n",
    "        \n",
    "        # Transform arrays to move their features to rows\n",
    "        X = X.T\n",
    "        \n",
    "#         print(\"self.threshold\",self.threshold)\n",
    "        \n",
    "        # Label\n",
    "        y_pred = []\n",
    "        for x in X[1]:\n",
    "            if x >= self.threshold:\n",
    "                y_pred.append(self.left_label)\n",
    "            else:\n",
    "                y_pred.append(self.right_label)\n",
    "        \n",
    "        # Return the prediction\n",
    "        return y_pred\n",
    "    \n",
    "    \n",
    "    # Create a definition to compute a Gini impurity\n",
    "    def _gini_impurity(self, m, n):\n",
    "        \"\"\"\n",
    "        Compute Gini impurities.\n",
    "        \n",
    "        Parameters\n",
    "        ----------\n",
    "        m: int\n",
    "            The number of samples\n",
    "        \n",
    "        n: int\n",
    "            The number of samples whose class is different with the class that the number of samples is m\n",
    "        \n",
    "        Returns\n",
    "        ----------\n",
    "        float\n",
    "            Gini impurity\n",
    "        \"\"\"\n",
    "        \n",
    "        # Compute a Gini impurity\n",
    "        return 1-((m/(m+n))**2 + (n/(m+n))**2)\n",
    "    \n",
    "    \n",
    "    def _information_gain(self, m, n, s, t):\n",
    "        \"\"\"\n",
    "        Compute Gini impurities.\n",
    "        \n",
    "        Parameters\n",
    "        ----------\n",
    "        m: int\n",
    "            The number of samples on left side\n",
    "        \n",
    "        n: int\n",
    "            The number of samples on left side whose class is different with the class that the number of samples is m\n",
    "        \n",
    "        s: int\n",
    "            The number of samples on right side\n",
    "        \n",
    "        t: int\n",
    "            The number of samples on right side whose class is different with the class that the number of samples is s\n",
    "        \n",
    "        Returns\n",
    "        ----------\n",
    "        float\n",
    "            Information gain\n",
    "        \"\"\"\n",
    "        \n",
    "        # Compute Gini impurities\n",
    "        left_gini_impurity = self._gini_impurity(m, n)\n",
    "        right_gini_impurity = self._gini_impurity(s, t)\n",
    "        \n",
    "        # Returns an information gain\n",
    "        return self._gini_impurity(m+n, s+t) - (m+n)/(m+n+s+t)*left_gini_impurity - (s+t)/(m+n+s+t)*right_gini_impurity\n",
    "    \n",
    "    \n",
    "    # Choose the best threshold\n",
    "    def _best_threshold(self, X, y):\n",
    "        # Set a temporary information gain\n",
    "        info_gain = 0\n",
    "        \n",
    "        # Change y to a list\n",
    "        y = y.tolist()\n",
    "#         print(\"y\",y)\n",
    "        \n",
    "        # Loop of features\n",
    "        for f in range(X.shape[0]):\n",
    "            # Delete duplicate values\n",
    "            non_duplicates_array = np.unique(X[f,:])\n",
    "            \n",
    "            # Delete the minimum value of the arrays not containing duplicate values\n",
    "            non_dupli = np.delete(non_duplicates_array, non_duplicates_array.min())\n",
    "#             print(non_dupli.shape)\n",
    "            \n",
    "            # Loop of samples\n",
    "            for s in range(len(non_dupli)):\n",
    "                # Update the threshold\n",
    "                temporary_threshold = non_dupli[s]\n",
    "#                 print(\"temporary_threshold\",temporary_threshold)\n",
    "                \n",
    "                # Change values of y to only 2 kinds of values, 0 and 1\n",
    "                y = [1 if i == max(y) else 0 for i in y]\n",
    "#                 print(\"y\",y)\n",
    "                \n",
    "                # Get indices of the objective variable\n",
    "                index_true_list = [i for i, x in enumerate(y) if x == 1]\n",
    "                index_false_list = [i for i, x in enumerate(y) if x == 0]\n",
    "#                 print(\"index_true\",index_true)\n",
    "                \n",
    "                # Change the lists to arrays\n",
    "                index_true = np.array(index_true_list)\n",
    "                index_false = np.array(index_false_list)\n",
    "\n",
    "                # Count samples whose objective variable is TRUE/FALSE\n",
    "                n_more_true = np.sum(X[f,index_true] >= temporary_threshold)\n",
    "                n_more_false = np.sum(X[f,index_false] >= temporary_threshold)\n",
    "                n_less_true = np.sum(X[f,index_true] < temporary_threshold)\n",
    "                n_less_false = np.sum(X[f,index_false] < temporary_threshold)\n",
    "#                 print(\"n_more_true\",n_more_true)\n",
    "\n",
    "                # Update the information gain and the threshold\n",
    "                if self._information_gain(n_more_true, n_more_false, n_less_true, n_less_false) > info_gain:\n",
    "                    info_gain = self._information_gain(n_more_true, n_more_false, n_less_true, n_less_false)\n",
    "#                     print(\"info_gain\",info_gain)\n",
    "                    self.threshold = temporary_threshold\n",
    "#                     print(\"self.threshold\",self.threshold)\n",
    "        \n",
    "        # Label\n",
    "        if n_more_true >= n_more_false:\n",
    "            left_label = 1\n",
    "        else:\n",
    "            left_label = 0\n",
    "\n",
    "        if n_less_true >= n_less_false:\n",
    "            right_label = 1\n",
    "        else:\n",
    "            right_label = 0\n",
    "        \n",
    "        if left_label == right_label:\n",
    "            self.left_label = 1\n",
    "            self.right_label = 0\n",
    "        else:\n",
    "            self.left_label = left_label\n",
    "            self.right_label = right_label\n",
    "    \n",
    "        return self.threshold\n",
    "    \n",
    "    \n",
    "    # Compute index values\n",
    "    def compute_index_values(self, X, y):\n",
    "        \"\"\"\n",
    "        Compute Index values.\n",
    "        \n",
    "        Parameters\n",
    "        ----------\n",
    "        X: ndarray, shape(n_samples,n_features)\n",
    "            Features of train dataset\n",
    "        \n",
    "        y: ndarray, shape(n_samples,)\n",
    "            Correct values of train dataset\n",
    "        \"\"\"\n",
    "        \n",
    "        y_pred = self.predict(X)\n",
    "#         print(\"compute_index_values-1, y_pred=\", y_pred)\n",
    "#         print(\"compute_index_values-3, y_pred=\", len(y_pred))   # 20\n",
    "        \n",
    "        # Change values of y to only 2 kinds of values, 0 and 1\n",
    "        y = [1 if i == max(y) else 0 for i in y]\n",
    "#         print(\"compute_index_values-2, y=\", y)\n",
    "#         print(\"compute_index_values-4, y=\", len(y))   # 20\n",
    "        \n",
    "        # Return index values\n",
    "        print(\"accuracy score: \", accuracy_score(y, y_pred))\n",
    "        print(\"precision score: \", precision_score(y, y_pred))\n",
    "        print(\"recall score: \", recall_score(y, y_pred))\n",
    "        print(\"f1 score: \", precision_score(y, y_pred))\n",
    "        print(\"confusion matrix:\")\n",
    "        print(confusion_matrix(y, y_pred))\n",
    "    \n",
    "    \n",
    "    def decision_boundary(self, X, y, step=0.01, title=\"Decision Boundary\", xlabel=\"1st Feature\", ylabel=\"2nd Feature\", \n",
    "                        target_names=[\"setosa\", \"virginica\"]):\n",
    "        \"\"\"\n",
    "        Plot a decision boundary of a model fitting binary classification by 2-dimentional features.\n",
    "\n",
    "        Parameters\n",
    "        ----------------\n",
    "        X : ndarray, shape(n_samples, 2)\n",
    "            Features of train dataset\n",
    "        \n",
    "        y : ndarray, shape(n_samples,)\n",
    "            Correct values of train dataset\n",
    "        \n",
    "        step : float, (default : 0.1)\n",
    "            Set intervals to compute the prediction\n",
    "        \n",
    "        title : str\n",
    "            Input the title of the graph\n",
    "        \n",
    "        xlabel, ylabel : str\n",
    "            Input names of each axis\n",
    "        \n",
    "        target_names= : list of str\n",
    "            Input a list of the legends\n",
    "        \"\"\"\n",
    "        \n",
    "        # Setting\n",
    "        scatter_color = [\"r\", \"b\"]\n",
    "        contourf_color = [\"pink\", \"skyblue\"]\n",
    "        n_class = 2\n",
    "\n",
    "        # Predict\n",
    "        mesh_f0, mesh_f1  = np.meshgrid(np.arange(np.min(X[:,0])-0.5, np.max(X[:,0])+0.5, step), \n",
    "                                        np.arange(np.min(X[:,1])-0.5, np.max(X[:,1])+0.5, step))\n",
    "        mesh = np.c_[np.ravel(mesh_f0), np.ravel(mesh_f1)]\n",
    "        pred = np.array(self.predict(mesh)).reshape(mesh_f0.shape)\n",
    "\n",
    "        # Plot\n",
    "        plt.figure(facecolor=\"azure\", edgecolor=\"coral\")\n",
    "        \n",
    "        plt.title(title)\n",
    "        plt.xlabel(xlabel)\n",
    "        plt.ylabel(ylabel)\n",
    "        \n",
    "        plt.contourf(mesh_f0, mesh_f1, pred, n_class-1, cmap=ListedColormap(contourf_color))\n",
    "        plt.contour(mesh_f0, mesh_f1, pred, n_class-1, colors='y', linewidths=3, alpha=0.5)\n",
    "        \n",
    "        for i, target in enumerate(set(y)):\n",
    "            plt.scatter(X[y==target][:,0], X[y==target][:,1], s=80, color=scatter_color[i], label=target_names[i], marker='o')\n",
    "        \n",
    "        patches = [mpatches.Patch(color=scatter_color[i], label=target_names[i]) for i in range(n_class)]\n",
    "        plt.grid()\n",
    "        plt.legend(handles=patches)\n",
    "        plt.legend()\n",
    "        plt.show()"
   ]
  },
  {
   "cell_type": "markdown",
   "metadata": {},
   "source": [
    "### Validate the Class\n",
    "\n",
    "<br />\n",
    "\n",
    "I am going to validate the class by using a simple dataset that I prepare."
   ]
  },
  {
   "cell_type": "code",
   "execution_count": 3,
   "metadata": {},
   "outputs": [],
   "source": [
    "# Prepare a simple dataset\n",
    "\n",
    "X = np.array([[-0.44699 , -2.8073  ],[-1.4621  , -2.4586  ],\n",
    "       [ 0.10645 ,  1.9242  ],[-3.5944  , -4.0112  ],\n",
    "       [-0.9888  ,  4.5718  ],[-3.1625  , -3.9606  ],\n",
    "       [ 0.56421 ,  0.72888 ],[-0.60216 ,  8.4636  ],\n",
    "       [-0.61251 , -0.75345 ],[-0.73535 , -2.2718  ],\n",
    "       [-0.80647 , -2.2135  ],[ 0.86291 ,  2.3946  ],\n",
    "       [-3.1108  ,  0.15394 ],[-2.9362  ,  2.5462  ],\n",
    "       [-0.57242 , -2.9915  ],[ 1.4771  ,  3.4896  ],\n",
    "       [ 0.58619 ,  0.37158 ],[ 0.6017  ,  4.3439  ],\n",
    "       [-2.1086  ,  8.3428  ],[-4.1013  , -4.353   ],\n",
    "       [-1.9948  , -1.3927  ],[ 0.35084 , -0.031994],\n",
    "       [ 0.96765 ,  7.8929  ],[-1.281   , 15.6824  ],\n",
    "       [ 0.96765 , 10.083   ],[ 1.3763  ,  1.3347  ],\n",
    "       [-2.234   , -2.5323  ],[-2.9452  , -1.8219  ],\n",
    "       [ 0.14654 , -0.28733 ],[ 0.5461  ,  5.8245  ],\n",
    "       [-0.65259 ,  9.3444  ],[ 0.59912 ,  5.3524  ],\n",
    "       [ 0.50214 , -0.31818 ],[-3.0603  , -3.6461  ],\n",
    "       [-6.6797  ,  0.67661 ],[-2.353   , -0.72261 ],\n",
    "       [ 1.1319  ,  2.4023  ],[-0.12243 ,  9.0162  ],\n",
    "       [-2.5677  , 13.1779  ],[ 0.057313,  5.4681  ]])\n",
    "\n",
    "y = np.array([0, 0, 0, 0, 0, 0, 0, 0, 0, 0, 0, 0, 0, 0, 0, 0, 0, 0, 0, 0, 1, 1, 1, 1, 1, 1, 1, 1, 1, 1, 1, 1, 1, 1, 1, 1, 1, 1, 1, 1])"
   ]
  },
  {
   "cell_type": "code",
   "execution_count": 4,
   "metadata": {},
   "outputs": [
    {
     "data": {
      "text/plain": [
       "(40, 2)"
      ]
     },
     "execution_count": 4,
     "metadata": {},
     "output_type": "execute_result"
    }
   ],
   "source": [
    "# Check the details\n",
    "\n",
    "X.shape"
   ]
  },
  {
   "cell_type": "code",
   "execution_count": 5,
   "metadata": {},
   "outputs": [
    {
     "data": {
      "text/plain": [
       "array([-0.44699 , -1.4621  ,  0.10645 , -3.5944  , -0.9888  , -3.1625  ,\n",
       "        0.56421 , -0.60216 , -0.61251 , -0.73535 , -0.80647 ,  0.86291 ,\n",
       "       -3.1108  , -2.9362  , -0.57242 ,  1.4771  ,  0.58619 ,  0.6017  ,\n",
       "       -2.1086  , -4.1013  , -1.9948  ,  0.35084 ,  0.96765 , -1.281   ,\n",
       "        0.96765 ,  1.3763  , -2.234   , -2.9452  ,  0.14654 ,  0.5461  ,\n",
       "       -0.65259 ,  0.59912 ,  0.50214 , -3.0603  , -6.6797  , -2.353   ,\n",
       "        1.1319  , -0.12243 , -2.5677  ,  0.057313])"
      ]
     },
     "execution_count": 5,
     "metadata": {},
     "output_type": "execute_result"
    }
   ],
   "source": [
    "X[:,0]"
   ]
  },
  {
   "cell_type": "code",
   "execution_count": 21,
   "metadata": {},
   "outputs": [
    {
     "data": {
      "image/png": "[encoded data removed]",
      "text/plain": [
       "<Figure size 432x288 with 1 Axes>"
      ]
     },
     "metadata": {},
     "output_type": "display_data"
    }
   ],
   "source": [
    "# Plot X\n",
    "\n",
    "plt.figure(facecolor=\"azure\", edgecolor=\"coral\")\n",
    "plt.scatter(X[:,0],X[:,1])\n",
    "plt.title(\"X\")\n",
    "plt.grid()\n",
    "plt.show()"
   ]
  },
  {
   "cell_type": "code",
   "execution_count": 7,
   "metadata": {},
   "outputs": [],
   "source": [
    "# Split the dataset into train and test dtasets\n",
    "\n",
    "X_train, X_test, y_train, y_test = train_test_split(X, y, test_size=0.20, random_state=42)"
   ]
  },
  {
   "cell_type": "code",
   "execution_count": 40,
   "metadata": {},
   "outputs": [],
   "source": [
    "# Initialize\n",
    "\n",
    "dt = ScratchDecisionTreeClassifier()"
   ]
  },
  {
   "cell_type": "code",
   "execution_count": 41,
   "metadata": {
    "scrolled": true
   },
   "outputs": [
    {
     "name": "stderr",
     "output_type": "stream",
     "text": [
      "/Users/kazukiegusa/.pyenv/versions/anaconda3-5.3.0/lib/python3.6/site-packages/ipykernel_launcher.py:151: DeprecationWarning: using a non-integer array as obj in delete will result in an error in the future\n",
      "/Users/kazukiegusa/.pyenv/versions/anaconda3-5.3.0/lib/python3.6/site-packages/ipykernel_launcher.py:151: FutureWarning: in the future negative indices will not be ignored by `numpy.delete`.\n",
      "/Users/kazukiegusa/.pyenv/versions/anaconda3-5.3.0/lib/python3.6/site-packages/ipykernel_launcher.py:101: RuntimeWarning: invalid value encountered in long_scalars\n"
     ]
    }
   ],
   "source": [
    "# Fit\n",
    "\n",
    "dt.fit(X_train,y_train)"
   ]
  },
  {
   "cell_type": "code",
   "execution_count": 42,
   "metadata": {},
   "outputs": [
    {
     "data": {
      "text/plain": [
       "[0, 1, 1, 0, 1, 1, 1, 0]"
      ]
     },
     "execution_count": 42,
     "metadata": {},
     "output_type": "execute_result"
    }
   ],
   "source": [
    "dt.predict(X_test)"
   ]
  },
  {
   "cell_type": "markdown",
   "metadata": {},
   "source": [
    "## [Task 4] Create a Class of Decision Tree Classifier of Depth 2"
   ]
  },
  {
   "cell_type": "markdown",
   "metadata": {},
   "source": [
    "## [Task 5] Create a Class of Decision Tree Classifier of Any Depth"
   ]
  },
  {
   "cell_type": "markdown",
   "metadata": {},
   "source": [
    "# Validation"
   ]
  },
  {
   "cell_type": "markdown",
   "metadata": {},
   "source": [
    "## [Task 6] Compute Index Values"
   ]
  },
  {
   "cell_type": "code",
   "execution_count": 43,
   "metadata": {},
   "outputs": [
    {
     "name": "stdout",
     "output_type": "stream",
     "text": [
      "accuracy score:  0.25\n",
      "precision score:  0.2\n",
      "recall score:  0.3333333333333333\n",
      "f1 score:  0.2\n",
      "confusion matrix:\n",
      "[[1 4]\n",
      " [2 1]]\n"
     ]
    }
   ],
   "source": [
    "dt.compute_index_values(X_test, y_test)"
   ]
  },
  {
   "cell_type": "markdown",
   "metadata": {},
   "source": [
    "## [Task 7] Visualize Decision Boundary"
   ]
  },
  {
   "cell_type": "code",
   "execution_count": 44,
   "metadata": {},
   "outputs": [
    {
     "data": {
      "image/png": "[encoded data removed]",
      "text/plain": [
       "<Figure size 432x288 with 1 Axes>"
      ]
     },
     "metadata": {},
     "output_type": "display_data"
    }
   ],
   "source": [
    "dt.decision_boundary(X_train, y_train)"
   ]
  },
  {
   "cell_type": "markdown",
   "metadata": {},
   "source": [
    "# Discussion"
   ]
  },
  {
   "cell_type": "markdown",
   "metadata": {},
   "source": [
    "## [Task 8] Use Cases of Decision Tree"
   ]
  },
  {
   "cell_type": "markdown",
   "metadata": {},
   "source": [
    "    - It is easier to explain results of decision tree.\n",
    "    \n",
    "    - Decision tree can apply to both of classification and regression.\n",
    "    \n",
    "    - We do not need to do preprocessiong so much."
   ]
  },
  {
   "cell_type": "code",
   "execution_count": null,
   "metadata": {},
   "outputs": [],
   "source": []
  }
 ],
 "metadata": {
  "kernelspec": {
   "display_name": "Python 3",
   "language": "python",
   "name": "python3"
  },
  "language_info": {
   "codemirror_mode": {
    "name": "ipython",
    "version": 3
   },
   "file_extension": ".py",
   "mimetype": "text/x-python",
   "name": "python",
   "nbconvert_exporter": "python",
   "pygments_lexer": "ipython3",
   "version": "3.6.8"
  }
 },
 "nbformat": 4,
 "nbformat_minor": 2
}
