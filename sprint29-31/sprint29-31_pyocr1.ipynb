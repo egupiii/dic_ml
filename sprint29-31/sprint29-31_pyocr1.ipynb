{
 "cells": [
  {
   "cell_type": "markdown",
   "metadata": {},
   "source": [
    "# Extract Character Data from Images by PyOCR\n",
    "\n",
    "<br />\n",
    "\n",
    "- Tesseract OCR\n",
    "\n",
    "\n",
    "    - https://github.com/tesseract-ocr/tesseract\n",
    "\n",
    "\n",
    "- PyOCR\n",
    "\n",
    "\n",
    "    - https://gitlab.gnome.org/World/OpenPaperwork/pyocr"
   ]
  },
  {
   "cell_type": "markdown",
   "metadata": {},
   "source": [
    "## Sample Run"
   ]
  },
  {
   "cell_type": "code",
   "execution_count": 1,
   "metadata": {
    "ExecuteTime": {
     "end_time": "2019-04-12T01:54:56.351388Z",
     "start_time": "2019-04-12T01:54:56.109910Z"
    }
   },
   "outputs": [
    {
     "ename": "ModuleNotFoundError",
     "evalue": "No module named 'pyocr'",
     "output_type": "error",
     "traceback": [
      "\u001b[0;31m---------------------------------------------------------------------------\u001b[0m",
      "\u001b[0;31mModuleNotFoundError\u001b[0m                       Traceback (most recent call last)",
      "\u001b[0;32m<ipython-input-1-031c1303468d>\u001b[0m in \u001b[0;36m<module>\u001b[0;34m\u001b[0m\n\u001b[1;32m      3\u001b[0m \u001b[0;32mimport\u001b[0m \u001b[0msys\u001b[0m\u001b[0;34m\u001b[0m\u001b[0;34m\u001b[0m\u001b[0m\n\u001b[1;32m      4\u001b[0m \u001b[0;34m\u001b[0m\u001b[0m\n\u001b[0;32m----> 5\u001b[0;31m \u001b[0;32mimport\u001b[0m \u001b[0mpyocr\u001b[0m\u001b[0;34m\u001b[0m\u001b[0;34m\u001b[0m\u001b[0m\n\u001b[0m\u001b[1;32m      6\u001b[0m \u001b[0;32mimport\u001b[0m \u001b[0mpyocr\u001b[0m\u001b[0;34m.\u001b[0m\u001b[0mbuilders\u001b[0m\u001b[0;34m\u001b[0m\u001b[0;34m\u001b[0m\u001b[0m\n",
      "\u001b[0;31mModuleNotFoundError\u001b[0m: No module named 'pyocr'"
     ]
    }
   ],
   "source": [
    "from PIL import Image\n",
    "from IPython.display import Image, display_png\n",
    "import sys\n",
    "\n",
    "import pyocr\n",
    "import pyocr.builders"
   ]
  },
  {
   "cell_type": "code",
   "execution_count": null,
   "metadata": {},
   "outputs": [],
   "source": [
    "\n",
    "display_png(Image(png_file))"
   ]
  },
  {
   "cell_type": "code",
   "execution_count": 33,
   "metadata": {
    "ExecuteTime": {
     "end_time": "2019-04-09T09:37:21.728732Z",
     "start_time": "2019-04-09T09:37:20.582208Z"
    }
   },
   "outputs": [
    {
     "name": "stdout",
     "output_type": "stream",
     "text": [
      "動画        ニュース | 経済\n",
      "\n",
      "エンタメ       p スポーッ\n",
      "\n",
      " \n",
      "\n",
      "0時19分更新\n",
      "\n",
      "・日報 問題文書と思わず未報告 回\n",
      "\n",
      "・西部さん自殺ほう助 2人逮捕 回\n",
      "\n",
      "・ AT小型二輪の教習 最短2日に\n",
      "\n",
      "・ 明石大橋20年 岩災無傷の技術 5 6弄)\n",
      "・女性市長 土依あいさつ断られ 回\n",
      "\n",
      "・CC社 買収受け入れの方針回\n",
      "\n",
      "・栄氏が伊調にパワハラ 認定 回\n",
      "\n",
      "・鬼奴あきれ顔 借金激減を訂正\n",
      "\n",
      "もっと見る トピックス一覧\n",
      "\n",
      " \n",
      "\n",
      " \n",
      "\n",
      "4209日ぶり先発\n",
      "\n",
      "4月5日19時15分配信\n",
      "時事通信\n"
     ]
    }
   ],
   "source": [
    "tools = pyocr.get_available_tools()\n",
    "if len(tools) == 0:\n",
    "    print(\"No OCR tool found\")\n",
    "    sys.exit(1)\n",
    "tool = tools[0]\n",
    "#print(\"Will use tool '%s'\" % (tool.get_name()))\n",
    "\n",
    "langs = tool.get_available_languages()\n",
    "#print(\"Available languages: %s\" % \", \".join(langs))\n",
    "\n",
    "txt = tool.image_to_string(\n",
    "    Image.open('test.png'),\n",
    "    lang='jpn',\n",
    "    builder=pyocr.builders.TextBuilder()\n",
    ")\n",
    "print(txt)"
   ]
  },
  {
   "cell_type": "code",
   "execution_count": 32,
   "metadata": {
    "ExecuteTime": {
     "end_time": "2019-04-09T09:37:14.078890Z",
     "start_time": "2019-04-09T09:37:13.362309Z"
    }
   },
   "outputs": [
    {
     "name": "stdout",
     "output_type": "stream",
     "text": [
      "\n"
     ]
    }
   ],
   "source": [
    "tools = pyocr.get_available_tools()\n",
    "if len(tools) == 0:\n",
    "    print(\"No OCR tool found\")\n",
    "    sys.exit(1)\n",
    "tool = tools[0]\n",
    "#print(\"Will use tool '%s'\" % (tool.get_name()))\n",
    "\n",
    "langs = tool.get_available_languages()\n",
    "#print(\"Available languages: %s\" % \", \".join(langs))\n",
    "\n",
    "txt = tool.image_to_string(\n",
    "    Image.open('u-ron.jpeg'),\n",
    "    lang='jpn',\n",
    "    builder=pyocr.builders.TextBuilder()\n",
    ")\n",
    "print(txt)"
   ]
  },
  {
   "cell_type": "code",
   "execution_count": 31,
   "metadata": {
    "ExecuteTime": {
     "end_time": "2019-04-09T09:37:06.841815Z",
     "start_time": "2019-04-09T09:37:05.969165Z"
    }
   },
   "outputs": [
    {
     "name": "stdout",
     "output_type": "stream",
     "text": [
      "\n"
     ]
    }
   ],
   "source": [
    "tools = pyocr.get_available_tools()\n",
    "if len(tools) == 0:\n",
    "    print(\"No OCR tool found\")\n",
    "    sys.exit(1)\n",
    "tool = tools[0]\n",
    "#print(\"Will use tool '%s'\" % (tool.get_name()))\n",
    "\n",
    "langs = tool.get_available_languages()\n",
    "#print(\"Available languages: %s\" % \", \".join(langs))\n",
    "\n",
    "txt = tool.image_to_string(\n",
    "    Image.open('u-ron.png'),\n",
    "    lang='jpn',\n",
    "    builder=pyocr.builders.TextBuilder()\n",
    ")\n",
    "print(txt)"
   ]
  },
  {
   "cell_type": "code",
   "execution_count": 34,
   "metadata": {
    "ExecuteTime": {
     "end_time": "2019-04-09T09:38:08.640082Z",
     "start_time": "2019-04-09T09:38:06.765900Z"
    }
   },
   "outputs": [
    {
     "name": "stdout",
     "output_type": "stream",
     "text": [
      "5っの錠袖のぺ/ト上ボトレを\n",
      "ンク肌M(血欄ら\n",
      "\n",
      "]         ギ ータ にゆす3\n",
      "hy天 ント Po場久612すっ章て\n",
      "正治ケースの\n",
      "9の\n"
     ]
    }
   ],
   "source": [
    "tools = pyocr.get_available_tools()\n",
    "if len(tools) == 0:\n",
    "    print(\"No OCR tool found\")\n",
    "    sys.exit(1)\n",
    "tool = tools[0]\n",
    "#print(\"Will use tool '%s'\" % (tool.get_name()))\n",
    "\n",
    "langs = tool.get_available_languages()\n",
    "#print(\"Available languages: %s\" % \", \".join(langs))\n",
    "\n",
    "txt = tool.image_to_string(\n",
    "    Image.open('board.jpeg'),\n",
    "    lang='jpn',\n",
    "    builder=pyocr.builders.TextBuilder()\n",
    ")\n",
    "print(txt)"
   ]
  },
  {
   "cell_type": "code",
   "execution_count": 28,
   "metadata": {
    "ExecuteTime": {
     "end_time": "2019-04-09T09:35:16.197421Z",
     "start_time": "2019-04-09T09:35:14.417818Z"
    }
   },
   "outputs": [
    {
     "name": "stdout",
     "output_type": "stream",
     "text": [
      "Raspberry Pi 3\n",
      "\n",
      " \n",
      "\n",
      "Model B +\n",
      "\n",
      "19% Faster than Model B for CPU\n",
      "\n",
      "—_\n"
     ]
    }
   ],
   "source": [
    "tools = pyocr.get_available_tools()\n",
    "if len(tools) == 0:\n",
    "    print(\"No OCR tool found\")\n",
    "    sys.exit(1)\n",
    "tool = tools[0]\n",
    "#print(\"Will use tool '%s'\" % (tool.get_name()))\n",
    "\n",
    "langs = tool.get_available_languages()\n",
    "#print(\"Available languages: %s\" % \", \".join(langs))\n",
    "\n",
    "txt = tool.image_to_string(\n",
    "    Image.open('ras.jpeg'),\n",
    "    lang='eng',\n",
    "    builder=pyocr.builders.TextBuilder()\n",
    ")\n",
    "print(txt)"
   ]
  },
  {
   "cell_type": "code",
   "execution_count": 30,
   "metadata": {
    "ExecuteTime": {
     "end_time": "2019-04-09T09:36:51.165683Z",
     "start_time": "2019-04-09T09:36:49.547331Z"
    }
   },
   "outputs": [
    {
     "name": "stdout",
     "output_type": "stream",
     "text": [
      "\n"
     ]
    }
   ],
   "source": [
    "tools = pyocr.get_available_tools()\n",
    "if len(tools) == 0:\n",
    "    print(\"No OCR tool found\")\n",
    "    sys.exit(1)\n",
    "tool = tools[0]\n",
    "#print(\"Will use tool '%s'\" % (tool.get_name()))\n",
    "\n",
    "langs = tool.get_available_languages()\n",
    "#print(\"Available languages: %s\" % \", \".join(langs))\n",
    "\n",
    "txt = tool.image_to_string(\n",
    "    Image.open('cal.jpeg'),\n",
    "    lang='jpn',\n",
    "    builder=pyocr.builders.TextBuilder()\n",
    ")\n",
    "print(txt)"
   ]
  },
  {
   "cell_type": "code",
   "execution_count": 35,
   "metadata": {
    "ExecuteTime": {
     "end_time": "2019-04-09T09:43:13.534523Z",
     "start_time": "2019-04-09T09:43:11.962866Z"
    }
   },
   "outputs": [
    {
     "name": "stdout",
     "output_type": "stream",
     "text": [
      "\n"
     ]
    }
   ],
   "source": [
    "tools = pyocr.get_available_tools()\n",
    "if len(tools) == 0:\n",
    "    print(\"No OCR tool found\")\n",
    "    sys.exit(1)\n",
    "tool = tools[0]\n",
    "#print(\"Will use tool '%s'\" % (tool.get_name()))\n",
    "\n",
    "langs = tool.get_available_languages()\n",
    "#print(\"Available languages: %s\" % \", \".join(langs))\n",
    "\n",
    "txt = tool.image_to_string(\n",
    "    Image.open('cal2.jpeg'),\n",
    "    lang='jpn',\n",
    "    builder=pyocr.builders.TextBuilder()\n",
    ")\n",
    "print(txt)"
   ]
  },
  {
   "cell_type": "code",
   "execution_count": 36,
   "metadata": {
    "ExecuteTime": {
     "end_time": "2019-04-09T09:43:26.166617Z",
     "start_time": "2019-04-09T09:43:24.542607Z"
    }
   },
   "outputs": [
    {
     "name": "stdout",
     "output_type": "stream",
     "text": [
      "\n"
     ]
    }
   ],
   "source": [
    "tools = pyocr.get_available_tools()\n",
    "if len(tools) == 0:\n",
    "    print(\"No OCR tool found\")\n",
    "    sys.exit(1)\n",
    "tool = tools[0]\n",
    "#print(\"Will use tool '%s'\" % (tool.get_name()))\n",
    "\n",
    "langs = tool.get_available_languages()\n",
    "#print(\"Available languages: %s\" % \", \".join(langs))\n",
    "\n",
    "txt = tool.image_to_string(\n",
    "    Image.open('tro.jpeg'),\n",
    "    lang='eng',\n",
    "    builder=pyocr.builders.TextBuilder()\n",
    ")\n",
    "print(txt)"
   ]
  },
  {
   "cell_type": "code",
   "execution_count": 37,
   "metadata": {
    "ExecuteTime": {
     "end_time": "2019-04-09T09:43:49.416598Z",
     "start_time": "2019-04-09T09:43:47.942606Z"
    }
   },
   "outputs": [
    {
     "name": "stdout",
     "output_type": "stream",
     "text": [
      "\n"
     ]
    }
   ],
   "source": [
    "tools = pyocr.get_available_tools()\n",
    "if len(tools) == 0:\n",
    "    print(\"No OCR tool found\")\n",
    "    sys.exit(1)\n",
    "tool = tools[0]\n",
    "#print(\"Will use tool '%s'\" % (tool.get_name()))\n",
    "\n",
    "langs = tool.get_available_languages()\n",
    "#print(\"Available languages: %s\" % \", \".join(langs))\n",
    "\n",
    "txt = tool.image_to_string(\n",
    "    Image.open('pocari.jpeg'),\n",
    "    lang='eng',\n",
    "    builder=pyocr.builders.TextBuilder()\n",
    ")\n",
    "print(txt)"
   ]
  },
  {
   "cell_type": "code",
   "execution_count": 38,
   "metadata": {
    "ExecuteTime": {
     "end_time": "2019-04-09T09:46:09.397067Z",
     "start_time": "2019-04-09T09:46:07.089581Z"
    }
   },
   "outputs": [
    {
     "name": "stdout",
     "output_type": "stream",
     "text": [
      "\n"
     ]
    }
   ],
   "source": [
    "tools = pyocr.get_available_tools()\n",
    "if len(tools) == 0:\n",
    "    print(\"No OCR tool found\")\n",
    "    sys.exit(1)\n",
    "tool = tools[0]\n",
    "#print(\"Will use tool '%s'\" % (tool.get_name()))\n",
    "\n",
    "langs = tool.get_available_languages()\n",
    "#print(\"Available languages: %s\" % \", \".join(langs))\n",
    "\n",
    "txt = tool.image_to_string(\n",
    "    Image.open('cho.jpeg'),\n",
    "    lang='jpn',\n",
    "    builder=pyocr.builders.TextBuilder()\n",
    ")\n",
    "print(txt)"
   ]
  },
  {
   "cell_type": "code",
   "execution_count": 39,
   "metadata": {
    "ExecuteTime": {
     "end_time": "2019-04-09T09:48:24.199869Z",
     "start_time": "2019-04-09T09:48:22.804176Z"
    }
   },
   "outputs": [
    {
     "name": "stdout",
     "output_type": "stream",
     "text": [
      "\n"
     ]
    }
   ],
   "source": [
    "tools = pyocr.get_available_tools()\n",
    "if len(tools) == 0:\n",
    "    print(\"No OCR tool found\")\n",
    "    sys.exit(1)\n",
    "tool = tools[0]\n",
    "#print(\"Will use tool '%s'\" % (tool.get_name()))\n",
    "\n",
    "langs = tool.get_available_languages()\n",
    "#print(\"Available languages: %s\" % \", \".join(langs))\n",
    "\n",
    "txt = tool.image_to_string(\n",
    "    Image.open('coffee.jpeg'),\n",
    "    lang='eng',\n",
    "    builder=pyocr.builders.TextBuilder()\n",
    ")\n",
    "print(txt)"
   ]
  },
  {
   "cell_type": "code",
   "execution_count": null,
   "metadata": {},
   "outputs": [],
   "source": []
  }
 ],
 "metadata": {
  "kernelspec": {
   "display_name": "Python 3",
   "language": "python",
   "name": "python3"
  },
  "language_info": {
   "codemirror_mode": {
    "name": "ipython",
    "version": 3
   },
   "file_extension": ".py",
   "mimetype": "text/x-python",
   "name": "python",
   "nbconvert_exporter": "python",
   "pygments_lexer": "ipython3",
   "version": "3.6.8"
  },
  "toc": {
   "base_numbering": 1,
   "nav_menu": {},
   "number_sections": true,
   "sideBar": true,
   "skip_h1_title": false,
   "title_cell": "Table of Contents",
   "title_sidebar": "Contents",
   "toc_cell": false,
   "toc_position": {},
   "toc_section_display": true,
   "toc_window_display": false
  },
  "varInspector": {
   "cols": {
    "lenName": 16,
    "lenType": 16,
    "lenVar": 40
   },
   "kernels_config": {
    "python": {
     "delete_cmd_postfix": "",
     "delete_cmd_prefix": "del ",
     "library": "var_list.py",
     "varRefreshCmd": "print(var_dic_list())"
    },
    "r": {
     "delete_cmd_postfix": ") ",
     "delete_cmd_prefix": "rm(",
     "library": "var_list.r",
     "varRefreshCmd": "cat(var_dic_list()) "
    }
   },
   "types_to_exclude": [
    "module",
    "function",
    "builtin_function_or_method",
    "instance",
    "_Feature"
   ],
   "window_display": false
  }
 },
 "nbformat": 4,
 "nbformat_minor": 2
}
