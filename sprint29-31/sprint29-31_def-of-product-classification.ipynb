{
 "cells": [
  {
   "cell_type": "markdown",
   "metadata": {},
   "source": [
    "# Classification of Results of OCR"
   ]
  },
  {
   "cell_type": "markdown",
   "metadata": {},
   "source": [
    "## Definition"
   ]
  },
  {
   "cell_type": "code",
   "execution_count": 17,
   "metadata": {
    "ExecuteTime": {
     "end_time": "2019-04-12T08:04:03.010191Z",
     "start_time": "2019-04-12T08:04:02.995085Z"
    }
   },
   "outputs": [],
   "source": [
    "# Correct labels\n",
    "labels = [\"pocari\", \"calpis\", \"ilohas_normal\", \"ilohas_peach\", \"tropicana\"]\n",
    "\n",
    "\n",
    "# Key words of correct labels\n",
    "pocari = [\"P\", \"O\", \"C\", \"A\", \"R\", \"I\", \"S\", \"W\", \"E\", \"A\", \"T\", \"p\", \"o\", \"c\", \"a\", \"i\", \"s\", \"w\", \"t\"]\n",
    "\n",
    "calpis = [\"カ\", \"ル\", \"ピ\", \"ス\", \"ウ\", \"ォ\", \"ー\", \"タ\", \"ゥ\", \"オ\", \"-\"]\n",
    "\n",
    "ilohas_normal = [\"い\", \"ろ\", \"は\", \"す\", \"日\", \"本\", \"の\", \"天\", \"然\", \"水\"]\n",
    "\n",
    "ilohas_peach = [\"も\", \"い\", \"ろ\", \"は\", \"す\", \"山\", \"梨\", \"県\", \"産\", \"白\", \"桃\", \"エ\", \"キ\", \"ス\", \"入\", \"り\", \"リ\", \"天\", \"然\", \"水\"]\n",
    "\n",
    "tropicana = [\"T\", \"O\", \"P\", \"I\", \"C\", \"t\", \"r\", \"o\", \"p\", \"i\", \"c\", \"a\", \"n\", \"a\", \"オ\", \"レ\", \"ン\", \"ジ\"]\n",
    "\n",
    "\n",
    "# List of key words\n",
    "key_words = [pocari, calpis, ilohas_normal, ilohas_peach, tropicana]\n",
    "\n",
    "    \n",
    "def classify_products(results_ocr):\n",
    "    results = []\n",
    "    for i in range(len(key_words)):\n",
    "        total = 0\n",
    "        for result in results_ocr:\n",
    "            if result in key_words[i]:\n",
    "                total += 1\n",
    "        results.append(total)\n",
    "    index = [i for i, x in enumerate(results) if x==max(results)]\n",
    "    return index\n",
    "\n",
    "def output_final_result(index):\n",
    "    for i in index:\n",
    "        print(labels[i])"
   ]
  },
  {
   "cell_type": "markdown",
   "metadata": {},
   "source": [
    "## Validation"
   ]
  },
  {
   "cell_type": "code",
   "execution_count": 18,
   "metadata": {
    "ExecuteTime": {
     "end_time": "2019-04-12T08:04:03.896002Z",
     "start_time": "2019-04-12T08:04:03.890933Z"
    }
   },
   "outputs": [],
   "source": [
    "# Examples of results of PyOCR to valudate the above definition\n",
    "\n",
    "ex1 = [\"A\", \"i\", \"W\", \"E\", \"A\", \"T\", \"-\"]\n",
    "\n",
    "ex2 = [\"ピ\", \"-\"]"
   ]
  },
  {
   "cell_type": "code",
   "execution_count": 20,
   "metadata": {
    "ExecuteTime": {
     "end_time": "2019-04-12T08:04:53.894497Z",
     "start_time": "2019-04-12T08:04:53.889543Z"
    }
   },
   "outputs": [
    {
     "name": "stdout",
     "output_type": "stream",
     "text": [
      "pocari\n",
      "calpis\n"
     ]
    }
   ],
   "source": [
    "# Validation\n",
    "\n",
    "output_final_result(classify_products(ex1))\n",
    "output_final_result(classify_products(ex2))"
   ]
  },
  {
   "cell_type": "code",
   "execution_count": null,
   "metadata": {},
   "outputs": [],
   "source": []
  }
 ],
 "metadata": {
  "kernelspec": {
   "display_name": "Python 3",
   "language": "python",
   "name": "python3"
  },
  "language_info": {
   "codemirror_mode": {
    "name": "ipython",
    "version": 3
   },
   "file_extension": ".py",
   "mimetype": "text/x-python",
   "name": "python",
   "nbconvert_exporter": "python",
   "pygments_lexer": "ipython3",
   "version": "3.6.8"
  },
  "toc": {
   "base_numbering": 1,
   "nav_menu": {},
   "number_sections": true,
   "sideBar": true,
   "skip_h1_title": false,
   "title_cell": "Table of Contents",
   "title_sidebar": "Contents",
   "toc_cell": false,
   "toc_position": {},
   "toc_section_display": true,
   "toc_window_display": false
  },
  "varInspector": {
   "cols": {
    "lenName": 16,
    "lenType": 16,
    "lenVar": 40
   },
   "kernels_config": {
    "python": {
     "delete_cmd_postfix": "",
     "delete_cmd_prefix": "del ",
     "library": "var_list.py",
     "varRefreshCmd": "print(var_dic_list())"
    },
    "r": {
     "delete_cmd_postfix": ") ",
     "delete_cmd_prefix": "rm(",
     "library": "var_list.r",
     "varRefreshCmd": "cat(var_dic_list()) "
    }
   },
   "types_to_exclude": [
    "module",
    "function",
    "builtin_function_or_method",
    "instance",
    "_Feature"
   ],
   "window_display": false
  }
 },
 "nbformat": 4,
 "nbformat_minor": 2
}
