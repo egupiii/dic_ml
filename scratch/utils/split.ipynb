{
 "cells": [
  {
   "cell_type": "markdown",
   "metadata": {},
   "source": [
    "# Create \"train_test_split\" of scikit-learn from Scratch"
   ]
  },
  {
   "cell_type": "code",
   "execution_count": 1,
   "metadata": {},
   "outputs": [],
   "source": [
    "import numpy as np"
   ]
  },
  {
   "cell_type": "code",
   "execution_count": 2,
   "metadata": {},
   "outputs": [],
   "source": [
    "def train_test_split(X, y, train_size=0.8):\n",
    "    \"\"\"\n",
    "    Split the train dataset.\n",
    "    \n",
    "    Parameters\n",
    "    ----------\n",
    "    X: ndarray whose shape is (n_samples,n_features)\n",
    "      train dataset\n",
    "    y: ndarray whose shape is (n_samples,)\n",
    "      correct values\n",
    "    train_size: float (0 < train_size < 1)\n",
    "      designate what percentage is the train dataset\n",
    "    \n",
    "    Returns\n",
    "    ----------\n",
    "    X_train: ndarray whose shape is (n_samples, n_features)\n",
    "      train dataset\n",
    "    X_test: ndarray whose shape is (n_samples, n_features)\n",
    "      validation dataset\n",
    "    y_train: ndarray whose shape is (n_samples,)\n",
    "      correct values of the train dataset\n",
    "    y_test: ndarray whose shape is (n_samples,)\n",
    "      correct values of validation dataset\n",
    "    \"\"\"\n",
    "    \n",
    "    # Compute the number of rows that we'll extract\n",
    "    X_rows = int(np.round(len(X)*train_size))\n",
    "    y_rows = int(np.round(len(y)*train_size))\n",
    "    \n",
    "    # Shuffle the number\n",
    "    X_array = np.random.choice(np.arange(len(X)), X_rows, replace=False)\n",
    "    y_array = np.random.choice(np.arange(len(y)), y_rows, replace=False)\n",
    "    \n",
    "    # Change the arrays to lists\n",
    "    X_list = X_array.tolist()\n",
    "    y_list = y_array.tolist()\n",
    "    \n",
    "    # Split X and y\n",
    "    X_train_list = [X[_] for _ in X_list]\n",
    "    X_test = np.delete(X, [X[_] for _ in X_list])\n",
    "    \n",
    "    y_train_list = [y[_] for _ in y_list]\n",
    "    y_test = np.delete(y, [y[_] for _ in y_list])\n",
    "    \n",
    "    # Change the train lists to arrays\n",
    "    X_train = np.array(X_train_list)\n",
    "    y_train = np.array(y_train_list)\n",
    "    \n",
    "    \n",
    "    return X_train, X_test, y_train, y_test"
   ]
  },
  {
   "cell_type": "code",
   "execution_count": 3,
   "metadata": {},
   "outputs": [],
   "source": [
    "X, y = np.arange(10).reshape((5, 2)), range(5)"
   ]
  },
  {
   "cell_type": "code",
   "execution_count": 4,
   "metadata": {},
   "outputs": [
    {
     "data": {
      "text/plain": [
       "array([[0, 1],\n",
       "       [2, 3],\n",
       "       [4, 5],\n",
       "       [6, 7],\n",
       "       [8, 9]])"
      ]
     },
     "execution_count": 4,
     "metadata": {},
     "output_type": "execute_result"
    }
   ],
   "source": [
    "X"
   ]
  },
  {
   "cell_type": "code",
   "execution_count": 5,
   "metadata": {},
   "outputs": [
    {
     "data": {
      "text/plain": [
       "[0, 1, 2, 3, 4]"
      ]
     },
     "execution_count": 5,
     "metadata": {},
     "output_type": "execute_result"
    }
   ],
   "source": [
    "list(y)"
   ]
  },
  {
   "cell_type": "code",
   "execution_count": 6,
   "metadata": {},
   "outputs": [],
   "source": [
    "X_train, X_test, y_train, y_test = train_test_split(X, y, train_size=0.7)"
   ]
  },
  {
   "cell_type": "code",
   "execution_count": 7,
   "metadata": {},
   "outputs": [
    {
     "data": {
      "text/plain": [
       "array([[4, 5],\n",
       "       [2, 3],\n",
       "       [0, 1],\n",
       "       [6, 7]])"
      ]
     },
     "execution_count": 7,
     "metadata": {},
     "output_type": "execute_result"
    }
   ],
   "source": [
    "X_train"
   ]
  },
  {
   "cell_type": "code",
   "execution_count": 8,
   "metadata": {},
   "outputs": [
    {
     "data": {
      "text/plain": [
       "array([8, 9])"
      ]
     },
     "execution_count": 8,
     "metadata": {},
     "output_type": "execute_result"
    }
   ],
   "source": [
    "X_test"
   ]
  },
  {
   "cell_type": "code",
   "execution_count": 9,
   "metadata": {},
   "outputs": [
    {
     "data": {
      "text/plain": [
       "array([3, 0, 4, 1])"
      ]
     },
     "execution_count": 9,
     "metadata": {},
     "output_type": "execute_result"
    }
   ],
   "source": [
    "y_train"
   ]
  },
  {
   "cell_type": "code",
   "execution_count": 10,
   "metadata": {},
   "outputs": [
    {
     "data": {
      "text/plain": [
       "array([2])"
      ]
     },
     "execution_count": 10,
     "metadata": {},
     "output_type": "execute_result"
    }
   ],
   "source": [
    "y_test"
   ]
  },
  {
   "cell_type": "code",
   "execution_count": null,
   "metadata": {},
   "outputs": [],
   "source": []
  }
 ],
 "metadata": {
  "kernelspec": {
   "display_name": "Python 3",
   "language": "python",
   "name": "python3"
  },
  "language_info": {
   "codemirror_mode": {
    "name": "ipython",
    "version": 3
   },
   "file_extension": ".py",
   "mimetype": "text/x-python",
   "name": "python",
   "nbconvert_exporter": "python",
   "pygments_lexer": "ipython3",
   "version": "3.6.8"
  }
 },
 "nbformat": 4,
 "nbformat_minor": 2
}
