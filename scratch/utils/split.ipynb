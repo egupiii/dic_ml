{
 "cells": [
  {
   "cell_type": "markdown",
   "metadata": {},
   "source": [
    "# Create \"train_test_split\" of scikit-learn from Scratch"
   ]
  },
  {
   "cell_type": "code",
   "execution_count": 1,
   "metadata": {
    "ExecuteTime": {
     "end_time": "2019-03-28T06:51:10.864371Z",
     "start_time": "2019-03-28T06:51:10.706969Z"
    }
   },
   "outputs": [],
   "source": [
    "import numpy as np\n",
    "from sklearn.utils import shuffle"
   ]
  },
  {
   "cell_type": "code",
   "execution_count": 13,
   "metadata": {
    "ExecuteTime": {
     "end_time": "2019-03-28T07:07:55.930275Z",
     "start_time": "2019-03-28T07:07:55.923273Z"
    }
   },
   "outputs": [],
   "source": [
    "def train_test_split(X, y, train_size=0.8):\n",
    "    \"\"\"\n",
    "    Split the train dataset.\n",
    "    \n",
    "    Parameters\n",
    "    ----------\n",
    "    X: ndarray whose shape is (n_samples,n_features)\n",
    "      train dataset\n",
    "    y: ndarray whose shape is (n_samples,)\n",
    "      correct values\n",
    "    train_size: float (0 < train_size < 1)\n",
    "      designate what percentage is the train dataset\n",
    "    \n",
    "    Returns\n",
    "    ----------\n",
    "    X_train: ndarray whose shape is (n_samples, n_features)\n",
    "      train dataset\n",
    "    X_test: ndarray whose shape is (n_samples, n_features)\n",
    "      validation dataset\n",
    "    y_train: ndarray whose shape is (n_samples,)\n",
    "      correct values of the train dataset\n",
    "    y_test: ndarray whose shape is (n_samples,)\n",
    "      correct values of validation dataset\n",
    "    \"\"\"\n",
    "    \n",
    "    # Shuffle\n",
    "    X, y = shuffle(X, y, random_state=0)\n",
    "    \n",
    "    # Change the array to a list\n",
    "    X = X.tolist()\n",
    "    \n",
    "    # Compute the number of rows that we'll extract\n",
    "    n_rows = int(np.round(len(X) * train_size))\n",
    "    \n",
    "    # Split X and y\n",
    "    X_train = X[:n_rows]\n",
    "    X_test = X[n_rows:]\n",
    "    y_train = y[:n_rows]\n",
    "    y_test = y[n_rows:]\n",
    "    \n",
    "    # Change the train lists to arrays\n",
    "    X_train = np.array(X_train)\n",
    "    X_test = np.array(X_test)\n",
    "    \n",
    "    return X_train, X_test, y_train, y_test"
   ]
  },
  {
   "cell_type": "code",
   "execution_count": 14,
   "metadata": {
    "ExecuteTime": {
     "end_time": "2019-03-28T07:07:56.625672Z",
     "start_time": "2019-03-28T07:07:56.620542Z"
    }
   },
   "outputs": [],
   "source": [
    "X, y = np.arange(10).reshape((5, 2)), range(5)"
   ]
  },
  {
   "cell_type": "code",
   "execution_count": 15,
   "metadata": {
    "ExecuteTime": {
     "end_time": "2019-03-28T07:07:57.082793Z",
     "start_time": "2019-03-28T07:07:57.075462Z"
    }
   },
   "outputs": [
    {
     "data": {
      "text/plain": [
       "array([[0, 1],\n",
       "       [2, 3],\n",
       "       [4, 5],\n",
       "       [6, 7],\n",
       "       [8, 9]])"
      ]
     },
     "execution_count": 15,
     "metadata": {},
     "output_type": "execute_result"
    }
   ],
   "source": [
    "X"
   ]
  },
  {
   "cell_type": "code",
   "execution_count": 16,
   "metadata": {
    "ExecuteTime": {
     "end_time": "2019-03-28T07:07:58.158601Z",
     "start_time": "2019-03-28T07:07:58.151155Z"
    }
   },
   "outputs": [
    {
     "data": {
      "text/plain": [
       "[0, 1, 2, 3, 4]"
      ]
     },
     "execution_count": 16,
     "metadata": {},
     "output_type": "execute_result"
    }
   ],
   "source": [
    "list(y)"
   ]
  },
  {
   "cell_type": "code",
   "execution_count": 17,
   "metadata": {
    "ExecuteTime": {
     "end_time": "2019-03-28T07:07:58.900399Z",
     "start_time": "2019-03-28T07:07:58.894699Z"
    }
   },
   "outputs": [],
   "source": [
    "X_train, X_test, y_train, y_test = train_test_split(X, y, train_size=0.7)"
   ]
  },
  {
   "cell_type": "code",
   "execution_count": 18,
   "metadata": {
    "ExecuteTime": {
     "end_time": "2019-03-28T07:07:59.727243Z",
     "start_time": "2019-03-28T07:07:59.719389Z"
    }
   },
   "outputs": [
    {
     "data": {
      "text/plain": [
       "array([[4, 5],\n",
       "       [0, 1],\n",
       "       [2, 3],\n",
       "       [6, 7]])"
      ]
     },
     "execution_count": 18,
     "metadata": {},
     "output_type": "execute_result"
    }
   ],
   "source": [
    "X_train"
   ]
  },
  {
   "cell_type": "code",
   "execution_count": 19,
   "metadata": {
    "ExecuteTime": {
     "end_time": "2019-03-28T07:08:01.688103Z",
     "start_time": "2019-03-28T07:08:01.680008Z"
    }
   },
   "outputs": [
    {
     "data": {
      "text/plain": [
       "array([[8, 9]])"
      ]
     },
     "execution_count": 19,
     "metadata": {},
     "output_type": "execute_result"
    }
   ],
   "source": [
    "X_test"
   ]
  },
  {
   "cell_type": "code",
   "execution_count": 20,
   "metadata": {
    "ExecuteTime": {
     "end_time": "2019-03-28T07:08:01.924115Z",
     "start_time": "2019-03-28T07:08:01.916597Z"
    }
   },
   "outputs": [
    {
     "data": {
      "text/plain": [
       "[2, 0, 1, 3]"
      ]
     },
     "execution_count": 20,
     "metadata": {},
     "output_type": "execute_result"
    }
   ],
   "source": [
    "y_train"
   ]
  },
  {
   "cell_type": "code",
   "execution_count": 21,
   "metadata": {
    "ExecuteTime": {
     "end_time": "2019-03-28T07:08:03.809281Z",
     "start_time": "2019-03-28T07:08:03.801541Z"
    }
   },
   "outputs": [
    {
     "data": {
      "text/plain": [
       "[4]"
      ]
     },
     "execution_count": 21,
     "metadata": {},
     "output_type": "execute_result"
    }
   ],
   "source": [
    "y_test"
   ]
  },
  {
   "cell_type": "code",
   "execution_count": null,
   "metadata": {},
   "outputs": [],
   "source": []
  }
 ],
 "metadata": {
  "kernelspec": {
   "display_name": "Python 3",
   "language": "python",
   "name": "python3"
  },
  "language_info": {
   "codemirror_mode": {
    "name": "ipython",
    "version": 3
   },
   "file_extension": ".py",
   "mimetype": "text/x-python",
   "name": "python",
   "nbconvert_exporter": "python",
   "pygments_lexer": "ipython3",
   "version": "3.6.8"
  },
  "toc": {
   "base_numbering": 1,
   "nav_menu": {},
   "number_sections": true,
   "sideBar": true,
   "skip_h1_title": false,
   "title_cell": "Table of Contents",
   "title_sidebar": "Contents",
   "toc_cell": false,
   "toc_position": {},
   "toc_section_display": true,
   "toc_window_display": false
  },
  "varInspector": {
   "cols": {
    "lenName": 16,
    "lenType": 16,
    "lenVar": 40
   },
   "kernels_config": {
    "python": {
     "delete_cmd_postfix": "",
     "delete_cmd_prefix": "del ",
     "library": "var_list.py",
     "varRefreshCmd": "print(var_dic_list())"
    },
    "r": {
     "delete_cmd_postfix": ") ",
     "delete_cmd_prefix": "rm(",
     "library": "var_list.r",
     "varRefreshCmd": "cat(var_dic_list()) "
    }
   },
   "types_to_exclude": [
    "module",
    "function",
    "builtin_function_or_method",
    "instance",
    "_Feature"
   ],
   "window_display": false
  }
 },
 "nbformat": 4,
 "nbformat_minor": 2
}
