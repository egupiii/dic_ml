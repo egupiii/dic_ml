{
 "cells": [
  {
   "cell_type": "code",
   "execution_count": 1,
   "metadata": {},
   "outputs": [],
   "source": [
    "import argparse\n",
    "import pandas as pd\n",
    "from sklearn.model_selection import train_test_split\n",
    "from sklearn.linear_model import LinearRegression\n",
    "from sklearn.metrics import mean_squared_error"
   ]
  },
  {
   "cell_type": "code",
   "execution_count": 2,
   "metadata": {},
   "outputs": [
    {
     "data": {
      "text/plain": [
       "_StoreAction(option_strings=['--model'], dest='model', nargs=None, const=None, default='lr', type=<class 'str'>, choices=None, help=None, metavar=None)"
      ]
     },
     "execution_count": 2,
     "metadata": {},
     "output_type": "execute_result"
    }
   ],
   "source": [
    "# Set command-line arguments\n",
    "\n",
    "parser = argparse.ArgumentParser(formatter_class=argparse.RawTextHelpFormatter, \n",
    "                                 description='linear regression pipeline')\n",
    "\n",
    "parser.add_argument('--dataset')\n",
    "parser.add_argument('--model',default=\"lr\",type=str)"
   ]
  },
  {
   "cell_type": "code",
   "execution_count": 3,
   "metadata": {},
   "outputs": [],
   "source": [
    "# Create a definition of a regression pipeline\n",
    "\n",
    "def implement_regression_pipeline(args):\n",
    "    # Get datasets\n",
    "    df = pd.read_csv(args.dataset)\n",
    "    X = df.iloc[:,:-1].values\n",
    "    y = df.iloc[:,-1].values\n",
    "    \n",
    "    # Split train and test datasets\n",
    "    X_train, X_test, y_train, y_test = train_test_split(X,y,train_size=0.8)\n",
    "    \n",
    "    if args.model==\"lr\":\n",
    "        y_pred, mse = linear_regression(X_train,X_test,y_train,y_test)\n",
    "    else:\n",
    "        print(\"Your model, {} did not work on this definition.\".format(args.model))\n",
    "    \n",
    "    \n",
    "    # Return the results\n",
    "    print(\"y_pred is {}\".format(y_pred))\n",
    "    print(\"score is {}\".format(score))"
   ]
  },
  {
   "cell_type": "code",
   "execution_count": 4,
   "metadata": {},
   "outputs": [],
   "source": [
    "# Create a definition of linear regression\n",
    "\n",
    "def linear_regression(X_train,X_test,y_train,y_test):\n",
    "    # Initialize a classifier\n",
    "    lr = LinearRegression()\n",
    "    # Fit the model according to the given training data\n",
    "    lr.fit(X_train,y_train)\n",
    "    # Predict class labels for samples in X_test\n",
    "    y_pred = lr.predict(X_test)\n",
    "    # Returns the mean accuracy on the given test data and labels\n",
    "    mse = mean_squared_error(y_test, y_pred)\n",
    "    \n",
    "    return y_pred, mse"
   ]
  },
  {
   "cell_type": "code",
   "execution_count": 5,
   "metadata": {},
   "outputs": [
    {
     "name": "stderr",
     "output_type": "stream",
     "text": [
      "usage: ipykernel_launcher.py [-h] [--dataset DATASET] [--model MODEL]\n",
      "ipykernel_launcher.py: error: unrecognized arguments: -f /Users/kazukiegusa/Library/Jupyter/runtime/kernel-df1f2b4d-5a96-4ce1-82aa-821879581e71.json\n"
     ]
    },
    {
     "ename": "SystemExit",
     "evalue": "2",
     "traceback": [
      "An exception has occurred, use %tb to see the full traceback.\n",
      "\u001b[0;31mSystemExit\u001b[0m\u001b[0;31m:\u001b[0m 2\n"
     ],
     "output_type": "error"
    },
    {
     "name": "stderr",
     "output_type": "stream",
     "text": [
      "/Users/kazukiegusa/.pyenv/versions/anaconda3-5.3.0/lib/python3.6/site-packages/IPython/core/interactiveshell.py:3275: UserWarning: To exit: use 'exit', 'quit', or Ctrl-D.\n",
      "  warn(\"To exit: use 'exit', 'quit', or Ctrl-D.\", stacklevel=1)\n"
     ]
    }
   ],
   "source": [
    "if __name__ == \"__main__\":\n",
    "    # Be run here at first when running the py file\n",
    "\n",
    "    # Import command-line arguments\n",
    "    args = parser.parse_args()\n",
    "    implement_regression_pipeline(args)"
   ]
  },
  {
   "cell_type": "code",
   "execution_count": null,
   "metadata": {},
   "outputs": [],
   "source": []
  }
 ],
 "metadata": {
  "kernelspec": {
   "display_name": "Python 3",
   "language": "python",
   "name": "python3"
  },
  "language_info": {
   "codemirror_mode": {
    "name": "ipython",
    "version": 3
   },
   "file_extension": ".py",
   "mimetype": "text/x-python",
   "name": "python",
   "nbconvert_exporter": "python",
   "pygments_lexer": "ipython3",
   "version": "3.6.8"
  }
 },
 "nbformat": 4,
 "nbformat_minor": 2
}
