{
 "cells": [
  {
   "cell_type": "markdown",
   "metadata": {},
   "source": [
    "# Implementation of Logistic Regression"
   ]
  },
  {
   "cell_type": "markdown",
   "metadata": {},
   "source": [
    "### Logic Circuit\n",
    "\n",
    "<br />\n",
    "\n",
    "I am going to reproduce logic circuit by logistic regression. In this task, I will fit the AND gate."
   ]
  },
  {
   "cell_type": "markdown",
   "metadata": {},
   "source": [
    "### Create Data"
   ]
  },
  {
   "cell_type": "code",
   "execution_count": 1,
   "metadata": {},
   "outputs": [],
   "source": [
    "import numpy as np"
   ]
  },
  {
   "cell_type": "code",
   "execution_count": 2,
   "metadata": {},
   "outputs": [],
   "source": [
    "x_train = np.array([[0,0], [0,1], [1,0], [1,1]])\n",
    "y_train = np.array([[0], [0], [0], [1]])"
   ]
  },
  {
   "cell_type": "markdown",
   "metadata": {},
   "source": [
    "### Construct Dataflow Graph"
   ]
  },
  {
   "cell_type": "code",
   "execution_count": 3,
   "metadata": {},
   "outputs": [],
   "source": [
    "import tensorflow as tf"
   ]
  },
  {
   "cell_type": "code",
   "execution_count": 4,
   "metadata": {},
   "outputs": [],
   "source": [
    "x = tf.placeholder(tf.float32, [None, 2])\n",
    "t = tf.placeholder(tf.float32, [None, 1])"
   ]
  },
  {
   "cell_type": "markdown",
   "metadata": {},
   "source": [
    "#### zeros\n",
    "\n",
    "\n",
    "https://www.tensorflow.org/api_docs/python/tf/zeros"
   ]
  },
  {
   "cell_type": "code",
   "execution_count": 5,
   "metadata": {},
   "outputs": [],
   "source": [
    "# Weight\n",
    "W = tf.Variable(tf.zeros([2,1]))\n",
    "\n",
    "# Bias\n",
    "b = tf.Variable(tf.zeros([1]))"
   ]
  },
  {
   "cell_type": "markdown",
   "metadata": {},
   "source": [
    "#### Logistic Regression\n",
    "\n",
    "$$\n",
    "h_θ(x) = g(θ^T x).\\\\\n",
    "$$\n",
    "\n",
    "$$\n",
    "g(z) = \\frac{1}{1+e^{−z}}.\\\\\n",
    "$$\n",
    "\n",
    "$$\n",
    "J(\\theta)=  \\frac{1}{m}  \\sum_{i=1}^{m}[−y^{(i)} log(h_θ(x^{(i)})) − (1−y^{(i)}) log(1−h_θ(x^{(i)}))]\\\\\n",
    "$$\n",
    "\n",
    "$m$ : Number of input data\n",
    "\n",
    "$h_{\\theta}()$ : Hypothesis function\n",
    "\n",
    "$x$ : Feature vector\n",
    "\n",
    "$\\theta$ : Parameter vector\n",
    "\n",
    "$g()$ : Sigmoid function\n",
    "\n",
    "$x^{(i)}$ : Feature vector of $i$th sample\n",
    "\n",
    "$y^{(i)}$ : Correct label of $i$th sample\n",
    "\n",
    "$\\theta_j$ : $j$th parameter (weight)\n",
    "\n",
    "$n$ : Number of features"
   ]
  },
  {
   "cell_type": "markdown",
   "metadata": {},
   "source": [
    "#### sigmoid\n",
    "\n",
    "\n",
    "https://www.tensorflow.org/api_docs/python/tf/math/sigmoid"
   ]
  },
  {
   "cell_type": "markdown",
   "metadata": {},
   "source": [
    "#### log\n",
    "\n",
    "\n",
    "https://www.tensorflow.org/api_docs/python/tf/math/log"
   ]
  },
  {
   "cell_type": "markdown",
   "metadata": {},
   "source": [
    "#### reduce_sum\n",
    "\n",
    "https://www.tensorflow.org/api_docs/python/tf/math/log"
   ]
  },
  {
   "cell_type": "code",
   "execution_count": 6,
   "metadata": {},
   "outputs": [],
   "source": [
    "# Logistic regression\n",
    "\n",
    "y = tf.sigmoid(tf.matmul(x, W) + b)\n",
    "cross_entropy = tf.reduce_sum(-t*tf.log(y) - (1-t)*tf.log(1-y))"
   ]
  },
  {
   "cell_type": "markdown",
   "metadata": {},
   "source": [
    "#### square\n",
    "\n",
    "\n",
    "https://www.tensorflow.org/api_docs/python/tf/math/square\n",
    "\n",
    "<br />\n",
    "\n",
    "If I need to compute mean square error, the following code is valid."
   ]
  },
  {
   "cell_type": "code",
   "execution_count": 8,
   "metadata": {},
   "outputs": [],
   "source": [
    "mse = tf.reduce_sum(tf.square(y - t))"
   ]
  },
  {
   "cell_type": "markdown",
   "metadata": {},
   "source": [
    "#### train.GradientDescentOptimizer\n",
    "\n",
    "\n",
    "https://www.tensorflow.org/api_docs/python/tf/train/GradientDescentOptimizer"
   ]
  },
  {
   "cell_type": "code",
   "execution_count": 9,
   "metadata": {},
   "outputs": [],
   "source": [
    "train_step = tf.train.GradientDescentOptimizer(0.1).minimize(cross_entropy)"
   ]
  },
  {
   "cell_type": "markdown",
   "metadata": {},
   "source": [
    "#### equal\n",
    "\n",
    "\n",
    "https://www.tensorflow.org/api_docs/python/tf/math/equal"
   ]
  },
  {
   "cell_type": "markdown",
   "metadata": {},
   "source": [
    "#### sign\n",
    "\n",
    "https://www.tensorflow.org/api_docs/python/tf/math/sign"
   ]
  },
  {
   "cell_type": "markdown",
   "metadata": {},
   "source": [
    "#### reduce_mean\n",
    "\n",
    "https://www.tensorflow.org/api_docs/python/tf/math/reduce_mean"
   ]
  },
  {
   "cell_type": "markdown",
   "metadata": {},
   "source": [
    "#### cast\n",
    "\n",
    "https://www.tensorflow.org/api_docs/python/tf/dtypes/cast"
   ]
  },
  {
   "cell_type": "code",
   "execution_count": 11,
   "metadata": {},
   "outputs": [],
   "source": [
    "correct_prediction = tf.equal(tf.sign(y-0.5), tf.sign(t-0.5))\n",
    "accuracy = tf.reduce_mean(tf.cast(correct_prediction, tf.float32))"
   ]
  },
  {
   "cell_type": "markdown",
   "metadata": {},
   "source": [
    "### Input Data and Compute"
   ]
  },
  {
   "cell_type": "markdown",
   "metadata": {},
   "source": [
    "#### global_variables\n",
    "\n",
    "https://www.tensorflow.org/api_docs/python/tf/global_variables_initializer"
   ]
  },
  {
   "cell_type": "code",
   "execution_count": 13,
   "metadata": {},
   "outputs": [],
   "source": [
    "# Instance\n",
    "sess = tf.Session()\n",
    "\n",
    "# Initialize variables of tf.Variable() (weight and bias)\n",
    "sess.run(tf.global_variables_initializer())"
   ]
  },
  {
   "cell_type": "code",
   "execution_count": 16,
   "metadata": {},
   "outputs": [
    {
     "name": "stdout",
     "output_type": "stream",
     "text": [
      "epoch:0, Accuracy:0.750000\n",
      "epoch:100, Accuracy:1.000000\n",
      "epoch:200, Accuracy:1.000000\n",
      "epoch:300, Accuracy:1.000000\n",
      "epoch:400, Accuracy:1.000000\n",
      "epoch:500, Accuracy:1.000000\n",
      "epoch:600, Accuracy:1.000000\n",
      "epoch:700, Accuracy:1.000000\n",
      "epoch:800, Accuracy:1.000000\n",
      "epoch:900, Accuracy:1.000000\n"
     ]
    }
   ],
   "source": [
    "# Fit\n",
    "\n",
    "for epoch in range(1000):\n",
    "    sess.run(train_step, feed_dict={\n",
    "        x: x_train,\n",
    "        t: y_train\n",
    "    })\n",
    "    \n",
    "    # Show the accuracy rate per 100 loops\n",
    "    if epoch % 100 == 0:\n",
    "        acc_val = sess.run(\n",
    "        accuracy, feed_dict={\n",
    "            x: x_train,\n",
    "            t: y_train\n",
    "        })\n",
    "        print(\"epoch:%d, Accuracy:%f\"%(epoch, acc_val))"
   ]
  },
  {
   "cell_type": "code",
   "execution_count": 17,
   "metadata": {},
   "outputs": [],
   "source": [
    "# Check whether prediction results are correct\n",
    "classified = sess.run(correct_prediction, feed_dict={\n",
    "    x: x_train,\n",
    "    t: y_train\n",
    "})\n",
    "\n",
    "# Check outputs, y\n",
    "prob = sess.run(y, feed_dict={\n",
    "    x: x_train,\n",
    "    t: y_train\n",
    "})"
   ]
  },
  {
   "cell_type": "code",
   "execution_count": 18,
   "metadata": {},
   "outputs": [
    {
     "name": "stdout",
     "output_type": "stream",
     "text": [
      "[[ True]\n",
      " [ True]\n",
      " [ True]\n",
      " [ True]]\n"
     ]
    }
   ],
   "source": [
    "print(classified)"
   ]
  },
  {
   "cell_type": "code",
   "execution_count": 19,
   "metadata": {},
   "outputs": [
    {
     "name": "stdout",
     "output_type": "stream",
     "text": [
      "[[1.9535891e-04]\n",
      " [4.8958965e-02]\n",
      " [4.8958965e-02]\n",
      " [9.3133169e-01]]\n"
     ]
    }
   ],
   "source": [
    "print(prob)"
   ]
  },
  {
   "cell_type": "code",
   "execution_count": 20,
   "metadata": {},
   "outputs": [
    {
     "name": "stdout",
     "output_type": "stream",
     "text": [
      "W: [[5.573902]\n",
      " [5.573902]]\n",
      "b: [-8.540477]\n"
     ]
    }
   ],
   "source": [
    "print(\"W:\", sess.run(W))\n",
    "print(\"b:\", sess.run(b))"
   ]
  },
  {
   "cell_type": "markdown",
   "metadata": {},
   "source": [
    "#### Check Values in the Middle"
   ]
  },
  {
   "cell_type": "code",
   "execution_count": 21,
   "metadata": {},
   "outputs": [],
   "source": [
    "mat = tf.matmul(x, W)\n",
    "y = tf.sigmoid(mat + b)"
   ]
  },
  {
   "cell_type": "code",
   "execution_count": 22,
   "metadata": {},
   "outputs": [
    {
     "name": "stdout",
     "output_type": "stream",
     "text": [
      "[[ 0.      ]\n",
      " [ 5.573902]\n",
      " [ 5.573902]\n",
      " [11.147804]]\n"
     ]
    }
   ],
   "source": [
    "print(sess.run(mat, feed_dict={\n",
    "    x: x_train,\n",
    "    t: y_train\n",
    "}))"
   ]
  },
  {
   "cell_type": "markdown",
   "metadata": {},
   "source": [
    "#### Finish Session"
   ]
  },
  {
   "cell_type": "code",
   "execution_count": 23,
   "metadata": {},
   "outputs": [],
   "source": [
    "sess.close()"
   ]
  },
  {
   "cell_type": "code",
   "execution_count": null,
   "metadata": {},
   "outputs": [],
   "source": []
  }
 ],
 "metadata": {
  "kernelspec": {
   "display_name": "Python 3",
   "language": "python",
   "name": "python3"
  },
  "language_info": {
   "codemirror_mode": {
    "name": "ipython",
    "version": 3
   },
   "file_extension": ".py",
   "mimetype": "text/x-python",
   "name": "python",
   "nbconvert_exporter": "python",
   "pygments_lexer": "ipython3",
   "version": "3.6.8"
  }
 },
 "nbformat": 4,
 "nbformat_minor": 2
}
