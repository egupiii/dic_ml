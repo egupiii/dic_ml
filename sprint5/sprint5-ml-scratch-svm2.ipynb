{
 "cells": [
  {
   "cell_type": "markdown",
   "metadata": {},
   "source": [
    "# Implementation from Scratch\n",
    "\n",
    "<br />\n",
    "\n",
    "I am going to implement algorithms by using the least kinds of libraries such as Numpy possible.\n",
    "\n",
    "<br />\n",
    "\n",
    "- In this case, I only implement a classification one while SVM can be used to both classification and regression.\n",
    "\n",
    "\n",
    "- Karnels are important elements of SVM. At first, I will create a linear karnel.\n",
    "\n",
    "\n",
    "- There are 2 margins, hard and soft margins. I am going to choose hard one this time."
   ]
  },
  {
   "cell_type": "markdown",
   "metadata": {},
   "source": [
    "## [Task 1] Create a Class of SVM Classifier"
   ]
  },
  {
   "cell_type": "markdown",
   "metadata": {},
   "source": [
    "#### Steepest Descent Method by Method of Lagrange Multipliers\n",
    "\n",
    "<br />\n",
    "\n",
    "I prepare lagrange multipliers, $\\lambda$. The number of them is the number of samples. Then I update them by using the following equation.\n",
    "\n",
    "$$\n",
    "\\lambda_i^{new} = \\lambda_i + \\alpha(1 - \\sum_{j=1}^{n}{\\lambda_j y_i y_j k(x_i, x_j)})\n",
    "$$\n",
    "\n",
    "Now, $k(x_i, x_j)$ is a kernel function. The following equation is a case of a linear kernel.\n",
    "\n",
    "$$\n",
    "k(x_i, x_j) = x_{i}^{T} x_j\n",
    "$$\n",
    "\n",
    "I am going to make this part a method to handle other kinds of kernels.\n",
    "\n",
    "<br />\n",
    "\n",
    "In addition, I need to fulfill a condition, $\\lambda_i >= 0$ per update. If the condition is not fulfilled, it becomes $\\lambda_i = 0$\n",
    "\n",
    "<br />\n",
    "\n",
    "$i,\\ j$: index of a sample\n",
    "\n",
    "$\\lambda_i^{new}$: lagrange multiplier of updated ith sample\n",
    "\n",
    "$\\lambda_i$: lagrange multiplier of pre-update ith sample\n",
    "\n",
    "$\\alpha$: learning rate\n",
    "\n",
    "$\\lambda_j$: Lagrange multiplier of jth sample\n",
    "\n",
    "$y_i$: label of ith sample\n",
    "\n",
    "$y_j$: label of jth sample\n",
    "\n",
    "$x_i$: feature vector of ith sample\n",
    "\n",
    "$x_j$: feature vector of jth sample\n",
    "\n",
    "<br />\n",
    "\n",
    "I will think of relationships of any single sample with all samples."
   ]
  },
  {
   "cell_type": "markdown",
   "metadata": {},
   "source": [
    "#### Decide Support Vector\n",
    "\n",
    "<br />\n",
    "\n",
    "I will handle a sample that is more than a threshold set by the computed Lagrange multiplier as support vector. Predicting requires the support vector.\n",
    "\n",
    "\n",
    "Thresholds are hyperparameters, but it is a good start to let them about 1e-5."
   ]
  },
  {
   "cell_type": "markdown",
   "metadata": {},
   "source": [
    "#### Prediction\n",
    "\n",
    "<br />\n",
    "\n",
    "When predicting, I compute a feature of data that I want to predict and a feature of a support vector by using a kernel function.\n",
    "\n",
    "<br />\n",
    "\n",
    "The following $y(x)$ is the result of classfication.\n",
    "\n",
    "$$\n",
    "y(x) = \\sum_{n=1}^{N}\\lambda_n y_n k(x, s_n)\n",
    "$$\n",
    "\n",
    "$x$: feature of data that I want to predict\n",
    "\n",
    "$N$: the number of support vectors\n",
    "\n",
    "$n$: index of a support vector\n",
    "\n",
    "$\\lambda_n$: Lagrange multiplier of nth support vector\n",
    "\n",
    "$y_n$: label of nth support vector\n",
    "\n",
    "$k()$: kernel fucntion\n",
    "\n",
    "$s_n$: feature of nth support vector"
   ]
  },
  {
   "cell_type": "code",
   "execution_count": 1,
   "metadata": {},
   "outputs": [],
   "source": [
    "import math\n",
    "import numpy as np\n",
    "import matplotlib.pyplot as plt\n",
    "from matplotlib.colors import ListedColormap\n",
    "import matplotlib.patches as mpatches\n",
    "from sklearn.preprocessing import StandardScaler\n",
    "from sklearn.model_selection import train_test_split\n",
    "from sklearn.datasets import load_iris\n",
    "from sklearn.metrics import accuracy_score\n",
    "from sklearn.metrics import precision_score\n",
    "from sklearn.metrics import recall_score\n",
    "from sklearn.metrics import f1_score\n",
    "from sklearn.metrics import confusion_matrix\n",
    "import time\n",
    "import sys"
   ]
  },
  {
   "cell_type": "markdown",
   "metadata": {},
   "source": [
    "### Validate the Class\n",
    "\n",
    "<br />\n",
    "\n",
    "I am going to validate the class by using the iris datasets."
   ]
  },
  {
   "cell_type": "code",
   "execution_count": 2,
   "metadata": {},
   "outputs": [],
   "source": [
    "# Prepare a dataset for the validation\n",
    "\n",
    "# Import the dataset\n",
    "iris = load_iris()\n",
    "\n",
    "# Split the datasets into explanatory and objective variables\n",
    "X = iris.data[:,[1,2]]\n",
    "X = X[iris.target!=1]\n",
    "y = iris.target[iris.target!=1]\n",
    "\n",
    "# Split the datasets into train and test dtasets\n",
    "X_train, X_test, y_train, y_test = train_test_split(X, y, test_size=0.20, random_state=42)"
   ]
  },
  {
   "cell_type": "code",
   "execution_count": 3,
   "metadata": {},
   "outputs": [
    {
     "name": "stdout",
     "output_type": "stream",
     "text": [
      "X_train:  (80, 2)\n",
      "y_train:  (80,)\n",
      "X_test:  (20, 2)\n",
      "y_test:  (20,)\n"
     ]
    }
   ],
   "source": [
    "# Check the datasets\n",
    "\n",
    "print(\"X_train: \",X_train.shape)\n",
    "print(\"y_train: \",y_train.shape)\n",
    "print(\"X_test: \",X_test.shape)\n",
    "print(\"y_test: \",y_test.shape)"
   ]
  },
  {
   "cell_type": "code",
   "execution_count": 4,
   "metadata": {},
   "outputs": [
    {
     "data": {
      "text/plain": [
       "array([2, 2, 2, 0, 0, 0, 0, 2, 0, 0, 0, 0, 2, 0, 2, 0, 2, 2, 0, 0])"
      ]
     },
     "execution_count": 4,
     "metadata": {},
     "output_type": "execute_result"
    }
   ],
   "source": [
    "y_test"
   ]
  },
  {
   "cell_type": "code",
   "execution_count": 5,
   "metadata": {},
   "outputs": [],
   "source": [
    "# Standardize the dataset\n",
    "\n",
    "# Initialize the class\n",
    "scaler = StandardScaler()\n",
    "\n",
    "# Fit the dataset\n",
    "scaler.fit(X_train)\n",
    "\n",
    "# Transfer the datasets\n",
    "std_X_train = scaler.transform(X_train)\n",
    "\n",
    "# Fit the dataset\n",
    "scaler.fit(X_test)\n",
    "\n",
    "# Transfer the datasets\n",
    "std_X_test = scaler.transform(X_test)"
   ]
  },
  {
   "cell_type": "code",
   "execution_count": 6,
   "metadata": {
    "scrolled": true
   },
   "outputs": [
    {
     "data": {
      "text/plain": [
       "array([[-0.44163664,  1.41052204],\n",
       "       [-0.44163664,  0.55601983],\n",
       "       [ 0.51974924, -0.96309519],\n",
       "       [ 0.0390563 , -1.10551222],\n",
       "       [-2.36440839,  0.65096452],\n",
       "       [ 2.92321393, -1.01056753],\n",
       "       [ 0.76009571, -1.10551222],\n",
       "       [-1.64336898,  0.65096452],\n",
       "       [-0.20129017, -1.01056753],\n",
       "       [-0.92232957,  1.45799438],\n",
       "       [ 0.51974924, -0.96309519],\n",
       "       [ 0.0390563 , -1.05803988],\n",
       "       [-0.44163664,  1.17316031],\n",
       "       [ 0.51974924, -1.05803988],\n",
       "       [ 0.0390563 ,  1.07821562],\n",
       "       [ 1.72148158, -0.91562284],\n",
       "       [-0.44163664,  0.88832625],\n",
       "       [ 0.0390563 ,  0.79338156],\n",
       "       [ 0.0390563 , -1.15298457],\n",
       "       [ 1.72148158, -1.10551222],\n",
       "       [ 0.27940277, -1.05803988],\n",
       "       [-0.20129017, -1.01056753],\n",
       "       [ 0.51974924, -1.01056753],\n",
       "       [-0.44163664,  0.74590921],\n",
       "       [ 0.76009571, -1.01056753],\n",
       "       [ 1.48113511, -1.01056753],\n",
       "       [ 1.48113511,  1.31557735],\n",
       "       [-0.44163664, -0.96309519],\n",
       "       [-0.44163664,  0.88832625],\n",
       "       [-0.44163664, -1.20045691],\n",
       "       [ 0.51974924, -0.82067816],\n",
       "       [-0.20129017, -1.01056753],\n",
       "       [ 0.76009571, -1.05803988],\n",
       "       [-0.44163664, -1.10551222],\n",
       "       [-0.68198311, -1.05803988],\n",
       "       [-0.92232957,  0.93579859],\n",
       "       [ 0.51974924, -1.05803988],\n",
       "       [-0.92232957,  0.69843687],\n",
       "       [ 0.76009571, -1.10551222],\n",
       "       [-0.20129017,  0.8408539 ],\n",
       "       [-1.64336898,  0.4136028 ],\n",
       "       [-0.44163664,  0.69843687],\n",
       "       [-0.44163664,  1.03074328],\n",
       "       [ 0.76009571, -0.96309519],\n",
       "       [ 0.27940277,  1.12568797],\n",
       "       [ 1.48113511,  1.45799438],\n",
       "       [ 1.48113511, -0.96309519],\n",
       "       [-1.40302251,  1.55293907],\n",
       "       [-1.16267604,  0.79338156],\n",
       "       [-0.44163664,  0.74590921],\n",
       "       [-0.44163664,  1.03074328],\n",
       "       [-2.12406192, -1.10551222],\n",
       "       [-1.64336898,  1.03074328],\n",
       "       [ 1.24078865, -1.01056753],\n",
       "       [ 0.51974924,  0.8408539 ],\n",
       "       [-0.68198311,  1.268105  ],\n",
       "       [ 0.0390563 ,  1.12568797],\n",
       "       [ 2.20217452, -1.01056753],\n",
       "       [ 0.27940277,  0.98327094],\n",
       "       [ 1.00044218,  1.17316031],\n",
       "       [-1.64336898,  0.65096452],\n",
       "       [-1.40302251,  0.93579859],\n",
       "       [ 1.00044218, -1.05803988],\n",
       "       [ 0.0390563 , -0.96309519],\n",
       "       [-0.44163664, -1.05803988],\n",
       "       [-0.44163664,  1.07821562],\n",
       "       [ 1.24078865, -1.01056753],\n",
       "       [ 0.0390563 , -1.10551222],\n",
       "       [ 0.27940277, -0.91562284],\n",
       "       [-0.20129017,  0.88832625],\n",
       "       [-0.20129017,  0.69843687],\n",
       "       [ 0.27940277,  0.98327094],\n",
       "       [ 0.51974924,  0.93579859],\n",
       "       [-0.92232957,  0.93579859],\n",
       "       [ 0.51974924, -0.91562284],\n",
       "       [ 0.0390563 ,  0.69843687],\n",
       "       [-0.92232957,  0.60349218],\n",
       "       [ 1.96182805, -1.15298457],\n",
       "       [-1.16267604,  0.69843687],\n",
       "       [-1.16267604,  0.69843687]])"
      ]
     },
     "execution_count": 6,
     "metadata": {},
     "output_type": "execute_result"
    }
   ],
   "source": [
    "# Check the standardization\n",
    "\n",
    "std_X_train"
   ]
  },
  {
   "cell_type": "code",
   "execution_count": 7,
   "metadata": {},
   "outputs": [],
   "source": [
    "# Add a path searching for specific modules\n",
    "sys.path.append(\"../scratch/model/\")\n",
    "\n",
    "# Import a class\n",
    "from scratch_svm import ScratchSVMClassifier"
   ]
  },
  {
   "cell_type": "code",
   "execution_count": 8,
   "metadata": {},
   "outputs": [],
   "source": [
    "# Initialize the class\n",
    "\n",
    "svm = ScratchSVMClassifier(num_iter=1000, lr=0.00000001, threshold=0.00001)"
   ]
  },
  {
   "cell_type": "code",
   "execution_count": 9,
   "metadata": {
    "scrolled": true
   },
   "outputs": [
    {
     "name": "stdout",
     "output_type": "stream",
     "text": [
      "time : 0.08195781707763672s\n"
     ]
    }
   ],
   "source": [
    "# Fit\n",
    "\n",
    "svm.fit(std_X_train, y_train, std_X_test, y_test)"
   ]
  },
  {
   "cell_type": "code",
   "execution_count": 10,
   "metadata": {
    "scrolled": true
   },
   "outputs": [
    {
     "data": {
      "text/plain": [
       "array([[ 1.],\n",
       "       [ 1.],\n",
       "       [ 1.],\n",
       "       [-1.],\n",
       "       [-1.],\n",
       "       [-1.],\n",
       "       [-1.],\n",
       "       [ 1.],\n",
       "       [-1.],\n",
       "       [-1.],\n",
       "       [-1.],\n",
       "       [-1.],\n",
       "       [ 1.],\n",
       "       [-1.],\n",
       "       [ 1.],\n",
       "       [-1.],\n",
       "       [ 1.],\n",
       "       [ 1.],\n",
       "       [-1.],\n",
       "       [-1.]])"
      ]
     },
     "execution_count": 10,
     "metadata": {},
     "output_type": "execute_result"
    }
   ],
   "source": [
    "# Predict\n",
    "\n",
    "svm.predict(std_X_test)"
   ]
  },
  {
   "cell_type": "markdown",
   "metadata": {},
   "source": [
    "## [Task 2] Create Polynomial Kernel Function\n",
    "\n",
    "<br />\n",
    "\n",
    "I will change the structure to deal with a polynomial kernel, not only a linear kernel.\n",
    "\n",
    "<br />\n",
    "\n",
    "Equation of Linear Kernel$\\ \\ \\ \\ \\ \\ \\ \\ \\ \\ \\ \\ \\ \\ \\ \\ \\ \\ \\ \\ k(x_i, x_j) = x_{i}^{T} x_j$\n",
    "\n",
    "<br />\n",
    "\n",
    "Equation of Polynomial Kernel$\\ \\ \\ \\ \\ \\ \\ \\ \\ \\ \\ \\ \\ \\ \\ \\ \\ \\ \\ \\ k(x_i, x_j) = \\gamma(x_{i}^{T} x_j + \\theta_0)^{d}$\n",
    "\n",
    "<br />\n",
    "\n",
    "$\\gamma, \\theta_0, d$ are hyperparameters.\n",
    "\n",
    "\n",
    "A linear kernel equals to a polynomial kernel whose $\\gamma=1, \\theta_0=0, d=1$ respectively."
   ]
  },
  {
   "cell_type": "code",
   "execution_count": null,
   "metadata": {},
   "outputs": [],
   "source": []
  },
  {
   "cell_type": "markdown",
   "metadata": {},
   "source": [
    "# Validation"
   ]
  },
  {
   "cell_type": "markdown",
   "metadata": {},
   "source": [
    "## [Task 3] Compute Index Values"
   ]
  },
  {
   "cell_type": "code",
   "execution_count": 11,
   "metadata": {},
   "outputs": [
    {
     "name": "stdout",
     "output_type": "stream",
     "text": [
      "accuracy score:  1.0\n",
      "precision score:  1.0\n",
      "recall score:  1.0\n",
      "f1 score:  1.0\n",
      "confusion matrix:\n",
      "[[12  0]\n",
      " [ 0  8]]\n"
     ]
    }
   ],
   "source": [
    "svm.compute_index_values(std_X_test, y_test)"
   ]
  },
  {
   "cell_type": "markdown",
   "metadata": {},
   "source": [
    "## [Task 4] Visualize Decision Boundary\n",
    "\n",
    "<br />\n",
    "\n",
    "I will visualize the decision boundary and change the above function to visualize points of the support vectors."
   ]
  },
  {
   "cell_type": "code",
   "execution_count": 12,
   "metadata": {},
   "outputs": [
    {
     "data": {
      "image/png": "[encoded data removed]",
      "text/plain": [
       "<Figure size 432x288 with 1 Axes>"
      ]
     },
     "metadata": {
      "needs_background": "light"
     },
     "output_type": "display_data"
    }
   ],
   "source": [
    "svm.decision_boundary(std_X_train, y_train)"
   ]
  },
  {
   "cell_type": "markdown",
   "metadata": {},
   "source": [
    "## [Task 5] Time Processing\n",
    "\n",
    "<br />\n",
    "\n",
    "Effective implementations of SVM are required because fitting datasets by SVM wastes a lot of time. So, I time processing of the implementations and improve the algorithms. Especially, it is necessary to improve the algorithm of updating the parameters since it needs processing of loops."
   ]
  },
  {
   "cell_type": "markdown",
   "metadata": {},
   "source": [
    "# Discussion"
   ]
  },
  {
   "cell_type": "markdown",
   "metadata": {},
   "source": [
    "## [Task 6] Discuss about Essencial Diffrences between Logistic Regression and SVM"
   ]
  },
  {
   "cell_type": "markdown",
   "metadata": {},
   "source": [
    "    - We are able to handle both classification and regression problems by SVM while we can handle only classification problems by logistic regression.\n",
    "    \n",
    "    - SVM is more versatile than logistic regression because it can apply some kinds of kernels and it has 2 margins, soft and hard one."
   ]
  },
  {
   "cell_type": "code",
   "execution_count": null,
   "metadata": {},
   "outputs": [],
   "source": []
  }
 ],
 "metadata": {
  "kernelspec": {
   "display_name": "Python 3",
   "language": "python",
   "name": "python3"
  },
  "language_info": {
   "codemirror_mode": {
    "name": "ipython",
    "version": 3
   },
   "file_extension": ".py",
   "mimetype": "text/x-python",
   "name": "python",
   "nbconvert_exporter": "python",
   "pygments_lexer": "ipython3",
   "version": "3.6.8"
  }
 },
 "nbformat": 4,
 "nbformat_minor": 2
}
