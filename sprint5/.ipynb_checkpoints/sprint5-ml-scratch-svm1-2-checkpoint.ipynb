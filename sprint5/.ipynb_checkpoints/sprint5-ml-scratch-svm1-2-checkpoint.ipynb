{
 "cells": [
  {
   "cell_type": "markdown",
   "metadata": {},
   "source": [
    "# Implementation from Scratch\n",
    "\n",
    "<br />\n",
    "\n",
    "I am going to implement algorithms by using the least kinds of libraries such as Numpy possible.\n",
    "\n",
    "<br />\n",
    "\n",
    "- In this case, I only implement a classification one while SVM can be used to both classification and regression.\n",
    "\n",
    "\n",
    "- Karnels are important elements of SVM. At first, I will create a linear karnel.\n",
    "\n",
    "\n",
    "- There are 2 margins, hard and soft margins. I am going to choose hard one this time."
   ]
  },
  {
   "cell_type": "markdown",
   "metadata": {},
   "source": [
    "## [Task 1] Create a Class of SVM Classifier"
   ]
  },
  {
   "cell_type": "markdown",
   "metadata": {},
   "source": [
    "#### Steepest Descent Method by Method of Lagrange Multipliers\n",
    "\n",
    "<br />\n",
    "\n",
    "I prepare lagrange multipliers, $\\lambda$. The number of them is the number of samples. Then I update them by using the following equation.\n",
    "\n",
    "$$\n",
    "\\lambda_i^{new} = \\lambda_i + \\alpha(1 - \\sum_{j=1}^{n}{\\lambda_j y_i y_j k(x_i, x_j)})\n",
    "$$\n",
    "\n",
    "Now, $k(x_i, x_j)$ is a kernel function. The following equation is a case of a linear kernel.\n",
    "\n",
    "$$\n",
    "k(x_i, x_j) = x_{i}^{T} x_j\n",
    "$$\n",
    "\n",
    "I am going to make this part a method to handle other kinds of kernels.\n",
    "\n",
    "<br />\n",
    "\n",
    "In addition, I need to fulfill a condition, $\\lambda_i >= 0$ per update. If the condition is not fulfilled, it becomes $\\lambda_i = 0$\n",
    "\n",
    "<br />\n",
    "\n",
    "$i,\\ j$: index of a sample\n",
    "\n",
    "$\\lambda_i^{new}$: lagrange multiplier of updated ith sample\n",
    "\n",
    "$\\lambda_i$: lagrange multiplier of pre-update ith sample\n",
    "\n",
    "$\\alpha$: learning rate\n",
    "\n",
    "$\\lambda_j$: Lagrange multiplier of jth sample\n",
    "\n",
    "$y_i$: label of ith sample\n",
    "\n",
    "$y_j$: label of jth sample\n",
    "\n",
    "$x_i$: feature vector of ith sample\n",
    "\n",
    "$x_j$: feature vector of jth sample\n",
    "\n",
    "<br />\n",
    "\n",
    "I will think of relationships of any single sample with all samples."
   ]
  },
  {
   "cell_type": "markdown",
   "metadata": {},
   "source": [
    "#### Decide Support Vector\n",
    "\n",
    "<br />\n",
    "\n",
    "I will handle a sample that is more than a threshold set by the computed Lagrange multiplier as support vector. Predicting requires the support vector.\n",
    "\n",
    "\n",
    "Thresholds are hyperparameters, but it is a good start to let them about 1e-5."
   ]
  },
  {
   "cell_type": "markdown",
   "metadata": {},
   "source": [
    "#### Prediction\n",
    "\n",
    "<br />\n",
    "\n",
    "When predicting, I compute a feature of data that I want to predict and a feature of a support vector by using a kernel function.\n",
    "\n",
    "<br />\n",
    "\n",
    "The following $y(x)$ is the result of classfication.\n",
    "\n",
    "$$\n",
    "y(x) = \\sum_{n=1}^{N}\\lambda_n y_n k(x, s_n)\n",
    "$$\n",
    "\n",
    "$x$: feature of data that I want to predict\n",
    "\n",
    "$N$: the number of support vectors\n",
    "\n",
    "$n$: index of a support vector\n",
    "\n",
    "$\\lambda_n$: Lagrange multiplier of nth support vector\n",
    "\n",
    "$y_n$: label of nth support vector\n",
    "\n",
    "$k()$: kernel fucntion\n",
    "\n",
    "$s_n$: feature of nth support vector"
   ]
  },
  {
   "cell_type": "code",
   "execution_count": 1,
   "metadata": {},
   "outputs": [],
   "source": [
    "import numpy as np\n",
    "import matplotlib.pyplot as plt\n",
    "from matplotlib.colors import ListedColormap"
   ]
  },
  {
   "cell_type": "code",
   "execution_count": 2,
   "metadata": {},
   "outputs": [],
   "source": [
    "class ScratchSVMClassifier():\n",
    "    def __init__(self, num_iter, lr):\n",
    "        self.iter = num_iter\n",
    "        self.lr = lr\n",
    "        self.y_label = []\n",
    "        self.sv_lt = []\n",
    "        self.a_sv = []        \n",
    "\n",
    "    def fit(self, X, y):\n",
    "        # Lagrange coefficient\n",
    "        a = np.random.rand(len(X), 1)\n",
    "        \n",
    "        # Loop by finding a support vector of each label\n",
    "        for num in range(self.iter):\n",
    "            # Loop of the number of data\n",
    "            for i in range(len(X)):\n",
    "                temp = 0\n",
    "                for j in range(len(X)):\n",
    "                    temp += a[j]*y[i]*y[j]*np.dot(X[i].T, X[j])\n",
    "                # Update the Lagrange coefficient\n",
    "                a[i] = a[i] + self.lr * (1 - temp)\n",
    "                # Think of a case that the Lagrange coefficient is minus\n",
    "                if(a[i] < 0):\n",
    "                    a[i] = 0\n",
    "        # Check whether the Lagrange coefficient is a support vector or not\n",
    "        self.a_sv = a[a >= 1e-5]\n",
    "        # Get indices of the Lagrange multipliers that are more than the threshold\n",
    "        index_sv = np.where(a >= 1e-5)[0]\n",
    "        # Get labels\n",
    "        self.y_label = y[index_sv]\n",
    "        # Get support vectors\n",
    "        self.sv_lt = X[index_sv]       \n",
    "    \n",
    "    \n",
    "    def predict(self, X):\n",
    "        f_x = 0\n",
    "        for i in range(len(self.sv_lt)):\n",
    "                f_x = f_x + self.a_sv[i] * self.y_label[i] * np.dot(X, self.sv_lt[i].T)\n",
    "        return f_x\n",
    "    \n",
    "    \n",
    "    # Definition for visualization\n",
    "    def plot_decision_regions(self, X, model):\n",
    "        plt.scatter(X[:,0], X[:,1], s=80, c=y, marker='o')\n",
    "        #print(model.sv_lt)\n",
    "        for sv in model.sv_lt:\n",
    "            plt.scatter(sv[0], sv[1], s=80, c='c', marker='o')\n",
    "\n",
    "        # Plot the support vectors as well\n",
    "        step = 0.1\n",
    "        mesh_f0, mesh_f1  = np.meshgrid(np.arange(np.min(X[:,0])-0.5, np.max(X[:,0])+0.5, step), np.arange(np.min(X[:,1])-0.5, \n",
    "                                                                                                           np.max(X[:,1])+0.5, step))\n",
    "        mesh = np.c_[np.ravel(mesh_f0),np.ravel(mesh_f1)]\n",
    "        pred = model.predict(mesh).reshape(mesh_f0.shape)\n",
    "        plt.contour(mesh_f0, mesh_f1, pred, 1)\n",
    "        plt.show()"
   ]
  },
  {
   "cell_type": "markdown",
   "metadata": {},
   "source": [
    "### Validate the Class\n",
    "\n",
    "<br />\n",
    "\n",
    "I am going to validate the class by using a simple dataset that I created by myself."
   ]
  },
  {
   "cell_type": "code",
   "execution_count": 3,
   "metadata": {},
   "outputs": [],
   "source": [
    "np.random.seed(seed=0)\n",
    "n_samples = 500\n",
    "f0= [-1, 2]\n",
    "f1 = [2, -1]\n",
    "cov = [[1.0,0.8], [0.8, 1.0]]\n",
    "\n",
    "f0 = np.random.multivariate_normal(f0, cov, int(n_samples/2))\n",
    "f1 = np.random.multivariate_normal(f1, cov, int(n_samples/2))\n",
    "\n",
    "X = np.concatenate((f0, f1))\n",
    "y = np.concatenate((np.ones((int(n_samples/2))), np.ones((int(n_samples/2))) *(-1))).astype(np.int)\n",
    "\n",
    "random_index = np.random.permutation(np.arange(n_samples))\n",
    "X = X[random_index]\n",
    "y = y[random_index]"
   ]
  },
  {
   "cell_type": "code",
   "execution_count": 4,
   "metadata": {},
   "outputs": [
    {
     "data": {
      "image/png": "[encoded data removed]",
      "text/plain": [
       "<Figure size 432x288 with 1 Axes>"
      ]
     },
     "metadata": {
      "needs_background": "light"
     },
     "output_type": "display_data"
    }
   ],
   "source": [
    "plt.scatter(X[:,0], X[:,1], s=50, c=y, marker='o')\n",
    "plt.show()"
   ]
  },
  {
   "cell_type": "code",
   "execution_count": 5,
   "metadata": {},
   "outputs": [],
   "source": [
    "# Initialize the class\n",
    "\n",
    "svm = ScratchSVMClassifier(50, 1e-2)"
   ]
  },
  {
   "cell_type": "code",
   "execution_count": 6,
   "metadata": {
    "scrolled": true
   },
   "outputs": [],
   "source": [
    "# Fit\n",
    "\n",
    "svm.fit(X,y)"
   ]
  },
  {
   "cell_type": "markdown",
   "metadata": {},
   "source": [
    "## [Task 2] Create Polynomial Kernel Function\n",
    "\n",
    "<br />\n",
    "\n",
    "I will change the structure to deal with a polynomial kernel, not only a linear kernel.\n",
    "\n",
    "<br />\n",
    "\n",
    "Equation of Linear Kernel$\\ \\ \\ \\ \\ \\ \\ \\ \\ \\ \\ \\ \\ \\ \\ \\ \\ \\ \\ \\ k(x_i, x_j) = x_{i}^{T} x_j$\n",
    "\n",
    "<br />\n",
    "\n",
    "Equation of Polynomial Kernel$\\ \\ \\ \\ \\ \\ \\ \\ \\ \\ \\ \\ \\ \\ \\ \\ \\ \\ \\ \\ k(x_i, x_j) = \\gamma(x_{i}^{T} x_j + \\theta_0)^{d}$\n",
    "\n",
    "<br />\n",
    "\n",
    "$\\gamma, \\theta_0, d$ are hyperparameters.\n",
    "\n",
    "\n",
    "A linear kernel equals to a polynomial kernel whose $\\gamma=1, \\theta_0=0, d=1$ respectively."
   ]
  },
  {
   "cell_type": "markdown",
   "metadata": {},
   "source": [
    "# Validation"
   ]
  },
  {
   "cell_type": "markdown",
   "metadata": {},
   "source": [
    "## [Task 3] Compute Index Values"
   ]
  },
  {
   "cell_type": "markdown",
   "metadata": {},
   "source": [
    "## [Task 4] Visualize Decision Boundary\n",
    "\n",
    "<br />\n",
    "\n",
    "I will visualize the decision boundary and change the above function to visualize points of the support vectors."
   ]
  },
  {
   "cell_type": "code",
   "execution_count": 7,
   "metadata": {},
   "outputs": [
    {
     "data": {
      "image/png": "[encoded data removed]",
      "text/plain": [
       "<Figure size 432x288 with 1 Axes>"
      ]
     },
     "metadata": {
      "needs_background": "light"
     },
     "output_type": "display_data"
    }
   ],
   "source": [
    "svm.plot_decision_regions(X,svm)"
   ]
  },
  {
   "cell_type": "markdown",
   "metadata": {},
   "source": [
    "## [Task 5] Time Processing\n",
    "\n",
    "<br />\n",
    "\n",
    "Effective implementations of SVM are required because fitting datasets by SVM wastes a lot of time. So, I time processing of the implementations and improve the algorithms. Especially, it is necessary to improve the algorithm of updating the parameters since it needs processing of loops."
   ]
  },
  {
   "cell_type": "markdown",
   "metadata": {},
   "source": [
    "# Discussion"
   ]
  },
  {
   "cell_type": "markdown",
   "metadata": {},
   "source": [
    "## [Task 6] Discuss about Essencial Diffrences between Logistic Regression and SVM"
   ]
  },
  {
   "cell_type": "markdown",
   "metadata": {},
   "source": [
    "    - We are able to handle both classification and regression problems by SVM while we can handle only classification problems by logistic regression.\n",
    "    \n",
    "    - SVM is more versatile than logistic regression because it can apply some kinds of kernels and it has 2 margins, soft and hard one."
   ]
  },
  {
   "cell_type": "code",
   "execution_count": null,
   "metadata": {},
   "outputs": [],
   "source": []
  }
 ],
 "metadata": {
  "kernelspec": {
   "display_name": "Python 3",
   "language": "python",
   "name": "python3"
  },
  "language_info": {
   "codemirror_mode": {
    "name": "ipython",
    "version": 3
   },
   "file_extension": ".py",
   "mimetype": "text/x-python",
   "name": "python",
   "nbconvert_exporter": "python",
   "pygments_lexer": "ipython3",
   "version": "3.6.8"
  }
 },
 "nbformat": 4,
 "nbformat_minor": 2
}
