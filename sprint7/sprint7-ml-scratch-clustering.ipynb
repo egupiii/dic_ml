{
 "cells": [
  {
   "cell_type": "markdown",
   "metadata": {},
   "source": [
    "# Implementation from Scratch\n",
    "\n",
    "<br />\n",
    "\n",
    "I am going to implement algorithms by using the least kinds of libraries such as Numpy possible."
   ]
  },
  {
   "cell_type": "markdown",
   "metadata": {},
   "source": [
    "## [Task 1] Create a Class of K-means\n",
    "\n",
    "<br />\n",
    "\n",
    "I am going to create a class of K-means that is a nonhierarchical clustering method."
   ]
  },
  {
   "cell_type": "markdown",
   "metadata": {},
   "source": [
    "#### Artificial Dataset for Clustering\n",
    "\n",
    "<br />\n",
    "\n",
    "I prepare an artificial dataset for the validation of the clustering.\n",
    "\n",
    "The make_blobs function outputs correct labels, but I do not use them on this task."
   ]
  },
  {
   "cell_type": "code",
   "execution_count": 1,
   "metadata": {},
   "outputs": [],
   "source": [
    "from sklearn.datasets import make_blobs\n",
    "\n",
    "X, _ = make_blobs(n_samples=100, n_features=2, centers=4, cluster_std=0.5, shuffle=True, random_state=0)"
   ]
  },
  {
   "cell_type": "code",
   "execution_count": 2,
   "metadata": {},
   "outputs": [
    {
     "data": {
      "text/plain": [
       "array([[ 0.72086751,  3.71347124],\n",
       "       [-1.89468423,  7.96898545],\n",
       "       [ 1.35678894,  4.36462484],\n",
       "       [ 1.05374379,  4.49286859],\n",
       "       [ 1.59141542,  4.90497725],\n",
       "       [ 0.78260667,  4.15263595],\n",
       "       [-1.95751686,  3.87291474],\n",
       "       [-0.77354537,  7.87923564],\n",
       "       [ 0.12313498,  5.27917503],\n",
       "       [-1.43284669,  7.71577043],\n",
       "       [-0.92819001,  7.02698199],\n",
       "       [-1.74836345,  7.06307447],\n",
       "       [-1.26789718,  7.25141327],\n",
       "       [-0.98661744,  7.74968685],\n",
       "       [-0.81984047,  7.50994722],\n",
       "       [ 2.99684287,  0.22378413],\n",
       "       [ 1.46870582,  1.86947425],\n",
       "       [-0.33533163,  3.390122  ],\n",
       "       [-1.86407034,  2.93379754],\n",
       "       [ 2.62496786,  0.28025075],\n",
       "       [ 2.11114739,  3.57660449],\n",
       "       [-1.8219901 ,  7.61654999],\n",
       "       [-1.91186205,  3.18750686],\n",
       "       [ 2.28809874,  0.12954182],\n",
       "       [ 0.5285368 ,  4.49723858],\n",
       "       [-1.57613028,  2.58614312],\n",
       "       [-0.565433  ,  3.65813966],\n",
       "       [ 0.802314  ,  4.38196181],\n",
       "       [ 2.79939362,  1.84560825],\n",
       "       [ 2.64465731,  0.80770124],\n",
       "       [ 1.7190373 ,  0.71788708],\n",
       "       [-0.93564005,  7.03443119],\n",
       "       [ 2.14398059,  0.69677319],\n",
       "       [ 2.06051753,  1.79059891],\n",
       "       [-1.21986433,  3.3789856 ],\n",
       "       [ 1.13280393,  3.87673946],\n",
       "       [-1.497272  ,  8.80022604],\n",
       "       [ 1.85367905,  1.5088862 ],\n",
       "       [-0.1666378 ,  8.50372399],\n",
       "       [-1.89928142,  2.50466299],\n",
       "       [ 1.04829186,  5.03092408],\n",
       "       [-1.44356727,  3.23539798],\n",
       "       [-1.57006498,  6.72375844],\n",
       "       [-1.98331513,  3.47639041],\n",
       "       [-1.87418794,  2.84306499],\n",
       "       [-1.86097353,  8.2576415 ],\n",
       "       [ 1.61986895,  0.60823883],\n",
       "       [-1.84482705,  3.25609891],\n",
       "       [ 0.72144399,  4.08475018],\n",
       "       [ 0.5323772 ,  3.31338909],\n",
       "       [ 0.3498724 ,  4.69253251],\n",
       "       [ 1.89949126,  0.92574633],\n",
       "       [-1.2386086 ,  2.81373288],\n",
       "       [-1.74448079,  3.84251413],\n",
       "       [-0.96358605,  2.37791651],\n",
       "       [-1.26041884,  7.46644456],\n",
       "       [-0.8623605 ,  8.24721209],\n",
       "       [ 2.4198128 ,  0.96215512],\n",
       "       [ 2.23345072,  1.25095024],\n",
       "       [-0.65424088,  7.99393132],\n",
       "       [-1.42525273,  7.14798437],\n",
       "       [ 1.51989121,  1.42488952],\n",
       "       [ 2.11872357,  1.09865834],\n",
       "       [ 1.74265969,  5.03846671],\n",
       "       [ 1.42002502,  1.38236201],\n",
       "       [-0.69842598,  8.16309188],\n",
       "       [-2.18485772,  2.68708996],\n",
       "       [-1.32890066,  2.37135151],\n",
       "       [ 2.15940501,  1.38598318],\n",
       "       [ 1.19820169,  4.47062449],\n",
       "       [-1.7653772 ,  8.17625727],\n",
       "       [ 1.4726926 ,  1.3480769 ],\n",
       "       [ 0.92466065,  4.50908658],\n",
       "       [-1.47602203,  7.8441996 ],\n",
       "       [ 0.99914934,  4.2101954 ],\n",
       "       [ 1.40848818,  3.93270482],\n",
       "       [-0.59312453,  3.37090459],\n",
       "       [-1.6609057 ,  3.31911046],\n",
       "       [ 2.25643834,  0.55525861],\n",
       "       [ 1.24016835,  1.12905479],\n",
       "       [ 1.64869438,  0.03452236],\n",
       "       [-1.61803727,  8.60696731],\n",
       "       [-1.37778493,  3.58107521],\n",
       "       [ 0.16932115,  4.19741719],\n",
       "       [ 1.73810647,  0.71629308],\n",
       "       [-1.05327803,  2.84037721],\n",
       "       [ 1.60161834,  0.92363636],\n",
       "       [ 1.84845803,  0.52393625],\n",
       "       [ 1.72330962,  4.2012082 ],\n",
       "       [ 1.00952869,  4.45502328],\n",
       "       [ 0.96217896,  4.51795326],\n",
       "       [-1.33869125,  2.36818187],\n",
       "       [ 0.4519936 ,  3.59377836],\n",
       "       [-1.19075663,  3.12161318],\n",
       "       [-2.27253281,  3.13757811],\n",
       "       [-1.80044744,  7.86154256],\n",
       "       [-1.64996061,  7.49068513],\n",
       "       [-1.56102482,  3.77455362],\n",
       "       [-0.78782636,  7.99482384],\n",
       "       [-0.30022483,  4.63059663]])"
      ]
     },
     "execution_count": 2,
     "metadata": {},
     "output_type": "execute_result"
    }
   ],
   "source": [
    "X"
   ]
  },
  {
   "cell_type": "markdown",
   "metadata": {},
   "source": [
    "#### Objective Function\n",
    "\n",
    "<br />\n",
    "\n",
    "K-means fit datasets by computing $r_{nk}$ and $\\mu$ minimizing SSE, sum of squared errors.\n",
    "\n",
    "I use this to take the number of clusters, $K$ on the elbow method.\n",
    "\n",
    "$$\n",
    "SSE = \\sum_{n=1}^N \\sum_{k=1}^K r_{nk} \\|X_n - \\mu_k\\|^2\n",
    "$$\n",
    "\n",
    "$n$: index of a data point\n",
    "\n",
    "$k$: index of a cluster\n",
    "\n",
    "$X_n$: $n$th data point\n",
    "\n",
    "$\\mu_k$: $k$th central point\n",
    "\n",
    "$r_{nk}$: 1 if the data point $X_n$ is in the cluster $k$, 0 if not."
   ]
  },
  {
   "cell_type": "markdown",
   "metadata": {},
   "source": [
    "#### Fitting\n",
    "\n",
    "<br />\n",
    "\n",
    "Basics of fitting by K-means are repeating the following 2 steps."
   ]
  },
  {
   "cell_type": "markdown",
   "metadata": {},
   "source": [
    "#### Euclidean distance\n",
    "\n",
    "<br />\n",
    "\n",
    "In terms of K-means, *near* means a value of the Euclidean distance between 2 points is small.\n",
    "\n",
    "It can be computed by the following equation when I let $p, q$ vectors.\n",
    "\n",
    "$$\n",
    "\\|q-p\\| = \\sqrt{(q-p)\\cdot(q-p)}\n",
    "$$"
   ]
  },
  {
   "cell_type": "markdown",
   "metadata": {},
   "source": [
    "#### Initial values\n",
    "\n",
    "<br />\n",
    "\n",
    "In this task, I will take the most simplest way that I choose k points as initial values randomly from data points $X_n$."
   ]
  },
  {
   "cell_type": "markdown",
   "metadata": {},
   "source": [
    "#### Prediction\n",
    "\n",
    "<br />\n",
    "\n",
    "When I predict what cluster each new data point belong to, I do the same work with the first phase of fitting.\n",
    "\n",
    "- On data points $X_n$, I will take centroids $\\mu_k$ by fitting and choose $r_{nk}$ minimalizing the SSE.\n",
    "\n",
    "<br />\n",
    "\n",
    "To be concrete,\n",
    "\n",
    "- I will assign each data point to the most nearest $\\mu_k$."
   ]
  },
  {
   "cell_type": "code",
   "execution_count": 72,
   "metadata": {},
   "outputs": [],
   "source": [
    "import numpy as np\n",
    "import random\n",
    "import matplotlib.pyplot as plt"
   ]
  },
  {
   "cell_type": "code",
   "execution_count": 213,
   "metadata": {},
   "outputs": [],
   "source": [
    "# Create a class of K-means from scratch\n",
    "\n",
    "class ScratchKMeans():\n",
    "    \"\"\"\n",
    "    Implement K-means from scratch.\n",
    "    \n",
    "    Parameters\n",
    "    ----------\n",
    "    k: int\n",
    "        The number of labels\n",
    "    \n",
    "    num_iter: int\n",
    "        The number of iteration\n",
    "    \n",
    "    Attributes\n",
    "    ----------\n",
    "    centroids: ndarray whose shape is (n_features,n_iters)\n",
    "        K centroids already fitted\n",
    "    \n",
    "    sse: \n",
    "    \"\"\"\n",
    "    \n",
    "    def __init__(self, k, num_iter):\n",
    "        # Record hyperparameters as attribute\n",
    "        self.k = k\n",
    "        self.iter = num_iter\n",
    "    \n",
    "    \n",
    "    def fit(self, X):\n",
    "        \"\"\"\n",
    "        Fit datasets by K-means.\n",
    "        \n",
    "        Parameters\n",
    "        ----------\n",
    "        X: ndarray whose shape is (n_samples,n_features)\n",
    "            Features of train dataset\n",
    "        \"\"\"\n",
    "        \n",
    "        # Transform arrays to move their features to rows\n",
    "        X = X.T\n",
    "        \n",
    "        # Set initial central points\n",
    "        np.random.seed(32)\n",
    "        index = np.array(range(X.shape[1]))\n",
    "        np.random.shuffle(index)\n",
    "        k_index = index[:self.k]\n",
    "        self.centroids = X[:,k_index]\n",
    "        \n",
    "        # Update the centroids untill they are changing\n",
    "        for i in range(self.iter):\n",
    "            cluster_table = self.assign_cluster(X, self.centroids)\n",
    "            temporary_centroids = self.update_centroids(X, cluster_table)\n",
    "            if np.allclose(self.centroids, temporary_centroids):\n",
    "                break\n",
    "            else:\n",
    "                self.centroids = temporary_centroids\n",
    "#                 print(\"iter:\",i)\n",
    "        \n",
    "        # Compute the SSE\n",
    "        return np.sum(np.square(cluster_table))\n",
    "    \n",
    "    \n",
    "    # Compute distances between each point and central points and assign them to theirown label\n",
    "    def assign_cluster(self, X, centroids):\n",
    "        \"\"\"\n",
    "        Assign each data point to the most nearest cluster.\n",
    "        \n",
    "        Parameters\n",
    "        ----------\n",
    "        X: ndarray whose shape is (n_samples,n_features)\n",
    "            Features of train dataset\n",
    "        \n",
    "        centroids: ndarray whose shape is (n_features,n_iters)\n",
    "            Initial k centroids\n",
    "        \n",
    "        Returns\n",
    "        ----------\n",
    "        cluster_table: ndarray whose shape is (n_samples,n_clusters)\n",
    "            A table showing what cluster each data point belong to and distances between each data point and the most nearest cluster\n",
    "        \"\"\"\n",
    "        \n",
    "        cluster_table = np.zeros((X.shape[1], self.k))\n",
    "        for i in range(X.shape[1]):\n",
    "            min_d = 1e+10000\n",
    "            label = 0\n",
    "            for j in range(self.k):\n",
    "                d = np.linalg.norm(X[:,i]-centroids[:,j])\n",
    "                if d < min_d:\n",
    "                    min_d = d\n",
    "                    label = j\n",
    "            cluster_table[i,label] = min_d\n",
    "        \n",
    "        return cluster_table\n",
    "    \n",
    "    \n",
    "    # Update centroids\n",
    "    def update_centroids(self, X, cluster_table):\n",
    "        \"\"\"\n",
    "        Assign each data point to the most nearest cluster.\n",
    "        \n",
    "        Parameters\n",
    "        ----------\n",
    "        X: ndarray whose shape is (n_samples,n_features)\n",
    "            Features of train dataset\n",
    "        \n",
    "        cluster_table: ndarray whose shape is (n_samples,n_clusters)\n",
    "            A table showing what cluster each data point belong to and distances between each data point and the most nearest cluster\n",
    "        \n",
    "        Returns\n",
    "        ----------\n",
    "        centroids: ndarray whose shape is (n_features,n_iters)\n",
    "            Updated k centroids\n",
    "        \"\"\"\n",
    "        \n",
    "        centroids = np.zeros((2, self.k))\n",
    "        for i in range(self.k):\n",
    "            index = np.where(cluster_table[:,i]!=0)\n",
    "            centroids[0,i] = sum(X[0,index[0]])/len(index[0])\n",
    "            centroids[1,i] = sum(X[1,index[0]])/len(index[0])\n",
    "        \n",
    "        return centroids\n",
    "    \n",
    "    \n",
    "    def predict(self, X):\n",
    "        \"\"\"\n",
    "        Predict datasets by K-means.\n",
    "        \n",
    "        Parameters\n",
    "        ----------\n",
    "        X: ndarray whose shape is (n_samples,n_features)\n",
    "            Features of train dataset\n",
    "        \n",
    "        Returns\n",
    "        ----------\n",
    "        y_pred: ndarray whose shape is (n_samples,n_clusters)\n",
    "            A table showing what cluster each data point belong to and distances between each data point and the most nearest cluster\n",
    "        \"\"\"\n",
    "        \n",
    "        # Transform arrays to move their features to rows\n",
    "        X = X.T\n",
    "        \n",
    "        # Return a cluster table\n",
    "        return self.assign_cluster(X, self.centroids)\n",
    "    \n",
    "    \n",
    "    # Implement the Elbow method\n",
    "    def elbow_method(self, X, kinds_of_clusters):\n",
    "        \"\"\"\n",
    "        Implement the Elbow method.\n",
    "        \n",
    "        Parameters\n",
    "        ----------\n",
    "        X: ndarray whose shape is (n_samples,n_features)\n",
    "            Features of train dataset\n",
    "        \n",
    "        kinds_of_clusters: int\n",
    "            The number of kinds of clusters\n",
    "        \"\"\"\n",
    "        \n",
    "        k_list = []\n",
    "        sse_list = []\n",
    "        for i in range(kinds_of_clusters+1):\n",
    "            kmeans = ScratchKMeans(i+1,100)\n",
    "            sse = kmeans.fit(X)\n",
    "            k_list.append(i+1)\n",
    "            sse_list.append(sse)\n",
    "        \n",
    "        plt.figure(facecolor=\"azure\", edgecolor=\"coral\")\n",
    "        plt.grid(True)\n",
    "        \n",
    "        plt.plot(k_list, sse_list)\n",
    "        \n",
    "        plt.title(\"Elbow Method\")\n",
    "        plt.xlabel(\"Number of Clusters\")\n",
    "        plt.ylabel(\"SSE\")\n",
    "        \n",
    "        plt.show()"
   ]
  },
  {
   "cell_type": "code",
   "execution_count": 214,
   "metadata": {},
   "outputs": [],
   "source": [
    "# Initialize the class\n",
    "\n",
    "kmeans = ScratchKMeans(13,100)"
   ]
  },
  {
   "cell_type": "code",
   "execution_count": 215,
   "metadata": {},
   "outputs": [
    {
     "data": {
      "text/plain": [
       "22.208689719369755"
      ]
     },
     "execution_count": 215,
     "metadata": {},
     "output_type": "execute_result"
    }
   ],
   "source": [
    "# Fitting\n",
    "\n",
    "kmeans.fit(X)"
   ]
  },
  {
   "cell_type": "code",
   "execution_count": 216,
   "metadata": {},
   "outputs": [],
   "source": [
    "# Prediction\n",
    "\n",
    "# kmeans.predict()"
   ]
  },
  {
   "cell_type": "markdown",
   "metadata": {},
   "source": [
    "## [Task 2] Implement Elbow method"
   ]
  },
  {
   "cell_type": "code",
   "execution_count": 217,
   "metadata": {},
   "outputs": [
    {
     "data": {
      "image/png": "[encoded data removed]",
      "text/plain": [
       "<Figure size 432x288 with 1 Axes>"
      ]
     },
     "metadata": {},
     "output_type": "display_data"
    }
   ],
   "source": [
    "# Implement the Elbow method\n",
    "\n",
    "kmeans.elbow_method(X, 12)"
   ]
  },
  {
   "cell_type": "markdown",
   "metadata": {},
   "source": [
    "## [Task 3] Silhouette Plot"
   ]
  },
  {
   "cell_type": "markdown",
   "metadata": {},
   "source": [
    "# Clustering Analysis"
   ]
  },
  {
   "cell_type": "markdown",
   "metadata": {},
   "source": [
    "#### Data Analysis for wholesalers"
   ]
  },
  {
   "cell_type": "code",
   "execution_count": null,
   "metadata": {},
   "outputs": [],
   "source": []
  }
 ],
 "metadata": {
  "kernelspec": {
   "display_name": "Python 3",
   "language": "python",
   "name": "python3"
  },
  "language_info": {
   "codemirror_mode": {
    "name": "ipython",
    "version": 3
   },
   "file_extension": ".py",
   "mimetype": "text/x-python",
   "name": "python",
   "nbconvert_exporter": "python",
   "pygments_lexer": "ipython3",
   "version": "3.6.8"
  }
 },
 "nbformat": 4,
 "nbformat_minor": 2
}
