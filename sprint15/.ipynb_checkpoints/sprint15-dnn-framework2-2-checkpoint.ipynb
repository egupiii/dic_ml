{
 "cells": [
  {
   "cell_type": "markdown",
   "metadata": {},
   "source": [
    "# Rewrite to Other Kinds of Frameworks\n",
    "\n",
    "<br />\n",
    "\n",
    "I will rewrite codes of TensorFlow that I created on the sprint 14 that handle 4 kinds of datasets to the other kind of frameworks, Keras."
   ]
  },
  {
   "cell_type": "markdown",
   "metadata": {},
   "source": [
    "## [Task 3] Fit Iris Dataset by Keras (Multinomial Classification)"
   ]
  },
  {
   "cell_type": "code",
   "execution_count": 1,
   "metadata": {},
   "outputs": [],
   "source": [
    "import pandas as pd\n",
    "import numpy as np\n",
    "from sklearn.model_selection import train_test_split\n",
    "import tensorflow as tf\n",
    "from sklearn.preprocessing import OneHotEncoder\n",
    "from tensorflow.keras import layers\n",
    "import matplotlib.pylab as plt"
   ]
  },
  {
   "cell_type": "code",
   "execution_count": 2,
   "metadata": {},
   "outputs": [],
   "source": [
    "# Read dataset\n",
    "\n",
    "dataset_path = \"Iris.csv\"\n",
    "df = pd.read_csv(dataset_path)"
   ]
  },
  {
   "cell_type": "code",
   "execution_count": 3,
   "metadata": {},
   "outputs": [],
   "source": [
    "y = df[\"Species\"]\n",
    "X = df.loc[:, [\"SepalLengthCm\", \"SepalWidthCm\", \"PetalLengthCm\", \"PetalWidthCm\"]]\n",
    "\n",
    "y = np.array(y)\n",
    "X = np.array(X)"
   ]
  },
  {
   "cell_type": "code",
   "execution_count": 4,
   "metadata": {},
   "outputs": [],
   "source": [
    "# Change labels to values\n",
    "\n",
    "y[y=='Iris-setosa'] = 0\n",
    "y[y=='Iris-versicolor'] = 1\n",
    "y[y=='Iris-virginica'] = 2\n",
    "\n",
    "y = y.astype(np.int)[:, np.newaxis]"
   ]
  },
  {
   "cell_type": "code",
   "execution_count": 5,
   "metadata": {},
   "outputs": [],
   "source": [
    "# One hot encoding\n",
    "\n",
    "# Initialize\n",
    "ohe = OneHotEncoder(handle_unknown='ignore', sparse=False)\n",
    "\n",
    "# Fit\n",
    "y_one_hot = ohe.fit_transform(y)"
   ]
  },
  {
   "cell_type": "code",
   "execution_count": 6,
   "metadata": {},
   "outputs": [],
   "source": [
    "# Split the dataframe into train and test datasets\n",
    "\n",
    "X_train, X_test, y_train, y_test = train_test_split(X, y_one_hot, test_size=0.2, random_state=0)"
   ]
  },
  {
   "cell_type": "code",
   "execution_count": 7,
   "metadata": {},
   "outputs": [],
   "source": [
    "# Split the train dataset into train and validation datasets again\n",
    "\n",
    "X_train, X_val, y_train, y_val = train_test_split(X_train, y_train, test_size=0.2, random_state=0)"
   ]
  },
  {
   "cell_type": "code",
   "execution_count": 8,
   "metadata": {},
   "outputs": [],
   "source": [
    "# Set hyperparameters\n",
    "\n",
    "LEARNING_RATE = 0.01\n",
    "BATCH_SIZE = 10\n",
    "NUM_EPOCHS = 10"
   ]
  },
  {
   "cell_type": "code",
   "execution_count": 9,
   "metadata": {},
   "outputs": [],
   "source": [
    "N_HIDDEN1 = 50\n",
    "N_HIDDEN2 = 100\n",
    "N_CLASSES = 3"
   ]
  },
  {
   "cell_type": "code",
   "execution_count": 11,
   "metadata": {},
   "outputs": [],
   "source": [
    "# Initialize\n",
    "model = tf.keras.Sequential()\n",
    "\n",
    "# 1st layer\n",
    "model.add(tf.keras.layers.Dense(N_HIDDEN1, activation=tf.nn.relu, input_shape=(4,)))\n",
    "\n",
    "# 2nd layer\n",
    "model.add(tf.keras.layers.Dense(N_HIDDEN2, activation=tf.nn.relu))\n",
    "\n",
    "# 3rd layer\n",
    "model.add(tf.keras.layers.Dense(N_CLASSES, activation=tf.nn.softmax))"
   ]
  },
  {
   "cell_type": "code",
   "execution_count": 12,
   "metadata": {},
   "outputs": [
    {
     "name": "stdout",
     "output_type": "stream",
     "text": [
      "_________________________________________________________________\n",
      "Layer (type)                 Output Shape              Param #   \n",
      "=================================================================\n",
      "dense_3 (Dense)              (None, 50)                250       \n",
      "_________________________________________________________________\n",
      "dense_4 (Dense)              (None, 100)               5100      \n",
      "_________________________________________________________________\n",
      "dense_5 (Dense)              (None, 3)                 303       \n",
      "=================================================================\n",
      "Total params: 5,653\n",
      "Trainable params: 5,653\n",
      "Non-trainable params: 0\n",
      "_________________________________________________________________\n"
     ]
    }
   ],
   "source": [
    "# Check\n",
    "\n",
    "model.summary()"
   ]
  },
  {
   "cell_type": "code",
   "execution_count": 13,
   "metadata": {},
   "outputs": [],
   "source": [
    "# Compile\n",
    "\n",
    "model.compile(loss='categorical_crossentropy',\n",
    "              optimizer=tf.train.AdamOptimizer(learning_rate=LEARNING_RATE),\n",
    "              metrics=['accuracy'])"
   ]
  },
  {
   "cell_type": "code",
   "execution_count": 14,
   "metadata": {
    "scrolled": true
   },
   "outputs": [
    {
     "name": "stdout",
     "output_type": "stream",
     "text": [
      "Train on 96 samples, validate on 24 samples\n",
      "WARNING:tensorflow:From /anaconda3/lib/python3.7/site-packages/tensorflow/python/ops/math_ops.py:3066: to_int32 (from tensorflow.python.ops.math_ops) is deprecated and will be removed in a future version.\n",
      "Instructions for updating:\n",
      "Use tf.cast instead.\n",
      "Epoch 1/10\n",
      "96/96 [==============================] - 0s 2ms/sample - loss: 0.7773 - acc: 0.6458 - val_loss: 0.5087 - val_acc: 0.7083\n",
      "Epoch 2/10\n",
      "96/96 [==============================] - 0s 348us/sample - loss: 0.3850 - acc: 0.8021 - val_loss: 0.3610 - val_acc: 0.7917\n",
      "Epoch 3/10\n",
      "96/96 [==============================] - 0s 374us/sample - loss: 0.3222 - acc: 0.8125 - val_loss: 0.4742 - val_acc: 0.7083\n",
      "Epoch 4/10\n",
      "96/96 [==============================] - 0s 349us/sample - loss: 0.1521 - acc: 0.9688 - val_loss: 0.3239 - val_acc: 0.9167\n",
      "Epoch 5/10\n",
      "96/96 [==============================] - 0s 331us/sample - loss: 0.1393 - acc: 0.9688 - val_loss: 0.2609 - val_acc: 0.9167\n",
      "Epoch 6/10\n",
      "96/96 [==============================] - 0s 367us/sample - loss: 0.1559 - acc: 0.9479 - val_loss: 0.2270 - val_acc: 0.9167\n",
      "Epoch 7/10\n",
      "96/96 [==============================] - 0s 384us/sample - loss: 0.1668 - acc: 0.9062 - val_loss: 0.2024 - val_acc: 0.9167\n",
      "Epoch 8/10\n",
      "96/96 [==============================] - 0s 304us/sample - loss: 0.2046 - acc: 0.9062 - val_loss: 0.2916 - val_acc: 0.9167\n",
      "Epoch 9/10\n",
      "96/96 [==============================] - 0s 271us/sample - loss: 0.1180 - acc: 0.9479 - val_loss: 0.2767 - val_acc: 0.9167\n",
      "Epoch 10/10\n",
      "96/96 [==============================] - 0s 300us/sample - loss: 0.1009 - acc: 0.9688 - val_loss: 0.4882 - val_acc: 0.8333\n"
     ]
    }
   ],
   "source": [
    "# Fit\n",
    "\n",
    "history = model.fit(X_train, y_train,\n",
    "                    batch_size=BATCH_SIZE,\n",
    "                    epochs=NUM_EPOCHS,\n",
    "                    verbose=1,\n",
    "                    validation_data=(X_val, y_val))"
   ]
  },
  {
   "cell_type": "code",
   "execution_count": 15,
   "metadata": {},
   "outputs": [
    {
     "name": "stdout",
     "output_type": "stream",
     "text": [
      "y_pred_proba [8.2187327e-08 1.9133375e-03 9.9981159e-01 3.8499305e-08 9.9811882e-01\n",
      " 6.2649388e-09 9.9895132e-01 3.0092715e-04 1.7147390e-04 1.8630278e-03\n",
      " 4.0441478e-07 5.2245153e-04 1.5063692e-04 1.6436784e-04 6.4429274e-05\n",
      " 9.9663794e-01 1.0791540e-04 9.6768337e-05 9.9542481e-01 9.9960417e-01\n",
      " 4.2245779e-07 4.4409629e-05 9.9409145e-01 9.9428362e-01 2.3997795e-06\n",
      " 9.9962997e-01 9.9712080e-01 9.6858811e-04 7.0951437e-03 9.9676716e-01]\n",
      "y_pred [0 0 1 0 1 0 1 0 0 0 0 0 0 0 0 1 0 0 1 1 0 0 1 1 0 1 1 0 0 1]\n"
     ]
    }
   ],
   "source": [
    "# Predict\n",
    "\n",
    "y_pred_proba = model.predict(X_test)[:,0]\n",
    "\n",
    "# Change probabilities to 0/1\n",
    "y_pred = np.where(y_pred_proba>0.5, 1, 0)\n",
    "\n",
    "print(\"y_pred_proba\", y_pred_proba)\n",
    "print(\"y_pred\", y_pred)"
   ]
  },
  {
   "cell_type": "code",
   "execution_count": 16,
   "metadata": {},
   "outputs": [
    {
     "name": "stdout",
     "output_type": "stream",
     "text": [
      "Test loss: 0.376699298620224\n",
      "Test accuracy: 0.76666665\n"
     ]
    }
   ],
   "source": [
    "# Evaluate\n",
    "\n",
    "score = model.evaluate(X_test, y_test, verbose=0)\n",
    "print('Test loss:', score[0])\n",
    "print('Test accuracy:', score[1])"
   ]
  },
  {
   "cell_type": "code",
   "execution_count": 18,
   "metadata": {},
   "outputs": [
    {
     "data": {
      "image/png": "[encoded data removed]",
      "text/plain": [
       "<Figure size 720x288 with 2 Axes>"
      ]
     },
     "metadata": {
      "needs_background": "light"
     },
     "output_type": "display_data"
    }
   ],
   "source": [
    "fig, (axL, axR) = plt.subplots(ncols=2, figsize=(10,4))\n",
    "\n",
    "# loss\n",
    "def plot_history_loss(fit):\n",
    "    # Plot the loss in the history\n",
    "    axL.plot(fit.history['loss'],label=\"Loss for Train\")\n",
    "    axL.plot(fit.history['val_loss'],label=\"Loss for Validation\")\n",
    "    axL.set_title('Loss')\n",
    "    axL.set_xlabel('Number of Epochs')\n",
    "    axL.set_ylabel('Loss')\n",
    "    axL.legend(loc='upper right')\n",
    "\n",
    "# acc\n",
    "def plot_history_acc(fit):\n",
    "    # Plot the loss in the history\n",
    "    axR.plot(fit.history['acc'],label=\"Loss for Train\")\n",
    "    axR.plot(fit.history['val_acc'],label=\"Loss for Validation\")\n",
    "    axR.set_title('Accuracy')\n",
    "    axR.set_xlabel('Number of Epochs')\n",
    "    axR.set_ylabel('Accuracy')\n",
    "    axR.legend(loc='lower right')\n",
    "\n",
    "plot_history_loss(history)\n",
    "plot_history_acc(history)"
   ]
  },
  {
   "cell_type": "code",
   "execution_count": null,
   "metadata": {},
   "outputs": [],
   "source": []
  }
 ],
 "metadata": {
  "kernelspec": {
   "display_name": "Python 3",
   "language": "python",
   "name": "python3"
  },
  "language_info": {
   "codemirror_mode": {
    "name": "ipython",
    "version": 3
   },
   "file_extension": ".py",
   "mimetype": "text/x-python",
   "name": "python",
   "nbconvert_exporter": "python",
   "pygments_lexer": "ipython3",
   "version": "3.7.1"
  }
 },
 "nbformat": 4,
 "nbformat_minor": 2
}
