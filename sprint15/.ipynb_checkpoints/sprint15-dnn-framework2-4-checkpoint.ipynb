{
 "cells": [
  {
   "cell_type": "markdown",
   "metadata": {},
   "source": [
    "# Rewrite to Other Kinds of Frameworks\n",
    "\n",
    "<br />\n",
    "\n",
    "I will rewrite codes of TensorFlow that I created on the sprint 14 that handle 4 kinds of datasets to the other kind of frameworks, Keras."
   ]
  },
  {
   "cell_type": "markdown",
   "metadata": {},
   "source": [
    "## [Task 5] Fit MNIST by Keras"
   ]
  },
  {
   "cell_type": "code",
   "execution_count": 2,
   "metadata": {},
   "outputs": [
    {
     "name": "stderr",
     "output_type": "stream",
     "text": [
      "Using TensorFlow backend.\n"
     ]
    }
   ],
   "source": [
    "import pandas as pd\n",
    "import numpy as np\n",
    "from sklearn.model_selection import train_test_split\n",
    "import tensorflow as tf\n",
    "from sklearn.preprocessing import OneHotEncoder\n",
    "from tensorflow.keras import layers\n",
    "import matplotlib.pylab as plt\n",
    "from keras.datasets import mnist"
   ]
  },
  {
   "cell_type": "code",
   "execution_count": 3,
   "metadata": {},
   "outputs": [],
   "source": [
    "# Download the MNIST dataset\n",
    "\n",
    "(X_train, y_train), (X_test, y_test) = mnist.load_data()"
   ]
  },
  {
   "cell_type": "code",
   "execution_count": 4,
   "metadata": {},
   "outputs": [],
   "source": [
    "# Flatten\n",
    "\n",
    "X_train = X_train.reshape(-1, 784)\n",
    "X_test = X_test.reshape(-1, 784)"
   ]
  },
  {
   "cell_type": "code",
   "execution_count": 5,
   "metadata": {},
   "outputs": [],
   "source": [
    "# Transform unit8 to float\n",
    "\n",
    "X_train = X_train.astype(np.float)\n",
    "X_test = X_test.astype(np.float)\n",
    "X_train /= 255\n",
    "X_test /= 255"
   ]
  },
  {
   "cell_type": "code",
   "execution_count": 6,
   "metadata": {},
   "outputs": [],
   "source": [
    "# One hot encoder\n",
    "\n",
    "# Initialize\n",
    "enc = OneHotEncoder(handle_unknown='ignore', sparse=False)\n",
    "\n",
    "# Fit\n",
    "y_train_one_hot = enc.fit_transform(y_train[:, np.newaxis])\n",
    "\n",
    "# Transform\n",
    "y_test_one_hot = enc.transform(y_test[:, np.newaxis])"
   ]
  },
  {
   "cell_type": "code",
   "execution_count": 7,
   "metadata": {},
   "outputs": [],
   "source": [
    "# Split the dataframe into train and test datasets\n",
    "\n",
    "X_train, X_val, y_train, y_val = train_test_split(X_train, y_train_one_hot, test_size=0.2, random_state=0)"
   ]
  },
  {
   "cell_type": "code",
   "execution_count": 8,
   "metadata": {},
   "outputs": [],
   "source": [
    "# Set hyperparameters\n",
    "\n",
    "LEARNING_RATE = 0.01\n",
    "BATCH_SIZE = 10\n",
    "NUM_EPOCHS = 10"
   ]
  },
  {
   "cell_type": "code",
   "execution_count": 9,
   "metadata": {},
   "outputs": [],
   "source": [
    "N_HIDDEN1 = 50\n",
    "N_HIDDEN2 = 100\n",
    "N_CLASSES = 10"
   ]
  },
  {
   "cell_type": "code",
   "execution_count": 14,
   "metadata": {},
   "outputs": [],
   "source": [
    "# Initialize\n",
    "model = tf.keras.Sequential()\n",
    "\n",
    "# 1st layer\n",
    "model.add(tf.keras.layers.Dense(N_HIDDEN1, activation=tf.nn.relu, input_shape=(784,)))\n",
    "\n",
    "# 2nd layer\n",
    "model.add(tf.keras.layers.Dense(N_HIDDEN2, activation=tf.nn.relu))\n",
    "\n",
    "# 3rd layer\n",
    "model.add(tf.keras.layers.Dense(N_CLASSES, activation=tf.nn.softmax))"
   ]
  },
  {
   "cell_type": "code",
   "execution_count": 15,
   "metadata": {},
   "outputs": [
    {
     "name": "stdout",
     "output_type": "stream",
     "text": [
      "_________________________________________________________________\n",
      "Layer (type)                 Output Shape              Param #   \n",
      "=================================================================\n",
      "dense_3 (Dense)              (None, 50)                39250     \n",
      "_________________________________________________________________\n",
      "dense_4 (Dense)              (None, 100)               5100      \n",
      "_________________________________________________________________\n",
      "dense_5 (Dense)              (None, 10)                1010      \n",
      "=================================================================\n",
      "Total params: 45,360\n",
      "Trainable params: 45,360\n",
      "Non-trainable params: 0\n",
      "_________________________________________________________________\n"
     ]
    }
   ],
   "source": [
    "# Check\n",
    "\n",
    "model.summary()"
   ]
  },
  {
   "cell_type": "code",
   "execution_count": 16,
   "metadata": {},
   "outputs": [],
   "source": [
    "# Compile\n",
    "\n",
    "model.compile(loss='categorical_crossentropy',\n",
    "              optimizer=tf.train.AdamOptimizer(learning_rate=LEARNING_RATE),\n",
    "              metrics=['accuracy'])"
   ]
  },
  {
   "cell_type": "code",
   "execution_count": 17,
   "metadata": {
    "scrolled": true
   },
   "outputs": [
    {
     "name": "stdout",
     "output_type": "stream",
     "text": [
      "Train on 48000 samples, validate on 12000 samples\n",
      "WARNING:tensorflow:From /anaconda3/lib/python3.7/site-packages/tensorflow/python/ops/math_ops.py:3066: to_int32 (from tensorflow.python.ops.math_ops) is deprecated and will be removed in a future version.\n",
      "Instructions for updating:\n",
      "Use tf.cast instead.\n",
      "Epoch 1/10\n",
      "48000/48000 [==============================] - 9s 179us/sample - loss: 0.3918 - acc: 0.8949 - val_loss: 0.2948 - val_acc: 0.9259\n",
      "Epoch 2/10\n",
      "48000/48000 [==============================] - 8s 174us/sample - loss: 0.2826 - acc: 0.9294 - val_loss: 0.2697 - val_acc: 0.9306\n",
      "Epoch 3/10\n",
      "48000/48000 [==============================] - 12s 250us/sample - loss: 0.2628 - acc: 0.9382 - val_loss: 0.2778 - val_acc: 0.9395\n",
      "Epoch 4/10\n",
      "48000/48000 [==============================] - 8s 177us/sample - loss: 0.2452 - acc: 0.9432 - val_loss: 0.2791 - val_acc: 0.9394\n",
      "Epoch 5/10\n",
      "48000/48000 [==============================] - 9s 183us/sample - loss: 0.2434 - acc: 0.9445 - val_loss: 0.2411 - val_acc: 0.9483\n",
      "Epoch 6/10\n",
      "48000/48000 [==============================] - 9s 192us/sample - loss: 0.2269 - acc: 0.9485 - val_loss: 0.2734 - val_acc: 0.9384\n",
      "Epoch 7/10\n",
      "48000/48000 [==============================] - 9s 188us/sample - loss: 0.2265 - acc: 0.9489 - val_loss: 0.2802 - val_acc: 0.9412\n",
      "Epoch 8/10\n",
      "48000/48000 [==============================] - 10s 199us/sample - loss: 0.2241 - acc: 0.9504 - val_loss: 0.2795 - val_acc: 0.9391\n",
      "Epoch 9/10\n",
      "48000/48000 [==============================] - 10s 200us/sample - loss: 0.2238 - acc: 0.9519 - val_loss: 0.2789 - val_acc: 0.9492\n",
      "Epoch 10/10\n",
      "48000/48000 [==============================] - 10s 218us/sample - loss: 0.2406 - acc: 0.9501 - val_loss: 0.2400 - val_acc: 0.9498\n"
     ]
    }
   ],
   "source": [
    "# Fit\n",
    "\n",
    "history = model.fit(X_train, y_train,\n",
    "                    batch_size=BATCH_SIZE,\n",
    "                    epochs=NUM_EPOCHS,\n",
    "                    verbose=1,\n",
    "                    validation_data=(X_val, y_val))"
   ]
  },
  {
   "cell_type": "code",
   "execution_count": 18,
   "metadata": {},
   "outputs": [
    {
     "name": "stdout",
     "output_type": "stream",
     "text": [
      "y_pred_proba [3.6926363e-15 8.1195322e-21 0.0000000e+00 ... 1.6796985e-14 0.0000000e+00\n",
      " 2.5447870e-24]\n",
      "y_pred [0 0 0 ... 0 0 0]\n"
     ]
    }
   ],
   "source": [
    "# Predict\n",
    "\n",
    "y_pred_proba = model.predict(X_test)[:,0]\n",
    "\n",
    "# Change probabilities to 0/1\n",
    "y_pred = np.where(y_pred_proba>0.5, 1, 0)\n",
    "\n",
    "print(\"y_pred_proba\", y_pred_proba)\n",
    "print(\"y_pred\", y_pred)"
   ]
  },
  {
   "cell_type": "code",
   "execution_count": 20,
   "metadata": {},
   "outputs": [
    {
     "name": "stdout",
     "output_type": "stream",
     "text": [
      "Test loss: 0.2656328074228019\n",
      "Test accuracy: 0.9491\n"
     ]
    }
   ],
   "source": [
    "# Evaluate\n",
    "\n",
    "score = model.evaluate(X_test, y_test_one_hot, verbose=0)\n",
    "print('Test loss:', score[0])\n",
    "print('Test accuracy:', score[1])"
   ]
  },
  {
   "cell_type": "code",
   "execution_count": 21,
   "metadata": {},
   "outputs": [
    {
     "data": {
      "image/png": "[encoded data removed]",
      "text/plain": [
       "<Figure size 720x288 with 2 Axes>"
      ]
     },
     "metadata": {
      "needs_background": "light"
     },
     "output_type": "display_data"
    }
   ],
   "source": [
    "fig, (axL, axR) = plt.subplots(ncols=2, figsize=(10,4))\n",
    "\n",
    "# loss\n",
    "def plot_history_loss(fit):\n",
    "    # Plot the loss in the history\n",
    "    axL.plot(fit.history['loss'],label=\"Loss for Train\")\n",
    "    axL.plot(fit.history['val_loss'],label=\"Loss for Validation\")\n",
    "    axL.set_title('Loss')\n",
    "    axL.set_xlabel('Number of Epochs')\n",
    "    axL.set_ylabel('Loss')\n",
    "    axL.legend(loc='upper right')\n",
    "\n",
    "# acc\n",
    "def plot_history_acc(fit):\n",
    "    # Plot the loss in the history\n",
    "    axR.plot(fit.history['acc'],label=\"Loss for Train\")\n",
    "    axR.plot(fit.history['val_acc'],label=\"Loss for Validation\")\n",
    "    axR.set_title('Accuracy')\n",
    "    axR.set_xlabel('Number of Epochs')\n",
    "    axR.set_ylabel('Accuracy')\n",
    "    axR.legend(loc='lower right')\n",
    "\n",
    "plot_history_loss(history)\n",
    "plot_history_acc(history)"
   ]
  },
  {
   "cell_type": "code",
   "execution_count": null,
   "metadata": {},
   "outputs": [],
   "source": []
  }
 ],
 "metadata": {
  "kernelspec": {
   "display_name": "Python 3",
   "language": "python",
   "name": "python3"
  },
  "language_info": {
   "codemirror_mode": {
    "name": "ipython",
    "version": 3
   },
   "file_extension": ".py",
   "mimetype": "text/x-python",
   "name": "python",
   "nbconvert_exporter": "python",
   "pygments_lexer": "ipython3",
   "version": "3.7.1"
  }
 },
 "nbformat": 4,
 "nbformat_minor": 2
}
