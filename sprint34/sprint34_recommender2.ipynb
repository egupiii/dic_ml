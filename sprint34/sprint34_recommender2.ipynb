{
 "cells": [
  {
   "cell_type": "markdown",
   "metadata": {},
   "source": [
    "# Matrix Factorization"
   ]
  },
  {
   "cell_type": "markdown",
   "metadata": {},
   "source": [
    "## [Task 1] Fill Missing Values\n",
    "\n",
    "<br />\n",
    "\n",
    "I am going to implement the matrix factorization by using scikit-learn. At first, I will fill missing values by evaluating them as 0s."
   ]
  },
  {
   "cell_type": "code",
   "execution_count": 1,
   "metadata": {
    "ExecuteTime": {
     "end_time": "2019-04-20T04:53:08.886221Z",
     "start_time": "2019-04-20T04:53:07.288634Z"
    }
   },
   "outputs": [],
   "source": [
    "import numpy as np\n",
    "import pandas as pd\n",
    "from sklearn.decomposition import NMF"
   ]
  },
  {
   "cell_type": "code",
   "execution_count": 2,
   "metadata": {
    "ExecuteTime": {
     "end_time": "2019-04-20T04:53:08.902420Z",
     "start_time": "2019-04-20T04:53:08.890792Z"
    }
   },
   "outputs": [],
   "source": [
    "# Prepare a concise dataset\n",
    "\n",
    "data1 = pd.DataFrame({\"ゼロから作るDeepLearning\": [2, 1, 0, 2, 1],\n",
    "                      \"Python機械学習プログラミング\": [2, 1, 5, 4, 3],\n",
    "                      \"ゼロから作るDeepLearning-自然言語処理編-\": [4, 2, 2, 2, 0],\n",
    "                      \"はじめてのパターン認識\": [np.nan, 4, 2, 3, 4],\n",
    "                      \"これからの強化学習\": [np.nan, 3, 5, 4, 1]}, index=[\"user1\", \"user2\", \"user3\", \"user4\", \"user5\"])"
   ]
  },
  {
   "cell_type": "code",
   "execution_count": 3,
   "metadata": {
    "ExecuteTime": {
     "end_time": "2019-04-20T04:53:08.935154Z",
     "start_time": "2019-04-20T04:53:08.906525Z"
    }
   },
   "outputs": [
    {
     "data": {
      "text/html": [
       "<div>\n",
       "<style scoped>\n",
       "    .dataframe tbody tr th:only-of-type {\n",
       "        vertical-align: middle;\n",
       "    }\n",
       "\n",
       "    .dataframe tbody tr th {\n",
       "        vertical-align: top;\n",
       "    }\n",
       "\n",
       "    .dataframe thead th {\n",
       "        text-align: right;\n",
       "    }\n",
       "</style>\n",
       "<table border=\"1\" class=\"dataframe\">\n",
       "  <thead>\n",
       "    <tr style=\"text-align: right;\">\n",
       "      <th></th>\n",
       "      <th>ゼロから作るDeepLearning</th>\n",
       "      <th>Python機械学習プログラミング</th>\n",
       "      <th>ゼロから作るDeepLearning-自然言語処理編-</th>\n",
       "      <th>はじめてのパターン認識</th>\n",
       "      <th>これからの強化学習</th>\n",
       "    </tr>\n",
       "  </thead>\n",
       "  <tbody>\n",
       "    <tr>\n",
       "      <th>user1</th>\n",
       "      <td>2</td>\n",
       "      <td>2</td>\n",
       "      <td>4</td>\n",
       "      <td>NaN</td>\n",
       "      <td>NaN</td>\n",
       "    </tr>\n",
       "    <tr>\n",
       "      <th>user2</th>\n",
       "      <td>1</td>\n",
       "      <td>1</td>\n",
       "      <td>2</td>\n",
       "      <td>4.0</td>\n",
       "      <td>3.0</td>\n",
       "    </tr>\n",
       "    <tr>\n",
       "      <th>user3</th>\n",
       "      <td>0</td>\n",
       "      <td>5</td>\n",
       "      <td>2</td>\n",
       "      <td>2.0</td>\n",
       "      <td>5.0</td>\n",
       "    </tr>\n",
       "    <tr>\n",
       "      <th>user4</th>\n",
       "      <td>2</td>\n",
       "      <td>4</td>\n",
       "      <td>2</td>\n",
       "      <td>3.0</td>\n",
       "      <td>4.0</td>\n",
       "    </tr>\n",
       "    <tr>\n",
       "      <th>user5</th>\n",
       "      <td>1</td>\n",
       "      <td>3</td>\n",
       "      <td>0</td>\n",
       "      <td>4.0</td>\n",
       "      <td>1.0</td>\n",
       "    </tr>\n",
       "  </tbody>\n",
       "</table>\n",
       "</div>"
      ],
      "text/plain": [
       "       ゼロから作るDeepLearning  Python機械学習プログラミング  ゼロから作るDeepLearning-自然言語処理編-  \\\n",
       "user1                   2                  2                            4   \n",
       "user2                   1                  1                            2   \n",
       "user3                   0                  5                            2   \n",
       "user4                   2                  4                            2   \n",
       "user5                   1                  3                            0   \n",
       "\n",
       "       はじめてのパターン認識  これからの強化学習  \n",
       "user1          NaN        NaN  \n",
       "user2          4.0        3.0  \n",
       "user3          2.0        5.0  \n",
       "user4          3.0        4.0  \n",
       "user5          4.0        1.0  "
      ]
     },
     "execution_count": 3,
     "metadata": {},
     "output_type": "execute_result"
    }
   ],
   "source": [
    "# Check\n",
    "\n",
    "data1"
   ]
  },
  {
   "cell_type": "code",
   "execution_count": 4,
   "metadata": {
    "ExecuteTime": {
     "end_time": "2019-04-20T04:53:08.943122Z",
     "start_time": "2019-04-20T04:53:08.938307Z"
    }
   },
   "outputs": [],
   "source": [
    "# Fill missing values\n",
    "\n",
    "new_data1 = data1.fillna(0)"
   ]
  },
  {
   "cell_type": "code",
   "execution_count": 5,
   "metadata": {
    "ExecuteTime": {
     "end_time": "2019-04-20T04:53:08.958435Z",
     "start_time": "2019-04-20T04:53:08.946290Z"
    }
   },
   "outputs": [
    {
     "data": {
      "text/html": [
       "<div>\n",
       "<style scoped>\n",
       "    .dataframe tbody tr th:only-of-type {\n",
       "        vertical-align: middle;\n",
       "    }\n",
       "\n",
       "    .dataframe tbody tr th {\n",
       "        vertical-align: top;\n",
       "    }\n",
       "\n",
       "    .dataframe thead th {\n",
       "        text-align: right;\n",
       "    }\n",
       "</style>\n",
       "<table border=\"1\" class=\"dataframe\">\n",
       "  <thead>\n",
       "    <tr style=\"text-align: right;\">\n",
       "      <th></th>\n",
       "      <th>ゼロから作るDeepLearning</th>\n",
       "      <th>Python機械学習プログラミング</th>\n",
       "      <th>ゼロから作るDeepLearning-自然言語処理編-</th>\n",
       "      <th>はじめてのパターン認識</th>\n",
       "      <th>これからの強化学習</th>\n",
       "    </tr>\n",
       "  </thead>\n",
       "  <tbody>\n",
       "    <tr>\n",
       "      <th>user1</th>\n",
       "      <td>2</td>\n",
       "      <td>2</td>\n",
       "      <td>4</td>\n",
       "      <td>0.0</td>\n",
       "      <td>0.0</td>\n",
       "    </tr>\n",
       "    <tr>\n",
       "      <th>user2</th>\n",
       "      <td>1</td>\n",
       "      <td>1</td>\n",
       "      <td>2</td>\n",
       "      <td>4.0</td>\n",
       "      <td>3.0</td>\n",
       "    </tr>\n",
       "    <tr>\n",
       "      <th>user3</th>\n",
       "      <td>0</td>\n",
       "      <td>5</td>\n",
       "      <td>2</td>\n",
       "      <td>2.0</td>\n",
       "      <td>5.0</td>\n",
       "    </tr>\n",
       "    <tr>\n",
       "      <th>user4</th>\n",
       "      <td>2</td>\n",
       "      <td>4</td>\n",
       "      <td>2</td>\n",
       "      <td>3.0</td>\n",
       "      <td>4.0</td>\n",
       "    </tr>\n",
       "    <tr>\n",
       "      <th>user5</th>\n",
       "      <td>1</td>\n",
       "      <td>3</td>\n",
       "      <td>0</td>\n",
       "      <td>4.0</td>\n",
       "      <td>1.0</td>\n",
       "    </tr>\n",
       "  </tbody>\n",
       "</table>\n",
       "</div>"
      ],
      "text/plain": [
       "       ゼロから作るDeepLearning  Python機械学習プログラミング  ゼロから作るDeepLearning-自然言語処理編-  \\\n",
       "user1                   2                  2                            4   \n",
       "user2                   1                  1                            2   \n",
       "user3                   0                  5                            2   \n",
       "user4                   2                  4                            2   \n",
       "user5                   1                  3                            0   \n",
       "\n",
       "       はじめてのパターン認識  これからの強化学習  \n",
       "user1          0.0        0.0  \n",
       "user2          4.0        3.0  \n",
       "user3          2.0        5.0  \n",
       "user4          3.0        4.0  \n",
       "user5          4.0        1.0  "
      ]
     },
     "execution_count": 5,
     "metadata": {},
     "output_type": "execute_result"
    }
   ],
   "source": [
    "# Check\n",
    "\n",
    "new_data1"
   ]
  },
  {
   "cell_type": "markdown",
   "metadata": {},
   "source": [
    "## [Task 2] Implement Non-negative Matrix Factorization(NMF) by scikit-learn\n",
    "\n",
    "<br />\n",
    "\n",
    "sklearn.decomposition.NMF\n",
    "\n",
    "\n",
    "https://scikit-learn.org/stable/modules/generated/sklearn.decomposition.NMF.html"
   ]
  },
  {
   "cell_type": "code",
   "execution_count": 6,
   "metadata": {
    "ExecuteTime": {
     "end_time": "2019-04-20T04:53:08.972616Z",
     "start_time": "2019-04-20T04:53:08.961186Z"
    }
   },
   "outputs": [],
   "source": [
    "# NMF\n",
    "\n",
    "model = NMF(n_components=2, init='random', random_state=0)\n",
    "W = model.fit_transform(new_data1)\n",
    "H = model.components_\n",
    "nmf = np.dot(W, H)"
   ]
  },
  {
   "cell_type": "code",
   "execution_count": 7,
   "metadata": {
    "ExecuteTime": {
     "end_time": "2019-04-20T04:53:08.980544Z",
     "start_time": "2019-04-20T04:53:08.974561Z"
    }
   },
   "outputs": [
    {
     "data": {
      "text/plain": [
       "array([[1.90202882, 1.92346129, 4.01522546, 0.        , 0.52282576],\n",
       "       [0.7813298 , 2.83404347, 1.24516592, 2.59768915, 2.84379341],\n",
       "       [1.20809937, 4.10725982, 1.97962923, 3.66736152, 4.04367796],\n",
       "       [1.35579048, 3.98848411, 2.34443869, 3.32658269, 3.73938561],\n",
       "       [0.35469018, 2.45515588, 0.33412505, 2.66448919, 2.79412539]])"
      ]
     },
     "execution_count": 7,
     "metadata": {},
     "output_type": "execute_result"
    }
   ],
   "source": [
    "# Show the result\n",
    "\n",
    "nmf"
   ]
  },
  {
   "cell_type": "markdown",
   "metadata": {},
   "source": [
    "# Try the Implementation by Big Data\n",
    "\n",
    "<br />\n",
    "\n",
    "I will do a recommendation by using a dataset of animes on Kaggle.\n",
    "\n",
    "<br />\n",
    "\n",
    "\"Anime Recommendations Database\"\n",
    "\n",
    "\n",
    "https://www.kaggle.com/CooperUnion/anime-recommendations-database/version/1"
   ]
  },
  {
   "cell_type": "markdown",
   "metadata": {},
   "source": [
    "### Preprocessing"
   ]
  },
  {
   "cell_type": "code",
   "execution_count": 8,
   "metadata": {
    "ExecuteTime": {
     "end_time": "2019-04-20T04:53:10.974771Z",
     "start_time": "2019-04-20T04:53:08.982616Z"
    }
   },
   "outputs": [],
   "source": [
    "# Read the data\n",
    "\n",
    "ratings = pd.read_csv('anime-recommendations-database/rating.csv')\n",
    "anime = pd.read_csv('anime-recommendations-database/anime.csv')"
   ]
  },
  {
   "cell_type": "code",
   "execution_count": 9,
   "metadata": {
    "ExecuteTime": {
     "end_time": "2019-04-20T04:53:10.987718Z",
     "start_time": "2019-04-20T04:53:10.976396Z"
    }
   },
   "outputs": [
    {
     "data": {
      "text/html": [
       "<div>\n",
       "<style scoped>\n",
       "    .dataframe tbody tr th:only-of-type {\n",
       "        vertical-align: middle;\n",
       "    }\n",
       "\n",
       "    .dataframe tbody tr th {\n",
       "        vertical-align: top;\n",
       "    }\n",
       "\n",
       "    .dataframe thead th {\n",
       "        text-align: right;\n",
       "    }\n",
       "</style>\n",
       "<table border=\"1\" class=\"dataframe\">\n",
       "  <thead>\n",
       "    <tr style=\"text-align: right;\">\n",
       "      <th></th>\n",
       "      <th>user_id</th>\n",
       "      <th>anime_id</th>\n",
       "      <th>rating</th>\n",
       "    </tr>\n",
       "  </thead>\n",
       "  <tbody>\n",
       "    <tr>\n",
       "      <th>0</th>\n",
       "      <td>1</td>\n",
       "      <td>20</td>\n",
       "      <td>-1</td>\n",
       "    </tr>\n",
       "    <tr>\n",
       "      <th>1</th>\n",
       "      <td>1</td>\n",
       "      <td>24</td>\n",
       "      <td>-1</td>\n",
       "    </tr>\n",
       "    <tr>\n",
       "      <th>2</th>\n",
       "      <td>1</td>\n",
       "      <td>79</td>\n",
       "      <td>-1</td>\n",
       "    </tr>\n",
       "    <tr>\n",
       "      <th>3</th>\n",
       "      <td>1</td>\n",
       "      <td>226</td>\n",
       "      <td>-1</td>\n",
       "    </tr>\n",
       "    <tr>\n",
       "      <th>4</th>\n",
       "      <td>1</td>\n",
       "      <td>241</td>\n",
       "      <td>-1</td>\n",
       "    </tr>\n",
       "  </tbody>\n",
       "</table>\n",
       "</div>"
      ],
      "text/plain": [
       "   user_id  anime_id  rating\n",
       "0        1        20      -1\n",
       "1        1        24      -1\n",
       "2        1        79      -1\n",
       "3        1       226      -1\n",
       "4        1       241      -1"
      ]
     },
     "execution_count": 9,
     "metadata": {},
     "output_type": "execute_result"
    }
   ],
   "source": [
    "# Check\n",
    "\n",
    "ratings.head()"
   ]
  },
  {
   "cell_type": "code",
   "execution_count": 10,
   "metadata": {
    "ExecuteTime": {
     "end_time": "2019-04-20T04:53:11.012996Z",
     "start_time": "2019-04-20T04:53:10.991751Z"
    }
   },
   "outputs": [
    {
     "data": {
      "text/html": [
       "<div>\n",
       "<style scoped>\n",
       "    .dataframe tbody tr th:only-of-type {\n",
       "        vertical-align: middle;\n",
       "    }\n",
       "\n",
       "    .dataframe tbody tr th {\n",
       "        vertical-align: top;\n",
       "    }\n",
       "\n",
       "    .dataframe thead th {\n",
       "        text-align: right;\n",
       "    }\n",
       "</style>\n",
       "<table border=\"1\" class=\"dataframe\">\n",
       "  <thead>\n",
       "    <tr style=\"text-align: right;\">\n",
       "      <th></th>\n",
       "      <th>anime_id</th>\n",
       "      <th>name</th>\n",
       "      <th>genre</th>\n",
       "      <th>type</th>\n",
       "      <th>episodes</th>\n",
       "      <th>rating</th>\n",
       "      <th>members</th>\n",
       "    </tr>\n",
       "  </thead>\n",
       "  <tbody>\n",
       "    <tr>\n",
       "      <th>0</th>\n",
       "      <td>32281</td>\n",
       "      <td>Kimi no Na wa.</td>\n",
       "      <td>Drama, Romance, School, Supernatural</td>\n",
       "      <td>Movie</td>\n",
       "      <td>1</td>\n",
       "      <td>9.37</td>\n",
       "      <td>200630</td>\n",
       "    </tr>\n",
       "    <tr>\n",
       "      <th>1</th>\n",
       "      <td>5114</td>\n",
       "      <td>Fullmetal Alchemist: Brotherhood</td>\n",
       "      <td>Action, Adventure, Drama, Fantasy, Magic, Mili...</td>\n",
       "      <td>TV</td>\n",
       "      <td>64</td>\n",
       "      <td>9.26</td>\n",
       "      <td>793665</td>\n",
       "    </tr>\n",
       "    <tr>\n",
       "      <th>2</th>\n",
       "      <td>28977</td>\n",
       "      <td>Gintama°</td>\n",
       "      <td>Action, Comedy, Historical, Parody, Samurai, S...</td>\n",
       "      <td>TV</td>\n",
       "      <td>51</td>\n",
       "      <td>9.25</td>\n",
       "      <td>114262</td>\n",
       "    </tr>\n",
       "    <tr>\n",
       "      <th>3</th>\n",
       "      <td>9253</td>\n",
       "      <td>Steins;Gate</td>\n",
       "      <td>Sci-Fi, Thriller</td>\n",
       "      <td>TV</td>\n",
       "      <td>24</td>\n",
       "      <td>9.17</td>\n",
       "      <td>673572</td>\n",
       "    </tr>\n",
       "    <tr>\n",
       "      <th>4</th>\n",
       "      <td>9969</td>\n",
       "      <td>Gintama&amp;#039;</td>\n",
       "      <td>Action, Comedy, Historical, Parody, Samurai, S...</td>\n",
       "      <td>TV</td>\n",
       "      <td>51</td>\n",
       "      <td>9.16</td>\n",
       "      <td>151266</td>\n",
       "    </tr>\n",
       "  </tbody>\n",
       "</table>\n",
       "</div>"
      ],
      "text/plain": [
       "   anime_id                              name  \\\n",
       "0     32281                    Kimi no Na wa.   \n",
       "1      5114  Fullmetal Alchemist: Brotherhood   \n",
       "2     28977                          Gintama°   \n",
       "3      9253                       Steins;Gate   \n",
       "4      9969                     Gintama&#039;   \n",
       "\n",
       "                                               genre   type episodes  rating  \\\n",
       "0               Drama, Romance, School, Supernatural  Movie        1    9.37   \n",
       "1  Action, Adventure, Drama, Fantasy, Magic, Mili...     TV       64    9.26   \n",
       "2  Action, Comedy, Historical, Parody, Samurai, S...     TV       51    9.25   \n",
       "3                                   Sci-Fi, Thriller     TV       24    9.17   \n",
       "4  Action, Comedy, Historical, Parody, Samurai, S...     TV       51    9.16   \n",
       "\n",
       "   members  \n",
       "0   200630  \n",
       "1   793665  \n",
       "2   114262  \n",
       "3   673572  \n",
       "4   151266  "
      ]
     },
     "execution_count": 10,
     "metadata": {},
     "output_type": "execute_result"
    }
   ],
   "source": [
    "anime.head()"
   ]
  },
  {
   "cell_type": "code",
   "execution_count": 11,
   "metadata": {
    "ExecuteTime": {
     "end_time": "2019-04-20T04:54:19.386375Z",
     "start_time": "2019-04-20T04:53:11.017808Z"
    }
   },
   "outputs": [],
   "source": [
    "# Preprocessing\n",
    "\n",
    "# Get only animes evaluated by more than 1000 members\n",
    "anime = anime[anime['members'] > 1000]\n",
    "\n",
    "# Delete missing values while evaluating animes that have not been evaluated yet as -1s\n",
    "anime = anime.dropna()\n",
    "ratings[ratings.rating == -1] = 0\n",
    "\n",
    "# Merge\n",
    "merge_df = ratings.merge(anime, left_on='anime_id',\n",
    "                         right_on='anime_id', suffixes=['_user', ''])\n",
    "\n",
    "# Delete duplications\n",
    "merge_df = merge_df.drop_duplicates(['user_id', 'name'])\n",
    "anime_pivot = merge_df.pivot(index='user_id', columns='name', values='rating').fillna(0)"
   ]
  },
  {
   "cell_type": "code",
   "execution_count": 12,
   "metadata": {
    "ExecuteTime": {
     "end_time": "2019-04-20T04:54:19.500121Z",
     "start_time": "2019-04-20T04:54:19.427643Z"
    }
   },
   "outputs": [
    {
     "data": {
      "text/html": [
       "<div>\n",
       "<style scoped>\n",
       "    .dataframe tbody tr th:only-of-type {\n",
       "        vertical-align: middle;\n",
       "    }\n",
       "\n",
       "    .dataframe tbody tr th {\n",
       "        vertical-align: top;\n",
       "    }\n",
       "\n",
       "    .dataframe thead th {\n",
       "        text-align: right;\n",
       "    }\n",
       "</style>\n",
       "<table border=\"1\" class=\"dataframe\">\n",
       "  <thead>\n",
       "    <tr style=\"text-align: right;\">\n",
       "      <th>name</th>\n",
       "      <th>&amp;quot;0&amp;quot;</th>\n",
       "      <th>&amp;quot;Bungaku Shoujo&amp;quot; Kyou no Oyatsu: Hatsukoi</th>\n",
       "      <th>&amp;quot;Bungaku Shoujo&amp;quot; Memoire</th>\n",
       "      <th>&amp;quot;Bungaku Shoujo&amp;quot; Movie</th>\n",
       "      <th>.hack//G.U. Returner</th>\n",
       "      <th>.hack//G.U. Trilogy</th>\n",
       "      <th>.hack//G.U. Trilogy: Parody Mode</th>\n",
       "      <th>.hack//Gift</th>\n",
       "      <th>.hack//Intermezzo</th>\n",
       "      <th>.hack//Liminality</th>\n",
       "      <th>...</th>\n",
       "      <th>gdgd Fairies</th>\n",
       "      <th>gdgd Fairies 2</th>\n",
       "      <th>iDOLM@STER Xenoglossia</th>\n",
       "      <th>iDOLM@STER Xenoglossia Specials</th>\n",
       "      <th>s.CRY.ed</th>\n",
       "      <th>xxxHOLiC</th>\n",
       "      <th>xxxHOLiC Kei</th>\n",
       "      <th>xxxHOLiC Movie: Manatsu no Yoru no Yume</th>\n",
       "      <th>xxxHOLiC Rou</th>\n",
       "      <th>xxxHOLiC Shunmuki</th>\n",
       "    </tr>\n",
       "    <tr>\n",
       "      <th>user_id</th>\n",
       "      <th></th>\n",
       "      <th></th>\n",
       "      <th></th>\n",
       "      <th></th>\n",
       "      <th></th>\n",
       "      <th></th>\n",
       "      <th></th>\n",
       "      <th></th>\n",
       "      <th></th>\n",
       "      <th></th>\n",
       "      <th></th>\n",
       "      <th></th>\n",
       "      <th></th>\n",
       "      <th></th>\n",
       "      <th></th>\n",
       "      <th></th>\n",
       "      <th></th>\n",
       "      <th></th>\n",
       "      <th></th>\n",
       "      <th></th>\n",
       "      <th></th>\n",
       "    </tr>\n",
       "  </thead>\n",
       "  <tbody>\n",
       "    <tr>\n",
       "      <th>1</th>\n",
       "      <td>0.0</td>\n",
       "      <td>0.0</td>\n",
       "      <td>0.0</td>\n",
       "      <td>0.0</td>\n",
       "      <td>0.0</td>\n",
       "      <td>0.0</td>\n",
       "      <td>0.0</td>\n",
       "      <td>0.0</td>\n",
       "      <td>0.0</td>\n",
       "      <td>0.0</td>\n",
       "      <td>...</td>\n",
       "      <td>0.0</td>\n",
       "      <td>0.0</td>\n",
       "      <td>0.0</td>\n",
       "      <td>0.0</td>\n",
       "      <td>0.0</td>\n",
       "      <td>0.00</td>\n",
       "      <td>0.0</td>\n",
       "      <td>0.0</td>\n",
       "      <td>0.0</td>\n",
       "      <td>0.0</td>\n",
       "    </tr>\n",
       "    <tr>\n",
       "      <th>2</th>\n",
       "      <td>0.0</td>\n",
       "      <td>0.0</td>\n",
       "      <td>0.0</td>\n",
       "      <td>0.0</td>\n",
       "      <td>0.0</td>\n",
       "      <td>0.0</td>\n",
       "      <td>0.0</td>\n",
       "      <td>0.0</td>\n",
       "      <td>0.0</td>\n",
       "      <td>0.0</td>\n",
       "      <td>...</td>\n",
       "      <td>0.0</td>\n",
       "      <td>0.0</td>\n",
       "      <td>0.0</td>\n",
       "      <td>0.0</td>\n",
       "      <td>0.0</td>\n",
       "      <td>0.00</td>\n",
       "      <td>0.0</td>\n",
       "      <td>0.0</td>\n",
       "      <td>0.0</td>\n",
       "      <td>0.0</td>\n",
       "    </tr>\n",
       "    <tr>\n",
       "      <th>3</th>\n",
       "      <td>0.0</td>\n",
       "      <td>0.0</td>\n",
       "      <td>0.0</td>\n",
       "      <td>0.0</td>\n",
       "      <td>0.0</td>\n",
       "      <td>0.0</td>\n",
       "      <td>0.0</td>\n",
       "      <td>0.0</td>\n",
       "      <td>0.0</td>\n",
       "      <td>0.0</td>\n",
       "      <td>...</td>\n",
       "      <td>0.0</td>\n",
       "      <td>0.0</td>\n",
       "      <td>0.0</td>\n",
       "      <td>0.0</td>\n",
       "      <td>0.0</td>\n",
       "      <td>0.00</td>\n",
       "      <td>0.0</td>\n",
       "      <td>0.0</td>\n",
       "      <td>0.0</td>\n",
       "      <td>0.0</td>\n",
       "    </tr>\n",
       "    <tr>\n",
       "      <th>5</th>\n",
       "      <td>0.0</td>\n",
       "      <td>0.0</td>\n",
       "      <td>0.0</td>\n",
       "      <td>0.0</td>\n",
       "      <td>0.0</td>\n",
       "      <td>0.0</td>\n",
       "      <td>0.0</td>\n",
       "      <td>0.0</td>\n",
       "      <td>0.0</td>\n",
       "      <td>0.0</td>\n",
       "      <td>...</td>\n",
       "      <td>0.0</td>\n",
       "      <td>0.0</td>\n",
       "      <td>0.0</td>\n",
       "      <td>0.0</td>\n",
       "      <td>0.0</td>\n",
       "      <td>8.11</td>\n",
       "      <td>0.0</td>\n",
       "      <td>0.0</td>\n",
       "      <td>0.0</td>\n",
       "      <td>0.0</td>\n",
       "    </tr>\n",
       "    <tr>\n",
       "      <th>7</th>\n",
       "      <td>0.0</td>\n",
       "      <td>0.0</td>\n",
       "      <td>0.0</td>\n",
       "      <td>0.0</td>\n",
       "      <td>0.0</td>\n",
       "      <td>0.0</td>\n",
       "      <td>0.0</td>\n",
       "      <td>0.0</td>\n",
       "      <td>0.0</td>\n",
       "      <td>0.0</td>\n",
       "      <td>...</td>\n",
       "      <td>0.0</td>\n",
       "      <td>0.0</td>\n",
       "      <td>0.0</td>\n",
       "      <td>0.0</td>\n",
       "      <td>0.0</td>\n",
       "      <td>0.00</td>\n",
       "      <td>0.0</td>\n",
       "      <td>0.0</td>\n",
       "      <td>0.0</td>\n",
       "      <td>0.0</td>\n",
       "    </tr>\n",
       "  </tbody>\n",
       "</table>\n",
       "<p>5 rows × 6634 columns</p>\n",
       "</div>"
      ],
      "text/plain": [
       "name     &quot;0&quot;  &quot;Bungaku Shoujo&quot; Kyou no Oyatsu: Hatsukoi  \\\n",
       "user_id                                                                       \n",
       "1                  0.0                                                0.0     \n",
       "2                  0.0                                                0.0     \n",
       "3                  0.0                                                0.0     \n",
       "5                  0.0                                                0.0     \n",
       "7                  0.0                                                0.0     \n",
       "\n",
       "name     &quot;Bungaku Shoujo&quot; Memoire  &quot;Bungaku Shoujo&quot; Movie  \\\n",
       "user_id                                                                         \n",
       "1                                       0.0                               0.0   \n",
       "2                                       0.0                               0.0   \n",
       "3                                       0.0                               0.0   \n",
       "5                                       0.0                               0.0   \n",
       "7                                       0.0                               0.0   \n",
       "\n",
       "name     .hack//G.U. Returner  .hack//G.U. Trilogy  \\\n",
       "user_id                                              \n",
       "1                         0.0                  0.0   \n",
       "2                         0.0                  0.0   \n",
       "3                         0.0                  0.0   \n",
       "5                         0.0                  0.0   \n",
       "7                         0.0                  0.0   \n",
       "\n",
       "name     .hack//G.U. Trilogy: Parody Mode  .hack//Gift  .hack//Intermezzo  \\\n",
       "user_id                                                                     \n",
       "1                                     0.0          0.0                0.0   \n",
       "2                                     0.0          0.0                0.0   \n",
       "3                                     0.0          0.0                0.0   \n",
       "5                                     0.0          0.0                0.0   \n",
       "7                                     0.0          0.0                0.0   \n",
       "\n",
       "name     .hack//Liminality        ...          gdgd Fairies  gdgd Fairies 2  \\\n",
       "user_id                           ...                                         \n",
       "1                      0.0        ...                   0.0             0.0   \n",
       "2                      0.0        ...                   0.0             0.0   \n",
       "3                      0.0        ...                   0.0             0.0   \n",
       "5                      0.0        ...                   0.0             0.0   \n",
       "7                      0.0        ...                   0.0             0.0   \n",
       "\n",
       "name     iDOLM@STER Xenoglossia  iDOLM@STER Xenoglossia Specials  s.CRY.ed  \\\n",
       "user_id                                                                      \n",
       "1                           0.0                              0.0       0.0   \n",
       "2                           0.0                              0.0       0.0   \n",
       "3                           0.0                              0.0       0.0   \n",
       "5                           0.0                              0.0       0.0   \n",
       "7                           0.0                              0.0       0.0   \n",
       "\n",
       "name     xxxHOLiC  xxxHOLiC Kei  xxxHOLiC Movie: Manatsu no Yoru no Yume  \\\n",
       "user_id                                                                    \n",
       "1            0.00           0.0                                      0.0   \n",
       "2            0.00           0.0                                      0.0   \n",
       "3            0.00           0.0                                      0.0   \n",
       "5            8.11           0.0                                      0.0   \n",
       "7            0.00           0.0                                      0.0   \n",
       "\n",
       "name     xxxHOLiC Rou  xxxHOLiC Shunmuki  \n",
       "user_id                                   \n",
       "1                 0.0                0.0  \n",
       "2                 0.0                0.0  \n",
       "3                 0.0                0.0  \n",
       "5                 0.0                0.0  \n",
       "7                 0.0                0.0  \n",
       "\n",
       "[5 rows x 6634 columns]"
      ]
     },
     "execution_count": 12,
     "metadata": {},
     "output_type": "execute_result"
    }
   ],
   "source": [
    "# Check\n",
    "\n",
    "anime_pivot.head()"
   ]
  },
  {
   "cell_type": "markdown",
   "metadata": {},
   "source": [
    "## [Advanced Task 1] Implement NMF by scikit-learn"
   ]
  },
  {
   "cell_type": "code",
   "execution_count": 13,
   "metadata": {
    "ExecuteTime": {
     "end_time": "2019-04-20T04:56:06.724691Z",
     "start_time": "2019-04-20T04:54:19.502556Z"
    }
   },
   "outputs": [],
   "source": [
    "# NMF\n",
    "\n",
    "model2 = NMF(n_components=2, init='random', random_state=0)\n",
    "W2 = model.fit_transform(anime_pivot)\n",
    "H2 = model.components_\n",
    "nmf2 = np.dot(W2, H2)"
   ]
  },
  {
   "cell_type": "code",
   "execution_count": 14,
   "metadata": {
    "ExecuteTime": {
     "end_time": "2019-04-20T04:56:06.767734Z",
     "start_time": "2019-04-20T04:56:06.734454Z"
    }
   },
   "outputs": [
    {
     "data": {
      "text/plain": [
       "array([[1.56695401e-04, 6.05443697e-03, 9.80824391e-03, ...,\n",
       "        0.00000000e+00, 7.34831264e-03, 2.54466534e-03],\n",
       "       [2.81847785e-05, 1.08901068e-03, 1.76420738e-03, ...,\n",
       "        0.00000000e+00, 1.32173991e-03, 4.57708579e-04],\n",
       "       [2.12356740e-03, 8.36358988e-02, 1.17250369e-01, ...,\n",
       "        1.00098874e-01, 1.27831224e-01, 1.06096963e-01],\n",
       "       ...,\n",
       "       [6.91283539e-05, 2.83700420e-03, 2.68549560e-03, ...,\n",
       "        1.04841427e-02, 6.20017557e-03, 8.62301371e-03],\n",
       "       [6.91425028e-03, 2.82910533e-01, 2.76989543e-01, ...,\n",
       "        9.95075907e-01, 6.05033144e-01, 8.24165859e-01],\n",
       "       [1.38532928e-04, 5.64667199e-03, 5.76413502e-03, ...,\n",
       "        1.85678025e-02, 1.17359478e-02, 1.55331976e-02]])"
      ]
     },
     "execution_count": 14,
     "metadata": {},
     "output_type": "execute_result"
    }
   ],
   "source": [
    "# Show the result\n",
    "\n",
    "nmf2"
   ]
  },
  {
   "cell_type": "markdown",
   "metadata": {},
   "source": [
    "## [Advanced Task 2] Recommendation\n",
    "\n",
    "<br />\n",
    "\n",
    "I recommend animations to the user whose user_id is 1."
   ]
  },
  {
   "cell_type": "code",
   "execution_count": 44,
   "metadata": {
    "ExecuteTime": {
     "end_time": "2019-04-20T05:30:23.883259Z",
     "start_time": "2019-04-20T05:30:23.879535Z"
    }
   },
   "outputs": [],
   "source": [
    "# Get a nmf for the user whose user_id is 1\n",
    "\n",
    "user1 = nmf2[0]"
   ]
  },
  {
   "cell_type": "code",
   "execution_count": 45,
   "metadata": {
    "ExecuteTime": {
     "end_time": "2019-04-20T05:30:24.466066Z",
     "start_time": "2019-04-20T05:30:24.459686Z"
    }
   },
   "outputs": [],
   "source": [
    "# Sort\n",
    "\n",
    "user1_sorted_index = np.argsort(user1)[::-1]"
   ]
  },
  {
   "cell_type": "code",
   "execution_count": 69,
   "metadata": {
    "ExecuteTime": {
     "end_time": "2019-04-20T06:16:46.932334Z",
     "start_time": "2019-04-20T06:16:46.927091Z"
    }
   },
   "outputs": [],
   "source": [
    "# Create a list of the recommendations of 10 animes\n",
    "\n",
    "recommendations_by_nmf = []\n",
    "for i in range(10):\n",
    "    recommendations_by_nmf.append(anime.name[user1_sorted_index[i]])"
   ]
  },
  {
   "cell_type": "code",
   "execution_count": 47,
   "metadata": {
    "ExecuteTime": {
     "end_time": "2019-04-20T05:30:34.674440Z",
     "start_time": "2019-04-20T05:30:34.667716Z"
    }
   },
   "outputs": [
    {
     "data": {
      "text/plain": [
       "['Kataku',\n",
       " 'Kyoushoku Soukou Guyver',\n",
       " 'Hamelin no Violin Hiki',\n",
       " 'Detective Conan',\n",
       " 'Senki Zesshou Symphogear GX: Believe in Justice and Hold a Determination to Fist. Specials',\n",
       " 'Baku Tech! Bakugan',\n",
       " 'Rokujouma no Shinryakusha!?',\n",
       " 'Motto! Ojamajo Doremi: Kaeru Ishi no Himitsu',\n",
       " 'Mamono Hunter Youko',\n",
       " 'I&#039;&#039;s']"
      ]
     },
     "execution_count": 47,
     "metadata": {},
     "output_type": "execute_result"
    }
   ],
   "source": [
    "# Show the result\n",
    "\n",
    "recommendations_by_nmf"
   ]
  },
  {
   "cell_type": "markdown",
   "metadata": {},
   "source": [
    "### Compare the Result with the User's Preferences about Animes"
   ]
  },
  {
   "cell_type": "code",
   "execution_count": 48,
   "metadata": {
    "ExecuteTime": {
     "end_time": "2019-04-20T06:04:15.848053Z",
     "start_time": "2019-04-20T06:04:15.658683Z"
    }
   },
   "outputs": [],
   "source": [
    "# Extract the data of the user whose user_id is 1 from the dataframe, \"ratings\"\n",
    "\n",
    "ratings_user1 = ratings[ratings.user_id==1]"
   ]
  },
  {
   "cell_type": "code",
   "execution_count": 55,
   "metadata": {
    "ExecuteTime": {
     "end_time": "2019-04-20T06:10:17.489902Z",
     "start_time": "2019-04-20T06:10:17.476923Z"
    }
   },
   "outputs": [
    {
     "data": {
      "text/html": [
       "<div>\n",
       "<style scoped>\n",
       "    .dataframe tbody tr th:only-of-type {\n",
       "        vertical-align: middle;\n",
       "    }\n",
       "\n",
       "    .dataframe tbody tr th {\n",
       "        vertical-align: top;\n",
       "    }\n",
       "\n",
       "    .dataframe thead th {\n",
       "        text-align: right;\n",
       "    }\n",
       "</style>\n",
       "<table border=\"1\" class=\"dataframe\">\n",
       "  <thead>\n",
       "    <tr style=\"text-align: right;\">\n",
       "      <th></th>\n",
       "      <th>user_id</th>\n",
       "      <th>anime_id</th>\n",
       "      <th>rating</th>\n",
       "    </tr>\n",
       "  </thead>\n",
       "  <tbody>\n",
       "    <tr>\n",
       "      <th>47</th>\n",
       "      <td>1</td>\n",
       "      <td>8074</td>\n",
       "      <td>10</td>\n",
       "    </tr>\n",
       "    <tr>\n",
       "      <th>81</th>\n",
       "      <td>1</td>\n",
       "      <td>11617</td>\n",
       "      <td>10</td>\n",
       "    </tr>\n",
       "    <tr>\n",
       "      <th>83</th>\n",
       "      <td>1</td>\n",
       "      <td>11757</td>\n",
       "      <td>10</td>\n",
       "    </tr>\n",
       "    <tr>\n",
       "      <th>101</th>\n",
       "      <td>1</td>\n",
       "      <td>15451</td>\n",
       "      <td>10</td>\n",
       "    </tr>\n",
       "  </tbody>\n",
       "</table>\n",
       "</div>"
      ],
      "text/plain": [
       "     user_id  anime_id  rating\n",
       "47         1      8074      10\n",
       "81         1     11617      10\n",
       "83         1     11757      10\n",
       "101        1     15451      10"
      ]
     },
     "execution_count": 55,
     "metadata": {},
     "output_type": "execute_result"
    }
   ],
   "source": [
    "# Check\n",
    "\n",
    "ratings_user1"
   ]
  },
  {
   "cell_type": "code",
   "execution_count": 67,
   "metadata": {
    "ExecuteTime": {
     "end_time": "2019-04-20T06:13:55.245467Z",
     "start_time": "2019-04-20T06:13:55.227318Z"
    }
   },
   "outputs": [
    {
     "name": "stdout",
     "output_type": "stream",
     "text": [
      "1709    Highschool of the Dead\n",
      "Name: name, dtype: object\n",
      "1057    High School DxD\n",
      "Name: name, dtype: object\n",
      "804    Sword Art Online\n",
      "Name: name, dtype: object\n",
      "724    High School DxD New\n",
      "Name: name, dtype: object\n"
     ]
    }
   ],
   "source": [
    "# Show the results\n",
    "\n",
    "print(anime.name[anime.anime_id == 8074])\n",
    "print(anime.name[anime.anime_id == 11617])\n",
    "print(anime.name[anime.anime_id == 11757])\n",
    "print(anime.name[anime.anime_id == 15451])"
   ]
  },
  {
   "cell_type": "markdown",
   "metadata": {},
   "source": [
    "    - All the results do not match the recommendations."
   ]
  },
  {
   "cell_type": "markdown",
   "metadata": {},
   "source": [
    "### Definition to Recommnd to Any Users"
   ]
  },
  {
   "cell_type": "code",
   "execution_count": 70,
   "metadata": {
    "ExecuteTime": {
     "end_time": "2019-04-20T06:18:02.214375Z",
     "start_time": "2019-04-20T06:18:02.204927Z"
    }
   },
   "outputs": [],
   "source": [
    "# Create a definition to recommend animes to all the users\n",
    "\n",
    "def recommend_10_animes(user_id):\n",
    "    # Get a nmf for the user whose user_id is the \"user_index\"\n",
    "    user_nmf = nmf2[user_id-1]\n",
    "    # Sort\n",
    "    user_nmf_sorted_index = np.argsort(user_nmf)[::-1]\n",
    "    # Show the recommendations of 10 animes\n",
    "    for i in range(10):\n",
    "        print(anime.name[user1_sorted_index[i]])"
   ]
  },
  {
   "cell_type": "code",
   "execution_count": 71,
   "metadata": {
    "ExecuteTime": {
     "end_time": "2019-04-20T06:18:13.412618Z",
     "start_time": "2019-04-20T06:18:13.404131Z"
    }
   },
   "outputs": [
    {
     "name": "stdout",
     "output_type": "stream",
     "text": [
      "Kataku\n",
      "Kyoushoku Soukou Guyver\n",
      "Hamelin no Violin Hiki\n",
      "Detective Conan\n",
      "Senki Zesshou Symphogear GX: Believe in Justice and Hold a Determination to Fist. Specials\n",
      "Baku Tech! Bakugan\n",
      "Rokujouma no Shinryakusha!?\n",
      "Motto! Ojamajo Doremi: Kaeru Ishi no Himitsu\n",
      "Mamono Hunter Youko\n",
      "I&#039;&#039;s\n"
     ]
    }
   ],
   "source": [
    "# Show 10 recommendations for a user whose user_id is 100\n",
    "\n",
    "recommend_10_animes(100)"
   ]
  },
  {
   "cell_type": "code",
   "execution_count": null,
   "metadata": {},
   "outputs": [],
   "source": []
  }
 ],
 "metadata": {
  "kernelspec": {
   "display_name": "Python 3",
   "language": "python",
   "name": "python3"
  },
  "language_info": {
   "codemirror_mode": {
    "name": "ipython",
    "version": 3
   },
   "file_extension": ".py",
   "mimetype": "text/x-python",
   "name": "python",
   "nbconvert_exporter": "python",
   "pygments_lexer": "ipython3",
   "version": "3.6.8"
  },
  "toc": {
   "base_numbering": 1,
   "nav_menu": {},
   "number_sections": true,
   "sideBar": true,
   "skip_h1_title": false,
   "title_cell": "Table of Contents",
   "title_sidebar": "Contents",
   "toc_cell": false,
   "toc_position": {},
   "toc_section_display": true,
   "toc_window_display": false
  },
  "varInspector": {
   "cols": {
    "lenName": 16,
    "lenType": 16,
    "lenVar": 40
   },
   "kernels_config": {
    "python": {
     "delete_cmd_postfix": "",
     "delete_cmd_prefix": "del ",
     "library": "var_list.py",
     "varRefreshCmd": "print(var_dic_list())"
    },
    "r": {
     "delete_cmd_postfix": ") ",
     "delete_cmd_prefix": "rm(",
     "library": "var_list.r",
     "varRefreshCmd": "cat(var_dic_list()) "
    }
   },
   "types_to_exclude": [
    "module",
    "function",
    "builtin_function_or_method",
    "instance",
    "_Feature"
   ],
   "window_display": false
  }
 },
 "nbformat": 4,
 "nbformat_minor": 2
}
