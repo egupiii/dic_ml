{
 "cells": [
  {
   "cell_type": "markdown",
   "metadata": {},
   "source": [
    "# Segmentation\n",
    "\n",
    "<br />\n",
    "\n",
    "I will do segmentation for a medical dataset, \"TGS Salt Identification Challenge\" on Kaggle.\n",
    "\n",
    "\n",
    "https://www.kaggle.com/c/tgs-salt-identification-challenge\n",
    "\n",
    "<br />\n",
    "\n",
    "In this task, I am going to use U-Net as segmentation method.\n",
    "\n",
    "<br />\n",
    "\n",
    "\"U-Net: Convolutional Networks for Biomedical Image Segmentation\"\n",
    "\n",
    "\n",
    "Olaf Ronneberger, Philipp Fischer, and Thomas Brox\n",
    "\n",
    "\n",
    "https://arxiv.org/pdf/1505.04597.pdf"
   ]
  },
  {
   "cell_type": "markdown",
   "metadata": {},
   "source": [
    "## [Task 1] Fit and Predict\n",
    "\n",
    "<br />\n",
    "\n",
    "I fit and predict the dataset by using the following implementation of Keras.\n",
    "\n",
    "\n",
    "https://github.com/zhixuhao/unet"
   ]
  },
  {
   "cell_type": "markdown",
   "metadata": {},
   "source": [
    "## [Task 2] Code Reading"
   ]
  },
  {
   "cell_type": "code",
   "execution_count": null,
   "metadata": {},
   "outputs": [],
   "source": []
  }
 ],
 "metadata": {
  "kernelspec": {
   "display_name": "Python 3",
   "language": "python",
   "name": "python3"
  },
  "language_info": {
   "codemirror_mode": {
    "name": "ipython",
    "version": 3
   },
   "file_extension": ".py",
   "mimetype": "text/x-python",
   "name": "python",
   "nbconvert_exporter": "python",
   "pygments_lexer": "ipython3",
   "version": "3.6.8"
  }
 },
 "nbformat": 4,
 "nbformat_minor": 2
}
