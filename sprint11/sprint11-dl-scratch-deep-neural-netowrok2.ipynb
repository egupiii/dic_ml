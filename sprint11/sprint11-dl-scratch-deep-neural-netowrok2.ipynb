{
 "cells": [
  {
   "cell_type": "markdown",
   "metadata": {},
   "source": [
    "# Implementation from Scratch\n",
    "\n",
    "<br />\n",
    "\n",
    "I am going to rewrite codes of 3 layers of neural network that I created on the previous sprint to expand them to any structures by using classes."
   ]
  },
  {
   "cell_type": "markdown",
   "metadata": {},
   "source": [
    "## [Task 1] Class Fully Connected Layer"
   ]
  },
  {
   "cell_type": "markdown",
   "metadata": {},
   "source": [
    "## [Task 2] Class Initialization Method"
   ]
  },
  {
   "cell_type": "markdown",
   "metadata": {},
   "source": [
    "## [Task 3] Class Optimization Method"
   ]
  },
  {
   "cell_type": "markdown",
   "metadata": {},
   "source": [
    "## [Task 4] Class Activation Function"
   ]
  },
  {
   "cell_type": "markdown",
   "metadata": {},
   "source": [
    "## [Task 5] Create a Class of ReLU\n",
    "\n",
    "<br />\n",
    "\n",
    "$$\n",
    "% <![CDATA[\n",
    "f(x) = ReLU(x) = \\begin{cases}\n",
    "x  & \\text{if $x>0$,}\\\\\n",
    "0 & \\text{if $x\\leqq0$.}\n",
    "\\end{cases} %]]>\n",
    "$$\n",
    "\n",
    "$x$ : a feature (scaler)\n",
    "\n",
    "<br />\n",
    "\n",
    "In addition, the following equation is a differentiation of $f(x)$ with respect to $x$ for backpropagation.\n",
    "\n",
    "$$\n",
    "% <![CDATA[\n",
    "\\frac{\\partial f(x)}{\\partial x} = \\begin{cases}\n",
    "1  & \\text{if $x>0$,}\\\\\n",
    "0 & \\text{if $x\\leqq0$.}\n",
    "\\end{cases} %]]>\n",
    "$$"
   ]
  },
  {
   "cell_type": "markdown",
   "metadata": {},
   "source": [
    "## [Task 6] Initial Value of Weight\n",
    "\n",
    "<br />\n",
    "\n",
    "Xavier's initial value\n",
    "\n",
    "$$\n",
    "\\sigma = \\frac{1}{\\sqrt{n}}\n",
    "$$\n",
    "\n",
    "$n$ : Number of nodes of the previous layer\n",
    "\n",
    "<br />\n",
    "\n",
    "He's initial value\n",
    "\n",
    "$$\n",
    "\\sigma = \\sqrt{\\frac{2}{n}}\n",
    "$$\n",
    "\n",
    "$n$ : Number of nodes of the previous layer"
   ]
  },
  {
   "cell_type": "markdown",
   "metadata": {},
   "source": [
    "## [Task 7] Optimization Method\n",
    "\n",
    "<br />\n",
    "\n",
    "I am going to implement AdaGrad.\n",
    "\n",
    "$$\n",
    "H_i^{\\prime}  = H_i+E(\\frac{\\partial L}{\\partial W_i})×E(\\frac{\\partial L}{\\partial W_i})\\\\\n",
    "W_i^{\\prime} = W_i - \\alpha \\frac{1}{\\sqrt{H_i^{\\prime} }} E(\\frac{\\partial L}{\\partial W_i}) \\\\\n",
    "$$\n",
    "\n",
    "$H_i$ : Sum of squares of all gradients up to the previous iterations about ith layer\n",
    "\n",
    "$H_i^{\\prime}$ : Updated $H_i$"
   ]
  },
  {
   "cell_type": "markdown",
   "metadata": {},
   "source": [
    "### Validation\n",
    "\n",
    "<br />\n",
    "\n",
    "I am going to validate classes that I created above by 3 layers of neural network with MNIST dataset."
   ]
  },
  {
   "cell_type": "code",
   "execution_count": 1,
   "metadata": {},
   "outputs": [
    {
     "name": "stderr",
     "output_type": "stream",
     "text": [
      "Using TensorFlow backend.\n"
     ]
    }
   ],
   "source": [
    "from keras.datasets import mnist\n",
    "import matplotlib.pyplot as plt\n",
    "import numpy as np\n",
    "from sklearn.preprocessing import OneHotEncoder\n",
    "from sklearn.model_selection import train_test_split\n",
    "from sklearn.metrics import accuracy_score\n",
    "import copy\n",
    "import sys"
   ]
  },
  {
   "cell_type": "code",
   "execution_count": 2,
   "metadata": {},
   "outputs": [],
   "source": [
    "# Download the MNIST dataset\n",
    "\n",
    "(X_train, y_train), (X_test, y_test) = mnist.load_data()"
   ]
  },
  {
   "cell_type": "code",
   "execution_count": 3,
   "metadata": {},
   "outputs": [],
   "source": [
    "# Flatten\n",
    "\n",
    "X_train = X_train.reshape(-1, 784)\n",
    "X_test = X_test.reshape(-1, 784)"
   ]
  },
  {
   "cell_type": "code",
   "execution_count": 4,
   "metadata": {},
   "outputs": [],
   "source": [
    "# Transform unit8 to float\n",
    "\n",
    "X_train = X_train.astype(np.float)\n",
    "X_test = X_test.astype(np.float)\n",
    "X_train /= 255\n",
    "X_test /= 255"
   ]
  },
  {
   "cell_type": "code",
   "execution_count": 5,
   "metadata": {},
   "outputs": [],
   "source": [
    "# Transform correct labels that are 0 to 9 to \n",
    "\n",
    "# Initialize\n",
    "enc = OneHotEncoder(handle_unknown='ignore', sparse=False)\n",
    "\n",
    "# Fit\n",
    "y_train_one_hot = enc.fit_transform(y_train[:, np.newaxis])\n",
    "\n",
    "# Transform\n",
    "y_test_one_hot = enc.transform(y_test[:, np.newaxis])"
   ]
  },
  {
   "cell_type": "code",
   "execution_count": 6,
   "metadata": {},
   "outputs": [],
   "source": [
    "# Split the train dataset\n",
    "\n",
    "X_train, X_val, y_train, y_val = train_test_split(X_train, y_train_one_hot, test_size=0.2)"
   ]
  },
  {
   "cell_type": "code",
   "execution_count": 7,
   "metadata": {},
   "outputs": [],
   "source": [
    "# Add a path searching for specific modules\n",
    "sys.path.append(\"../scratch/model/\")\n",
    "\n",
    "# Import a class\n",
    "from scratch_deep_neural_network import ScratchDeepNeuralNetrowkClassifier, FC, SimpleInitializer, AdaGrad, Dropout, Relu, Softmax"
   ]
  },
  {
   "cell_type": "code",
   "execution_count": 8,
   "metadata": {},
   "outputs": [],
   "source": [
    "# Initialize\n",
    "dnn = ScratchDeepNeuralNetrowkClassifier(100, 10)\n",
    "\n",
    "# 1st layer\n",
    "dnn.add(FC(784, 400, SimpleInitializer(sigma=0.01), AdaGrad(lr=0.001)))\n",
    "dnn.add(Dropout())\n",
    "dnn.add(Relu())\n",
    "\n",
    "# 2nd layer\n",
    "dnn.add(FC(400, 200, SimpleInitializer(sigma=0.01), AdaGrad(lr=0.001)))\n",
    "dnn.add(Dropout())\n",
    "dnn.add(Relu())\n",
    "\n",
    "# 3rd layer\n",
    "dnn.add(FC(200, 10, SimpleInitializer(sigma=0.01), AdaGrad(lr=0.001)))\n",
    "dnn.add(Softmax())"
   ]
  },
  {
   "cell_type": "code",
   "execution_count": 9,
   "metadata": {
    "scrolled": true
   },
   "outputs": [
    {
     "name": "stdout",
     "output_type": "stream",
     "text": [
      "1ep loss: 1.8560136718101372, val_loss: 1.6876419316770275\n",
      "2ep loss: 1.7477376489745986, val_loss: 1.5138187316658833\n",
      "3ep loss: 1.6987452444117774, val_loss: 1.4441035359743883\n",
      "4ep loss: 1.6685710272587773, val_loss: 1.4096045254448888\n",
      "5ep loss: 1.6464778641857176, val_loss: 1.3885524892673307\n",
      "6ep loss: 1.6275465244917533, val_loss: 1.3724343215820962\n",
      "7ep loss: 1.610508885493059, val_loss: 1.3592875263353554\n",
      "8ep loss: 1.5946209784357577, val_loss: 1.3479317578127115\n",
      "9ep loss: 1.579383802272896, val_loss: 1.33772938759901\n",
      "10ep loss: 1.564539097328446, val_loss: 1.3289591336558872\n",
      "11ep loss: 1.5504512927903344, val_loss: 1.3209579314393152\n",
      "12ep loss: 1.5368922812170285, val_loss: 1.3133634995482677\n",
      "13ep loss: 1.5238406567083014, val_loss: 1.3062394320147797\n",
      "14ep loss: 1.5112728833100026, val_loss: 1.299846988164909\n",
      "15ep loss: 1.4993409632160355, val_loss: 1.2937763223027698\n",
      "16ep loss: 1.487685796508339, val_loss: 1.28786326348967\n",
      "17ep loss: 1.4768503335777508, val_loss: 1.282187187976601\n",
      "18ep loss: 1.4667000552748746, val_loss: 1.276442703599736\n",
      "19ep loss: 1.4569948231422596, val_loss: 1.2711352872867854\n",
      "20ep loss: 1.4477154103954286, val_loss: 1.266228856788144\n",
      "21ep loss: 1.4388414363195208, val_loss: 1.2613658353282138\n",
      "22ep loss: 1.4302890302708877, val_loss: 1.2571183212429275\n",
      "23ep loss: 1.4220102750817474, val_loss: 1.2530060762332238\n",
      "24ep loss: 1.4140192959958227, val_loss: 1.2490808165563634\n",
      "25ep loss: 1.4066225621697974, val_loss: 1.2454484217736683\n",
      "26ep loss: 1.3996837978622545, val_loss: 1.2420274653205636\n",
      "27ep loss: 1.3928938157240078, val_loss: 1.2387538728278797\n",
      "28ep loss: 1.3863713081374514, val_loss: 1.235612452657763\n",
      "29ep loss: 1.3800135961699769, val_loss: 1.2326097628523613\n",
      "30ep loss: 1.3737802732251292, val_loss: 1.2298240494671373\n",
      "31ep loss: 1.3677759793431277, val_loss: 1.227185502724938\n",
      "32ep loss: 1.3619859712588318, val_loss: 1.2246719784943232\n",
      "33ep loss: 1.356463014618543, val_loss: 1.2221837373065245\n",
      "34ep loss: 1.3510254798063637, val_loss: 1.2197345987490344\n",
      "35ep loss: 1.3458232899765807, val_loss: 1.217444393088464\n",
      "36ep loss: 1.3409016695762799, val_loss: 1.2151832206174915\n",
      "37ep loss: 1.3361776454114567, val_loss: 1.2129333570849115\n",
      "38ep loss: 1.3317548069066554, val_loss: 1.210735754710731\n",
      "39ep loss: 1.3274490002450645, val_loss: 1.2086767991645406\n",
      "40ep loss: 1.3232963366096098, val_loss: 1.2065265307022828\n",
      "41ep loss: 1.3193189158224292, val_loss: 1.2045369496751726\n",
      "42ep loss: 1.315491589615356, val_loss: 1.2026102675786265\n",
      "43ep loss: 1.3117241809317401, val_loss: 1.2006259418395682\n",
      "44ep loss: 1.3080545475627265, val_loss: 1.1986734771472558\n",
      "45ep loss: 1.3045902730924275, val_loss: 1.1967543905108684\n",
      "46ep loss: 1.3013389869872327, val_loss: 1.1947835140903673\n",
      "47ep loss: 1.2982452069397685, val_loss: 1.1928498851249731\n",
      "48ep loss: 1.2952989896828415, val_loss: 1.1909749032544574\n",
      "49ep loss: 1.2924507996128596, val_loss: 1.1891258874930035\n",
      "50ep loss: 1.2897203415769556, val_loss: 1.187293237046919\n",
      "51ep loss: 1.2870831123714255, val_loss: 1.185615963736698\n",
      "52ep loss: 1.284598066512606, val_loss: 1.1839375249576873\n",
      "53ep loss: 1.282196483078841, val_loss: 1.1823108627746959\n",
      "54ep loss: 1.2799204125317072, val_loss: 1.1806748590545229\n",
      "55ep loss: 1.2776883228996767, val_loss: 1.1790567118214677\n",
      "56ep loss: 1.275483780467185, val_loss: 1.1774977819615453\n",
      "57ep loss: 1.2733618342511508, val_loss: 1.1759506256558283\n",
      "58ep loss: 1.2714390449723236, val_loss: 1.1744928126648555\n",
      "59ep loss: 1.2695638326123644, val_loss: 1.1729711691175724\n",
      "60ep loss: 1.267778899937365, val_loss: 1.1714862975439815\n",
      "61ep loss: 1.2660343609270115, val_loss: 1.1700362154683432\n",
      "62ep loss: 1.264411875916727, val_loss: 1.168690130594905\n",
      "63ep loss: 1.2629145630066048, val_loss: 1.1672666470707251\n",
      "64ep loss: 1.2614692867391537, val_loss: 1.1658696659259256\n",
      "65ep loss: 1.2600497115959752, val_loss: 1.1645507198696365\n",
      "66ep loss: 1.2587739315443767, val_loss: 1.1631830558261422\n",
      "67ep loss: 1.2575612668306004, val_loss: 1.1618821667304307\n",
      "68ep loss: 1.2563896219963602, val_loss: 1.1605978258595553\n",
      "69ep loss: 1.2552878387837192, val_loss: 1.1592448252898346\n",
      "70ep loss: 1.2542649133578099, val_loss: 1.1579154360801946\n",
      "71ep loss: 1.253250401758457, val_loss: 1.15657784960045\n",
      "72ep loss: 1.2522982677531194, val_loss: 1.1552335467378634\n",
      "73ep loss: 1.2513267608720502, val_loss: 1.1538698876303897\n",
      "74ep loss: 1.2504587918437378, val_loss: 1.1525298159371231\n",
      "75ep loss: 1.2496177358671576, val_loss: 1.151281709482756\n",
      "76ep loss: 1.2488310626053547, val_loss: 1.1500693520775371\n",
      "77ep loss: 1.2480338169767407, val_loss: 1.148798785347829\n",
      "78ep loss: 1.2472552794113203, val_loss: 1.1474986474596915\n",
      "79ep loss: 1.2465791415464171, val_loss: 1.1462706547088164\n",
      "80ep loss: 1.245920577568231, val_loss: 1.144980758466715\n",
      "81ep loss: 1.2452886513656523, val_loss: 1.1437162613592362\n",
      "82ep loss: 1.2446640000933695, val_loss: 1.1424310009132719\n",
      "83ep loss: 1.244078561914671, val_loss: 1.1412039065251895\n",
      "84ep loss: 1.243506269130767, val_loss: 1.139942727278457\n",
      "85ep loss: 1.2429494169195892, val_loss: 1.1387197924256254\n",
      "86ep loss: 1.2424263139657767, val_loss: 1.137520227566561\n",
      "87ep loss: 1.2418544923709234, val_loss: 1.1363879006374222\n",
      "88ep loss: 1.2413964629170224, val_loss: 1.135223722499434\n",
      "89ep loss: 1.240893769909678, val_loss: 1.1340331370679397\n",
      "90ep loss: 1.2404205640272497, val_loss: 1.1328898857458654\n",
      "91ep loss: 1.2399689041925572, val_loss: 1.1317656646392815\n",
      "92ep loss: 1.2395258766493007, val_loss: 1.1306358703069153\n",
      "93ep loss: 1.2391238950397692, val_loss: 1.129488745308585\n",
      "94ep loss: 1.2387635425274097, val_loss: 1.128395436500576\n",
      "95ep loss: 1.2384597166649847, val_loss: 1.1272602516008088\n",
      "96ep loss: 1.238222271606918, val_loss: 1.1261391696439274\n",
      "97ep loss: 1.2378773000176448, val_loss: 1.1249853116602964\n",
      "98ep loss: 1.237592506138711, val_loss: 1.1238787434268294\n",
      "99ep loss: 1.2373528523394264, val_loss: 1.1227817646556955\n",
      "100ep loss: 1.2371318114277214, val_loss: 1.1216595270043213\n"
     ]
    }
   ],
   "source": [
    "# Fit\n",
    "\n",
    "dnn.fit(X_train, y_train, X_val, y_val)"
   ]
  },
  {
   "cell_type": "code",
   "execution_count": 10,
   "metadata": {},
   "outputs": [],
   "source": [
    "# Predict\n",
    "\n",
    "y_pred = dnn.predict(X_test)"
   ]
  },
  {
   "cell_type": "code",
   "execution_count": 11,
   "metadata": {},
   "outputs": [
    {
     "data": {
      "text/plain": [
       "array([7, 2, 1, ..., 4, 8, 6])"
      ]
     },
     "execution_count": 11,
     "metadata": {},
     "output_type": "execute_result"
    }
   ],
   "source": [
    "y_pred"
   ]
  },
  {
   "cell_type": "code",
   "execution_count": 12,
   "metadata": {},
   "outputs": [
    {
     "data": {
      "image/png": "[encoded data removed]",
      "text/plain": [
       "<Figure size 432x288 with 1 Axes>"
      ]
     },
     "metadata": {},
     "output_type": "display_data"
    }
   ],
   "source": [
    "# Plot learning curves\n",
    "\n",
    "dnn.plot_learning_record()"
   ]
  },
  {
   "cell_type": "code",
   "execution_count": 13,
   "metadata": {},
   "outputs": [
    {
     "name": "stdout",
     "output_type": "stream",
     "text": [
      "accuracy score: 0.8264\n"
     ]
    }
   ],
   "source": [
    "# Compute index values\n",
    "\n",
    "dnn.compute_index_values(y_test, y_pred)"
   ]
  },
  {
   "cell_type": "code",
   "execution_count": 14,
   "metadata": {},
   "outputs": [
    {
     "data": {
      "image/png": "[encoded data removed]",
      "text/plain": [
       "<Figure size 432x432 with 1 Axes>"
      ]
     },
     "metadata": {},
     "output_type": "display_data"
    }
   ],
   "source": [
    "# Plot misclassifications\n",
    "\n",
    "dnn.plot_misclassification(X_val, y_val, y_pred)"
   ]
  },
  {
   "cell_type": "code",
   "execution_count": null,
   "metadata": {},
   "outputs": [],
   "source": []
  }
 ],
 "metadata": {
  "kernelspec": {
   "display_name": "Python 3",
   "language": "python",
   "name": "python3"
  },
  "language_info": {
   "codemirror_mode": {
    "name": "ipython",
    "version": 3
   },
   "file_extension": ".py",
   "mimetype": "text/x-python",
   "name": "python",
   "nbconvert_exporter": "python",
   "pygments_lexer": "ipython3",
   "version": "3.7.1"
  }
 },
 "nbformat": 4,
 "nbformat_minor": 2
}
