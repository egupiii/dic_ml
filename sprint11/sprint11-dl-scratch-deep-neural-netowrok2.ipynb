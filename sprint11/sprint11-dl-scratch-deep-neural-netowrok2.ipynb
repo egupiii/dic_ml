{
 "cells": [
  {
   "cell_type": "markdown",
   "metadata": {},
   "source": [
    "# Implementation from Scratch\n",
    "\n",
    "<br />\n",
    "\n",
    "I am going to rewrite codes of 3 layers of neural network that I created on the previous sprint to expand them to any structures by using classes."
   ]
  },
  {
   "cell_type": "markdown",
   "metadata": {},
   "source": [
    "## [Task 1] Class Fully Connected Layer"
   ]
  },
  {
   "cell_type": "markdown",
   "metadata": {},
   "source": [
    "## [Task 2] Class Initialization Method"
   ]
  },
  {
   "cell_type": "markdown",
   "metadata": {},
   "source": [
    "## [Task 3] Class Optimization Method"
   ]
  },
  {
   "cell_type": "markdown",
   "metadata": {},
   "source": [
    "## [Task 4] Class Activation Function"
   ]
  },
  {
   "cell_type": "markdown",
   "metadata": {},
   "source": [
    "## [Task 5] Create a Class of ReLU\n",
    "\n",
    "<br />\n",
    "\n",
    "$$\n",
    "% <![CDATA[\n",
    "f(x) = ReLU(x) = \\begin{cases}\n",
    "x  & \\text{if $x>0$,}\\\\\n",
    "0 & \\text{if $x\\leqq0$.}\n",
    "\\end{cases} %]]>\n",
    "$$\n",
    "\n",
    "$x$ : a feature (scaler)\n",
    "\n",
    "<br />\n",
    "\n",
    "In addition, the following equation is a differentiation of $f(x)$ with respect to $x$ for backpropagation.\n",
    "\n",
    "$$\n",
    "% <![CDATA[\n",
    "\\frac{\\partial f(x)}{\\partial x} = \\begin{cases}\n",
    "1  & \\text{if $x>0$,}\\\\\n",
    "0 & \\text{if $x\\leqq0$.}\n",
    "\\end{cases} %]]>\n",
    "$$"
   ]
  },
  {
   "cell_type": "markdown",
   "metadata": {},
   "source": [
    "## [Task 6] Initial Value of Weight\n",
    "\n",
    "<br />\n",
    "\n",
    "Xavier's initial value\n",
    "\n",
    "$$\n",
    "\\sigma = \\frac{1}{\\sqrt{n}}\n",
    "$$\n",
    "\n",
    "$n$ : Number of nodes of the previous layer\n",
    "\n",
    "<br />\n",
    "\n",
    "He's initial value\n",
    "\n",
    "$$\n",
    "\\sigma = \\sqrt{\\frac{2}{n}}\n",
    "$$\n",
    "\n",
    "$n$ : Number of nodes of the previous layer"
   ]
  },
  {
   "cell_type": "markdown",
   "metadata": {},
   "source": [
    "## [Task 7] Optimization Method\n",
    "\n",
    "<br />\n",
    "\n",
    "I am going to implement AdaGrad.\n",
    "\n",
    "$$\n",
    "H_i^{\\prime}  = H_i+E(\\frac{\\partial L}{\\partial W_i})×E(\\frac{\\partial L}{\\partial W_i})\\\\\n",
    "W_i^{\\prime} = W_i - \\alpha \\frac{1}{\\sqrt{H_i^{\\prime} }} E(\\frac{\\partial L}{\\partial W_i}) \\\\\n",
    "$$\n",
    "\n",
    "$H_i$ : Sum of squares of all gradients up to the previous iterations about ith layer\n",
    "\n",
    "$H_i^{\\prime}$ : Updated $H_i$"
   ]
  },
  {
   "cell_type": "markdown",
   "metadata": {},
   "source": [
    "### Validation\n",
    "\n",
    "<br />\n",
    "\n",
    "I am going to validate classes that I created above by 3 layers of neural network with MNIST dataset."
   ]
  },
  {
   "cell_type": "code",
   "execution_count": 1,
   "metadata": {},
   "outputs": [
    {
     "name": "stderr",
     "output_type": "stream",
     "text": [
      "Using TensorFlow backend.\n"
     ]
    }
   ],
   "source": [
    "from keras.datasets import mnist\n",
    "import matplotlib.pyplot as plt\n",
    "import numpy as np\n",
    "from sklearn.preprocessing import OneHotEncoder\n",
    "from sklearn.model_selection import train_test_split\n",
    "from sklearn.metrics import accuracy_score\n",
    "import copy\n",
    "import sys"
   ]
  },
  {
   "cell_type": "code",
   "execution_count": 2,
   "metadata": {},
   "outputs": [],
   "source": [
    "# Download the MNIST dataset\n",
    "\n",
    "(X_train, y_train), (X_test, y_test) = mnist.load_data()"
   ]
  },
  {
   "cell_type": "code",
   "execution_count": 3,
   "metadata": {},
   "outputs": [],
   "source": [
    "# Flatten\n",
    "\n",
    "X_train = X_train.reshape(-1, 784)\n",
    "X_test = X_test.reshape(-1, 784)"
   ]
  },
  {
   "cell_type": "code",
   "execution_count": 4,
   "metadata": {},
   "outputs": [],
   "source": [
    "# Transform unit8 to float\n",
    "\n",
    "X_train = X_train.astype(np.float)\n",
    "X_test = X_test.astype(np.float)\n",
    "X_train /= 255\n",
    "X_test /= 255"
   ]
  },
  {
   "cell_type": "code",
   "execution_count": 5,
   "metadata": {},
   "outputs": [],
   "source": [
    "# Transform correct labels that are 0 to 9 to \n",
    "\n",
    "# Initialize\n",
    "enc = OneHotEncoder(handle_unknown='ignore', sparse=False)\n",
    "\n",
    "# Fit\n",
    "y_train_one_hot = enc.fit_transform(y_train[:, np.newaxis])\n",
    "\n",
    "# Transform\n",
    "y_test_one_hot = enc.transform(y_test[:, np.newaxis])"
   ]
  },
  {
   "cell_type": "code",
   "execution_count": 6,
   "metadata": {},
   "outputs": [],
   "source": [
    "# Split the train dataset\n",
    "\n",
    "X_train, X_val, y_train, y_val = train_test_split(X_train, y_train_one_hot, test_size=0.2)"
   ]
  },
  {
   "cell_type": "code",
   "execution_count": 7,
   "metadata": {},
   "outputs": [],
   "source": [
    "# Add a path searching for specific modules\n",
    "sys.path.append(\"../scratch/model/\")\n",
    "\n",
    "# Import a class\n",
    "from scratch_deep_neural_network import ScratchDeepNeuralNetrowkClassifier, FC, SimpleInitializer, AdaGrad, Dropout, Relu, Softmax"
   ]
  },
  {
   "cell_type": "code",
   "execution_count": 8,
   "metadata": {},
   "outputs": [],
   "source": [
    "# Initialize\n",
    "dnn = ScratchDeepNeuralNetrowkClassifier(100, 10)\n",
    "\n",
    "# 1st layer\n",
    "dnn.add(FC(784, 400, SimpleInitializer(sigma=0.01), AdaGrad(lr=0.001)))\n",
    "dnn.add(Dropout())\n",
    "dnn.add(Relu())\n",
    "\n",
    "# 2nd layer\n",
    "dnn.add(FC(400, 200, SimpleInitializer(sigma=0.01), AdaGrad(lr=0.001)))\n",
    "dnn.add(Dropout())\n",
    "dnn.add(Relu())\n",
    "\n",
    "# 3rd layer\n",
    "dnn.add(FC(200, 10, SimpleInitializer(sigma=0.01), AdaGrad(lr=0.001)))\n",
    "dnn.add(Softmax())"
   ]
  },
  {
   "cell_type": "code",
   "execution_count": 9,
   "metadata": {
    "scrolled": true
   },
   "outputs": [
    {
     "name": "stdout",
     "output_type": "stream",
     "text": [
      "1th loss: 1.9509335157696968, val_loss: 1.9601900639102596\n",
      "2th loss: 1.829523121876062, val_loss: 1.8739033609955258\n",
      "3th loss: 1.771712699040226, val_loss: 1.834132261124989\n",
      "4th loss: 1.733642924966914, val_loss: 1.8048765360926051\n",
      "5th loss: 1.7030638739553967, val_loss: 1.779079415727645\n",
      "6th loss: 1.6766742886866617, val_loss: 1.7545069604117653\n",
      "7th loss: 1.6524408619256363, val_loss: 1.7317381677150252\n",
      "8th loss: 1.6303095263766487, val_loss: 1.7106885774686926\n",
      "9th loss: 1.6096042666028096, val_loss: 1.6907170813607397\n",
      "10th loss: 1.5903759114780243, val_loss: 1.6720044619028662\n",
      "11th loss: 1.572271847003567, val_loss: 1.6543440819417978\n",
      "12th loss: 1.5555051030466238, val_loss: 1.6378154452716203\n",
      "13th loss: 1.5399794800972268, val_loss: 1.6224922337528\n",
      "14th loss: 1.525463127711289, val_loss: 1.6081866784713115\n",
      "15th loss: 1.5118709841853084, val_loss: 1.5949153766954023\n",
      "16th loss: 1.4988106083961348, val_loss: 1.5824537421053533\n",
      "17th loss: 1.4865148455058619, val_loss: 1.5709930429430614\n",
      "18th loss: 1.4750948630789866, val_loss: 1.5601416026677595\n",
      "19th loss: 1.4643684022122063, val_loss: 1.5499293522262003\n",
      "20th loss: 1.4543871172601812, val_loss: 1.540106923948119\n",
      "21th loss: 1.444985083351496, val_loss: 1.5308511021095876\n",
      "22th loss: 1.4361205193975295, val_loss: 1.521944826861924\n",
      "23th loss: 1.4276182190898292, val_loss: 1.5134994879657908\n",
      "24th loss: 1.41957122570542, val_loss: 1.5054446425291006\n",
      "25th loss: 1.4119790776209524, val_loss: 1.4977754355987758\n",
      "26th loss: 1.4048989806798233, val_loss: 1.4904709478044726\n",
      "27th loss: 1.3981587506700792, val_loss: 1.483472862123929\n",
      "28th loss: 1.3917950259084488, val_loss: 1.4766987380222205\n",
      "29th loss: 1.385680881834824, val_loss: 1.470165433858729\n",
      "30th loss: 1.3797273245566437, val_loss: 1.463860401366137\n",
      "31th loss: 1.3741102732222086, val_loss: 1.4576804123743805\n",
      "32th loss: 1.3687306093512777, val_loss: 1.4516996831344362\n",
      "33th loss: 1.3636913649398772, val_loss: 1.4460498766593342\n",
      "34th loss: 1.3587708485651429, val_loss: 1.4404199543159693\n",
      "35th loss: 1.3541127511297104, val_loss: 1.4350269556099733\n",
      "36th loss: 1.34967449370958, val_loss: 1.429781280387524\n",
      "37th loss: 1.3453157871505121, val_loss: 1.4248101329061793\n",
      "38th loss: 1.3411571836837093, val_loss: 1.419919569275951\n",
      "39th loss: 1.3370847401035102, val_loss: 1.415222462759235\n",
      "40th loss: 1.3331792701376368, val_loss: 1.4107952389283573\n",
      "41th loss: 1.3293948934835231, val_loss: 1.4064365627565063\n",
      "42th loss: 1.3257690687965962, val_loss: 1.4022239812053163\n",
      "43th loss: 1.3222626115432223, val_loss: 1.3981126972224545\n",
      "44th loss: 1.3188831878165388, val_loss: 1.394110698462888\n",
      "45th loss: 1.3156060727100392, val_loss: 1.3901657218185\n",
      "46th loss: 1.3123830731228812, val_loss: 1.3864338349482215\n",
      "47th loss: 1.3092662442675835, val_loss: 1.382798662443922\n",
      "48th loss: 1.3063650997656462, val_loss: 1.3792196528542793\n",
      "49th loss: 1.3035726839557014, val_loss: 1.3757709185413385\n",
      "50th loss: 1.3009058596359018, val_loss: 1.3724279053492472\n",
      "51th loss: 1.2983909895186594, val_loss: 1.36912582695355\n",
      "52th loss: 1.2958599568515587, val_loss: 1.365936181464905\n",
      "53th loss: 1.293402349402443, val_loss: 1.3628168893757275\n",
      "54th loss: 1.2910218170810541, val_loss: 1.3597918484062403\n",
      "55th loss: 1.2887640450832376, val_loss: 1.3568445800772178\n",
      "56th loss: 1.2865006000472115, val_loss: 1.3539294040436967\n",
      "57th loss: 1.2842378647228079, val_loss: 1.351090621953627\n",
      "58th loss: 1.2820268791932983, val_loss: 1.3482738868737683\n",
      "59th loss: 1.2798494652683847, val_loss: 1.345570501973351\n",
      "60th loss: 1.2777190229841486, val_loss: 1.3429285033906404\n",
      "61th loss: 1.2756289892497004, val_loss: 1.340287225254439\n",
      "62th loss: 1.273496885539322, val_loss: 1.3377367291392728\n",
      "63th loss: 1.2714992592882073, val_loss: 1.335273957234354\n",
      "64th loss: 1.2695851058304024, val_loss: 1.3328739942388388\n",
      "65th loss: 1.2677094254177546, val_loss: 1.3304949793958052\n",
      "66th loss: 1.2658626008672584, val_loss: 1.3281522690701422\n",
      "67th loss: 1.264151532038726, val_loss: 1.325884571176327\n",
      "68th loss: 1.2623724858791652, val_loss: 1.3236188233894266\n",
      "69th loss: 1.2606666121677246, val_loss: 1.3214186918655193\n",
      "70th loss: 1.258942503928658, val_loss: 1.3192352640108163\n",
      "71th loss: 1.2572998372630402, val_loss: 1.3170919313119442\n",
      "72th loss: 1.2556465424152579, val_loss: 1.3150290152964916\n",
      "73th loss: 1.25407490667158, val_loss: 1.3129644034114045\n",
      "74th loss: 1.2524529832646683, val_loss: 1.3109473183342693\n",
      "75th loss: 1.2508919024041634, val_loss: 1.3089493671616546\n",
      "76th loss: 1.249340412095113, val_loss: 1.306954277441829\n",
      "77th loss: 1.2478470865345248, val_loss: 1.304976026203104\n",
      "78th loss: 1.2463275317993106, val_loss: 1.3030699012585685\n",
      "79th loss: 1.2448546078966864, val_loss: 1.3011483125699541\n",
      "80th loss: 1.2434058402651966, val_loss: 1.2993013855674076\n",
      "81th loss: 1.242025608696774, val_loss: 1.2975552975339641\n",
      "82th loss: 1.2406682989567028, val_loss: 1.2958197394549245\n",
      "83th loss: 1.239400546679334, val_loss: 1.2941462376253343\n",
      "84th loss: 1.2381050135005167, val_loss: 1.2924810324967209\n",
      "85th loss: 1.2368271219327203, val_loss: 1.2908437039534022\n",
      "86th loss: 1.235539734475971, val_loss: 1.2892046419730172\n",
      "87th loss: 1.2342769670490665, val_loss: 1.2876347830795556\n",
      "88th loss: 1.2330817053123257, val_loss: 1.2860859960249558\n",
      "89th loss: 1.2318652441356015, val_loss: 1.284553054324689\n",
      "90th loss: 1.230693322447772, val_loss: 1.283040168038464\n",
      "91th loss: 1.2295582408749473, val_loss: 1.2815791781605226\n",
      "92th loss: 1.2284503098513413, val_loss: 1.2800994417876388\n",
      "93th loss: 1.2273727089635642, val_loss: 1.2786311323951558\n",
      "94th loss: 1.2262600533247627, val_loss: 1.2772020807633246\n",
      "95th loss: 1.2251532336731579, val_loss: 1.2757795947309682\n",
      "96th loss: 1.2240437548908998, val_loss: 1.2743853461215922\n",
      "97th loss: 1.2229283376636535, val_loss: 1.2730320037401952\n",
      "98th loss: 1.221845286226659, val_loss: 1.2717214159705363\n",
      "99th loss: 1.220751456072625, val_loss: 1.270397791047503\n",
      "100th loss: 1.2197021489643247, val_loss: 1.2690945839530858\n"
     ]
    }
   ],
   "source": [
    "# Fit\n",
    "\n",
    "dnn.fit(X_train, y_train, X_val, y_val)"
   ]
  },
  {
   "cell_type": "code",
   "execution_count": 10,
   "metadata": {},
   "outputs": [],
   "source": [
    "# Predict\n",
    "\n",
    "y_pred = dnn.predict(X_test)"
   ]
  },
  {
   "cell_type": "code",
   "execution_count": 11,
   "metadata": {},
   "outputs": [
    {
     "data": {
      "text/plain": [
       "array([7, 2, 1, ..., 4, 5, 6])"
      ]
     },
     "execution_count": 11,
     "metadata": {},
     "output_type": "execute_result"
    }
   ],
   "source": [
    "y_pred"
   ]
  },
  {
   "cell_type": "code",
   "execution_count": 12,
   "metadata": {},
   "outputs": [
    {
     "data": {
      "image/png": "[encoded data removed]",
      "text/plain": [
       "<Figure size 432x288 with 1 Axes>"
      ]
     },
     "metadata": {},
     "output_type": "display_data"
    }
   ],
   "source": [
    "# Plot learning curves\n",
    "\n",
    "dnn.plot_learning_record()"
   ]
  },
  {
   "cell_type": "code",
   "execution_count": 13,
   "metadata": {},
   "outputs": [
    {
     "name": "stdout",
     "output_type": "stream",
     "text": [
      "accuracy score: 0.8256\n"
     ]
    }
   ],
   "source": [
    "# Compute index values\n",
    "\n",
    "dnn.compute_index_values(y_test, y_pred)"
   ]
  },
  {
   "cell_type": "code",
   "execution_count": 14,
   "metadata": {},
   "outputs": [
    {
     "data": {
      "image/png": "[encoded data removed]",
      "text/plain": [
       "<Figure size 432x432 with 1 Axes>"
      ]
     },
     "metadata": {},
     "output_type": "display_data"
    }
   ],
   "source": [
    "# Plot misclassifications\n",
    "\n",
    "dnn.plot_misclassification(X_val, y_val, y_pred)"
   ]
  },
  {
   "cell_type": "code",
   "execution_count": null,
   "metadata": {},
   "outputs": [],
   "source": []
  }
 ],
 "metadata": {
  "kernelspec": {
   "display_name": "Python 3",
   "language": "python",
   "name": "python3"
  },
  "language_info": {
   "codemirror_mode": {
    "name": "ipython",
    "version": 3
   },
   "file_extension": ".py",
   "mimetype": "text/x-python",
   "name": "python",
   "nbconvert_exporter": "python",
   "pygments_lexer": "ipython3",
   "version": "3.6.8"
  }
 },
 "nbformat": 4,
 "nbformat_minor": 2
}
