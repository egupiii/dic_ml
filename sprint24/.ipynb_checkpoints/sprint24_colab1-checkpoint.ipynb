{
 "cells": [
  {
   "cell_type": "markdown",
   "metadata": {},
   "source": [
    "# Recurrent Layer of Keras\n",
    "\n",
    "<br />\n",
    "\n",
    "There are some recurrent layers of Keras including RNN, SimpleRNN, GRU, LSTM, ConvLSTM2D, SimpleRNNCell, GRUCell, LSTMCell, StackedRNNCells, CuDNNGRU and CuDNNLSTM.\n",
    "\n",
    "\n",
    "http://pynote.hatenablog.com/entry/jupyter-notebook-nbextensions"
   ]
  },
  {
   "cell_type": "markdown",
   "metadata": {},
   "source": [
    "## [Task 1] Run Methods"
   ]
  },
  {
   "cell_type": "markdown",
   "metadata": {
    "colab_type": "text",
    "id": "vxW9SbtIgkVQ"
   },
   "source": [
    "### LSTM\n",
    "\n",
    "\n",
    "https://github.com/keras-team/keras/blob/master/examples/imdb_lstm.py"
   ]
  },
  {
   "cell_type": "code",
   "execution_count": 1,
   "metadata": {
    "colab": {
     "base_uri": "https://localhost:8080/",
     "height": 955
    },
    "colab_type": "code",
    "id": "ES7qX12DW9dh",
    "outputId": "c1e308c7-75a0-4ab1-f559-40d8de4c80ff"
   },
   "outputs": [
    {
     "name": "stderr",
     "output_type": "stream",
     "text": [
      "Using TensorFlow backend.\n"
     ]
    },
    {
     "name": "stdout",
     "output_type": "stream",
     "text": [
      "Loading data...\n",
      "Downloading data from https://s3.amazonaws.com/text-datasets/imdb.npz\n",
      "17465344/17464789 [==============================] - 0s 0us/step\n",
      "25000 train sequences\n",
      "25000 test sequences\n",
      "Pad sequences (samples x time)\n",
      "x_train shape: (25000, 80)\n",
      "x_test shape: (25000, 80)\n",
      "Build model...\n",
      "WARNING:tensorflow:From /usr/local/lib/python3.6/dist-packages/tensorflow/python/framework/op_def_library.py:263: colocate_with (from tensorflow.python.framework.ops) is deprecated and will be removed in a future version.\n",
      "Instructions for updating:\n",
      "Colocations handled automatically by placer.\n",
      "WARNING:tensorflow:From /usr/local/lib/python3.6/dist-packages/keras/backend/tensorflow_backend.py:3445: calling dropout (from tensorflow.python.ops.nn_ops) with keep_prob is deprecated and will be removed in a future version.\n",
      "Instructions for updating:\n",
      "Please use `rate` instead of `keep_prob`. Rate should be set to `rate = 1 - keep_prob`.\n",
      "Train...\n",
      "WARNING:tensorflow:From /usr/local/lib/python3.6/dist-packages/tensorflow/python/ops/math_ops.py:3066: to_int32 (from tensorflow.python.ops.math_ops) is deprecated and will be removed in a future version.\n",
      "Instructions for updating:\n",
      "Use tf.cast instead.\n",
      "Train on 25000 samples, validate on 25000 samples\n",
      "Epoch 1/15\n",
      "25000/25000 [==============================] - 157s 6ms/step - loss: 0.4638 - acc: 0.7808 - val_loss: 0.3908 - val_acc: 0.8302\n",
      "Epoch 2/15\n",
      "25000/25000 [==============================] - 151s 6ms/step - loss: 0.3078 - acc: 0.8725 - val_loss: 0.4211 - val_acc: 0.8084\n",
      "Epoch 3/15\n",
      "25000/25000 [==============================] - 151s 6ms/step - loss: 0.2238 - acc: 0.9111 - val_loss: 0.4348 - val_acc: 0.8286\n",
      "Epoch 4/15\n",
      "25000/25000 [==============================] - 151s 6ms/step - loss: 0.1631 - acc: 0.9389 - val_loss: 0.4669 - val_acc: 0.8270\n",
      "Epoch 5/15\n",
      "25000/25000 [==============================] - 150s 6ms/step - loss: 0.1145 - acc: 0.9589 - val_loss: 0.5833 - val_acc: 0.8173\n",
      "Epoch 6/15\n",
      "25000/25000 [==============================] - 150s 6ms/step - loss: 0.0798 - acc: 0.9720 - val_loss: 0.7061 - val_acc: 0.8186\n",
      "Epoch 7/15\n",
      "25000/25000 [==============================] - 152s 6ms/step - loss: 0.0582 - acc: 0.9797 - val_loss: 0.7158 - val_acc: 0.8159\n",
      "Epoch 8/15\n",
      "25000/25000 [==============================] - 151s 6ms/step - loss: 0.0443 - acc: 0.9851 - val_loss: 0.7882 - val_acc: 0.8148\n",
      "Epoch 9/15\n",
      "25000/25000 [==============================] - 150s 6ms/step - loss: 0.0355 - acc: 0.9885 - val_loss: 0.7813 - val_acc: 0.8114\n",
      "Epoch 10/15\n",
      "25000/25000 [==============================] - 152s 6ms/step - loss: 0.0221 - acc: 0.9936 - val_loss: 0.8597 - val_acc: 0.8149\n",
      "Epoch 11/15\n",
      "25000/25000 [==============================] - 152s 6ms/step - loss: 0.0214 - acc: 0.9934 - val_loss: 0.8873 - val_acc: 0.8108\n",
      "Epoch 12/15\n",
      "25000/25000 [==============================] - 150s 6ms/step - loss: 0.0161 - acc: 0.9948 - val_loss: 1.0925 - val_acc: 0.8061\n",
      "Epoch 13/15\n",
      "25000/25000 [==============================] - 152s 6ms/step - loss: 0.0144 - acc: 0.9957 - val_loss: 1.1271 - val_acc: 0.8090\n",
      "Epoch 14/15\n",
      "25000/25000 [==============================] - 151s 6ms/step - loss: 0.0104 - acc: 0.9965 - val_loss: 1.0769 - val_acc: 0.8048\n",
      "Epoch 15/15\n",
      "25000/25000 [==============================] - 151s 6ms/step - loss: 0.0083 - acc: 0.9974 - val_loss: 1.1577 - val_acc: 0.8076\n",
      "25000/25000 [==============================] - 28s 1ms/step\n",
      "Test score: 1.1577423397564888\n",
      "Test accuracy: 0.8076\n"
     ]
    }
   ],
   "source": [
    "'''\n",
    "#Trains an LSTM model on the IMDB sentiment classification task.\n",
    "The dataset is actually too small for LSTM to be of any advantage\n",
    "compared to simpler, much faster methods such as TF-IDF + LogReg.\n",
    "**Notes**\n",
    "- RNNs are tricky. Choice of batch size is important,\n",
    "choice of loss and optimizer is critical, etc.\n",
    "Some configurations won't converge.\n",
    "- LSTM loss decrease patterns during training can be quite different\n",
    "from what you see with CNNs/MLPs/etc.\n",
    "'''\n",
    "from __future__ import print_function\n",
    "\n",
    "from keras.preprocessing import sequence\n",
    "from keras.models import Sequential\n",
    "from keras.layers import Dense, Embedding\n",
    "from keras.layers import LSTM\n",
    "from keras.datasets import imdb\n",
    "\n",
    "max_features = 20000\n",
    "# cut texts after this number of words (among top max_features most common words)\n",
    "maxlen = 80\n",
    "batch_size = 32\n",
    "\n",
    "print('Loading data...')\n",
    "(x_train, y_train), (x_test, y_test) = imdb.load_data(num_words=max_features)\n",
    "print(len(x_train), 'train sequences')\n",
    "print(len(x_test), 'test sequences')\n",
    "\n",
    "print('Pad sequences (samples x time)')\n",
    "x_train = sequence.pad_sequences(x_train, maxlen=maxlen)\n",
    "x_test = sequence.pad_sequences(x_test, maxlen=maxlen)\n",
    "print('x_train shape:', x_train.shape)\n",
    "print('x_test shape:', x_test.shape)\n",
    "\n",
    "print('Build model...')\n",
    "model = Sequential()\n",
    "model.add(Embedding(max_features, 128))\n",
    "model.add(LSTM(128, dropout=0.2, recurrent_dropout=0.2))\n",
    "model.add(Dense(1, activation='sigmoid'))\n",
    "\n",
    "# try using different optimizers and different optimizer configs\n",
    "model.compile(loss='binary_crossentropy',\n",
    "              optimizer='adam',\n",
    "              metrics=['accuracy'])\n",
    "\n",
    "print('Train...')\n",
    "model.fit(x_train, y_train,\n",
    "          batch_size=batch_size,\n",
    "          epochs=15,\n",
    "          validation_data=(x_test, y_test))\n",
    "score, acc = model.evaluate(x_test, y_test,\n",
    "                            batch_size=batch_size)\n",
    "print('Test score:', score)\n",
    "print('Test accuracy:', acc)"
   ]
  },
  {
   "cell_type": "markdown",
   "metadata": {
    "colab_type": "text",
    "id": "owGnF0WTeSsk"
   },
   "source": [
    "### ConvLSTM2D\n",
    "\n",
    "https://github.com/keras-team/keras/blob/master/examples/conv_lstm.py"
   ]
  },
  {
   "cell_type": "markdown",
   "metadata": {
    "colab_type": "text",
    "id": "9pEAaFqeeRtD"
   },
   "source": []
  },
  {
   "cell_type": "code",
   "execution_count": 4,
   "metadata": {
    "colab": {
     "base_uri": "https://localhost:8080/",
     "height": 4649
    },
    "colab_type": "code",
    "id": "M1ApPjZqgqSl",
    "outputId": "ac43bef8-4b4a-4537-d8a5-e0c3832eb3a3"
   },
   "outputs": [
    {
     "name": "stdout",
     "output_type": "stream",
     "text": [
      "Train on 950 samples, validate on 50 samples\n",
      "Epoch 1/10\n",
      "950/950 [==============================] - 113s 119ms/step - loss: 0.2581 - val_loss: 0.0618\n",
      "Epoch 2/10\n",
      "950/950 [==============================] - 109s 115ms/step - loss: 0.0183 - val_loss: 0.0101\n",
      "Epoch 3/10\n",
      "950/950 [==============================] - 109s 114ms/step - loss: 0.0129 - val_loss: 0.0045\n",
      "Epoch 4/10\n",
      "950/950 [==============================] - 109s 115ms/step - loss: 0.0022 - val_loss: 0.0018\n",
      "Epoch 5/10\n",
      "950/950 [==============================] - 109s 114ms/step - loss: 0.0011 - val_loss: 0.0010\n",
      "Epoch 6/10\n",
      "950/950 [==============================] - 109s 115ms/step - loss: 7.2376e-04 - val_loss: 7.3168e-04\n",
      "Epoch 7/10\n",
      "950/950 [==============================] - 109s 114ms/step - loss: 5.7216e-04 - val_loss: 5.1128e-04\n",
      "Epoch 8/10\n",
      "950/950 [==============================] - 109s 114ms/step - loss: 4.8040e-04 - val_loss: 4.6878e-04\n",
      "Epoch 9/10\n",
      "950/950 [==============================] - 109s 115ms/step - loss: 4.3239e-04 - val_loss: 4.3482e-04\n",
      "Epoch 10/10\n",
      "950/950 [==============================] - 109s 115ms/step - loss: 3.7844e-04 - val_loss: 3.7390e-04\n"
     ]
    },
    {
     "data": {
      "image/png": "[encoded data removed]",
      "text/plain": [
       "<Figure size 720x360 with 2 Axes>"
      ]
     },
     "metadata": {
      "tags": []
     },
     "output_type": "display_data"
    },
    {
     "data": {
      "image/png": "[encoded data removed]",
      "text/plain": [
       "<Figure size 720x360 with 2 Axes>"
      ]
     },
     "metadata": {
      "tags": []
     },
     "output_type": "display_data"
    },
    {
     "data": {
      "image/png": "[encoded data removed]",
      "text/plain": [
       "<Figure size 720x360 with 2 Axes>"
      ]
     },
     "metadata": {
      "tags": []
     },
     "output_type": "display_data"
    },
    {
     "data": {
      "image/png": "[encoded data removed]",
      "text/plain": [
       "<Figure size 720x360 with 2 Axes>"
      ]
     },
     "metadata": {
      "tags": []
     },
     "output_type": "display_data"
    },
    {
     "data": {
      "image/png": "[encoded data removed]",
      "text/plain": [
       "<Figure size 720x360 with 2 Axes>"
      ]
     },
     "metadata": {
      "tags": []
     },
     "output_type": "display_data"
    },
    {
     "data": {
      "image/png": "[encoded data removed]",
      "text/plain": [
       "<Figure size 720x360 with 2 Axes>"
      ]
     },
     "metadata": {
      "tags": []
     },
     "output_type": "display_data"
    },
    {
     "data": {
      "image/png": "[encoded data removed]",
      "text/plain": [
       "<Figure size 720x360 with 2 Axes>"
      ]
     },
     "metadata": {
      "tags": []
     },
     "output_type": "display_data"
    },
    {
     "data": {
      "image/png": "[encoded data removed]",
      "text/plain": [
       "<Figure size 720x360 with 2 Axes>"
      ]
     },
     "metadata": {
      "tags": []
     },
     "output_type": "display_data"
    },
    {
     "data": {
      "image/png": "[encoded data removed]",
      "text/plain": [
       "<Figure size 720x360 with 2 Axes>"
      ]
     },
     "metadata": {
      "tags": []
     },
     "output_type": "display_data"
    },
    {
     "data": {
      "image/png": "[encoded data removed]",
      "text/plain": [
       "<Figure size 720x360 with 2 Axes>"
      ]
     },
     "metadata": {
      "tags": []
     },
     "output_type": "display_data"
    },
    {
     "data": {
      "image/png": "[encoded data removed]",
      "text/plain": [
       "<Figure size 720x360 with 2 Axes>"
      ]
     },
     "metadata": {
      "tags": []
     },
     "output_type": "display_data"
    },
    {
     "data": {
      "image/png": "[encoded data removed]",
      "text/plain": [
       "<Figure size 720x360 with 2 Axes>"
      ]
     },
     "metadata": {
      "tags": []
     },
     "output_type": "display_data"
    },
    {
     "data": {
      "image/png": "[encoded data removed]",
      "text/plain": [
       "<Figure size 720x360 with 2 Axes>"
      ]
     },
     "metadata": {
      "tags": []
     },
     "output_type": "display_data"
    },
    {
     "data": {
      "image/png": "[encoded data removed]",
      "text/plain": [
       "<Figure size 720x360 with 2 Axes>"
      ]
     },
     "metadata": {
      "tags": []
     },
     "output_type": "display_data"
    },
    {
     "data": {
      "image/png": "[encoded data removed]",
      "text/plain": [
       "<Figure size 720x360 with 2 Axes>"
      ]
     },
     "metadata": {
      "tags": []
     },
     "output_type": "display_data"
    }
   ],
   "source": [
    "\"\"\"\n",
    "#This script demonstrates the use of a convolutional LSTM network.\n",
    "This network is used to predict the next frame of an artificially\n",
    "generated movie which contains moving squares.\n",
    "\"\"\"\n",
    "from keras.models import Sequential\n",
    "from keras.layers.convolutional import Conv3D\n",
    "from keras.layers.convolutional_recurrent import ConvLSTM2D\n",
    "from keras.layers.normalization import BatchNormalization\n",
    "import numpy as np\n",
    "import pylab as plt\n",
    "\n",
    "# We create a layer which take as input movies of shape\n",
    "# (n_frames, width, height, channels) and returns a movie\n",
    "# of identical shape.\n",
    "\n",
    "seq = Sequential()\n",
    "seq.add(ConvLSTM2D(filters=40, kernel_size=(3, 3),\n",
    "                   input_shape=(None, 40, 40, 1),\n",
    "                   padding='same', return_sequences=True))\n",
    "seq.add(BatchNormalization())\n",
    "\n",
    "seq.add(ConvLSTM2D(filters=40, kernel_size=(3, 3),\n",
    "                   padding='same', return_sequences=True))\n",
    "seq.add(BatchNormalization())\n",
    "\n",
    "seq.add(ConvLSTM2D(filters=40, kernel_size=(3, 3),\n",
    "                   padding='same', return_sequences=True))\n",
    "seq.add(BatchNormalization())\n",
    "\n",
    "seq.add(ConvLSTM2D(filters=40, kernel_size=(3, 3),\n",
    "                   padding='same', return_sequences=True))\n",
    "seq.add(BatchNormalization())\n",
    "\n",
    "seq.add(Conv3D(filters=1, kernel_size=(3, 3, 3),\n",
    "               activation='sigmoid',\n",
    "               padding='same', data_format='channels_last'))\n",
    "seq.compile(loss='binary_crossentropy', optimizer='adadelta')\n",
    "\n",
    "\n",
    "# Artificial data generation:\n",
    "# Generate movies with 3 to 7 moving squares inside.\n",
    "# The squares are of shape 1x1 or 2x2 pixels,\n",
    "# which move linearly over time.\n",
    "# For convenience we first create movies with bigger width and height (80x80)\n",
    "# and at the end we select a 40x40 window.\n",
    "\n",
    "def generate_movies(n_samples=1200, n_frames=15):\n",
    "    row = 80\n",
    "    col = 80\n",
    "    noisy_movies = np.zeros((n_samples, n_frames, row, col, 1), dtype=np.float)\n",
    "    shifted_movies = np.zeros((n_samples, n_frames, row, col, 1),\n",
    "                              dtype=np.float)\n",
    "\n",
    "    for i in range(n_samples):\n",
    "        # Add 3 to 7 moving squares\n",
    "        n = np.random.randint(3, 8)\n",
    "\n",
    "        for j in range(n):\n",
    "            # Initial position\n",
    "            xstart = np.random.randint(20, 60)\n",
    "            ystart = np.random.randint(20, 60)\n",
    "            # Direction of motion\n",
    "            directionx = np.random.randint(0, 3) - 1\n",
    "            directiony = np.random.randint(0, 3) - 1\n",
    "\n",
    "            # Size of the square\n",
    "            w = np.random.randint(2, 4)\n",
    "\n",
    "            for t in range(n_frames):\n",
    "                x_shift = xstart + directionx * t\n",
    "                y_shift = ystart + directiony * t\n",
    "                noisy_movies[i, t, x_shift - w: x_shift + w,\n",
    "                             y_shift - w: y_shift + w, 0] += 1\n",
    "\n",
    "                # Make it more robust by adding noise.\n",
    "                # The idea is that if during inference,\n",
    "                # the value of the pixel is not exactly one,\n",
    "                # we need to train the network to be robust and still\n",
    "                # consider it as a pixel belonging to a square.\n",
    "                if np.random.randint(0, 2):\n",
    "                    noise_f = (-1)**np.random.randint(0, 2)\n",
    "                    noisy_movies[i, t,\n",
    "                                 x_shift - w - 1: x_shift + w + 1,\n",
    "                                 y_shift - w - 1: y_shift + w + 1,\n",
    "                                 0] += noise_f * 0.1\n",
    "\n",
    "                # Shift the ground truth by 1\n",
    "                x_shift = xstart + directionx * (t + 1)\n",
    "                y_shift = ystart + directiony * (t + 1)\n",
    "                shifted_movies[i, t, x_shift - w: x_shift + w,\n",
    "                               y_shift - w: y_shift + w, 0] += 1\n",
    "\n",
    "    # Cut to a 40x40 window\n",
    "    noisy_movies = noisy_movies[::, ::, 20:60, 20:60, ::]\n",
    "    shifted_movies = shifted_movies[::, ::, 20:60, 20:60, ::]\n",
    "    noisy_movies[noisy_movies >= 1] = 1\n",
    "    shifted_movies[shifted_movies >= 1] = 1\n",
    "    return noisy_movies, shifted_movies\n",
    "\n",
    "# Train the network\n",
    "noisy_movies, shifted_movies = generate_movies(n_samples=1200)\n",
    "seq.fit(noisy_movies[:1000], shifted_movies[:1000], batch_size=10,\n",
    "        epochs=10, validation_split=0.05)\n",
    "\n",
    "# Testing the network on one movie\n",
    "# feed it with the first 7 positions and then\n",
    "# predict the new positions\n",
    "which = 1004\n",
    "track = noisy_movies[which][:7, ::, ::, ::]\n",
    "\n",
    "for j in range(16):\n",
    "    new_pos = seq.predict(track[np.newaxis, ::, ::, ::, ::])\n",
    "    new = new_pos[::, -1, ::, ::, ::]\n",
    "    track = np.concatenate((track, new), axis=0)\n",
    "\n",
    "\n",
    "# And then compare the predictions\n",
    "# to the ground truth\n",
    "track2 = noisy_movies[which][::, ::, ::, ::]\n",
    "for i in range(15):\n",
    "    fig = plt.figure(figsize=(10, 5))\n",
    "\n",
    "    ax = fig.add_subplot(121)\n",
    "\n",
    "    if i >= 7:\n",
    "        ax.text(1, 3, 'Predictions !', fontsize=20, color='w')\n",
    "    else:\n",
    "        ax.text(1, 3, 'Initial trajectory', fontsize=20)\n",
    "\n",
    "    toplot = track[i, ::, ::, 0]\n",
    "\n",
    "    plt.imshow(toplot)\n",
    "    ax = fig.add_subplot(122)\n",
    "    plt.text(1, 3, 'Ground truth', fontsize=20)\n",
    "\n",
    "    toplot = track2[i, ::, ::, 0]\n",
    "    if i >= 2:\n",
    "        toplot = shifted_movies[which][i - 1, ::, ::, 0]\n",
    "\n",
    "    plt.imshow(toplot)\n",
    "    plt.savefig('%i_animate.png' % (i + 1))"
   ]
  },
  {
   "cell_type": "markdown",
   "metadata": {
    "colab_type": "text",
    "id": "WcrlPYGKmRrV"
   },
   "source": [
    "### RNN by Self-Made Cell"
   ]
  },
  {
   "cell_type": "code",
   "execution_count": 0,
   "metadata": {
    "colab": {},
    "colab_type": "code",
    "id": "-Z36bm_TorzC"
   },
   "outputs": [],
   "source": [
    "import keras\n",
    "from keras.layers import RNN\n",
    "from keras import backend as K\n",
    "\n",
    "class MinimalRNNCell(keras.layers.Layer):\n",
    "\n",
    "    def __init__(self, units, **kwargs):\n",
    "        self.units = units\n",
    "        self.state_size = units\n",
    "        super(MinimalRNNCell, self).__init__(**kwargs)\n",
    "\n",
    "    def build(self, input_shape):\n",
    "        # Weight of input\n",
    "        self.kernel = self.add_weight(shape=(input_shape[-1], self.units),\n",
    "                                      initializer='uniform',\n",
    "                                      name='kernel')\n",
    "        # Weight of state\n",
    "        self.recurrent_kernel = self.add_weight(\n",
    "            shape=(self.units, self.units),\n",
    "            initializer='uniform',\n",
    "            name='recurrent_kernel')\n",
    "        self.built = True\n",
    "\n",
    "    def call(self, inputs, states):\n",
    "        prev_output = states[0]\n",
    "        h = K.dot(inputs, self.kernel)\n",
    "        output = h + K.dot(prev_output, self.recurrent_kernel)\n",
    "        return output, [output]"
   ]
  },
  {
   "cell_type": "code",
   "execution_count": 0,
   "metadata": {
    "colab": {},
    "colab_type": "code",
    "id": "1xUSQZbxgxWS"
   },
   "outputs": [],
   "source": [
    "min_rnn_cell = MinimalRNNCell(32)"
   ]
  },
  {
   "cell_type": "code",
   "execution_count": 18,
   "metadata": {
    "colab": {
     "base_uri": "https://localhost:8080/",
     "height": 289
    },
    "colab_type": "code",
    "id": "hCGutAqZpdLt",
    "outputId": "b3c938cc-378b-4006-f853-b5c0ab8c1640"
   },
   "outputs": [
    {
     "name": "stdout",
     "output_type": "stream",
     "text": [
      "Build model...\n",
      "Train...\n",
      "Train on 25000 samples, validate on 25000 samples\n",
      "Epoch 1/5\n",
      "25000/25000 [==============================] - 33s 1ms/step - loss: 0.4850 - acc: 0.7606 - val_loss: 0.3997 - val_acc: 0.8154\n",
      "Epoch 2/5\n",
      "25000/25000 [==============================] - 30s 1ms/step - loss: 0.2961 - acc: 0.8781 - val_loss: 0.3963 - val_acc: 0.8312\n",
      "Epoch 3/5\n",
      "25000/25000 [==============================] - 30s 1ms/step - loss: 0.2038 - acc: 0.9212 - val_loss: 0.4553 - val_acc: 0.8066\n",
      "Epoch 4/5\n",
      "25000/25000 [==============================] - 29s 1ms/step - loss: 0.1462 - acc: 0.9453 - val_loss: 0.5808 - val_acc: 0.8149\n",
      "Epoch 5/5\n",
      "25000/25000 [==============================] - 30s 1ms/step - loss: 0.1027 - acc: 0.9636 - val_loss: 0.7329 - val_acc: 0.8018\n",
      "25000/25000 [==============================] - 5s 202us/step\n",
      "Test score: 0.7328647745573521\n",
      "Test accuracy: 0.80176\n"
     ]
    }
   ],
   "source": [
    "print('Build model...')\n",
    "rnn = Sequential()\n",
    "rnn.add(Embedding(max_features, 128))\n",
    "rnn.add(RNN(min_rnn_cell))\n",
    "rnn.add(Dense(1, activation='sigmoid'))\n",
    "\n",
    "# try using different optimizers and different optimizer configs\n",
    "rnn.compile(loss='binary_crossentropy',\n",
    "              optimizer='adam',\n",
    "              metrics=['accuracy'])\n",
    "\n",
    "print('Train...')\n",
    "rnn.fit(x_train, y_train,\n",
    "          batch_size=batch_size,\n",
    "          epochs=5,\n",
    "          validation_data=(x_test, y_test))\n",
    "rnn_score, rnn_acc = rnn.evaluate(x_test, y_test,\n",
    "                            batch_size=batch_size)\n",
    "print('Test score:', rnn_score)\n",
    "print('Test accuracy:', rnn_acc)"
   ]
  },
  {
   "cell_type": "markdown",
   "metadata": {
    "colab_type": "text",
    "id": "eXdUjDHeuFo0"
   },
   "source": [
    "### SimpleRNN"
   ]
  },
  {
   "cell_type": "code",
   "execution_count": 19,
   "metadata": {
    "colab": {
     "base_uri": "https://localhost:8080/",
     "height": 289
    },
    "colab_type": "code",
    "id": "pT0bL9-QrBYQ",
    "outputId": "3586bb72-38b8-4896-f40b-a85b89c2edae"
   },
   "outputs": [
    {
     "name": "stdout",
     "output_type": "stream",
     "text": [
      "Build model...\n",
      "Train...\n",
      "Train on 25000 samples, validate on 25000 samples\n",
      "Epoch 1/5\n",
      "25000/25000 [==============================] - 39s 2ms/step - loss: 0.5253 - acc: 0.7274 - val_loss: 0.4589 - val_acc: 0.8022\n",
      "Epoch 2/5\n",
      "25000/25000 [==============================] - 36s 1ms/step - loss: 0.2676 - acc: 0.8939 - val_loss: 0.4616 - val_acc: 0.7908\n",
      "Epoch 3/5\n",
      "25000/25000 [==============================] - 37s 1ms/step - loss: 0.1024 - acc: 0.9658 - val_loss: 0.5919 - val_acc: 0.8112\n",
      "Epoch 4/5\n",
      "25000/25000 [==============================] - 37s 1ms/step - loss: 0.0433 - acc: 0.9859 - val_loss: 0.7328 - val_acc: 0.7907\n",
      "Epoch 5/5\n",
      "25000/25000 [==============================] - 37s 1ms/step - loss: 0.0269 - acc: 0.9915 - val_loss: 0.7966 - val_acc: 0.7927\n",
      "25000/25000 [==============================] - 6s 242us/step\n",
      "Test score: 0.7965978992938996\n",
      "Test accuracy: 0.79272\n"
     ]
    }
   ],
   "source": [
    "from keras.layers import SimpleRNN\n",
    "\n",
    "print('Build model...')\n",
    "simple_rnn = Sequential()\n",
    "simple_rnn.add(Embedding(max_features, 128))\n",
    "simple_rnn.add(SimpleRNN(32))\n",
    "simple_rnn.add(Dense(1, activation='sigmoid'))\n",
    "\n",
    "# try using different optimizers and different optimizer configs\n",
    "simple_rnn.compile(loss='binary_crossentropy',\n",
    "              optimizer='adam',\n",
    "              metrics=['accuracy'])\n",
    "\n",
    "print('Train...')\n",
    "simple_rnn.fit(x_train, y_train,\n",
    "          batch_size=batch_size,\n",
    "          epochs=5,\n",
    "          validation_data=(x_test, y_test))\n",
    "simple_rnn_score, simple_rnn_acc = simple_rnn.evaluate(x_test, y_test,\n",
    "                            batch_size=batch_size)\n",
    "print('Test score:', simple_rnn_score)\n",
    "print('Test accuracy:', simple_rnn_acc)\n"
   ]
  },
  {
   "cell_type": "markdown",
   "metadata": {
    "colab_type": "text",
    "id": "wpjRFPDWyEsV"
   },
   "source": [
    "### GRU"
   ]
  },
  {
   "cell_type": "code",
   "execution_count": 20,
   "metadata": {
    "colab": {
     "base_uri": "https://localhost:8080/",
     "height": 289
    },
    "colab_type": "code",
    "id": "Nbghyq_Hx66h",
    "outputId": "6e834aa4-9f4c-496b-c632-ad137b224dde"
   },
   "outputs": [
    {
     "name": "stdout",
     "output_type": "stream",
     "text": [
      "Build model...\n",
      "Train...\n",
      "Train on 25000 samples, validate on 25000 samples\n",
      "Epoch 1/5\n",
      "25000/25000 [==============================] - 109s 4ms/step - loss: 0.4303 - acc: 0.7948 - val_loss: 0.3704 - val_acc: 0.8341\n",
      "Epoch 2/5\n",
      "25000/25000 [==============================] - 107s 4ms/step - loss: 0.2439 - acc: 0.9034 - val_loss: 0.3827 - val_acc: 0.8391\n",
      "Epoch 3/5\n",
      "25000/25000 [==============================] - 106s 4ms/step - loss: 0.1480 - acc: 0.9456 - val_loss: 0.4357 - val_acc: 0.8325\n",
      "Epoch 4/5\n",
      "25000/25000 [==============================] - 107s 4ms/step - loss: 0.0846 - acc: 0.9707 - val_loss: 0.5342 - val_acc: 0.8241\n",
      "Epoch 5/5\n",
      "25000/25000 [==============================] - 107s 4ms/step - loss: 0.0520 - acc: 0.9826 - val_loss: 0.7248 - val_acc: 0.8148\n",
      "25000/25000 [==============================] - 18s 714us/step\n",
      "Test score: 0.7247676249194145\n",
      "Test accuracy: 0.8148\n"
     ]
    }
   ],
   "source": [
    "from keras.layers import GRU\n",
    "\n",
    "print('Build model...')\n",
    "gru = Sequential()\n",
    "gru.add(Embedding(max_features, 128))\n",
    "gru.add(GRU(32))\n",
    "gru.add(Dense(1, activation='sigmoid'))\n",
    "\n",
    "# try using different optimizers and different optimizer configs\n",
    "gru.compile(loss='binary_crossentropy',\n",
    "              optimizer='adam',\n",
    "              metrics=['accuracy'])\n",
    "\n",
    "print('Train...')\n",
    "gru.fit(x_train, y_train,\n",
    "          batch_size=batch_size,\n",
    "          epochs=5,\n",
    "          validation_data=(x_test, y_test))\n",
    "gru_score, gru_acc = gru.evaluate(x_test, y_test,\n",
    "                            batch_size=batch_size)\n",
    "print('Test score:', gru_score)\n",
    "print('Test accuracy:', gru_acc)"
   ]
  },
  {
   "cell_type": "markdown",
   "metadata": {
    "colab_type": "text",
    "id": "WqfYY7VZ0eEo"
   },
   "source": [
    "### SimpleRNNCell"
   ]
  },
  {
   "cell_type": "code",
   "execution_count": 21,
   "metadata": {
    "colab": {
     "base_uri": "https://localhost:8080/",
     "height": 289
    },
    "colab_type": "code",
    "id": "w6IX66ZR0hgL",
    "outputId": "6659a74c-ea7e-4e3d-9952-789582b0b5be"
   },
   "outputs": [
    {
     "name": "stdout",
     "output_type": "stream",
     "text": [
      "Build model...\n",
      "Train...\n",
      "Train on 25000 samples, validate on 25000 samples\n",
      "Epoch 1/5\n",
      "25000/25000 [==============================] - 40s 2ms/step - loss: 0.4727 - acc: 0.7741 - val_loss: 0.3943 - val_acc: 0.8276\n",
      "Epoch 2/5\n",
      "25000/25000 [==============================] - 37s 1ms/step - loss: 0.2635 - acc: 0.8974 - val_loss: 0.4260 - val_acc: 0.8241\n",
      "Epoch 3/5\n",
      "25000/25000 [==============================] - 37s 1ms/step - loss: 0.1192 - acc: 0.9590 - val_loss: 0.5237 - val_acc: 0.8059\n",
      "Epoch 4/5\n",
      "25000/25000 [==============================] - 37s 1ms/step - loss: 0.0438 - acc: 0.9868 - val_loss: 0.7030 - val_acc: 0.8107\n",
      "Epoch 5/5\n",
      "25000/25000 [==============================] - 36s 1ms/step - loss: 0.0261 - acc: 0.9921 - val_loss: 0.7580 - val_acc: 0.7832\n",
      "25000/25000 [==============================] - 6s 243us/step\n",
      "Test score: 0.7579866423034668\n",
      "Test accuracy: 0.7832\n"
     ]
    }
   ],
   "source": [
    "from keras.layers import SimpleRNNCell\n",
    "\n",
    "simple_rnn_cell = SimpleRNNCell(32)\n",
    "\n",
    "print('Build model...')\n",
    "simple_rnn2 = Sequential()\n",
    "simple_rnn2.add(Embedding(max_features, 128))\n",
    "simple_rnn2.add(RNN(simple_rnn_cell))\n",
    "simple_rnn2.add(Dense(1, activation='sigmoid'))\n",
    "\n",
    "# try using different optimizers and different optimizer configs\n",
    "simple_rnn2.compile(loss='binary_crossentropy',\n",
    "              optimizer='adam',\n",
    "              metrics=['accuracy'])\n",
    "\n",
    "print('Train...')\n",
    "simple_rnn2.fit(x_train, y_train,\n",
    "          batch_size=batch_size,\n",
    "          epochs=5,\n",
    "          validation_data=(x_test, y_test))\n",
    "simple_rnn2_score, simple_rnn2_acc = simple_rnn2.evaluate(x_test, y_test,\n",
    "                            batch_size=batch_size)\n",
    "print('Test score:', simple_rnn2_score)\n",
    "print('Test accuracy:', simple_rnn2_acc)\n",
    "\n"
   ]
  },
  {
   "cell_type": "markdown",
   "metadata": {
    "colab_type": "text",
    "id": "2QWq6ywH22Ia"
   },
   "source": [
    "### GRUCell"
   ]
  },
  {
   "cell_type": "code",
   "execution_count": 23,
   "metadata": {
    "colab": {
     "base_uri": "https://localhost:8080/",
     "height": 289
    },
    "colab_type": "code",
    "id": "kaGB1zKy23W3",
    "outputId": "eb4ef259-376f-4f2c-acb0-8a9f62594cad"
   },
   "outputs": [
    {
     "name": "stdout",
     "output_type": "stream",
     "text": [
      "Build model...\n",
      "Train...\n",
      "Train on 25000 samples, validate on 25000 samples\n",
      "Epoch 1/5\n",
      "25000/25000 [==============================] - 110s 4ms/step - loss: 0.4354 - acc: 0.7918 - val_loss: 0.3652 - val_acc: 0.8406\n",
      "Epoch 2/5\n",
      "25000/25000 [==============================] - 107s 4ms/step - loss: 0.2505 - acc: 0.9000 - val_loss: 0.3733 - val_acc: 0.8344\n",
      "Epoch 3/5\n",
      "25000/25000 [==============================] - 107s 4ms/step - loss: 0.1548 - acc: 0.9441 - val_loss: 0.5050 - val_acc: 0.8224\n",
      "Epoch 4/5\n",
      "25000/25000 [==============================] - 107s 4ms/step - loss: 0.0924 - acc: 0.9678 - val_loss: 0.5381 - val_acc: 0.8178\n",
      "Epoch 5/5\n",
      "25000/25000 [==============================] - 107s 4ms/step - loss: 0.0577 - acc: 0.9807 - val_loss: 0.6660 - val_acc: 0.8216\n",
      "25000/25000 [==============================] - 18s 715us/step\n",
      "Test score: 0.6660330042517185\n",
      "Test accuracy: 0.8216\n"
     ]
    }
   ],
   "source": [
    "from keras.layers import GRUCell\n",
    "\n",
    "gru_cell = GRUCell(32)\n",
    "\n",
    "print(\"Build model...\")\n",
    "gru2 = Sequential()\n",
    "gru2.add(Embedding(max_features, 128))\n",
    "gru2.add(RNN(gru_cell))\n",
    "gru2.add(Dense(1, activation=\"sigmoid\"))\n",
    "\n",
    "# try using different optimizers and different optimizer configs\n",
    "gru2.compile(loss=\"binary_crossentropy\",\n",
    "            optimizer=\"adam\",\n",
    "            metrics=[\"accuracy\"])\n",
    "\n",
    "print(\"Train...\")\n",
    "gru2.fit(x_train, y_train,\n",
    "        batch_size=batch_size,\n",
    "        epochs=5,\n",
    "        validation_data=(x_test, y_test))\n",
    "gru2_score, gru2_acc = gru2.evaluate(x_test, y_test,\n",
    "                          batch_size=batch_size)\n",
    "print(\"Test score:\", gru2_score)\n",
    "print(\"Test accuracy:\", gru2_acc)"
   ]
  },
  {
   "cell_type": "markdown",
   "metadata": {
    "colab_type": "text",
    "id": "wx8RvFAd5v31"
   },
   "source": [
    "### LSTMCell"
   ]
  },
  {
   "cell_type": "code",
   "execution_count": 24,
   "metadata": {
    "colab": {
     "base_uri": "https://localhost:8080/",
     "height": 255
    },
    "colab_type": "code",
    "id": "uOeBv8Fi5pS3",
    "outputId": "c880b068-d45f-4e27-d7bf-d119de6970ee"
   },
   "outputs": [
    {
     "name": "stdout",
     "output_type": "stream",
     "text": [
      "Train on 25000 samples, validate on 25000 samples\n",
      "Epoch 1/5\n",
      "25000/25000 [==============================] - 133s 5ms/step - loss: 0.4226 - acc: 0.8021 - val_loss: 0.3547 - val_acc: 0.8435\n",
      "Epoch 2/5\n",
      "25000/25000 [==============================] - 130s 5ms/step - loss: 0.2415 - acc: 0.9042 - val_loss: 0.3800 - val_acc: 0.8408\n",
      "Epoch 3/5\n",
      "25000/25000 [==============================] - 129s 5ms/step - loss: 0.1500 - acc: 0.9444 - val_loss: 0.5031 - val_acc: 0.8222\n",
      "Epoch 4/5\n",
      "25000/25000 [==============================] - 129s 5ms/step - loss: 0.0921 - acc: 0.9670 - val_loss: 0.5169 - val_acc: 0.8212\n",
      "Epoch 5/5\n",
      "25000/25000 [==============================] - 129s 5ms/step - loss: 0.0653 - acc: 0.9771 - val_loss: 0.7827 - val_acc: 0.8066\n",
      "25000/25000 [==============================] - 23s 914us/step\n",
      "Test score: 0.7827411028528214\n",
      "Test accuracy: 0.80664\n"
     ]
    }
   ],
   "source": [
    "from keras.layers import LSTMCell\n",
    "\n",
    "lstm_cell = LSTMCell(32)\n",
    "\n",
    "lstm2 = Sequential()\n",
    "lstm2.add(Embedding(max_features, 128))\n",
    "lstm2.add(RNN(lstm_cell))\n",
    "lstm2.add(Dense(1, activation=\"sigmoid\"))\n",
    "\n",
    "lstm2.compile(loss=\"binary_crossentropy\",\n",
    "             optimizer=\"adam\",\n",
    "             metrics=[\"accuracy\"])\n",
    "\n",
    "lstm2.fit(x_train, y_train,\n",
    "         batch_size=batch_size,\n",
    "         epochs=5,\n",
    "         validation_data=(x_test, y_test))\n",
    "\n",
    "lstm2_score, lstm2_acc = lstm2.evaluate(x_test, y_test,\n",
    "                           batch_size=batch_size)\n",
    "\n",
    "print(\"Test score:\", lstm2_score)\n",
    "print(\"Test accuracy:\", lstm2_acc)"
   ]
  },
  {
   "cell_type": "markdown",
   "metadata": {
    "colab_type": "text",
    "id": "bE0wc1wC9b2C"
   },
   "source": [
    "### StackedRNNCells"
   ]
  },
  {
   "cell_type": "code",
   "execution_count": 26,
   "metadata": {
    "colab": {
     "base_uri": "https://localhost:8080/",
     "height": 255
    },
    "colab_type": "code",
    "id": "UAbtxZRK9rbU",
    "outputId": "0de3bd20-156c-4fc6-8f99-4093d84c0a50"
   },
   "outputs": [
    {
     "name": "stdout",
     "output_type": "stream",
     "text": [
      "Train on 25000 samples, validate on 25000 samples\n",
      "Epoch 1/5\n",
      "25000/25000 [==============================] - 340s 14ms/step - loss: 0.4291 - acc: 0.7917 - val_loss: 0.3613 - val_acc: 0.8375\n",
      "Epoch 2/5\n",
      "25000/25000 [==============================] - 335s 13ms/step - loss: 0.2366 - acc: 0.9064 - val_loss: 0.3710 - val_acc: 0.8336\n",
      "Epoch 3/5\n",
      "25000/25000 [==============================] - 331s 13ms/step - loss: 0.1426 - acc: 0.9473 - val_loss: 0.4755 - val_acc: 0.8228\n",
      "Epoch 4/5\n",
      "25000/25000 [==============================] - 333s 13ms/step - loss: 0.0848 - acc: 0.9698 - val_loss: 0.6580 - val_acc: 0.8162\n",
      "Epoch 5/5\n",
      "25000/25000 [==============================] - 338s 14ms/step - loss: 0.0522 - acc: 0.9819 - val_loss: 0.7139 - val_acc: 0.8196\n",
      "25000/25000 [==============================] - 61s 2ms/step\n",
      "Test score: 0.7138905826568603\n",
      "Test accuracy: 0.8196\n"
     ]
    }
   ],
   "source": [
    "from keras.layers import StackedRNNCells\n",
    "\n",
    "output_dim = 32\n",
    "\n",
    "stacked_rnn_cells = [\n",
    "    keras.layers.LSTMCell(output_dim),\n",
    "    keras.layers.LSTMCell(output_dim),\n",
    "    keras.layers.LSTMCell(output_dim),\n",
    "]\n",
    "\n",
    "stacked_rnn = Sequential()\n",
    "stacked_rnn.add(Embedding(max_features, 128))\n",
    "stacked_rnn.add(RNN(stacked_rnn_cells))\n",
    "stacked_rnn.add(Dense(1, activation=\"sigmoid\"))\n",
    "\n",
    "stacked_rnn.compile(loss=\"binary_crossentropy\",\n",
    "             optimizer=\"adam\",\n",
    "             metrics=[\"accuracy\"])\n",
    "\n",
    "stacked_rnn.fit(x_train, y_train,\n",
    "         batch_size=batch_size,\n",
    "         epochs=5,\n",
    "         validation_data=(x_test, y_test))\n",
    "\n",
    "stacked_rnn_score, stacked_rnn_acc = stacked_rnn.evaluate(x_test, y_test,\n",
    "                           batch_size=batch_size)\n",
    "\n",
    "print(\"Test score:\", stacked_rnn_score)\n",
    "print(\"Test accuracy:\", stacked_rnn_acc)"
   ]
  },
  {
   "cell_type": "markdown",
   "metadata": {
    "colab_type": "text",
    "id": "GzD6F_E2_Mkd"
   },
   "source": [
    "### CuDNNGRU"
   ]
  },
  {
   "cell_type": "code",
   "execution_count": 27,
   "metadata": {
    "colab": {
     "base_uri": "https://localhost:8080/",
     "height": 255
    },
    "colab_type": "code",
    "id": "1YQK5UJD_Al_",
    "outputId": "80c6815d-6a24-4592-b3b1-30c20fb1cd80"
   },
   "outputs": [
    {
     "name": "stdout",
     "output_type": "stream",
     "text": [
      "Train on 25000 samples, validate on 25000 samples\n",
      "Epoch 1/5\n",
      "25000/25000 [==============================] - 22s 884us/step - loss: 0.4374 - acc: 0.7897 - val_loss: 0.3772 - val_acc: 0.8306\n",
      "Epoch 2/5\n",
      "25000/25000 [==============================] - 18s 733us/step - loss: 0.2478 - acc: 0.9012 - val_loss: 0.3763 - val_acc: 0.8416\n",
      "Epoch 3/5\n",
      "25000/25000 [==============================] - 19s 741us/step - loss: 0.1459 - acc: 0.9460 - val_loss: 0.4458 - val_acc: 0.8358\n",
      "Epoch 4/5\n",
      "25000/25000 [==============================] - 18s 732us/step - loss: 0.0764 - acc: 0.9752 - val_loss: 0.5877 - val_acc: 0.8241\n",
      "Epoch 5/5\n",
      "25000/25000 [==============================] - 18s 737us/step - loss: 0.0437 - acc: 0.9854 - val_loss: 0.7339 - val_acc: 0.8203\n",
      "25000/25000 [==============================] - 60s 2ms/step\n",
      "Test score: 0.7138905826568603\n",
      "Test accuracy: 0.8196\n"
     ]
    }
   ],
   "source": [
    "from keras.layers import CuDNNGRU\n",
    "\n",
    "cudnn_gru = Sequential()\n",
    "cudnn_gru.add(Embedding(max_features, 128))\n",
    "cudnn_gru.add(CuDNNGRU(32))\n",
    "cudnn_gru.add(Dense(1, activation=\"sigmoid\"))\n",
    "\n",
    "cudnn_gru.compile(loss=\"binary_crossentropy\",\n",
    "             optimizer=\"adam\",\n",
    "             metrics=[\"accuracy\"])\n",
    "\n",
    "cudnn_gru.fit(x_train, y_train,\n",
    "         batch_size=batch_size,\n",
    "         epochs=5,\n",
    "         validation_data=(x_test, y_test))\n",
    "\n",
    "cudnn_gru_score, cudnn_gru_acc = stacked_rnn.evaluate(x_test, y_test,\n",
    "                           batch_size=batch_size)\n",
    "\n",
    "print(\"Test score:\", cudnn_gru_score)\n",
    "print(\"Test accuracy:\", cudnn_gru_acc)"
   ]
  },
  {
   "cell_type": "markdown",
   "metadata": {
    "colab_type": "text",
    "id": "3MTkZZyQ_6oS"
   },
   "source": [
    "### CuDNNLSTM"
   ]
  },
  {
   "cell_type": "code",
   "execution_count": 28,
   "metadata": {
    "colab": {
     "base_uri": "https://localhost:8080/",
     "height": 255
    },
    "colab_type": "code",
    "id": "qbC4K5Cs_3Cx",
    "outputId": "c8c399de-e238-42b7-dc04-3753f462dbd6"
   },
   "outputs": [
    {
     "name": "stdout",
     "output_type": "stream",
     "text": [
      "Train on 25000 samples, validate on 25000 samples\n",
      "Epoch 1/5\n",
      "25000/25000 [==============================] - 22s 878us/step - loss: 0.4196 - acc: 0.8043 - val_loss: 0.3540 - val_acc: 0.8441\n",
      "Epoch 2/5\n",
      "25000/25000 [==============================] - 19s 748us/step - loss: 0.2419 - acc: 0.9048 - val_loss: 0.3702 - val_acc: 0.8382\n",
      "Epoch 3/5\n",
      "25000/25000 [==============================] - 19s 742us/step - loss: 0.1498 - acc: 0.9442 - val_loss: 0.4272 - val_acc: 0.8337\n",
      "Epoch 4/5\n",
      "25000/25000 [==============================] - 19s 748us/step - loss: 0.0945 - acc: 0.9662 - val_loss: 0.5725 - val_acc: 0.8250\n",
      "Epoch 5/5\n",
      "25000/25000 [==============================] - 19s 745us/step - loss: 0.0653 - acc: 0.9776 - val_loss: 0.5840 - val_acc: 0.8167\n",
      "25000/25000 [==============================] - 60s 2ms/step\n",
      "Test score: 0.7138905826568603\n",
      "Test accuracy: 0.8196\n"
     ]
    }
   ],
   "source": [
    "from keras.layers import CuDNNLSTM\n",
    "\n",
    "cudnn_lstm = Sequential()\n",
    "cudnn_lstm.add(Embedding(max_features, 128))\n",
    "cudnn_lstm.add(CuDNNLSTM(32))\n",
    "cudnn_lstm.add(Dense(1, activation=\"sigmoid\"))\n",
    "\n",
    "cudnn_lstm.compile(loss=\"binary_crossentropy\",\n",
    "             optimizer=\"adam\",\n",
    "             metrics=[\"accuracy\"])\n",
    "\n",
    "cudnn_lstm.fit(x_train, y_train,\n",
    "         batch_size=batch_size,\n",
    "         epochs=5,\n",
    "         validation_data=(x_test, y_test))\n",
    "\n",
    "cudnn_lstm_score, cudnn_lstm_acc = stacked_rnn.evaluate(x_test, y_test,\n",
    "                           batch_size=batch_size)\n",
    "\n",
    "print(\"Test score:\", cudnn_lstm_score)\n",
    "print(\"Test accuracy:\", cudnn_lstm_acc)"
   ]
  },
  {
   "cell_type": "markdown",
   "metadata": {
    "colab": {},
    "colab_type": "code",
    "id": "tAugVifDAMnx"
   },
   "source": [
    "## [Task 2] Explanations of Comparison Results\n",
    "\n",
    "<br />\n",
    "\n",
    "I am going to explain 11 elements on the following website, and compare the above results.\n",
    "\n",
    "\n",
    "https://client.diveintocode.jp/curriculums/1470"
   ]
  },
  {
   "cell_type": "markdown",
   "metadata": {},
   "source": [
    "- RNN\n",
    "\n",
    "    - Base class for Recurrent layers\n",
    "\n",
    "<br />\n",
    "\n",
    "- SimpleRNN\n",
    "\n",
    "    - Fully Connected RNN where outputs are feedbacked to inputs\n",
    "\n",
    "<br />\n",
    "\n",
    "- GRU\n",
    "\n",
    "    - Recurrent units where there are gates\n",
    "\n",
    "<br />\n",
    "\n",
    "- LSTM\n",
    "\n",
    "    - Long short term units\n",
    "\n",
    "<br />\n",
    "\n",
    "- ConvLSTM2D\n",
    "\n",
    "    - Convolutional LSTM\n",
    "\n",
    "<br />\n",
    "\n",
    "- SimpleRNNCell\n",
    "\n",
    "    - Cell class of SimpleRNNCell\n",
    "\n",
    "<br />\n",
    "\n",
    "- GRUCell\n",
    "\n",
    "    - Cell class of GRUCell\n",
    "\n",
    "<br />\n",
    "\n",
    "- LSTMCell\n",
    "\n",
    "    - Cell class of LSTMCell\n",
    "\n",
    "<br />\n",
    "\n",
    "- StackedRNNCells\n",
    "\n",
    "    - Rapper for making a performance of a stack of RNN cells a performance of a single cell\n",
    "\n",
    "<br />\n",
    "\n",
    "- CuDNNGRU\n",
    "\n",
    "    - High-speed implementation of GRU with use of CuDNN\n",
    "\n",
    "<br />\n",
    "\n",
    "- CuDNNLSTM\n",
    "\n",
    "    - High-speed implementation of LSTM with use of CuDNN"
   ]
  },
  {
   "cell_type": "code",
   "execution_count": 4,
   "metadata": {
    "ExecuteTime": {
     "end_time": "2019-03-27T09:16:34.800313Z",
     "start_time": "2019-03-27T09:16:34.792565Z"
    }
   },
   "outputs": [],
   "source": [
    "import pandas as pd\n",
    "\n",
    "columns = [\"Time per Epoch\", \"val_loss\", \"val_acc\"]\n",
    "index = [\"RNN (by Self-Made Cell)\", \"SimpleRNN\", \"GRU\", \"LSTM\", \"SimpleRNNCell\", \"GRUCell\", \"LSTMCell\", \"StackedRNNCells\", \n",
    "         \"CuDNNGRU\", \"CuDNNLSTM\"]\n",
    "\n",
    "data = [[33, 0.3997, 0.8154], \n",
    "        [39, 0.4589, 0.8022], \n",
    "        [109, 0.3704, 0.8341], \n",
    "        [157, 0.3908, 0.8302], \n",
    "        [40, 0.3943, 0.8276], \n",
    "        [110, 0.3652, 0.8406], \n",
    "        [133, 0.3547, 0.8435], \n",
    "        [340, 0.3613, 0.8375], \n",
    "        [22, 0.3772, 0.8306], \n",
    "        [22, 0.3540, 0.8441]]"
   ]
  },
  {
   "cell_type": "code",
   "execution_count": 5,
   "metadata": {
    "ExecuteTime": {
     "end_time": "2019-03-27T09:16:35.631020Z",
     "start_time": "2019-03-27T09:16:35.621918Z"
    }
   },
   "outputs": [],
   "source": [
    "df = pd.DataFrame(data, columns=columns, index=index)"
   ]
  },
  {
   "cell_type": "code",
   "execution_count": 6,
   "metadata": {
    "ExecuteTime": {
     "end_time": "2019-03-27T09:16:36.322851Z",
     "start_time": "2019-03-27T09:16:36.309185Z"
    }
   },
   "outputs": [
    {
     "data": {
      "text/html": [
       "<div>\n",
       "<style scoped>\n",
       "    .dataframe tbody tr th:only-of-type {\n",
       "        vertical-align: middle;\n",
       "    }\n",
       "\n",
       "    .dataframe tbody tr th {\n",
       "        vertical-align: top;\n",
       "    }\n",
       "\n",
       "    .dataframe thead th {\n",
       "        text-align: right;\n",
       "    }\n",
       "</style>\n",
       "<table border=\"1\" class=\"dataframe\">\n",
       "  <thead>\n",
       "    <tr style=\"text-align: right;\">\n",
       "      <th></th>\n",
       "      <th>Time per Epoch</th>\n",
       "      <th>val_loss</th>\n",
       "      <th>val_acc</th>\n",
       "    </tr>\n",
       "  </thead>\n",
       "  <tbody>\n",
       "    <tr>\n",
       "      <th>RNN (by Self-Made Cell)</th>\n",
       "      <td>33</td>\n",
       "      <td>0.3997</td>\n",
       "      <td>0.8154</td>\n",
       "    </tr>\n",
       "    <tr>\n",
       "      <th>SimpleRNN</th>\n",
       "      <td>39</td>\n",
       "      <td>0.4589</td>\n",
       "      <td>0.8022</td>\n",
       "    </tr>\n",
       "    <tr>\n",
       "      <th>GRU</th>\n",
       "      <td>109</td>\n",
       "      <td>0.3704</td>\n",
       "      <td>0.8341</td>\n",
       "    </tr>\n",
       "    <tr>\n",
       "      <th>LSTM</th>\n",
       "      <td>157</td>\n",
       "      <td>0.3908</td>\n",
       "      <td>0.8302</td>\n",
       "    </tr>\n",
       "    <tr>\n",
       "      <th>SimpleRNNCell</th>\n",
       "      <td>40</td>\n",
       "      <td>0.3943</td>\n",
       "      <td>0.8276</td>\n",
       "    </tr>\n",
       "    <tr>\n",
       "      <th>GRUCell</th>\n",
       "      <td>110</td>\n",
       "      <td>0.3652</td>\n",
       "      <td>0.8406</td>\n",
       "    </tr>\n",
       "    <tr>\n",
       "      <th>LSTMCell</th>\n",
       "      <td>133</td>\n",
       "      <td>0.3547</td>\n",
       "      <td>0.8435</td>\n",
       "    </tr>\n",
       "    <tr>\n",
       "      <th>StackedRNNCells</th>\n",
       "      <td>340</td>\n",
       "      <td>0.3613</td>\n",
       "      <td>0.8375</td>\n",
       "    </tr>\n",
       "    <tr>\n",
       "      <th>CuDNNGRU</th>\n",
       "      <td>22</td>\n",
       "      <td>0.3772</td>\n",
       "      <td>0.8306</td>\n",
       "    </tr>\n",
       "    <tr>\n",
       "      <th>CuDNNLSTM</th>\n",
       "      <td>22</td>\n",
       "      <td>0.3540</td>\n",
       "      <td>0.8441</td>\n",
       "    </tr>\n",
       "  </tbody>\n",
       "</table>\n",
       "</div>"
      ],
      "text/plain": [
       "                         Time per Epoch  val_loss  val_acc\n",
       "RNN (by Self-Made Cell)              33    0.3997   0.8154\n",
       "SimpleRNN                            39    0.4589   0.8022\n",
       "GRU                                 109    0.3704   0.8341\n",
       "LSTM                                157    0.3908   0.8302\n",
       "SimpleRNNCell                        40    0.3943   0.8276\n",
       "GRUCell                             110    0.3652   0.8406\n",
       "LSTMCell                            133    0.3547   0.8435\n",
       "StackedRNNCells                     340    0.3613   0.8375\n",
       "CuDNNGRU                             22    0.3772   0.8306\n",
       "CuDNNLSTM                            22    0.3540   0.8441"
      ]
     },
     "execution_count": 6,
     "metadata": {},
     "output_type": "execute_result"
    }
   ],
   "source": [
    "df"
   ]
  },
  {
   "cell_type": "markdown",
   "metadata": {},
   "source": [
    "    - CuDNNGRU and CuDNNLSTM are fast because they are run on GPU.\n",
    "    \n",
    "    - SimpleRNN is also fast.\n",
    "    \n",
    "    - This time, I used a self-made cell on the \"RNN\" task. So, RNN is fast. too.\n",
    "    \n",
    "    - It is difficult to evaluate performances of those models because the dataset might not be appropriate, and/or they are overfitting. However, I guess that LSTM is a great model because of the high accuracy."
   ]
  },
  {
   "cell_type": "code",
   "execution_count": null,
   "metadata": {},
   "outputs": [],
   "source": []
  }
 ],
 "metadata": {
  "accelerator": "GPU",
  "colab": {
   "collapsed_sections": [],
   "name": "sprint24-colab1.ipynb",
   "provenance": [],
   "version": "0.3.2"
  },
  "kernelspec": {
   "display_name": "Python 3",
   "language": "python",
   "name": "python3"
  },
  "language_info": {
   "codemirror_mode": {
    "name": "ipython",
    "version": 3
   },
   "file_extension": ".py",
   "mimetype": "text/x-python",
   "name": "python",
   "nbconvert_exporter": "python",
   "pygments_lexer": "ipython3",
   "version": "3.6.8"
  },
  "toc": {
   "base_numbering": 1,
   "nav_menu": {},
   "number_sections": true,
   "sideBar": true,
   "skip_h1_title": false,
   "title_cell": "Table of Contents",
   "title_sidebar": "Contents",
   "toc_cell": false,
   "toc_position": {},
   "toc_section_display": true,
   "toc_window_display": false
  },
  "varInspector": {
   "cols": {
    "lenName": 16,
    "lenType": 16,
    "lenVar": 40
   },
   "kernels_config": {
    "python": {
     "delete_cmd_postfix": "",
     "delete_cmd_prefix": "del ",
     "library": "var_list.py",
     "varRefreshCmd": "print(var_dic_list())"
    },
    "r": {
     "delete_cmd_postfix": ") ",
     "delete_cmd_prefix": "rm(",
     "library": "var_list.r",
     "varRefreshCmd": "cat(var_dic_list()) "
    }
   },
   "types_to_exclude": [
    "module",
    "function",
    "builtin_function_or_method",
    "instance",
    "_Feature"
   ],
   "window_display": false
  }
 },
 "nbformat": 4,
 "nbformat_minor": 1
}
