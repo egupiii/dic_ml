{
 "cells": [
  {
   "cell_type": "markdown",
   "metadata": {},
   "source": [
    "# Anomaly Detection\n",
    "\n",
    "<br />\n",
    "\n",
    "There are 3 kinds of anomaly detections of time series data including outlier detection, abnormalities detection and change point detection.\n",
    "\n",
    "\n",
    "On this sprint, I am going to implement KNN to do outlier detections."
   ]
  },
  {
   "cell_type": "markdown",
   "metadata": {},
   "source": [
    "## [Task 1] Research"
   ]
  },
  {
   "cell_type": "markdown",
   "metadata": {},
   "source": [
    "    - Anomaly detection by KNN evaluates whether unknown data are regular or anomalous under a situation that there is a set of regular data of dimentional vectors.\n",
    "    \n",
    "    - If unknown data are far from the set of regilar data, it is possible that the unknown data are anomalous, and vice versa.\n",
    "    \n",
    "    - It is necessary to transform time series data to a set of vectors by taking any window width."
   ]
  },
  {
   "cell_type": "markdown",
   "metadata": {},
   "source": [
    "## [Task 2] Outlier Detection by KNN\n",
    "\n",
    "<br />\n",
    "\n",
    "I am going to do outlier detections for prices data of Bitcoin by KNN.\n",
    "\n",
    "<br />\n",
    "\n",
    "\"仮想通貨(暗号通貨)４本値CSVゲッター from Cryptowatch\"\n",
    "\n",
    "\n",
    "http://nipper.work/btc/index.php?market=bitFlyer&coin=BTCJPY&periods=86400&after=1420070400"
   ]
  },
  {
   "cell_type": "code",
   "execution_count": 1,
   "metadata": {
    "ExecuteTime": {
     "end_time": "2019-05-09T10:25:57.242814Z",
     "start_time": "2019-05-09T10:25:56.326131Z"
    }
   },
   "outputs": [],
   "source": [
    "from statistics import mean, variance\n",
    "\n",
    "import matplotlib.pyplot as plt\n",
    "import numpy as np\n",
    "import pandas as pd\n",
    "from sklearn.neighbors import NearestNeighbors"
   ]
  },
  {
   "cell_type": "code",
   "execution_count": 2,
   "metadata": {
    "ExecuteTime": {
     "end_time": "2019-05-09T10:25:58.733172Z",
     "start_time": "2019-05-09T10:25:58.709349Z"
    }
   },
   "outputs": [],
   "source": [
    "# Read the data\n",
    "\n",
    "data = pd.read_csv(\"btc.csv\", encoding=\"shift-jis\", header=None)"
   ]
  },
  {
   "cell_type": "code",
   "execution_count": 3,
   "metadata": {
    "ExecuteTime": {
     "end_time": "2019-05-09T10:25:59.508175Z",
     "start_time": "2019-05-09T10:25:59.486967Z"
    },
    "scrolled": true
   },
   "outputs": [
    {
     "data": {
      "text/html": [
       "<div>\n",
       "<style scoped>\n",
       "    .dataframe tbody tr th:only-of-type {\n",
       "        vertical-align: middle;\n",
       "    }\n",
       "\n",
       "    .dataframe tbody tr th {\n",
       "        vertical-align: top;\n",
       "    }\n",
       "\n",
       "    .dataframe thead th {\n",
       "        text-align: right;\n",
       "    }\n",
       "</style>\n",
       "<table border=\"1\" class=\"dataframe\">\n",
       "  <thead>\n",
       "    <tr style=\"text-align: right;\">\n",
       "      <th></th>\n",
       "      <th>0</th>\n",
       "      <th>1</th>\n",
       "      <th>2</th>\n",
       "      <th>3</th>\n",
       "      <th>4</th>\n",
       "      <th>5</th>\n",
       "    </tr>\n",
       "  </thead>\n",
       "  <tbody>\n",
       "    <tr>\n",
       "      <th>0</th>\n",
       "      <td>2016-12-30 00:00:00</td>\n",
       "      <td>0.00769</td>\n",
       "      <td>0.00875</td>\n",
       "      <td>0.00769</td>\n",
       "      <td>0.00845</td>\n",
       "      <td>7870.4500</td>\n",
       "    </tr>\n",
       "    <tr>\n",
       "      <th>1</th>\n",
       "      <td>2016-12-31 00:00:00</td>\n",
       "      <td>0.00850</td>\n",
       "      <td>0.00891</td>\n",
       "      <td>0.00842</td>\n",
       "      <td>0.00843</td>\n",
       "      <td>3269.1045</td>\n",
       "    </tr>\n",
       "    <tr>\n",
       "      <th>2</th>\n",
       "      <td>2017-01-01 00:00:00</td>\n",
       "      <td>0.00856</td>\n",
       "      <td>0.00864</td>\n",
       "      <td>0.00826</td>\n",
       "      <td>0.00833</td>\n",
       "      <td>3206.9350</td>\n",
       "    </tr>\n",
       "    <tr>\n",
       "      <th>3</th>\n",
       "      <td>2017-01-02 00:00:00</td>\n",
       "      <td>0.00838</td>\n",
       "      <td>0.00892</td>\n",
       "      <td>0.00811</td>\n",
       "      <td>0.00821</td>\n",
       "      <td>5814.5170</td>\n",
       "    </tr>\n",
       "    <tr>\n",
       "      <th>4</th>\n",
       "      <td>2017-01-03 00:00:00</td>\n",
       "      <td>0.00821</td>\n",
       "      <td>0.00854</td>\n",
       "      <td>0.00800</td>\n",
       "      <td>0.00850</td>\n",
       "      <td>690.7145</td>\n",
       "    </tr>\n",
       "  </tbody>\n",
       "</table>\n",
       "</div>"
      ],
      "text/plain": [
       "                     0        1        2        3        4          5\n",
       "0  2016-12-30 00:00:00  0.00769  0.00875  0.00769  0.00845  7870.4500\n",
       "1  2016-12-31 00:00:00  0.00850  0.00891  0.00842  0.00843  3269.1045\n",
       "2  2017-01-01 00:00:00  0.00856  0.00864  0.00826  0.00833  3206.9350\n",
       "3  2017-01-02 00:00:00  0.00838  0.00892  0.00811  0.00821  5814.5170\n",
       "4  2017-01-03 00:00:00  0.00821  0.00854  0.00800  0.00850   690.7145"
      ]
     },
     "execution_count": 3,
     "metadata": {},
     "output_type": "execute_result"
    }
   ],
   "source": [
    "# Check\n",
    "\n",
    "data.head()"
   ]
  },
  {
   "cell_type": "code",
   "execution_count": 4,
   "metadata": {
    "ExecuteTime": {
     "end_time": "2019-05-09T10:26:02.322760Z",
     "start_time": "2019-05-09T10:26:02.312954Z"
    }
   },
   "outputs": [
    {
     "data": {
      "text/plain": [
       "(366, 6)"
      ]
     },
     "execution_count": 4,
     "metadata": {},
     "output_type": "execute_result"
    }
   ],
   "source": [
    "data.shape"
   ]
  },
  {
   "cell_type": "markdown",
   "metadata": {},
   "source": [
    "- Explanations of the columns\n",
    "\n",
    "\n",
    "    - 0: Date and time\n",
    "    \n",
    "    - 1: Opening price\n",
    "    \n",
    "    - 2: Highest price\n",
    "    \n",
    "    - 3: Lowest price\n",
    "    \n",
    "    - 4: Closing price\n",
    "    \n",
    "    - 5: Volume"
   ]
  },
  {
   "cell_type": "code",
   "execution_count": 5,
   "metadata": {
    "ExecuteTime": {
     "end_time": "2019-05-09T10:26:09.029670Z",
     "start_time": "2019-05-09T10:26:03.999606Z"
    },
    "scrolled": true
   },
   "outputs": [
    {
     "data": {
      "image/png": "[encoded data removed]",
      "text/plain": [
       "<Figure size 432x288 with 1 Axes>"
      ]
     },
     "metadata": {},
     "output_type": "display_data"
    }
   ],
   "source": [
    "# Visualize the data\n",
    "\n",
    "plt.figure(facecolor=\"azure\", edgecolor=\"coral\", linewidth=2)\n",
    "\n",
    "plt.plot(data.iloc[:, 0], data.iloc[:, 1])\n",
    "\n",
    "plt.title(\"Price Fluctuation of Bitcoin\")\n",
    "plt.xlabel('Date and Time')\n",
    "plt.ylabel('Price')\n",
    "plt.show()"
   ]
  },
  {
   "cell_type": "code",
   "execution_count": 7,
   "metadata": {
    "ExecuteTime": {
     "end_time": "2019-05-09T10:30:14.758420Z",
     "start_time": "2019-05-09T10:30:14.750418Z"
    }
   },
   "outputs": [],
   "source": [
    "def knn(X, wide, k):\n",
    "    anormaly_score = []\n",
    "    samples = len(X) - wide - 1\n",
    "    # Split an input data into any sequence\n",
    "    for i in range(samples):\n",
    "        s_index = i\n",
    "        e_index = i + wide\n",
    "        data_x = X[s_index:e_index]\n",
    "        point_x = X[e_index]\n",
    "        u_d = np.sqrt(np.power(data_x-point_x, 2))\n",
    "        u_d = np.sort(u_d)\n",
    "        ave_u_d = np.average(u_d[0:k])\n",
    "        anormaly_score.append(ave_u_d)\n",
    "\n",
    "    return anormaly_score"
   ]
  },
  {
   "cell_type": "code",
   "execution_count": 9,
   "metadata": {
    "ExecuteTime": {
     "end_time": "2019-05-09T10:32:04.706856Z",
     "start_time": "2019-05-09T10:32:04.561370Z"
    }
   },
   "outputs": [],
   "source": [
    "# Validate the definitions\n",
    "\n",
    "anormaly_score = knn(data.iloc[:,1], 15, 1)"
   ]
  },
  {
   "cell_type": "code",
   "execution_count": 10,
   "metadata": {
    "ExecuteTime": {
     "end_time": "2019-05-09T10:32:06.365712Z",
     "start_time": "2019-05-09T10:32:06.351908Z"
    },
    "scrolled": true
   },
   "outputs": [
    {
     "data": {
      "text/plain": [
       "[0.0004299999999999998,\n",
       " 0.00012000000000000031,\n",
       " 0.00010000000000000113,\n",
       " 3.999999999999837e-05,\n",
       " 9.999999999999593e-06,\n",
       " 6.0000000000001025e-05,\n",
       " 3.0000000000000512e-05,\n",
       " 9.999999999999593e-06,\n",
       " 3.0000000000002247e-05,\n",
       " 1.0000000000001327e-05,\n",
       " 0.0,\n",
       " 0.0,\n",
       " 2.000000000000092e-05,\n",
       " 2.000000000000092e-05,\n",
       " 2.000000000000092e-05,\n",
       " 1.9999999999999185e-05,\n",
       " 3.0000000000000512e-05,\n",
       " 1.9999999999999185e-05,\n",
       " 9.999999999999593e-06,\n",
       " 0.0003599999999999992,\n",
       " 0.00021000000000000012,\n",
       " 4.0000000000000105e-05,\n",
       " 7.000000000000062e-05,\n",
       " 4.99999999999997e-05,\n",
       " 2.000000000000092e-05,\n",
       " 9.999999999997858e-06,\n",
       " 9.999999999999593e-06,\n",
       " 0.0,\n",
       " 3.999999999999837e-05,\n",
       " 0.00011999999999999858,\n",
       " 0.00024000000000000063,\n",
       " 1.9999999999999185e-05,\n",
       " 9.999999999999593e-06,\n",
       " 0.0011999999999999997,\n",
       " 0.00018000000000000134,\n",
       " 5.999999999999929e-05,\n",
       " 0.0,\n",
       " 0.0003899999999999997,\n",
       " 0.00017,\n",
       " 4.0000000000000105e-05,\n",
       " 0.0001799999999999996,\n",
       " 8.000000000000021e-05,\n",
       " 3.999999999999837e-05,\n",
       " 4.99999999999997e-05,\n",
       " 0.0,\n",
       " 9.99999999999994e-05,\n",
       " 0.0007600000000000003,\n",
       " 0.0002900000000000003,\n",
       " 0.0002999999999999982,\n",
       " 0.0011800000000000022,\n",
       " 8.000000000000021e-05,\n",
       " 0.0003299999999999987,\n",
       " 8.99999999999998e-05,\n",
       " 0.00010999999999999899,\n",
       " 0.00010000000000000113,\n",
       " 0.00048000000000000126,\n",
       " 0.0001399999999999995,\n",
       " 0.0013900000000000023,\n",
       " 0.0012099999999999993,\n",
       " 0.0011599999999999978,\n",
       " 0.004530000000000003,\n",
       " 0.0010300000000000031,\n",
       " 0.004809999999999998,\n",
       " 0.011399999999999997,\n",
       " 0.0033000000000000043,\n",
       " 0.005000000000000001,\n",
       " 0.0011999999999999997,\n",
       " 0.0004400000000000029,\n",
       " 0.0019899999999999918,\n",
       " 0.0005399999999999919,\n",
       " 0.0001999999999999988,\n",
       " 0.014399999999999996,\n",
       " 0.005799999999999993,\n",
       " 0.0003099999999999978,\n",
       " 0.003599999999999999,\n",
       " 0.001119999999999996,\n",
       " 0.0005000000000000074,\n",
       " 0.0014999999999999944,\n",
       " 0.0009899999999999978,\n",
       " 8.99999999999998e-05,\n",
       " 0.0004000000000000045,\n",
       " 0.0003899999999999945,\n",
       " 0.0004699999999999982,\n",
       " 0.0009299999999999933,\n",
       " 0.002260000000000005,\n",
       " 0.0007099999999999954,\n",
       " 0.0009600000000000025,\n",
       " 5.9999999999990616e-05,\n",
       " 0.000559999999999998,\n",
       " 0.00023999999999999716,\n",
       " 0.00036000000000000615,\n",
       " 0.0008200000000000013,\n",
       " 0.00016000000000000042,\n",
       " 0.00023000000000000104,\n",
       " 0.00010999999999999899,\n",
       " 2.9999999999995308e-05,\n",
       " 8.000000000000368e-05,\n",
       " 0.00021999999999999797,\n",
       " 1.9999999999999185e-05,\n",
       " 0.0010000000000000009,\n",
       " 0.0001799999999999996,\n",
       " 0.00028000000000000247,\n",
       " 1.9999999999999185e-05,\n",
       " 1.9999999999999185e-05,\n",
       " 0.00018999999999999573,\n",
       " 0.004799999999999999,\n",
       " 0.006409999999999999,\n",
       " 0.002590000000000002,\n",
       " 0.005520000000000004,\n",
       " 0.00012999999999999817,\n",
       " 9.999999999999593e-05,\n",
       " 0.00014000000000000123,\n",
       " 0.002039999999999993,\n",
       " 0.00014999999999999736,\n",
       " 0.0006799999999999931,\n",
       " 0.0008200000000000082,\n",
       " 0.0005600000000000049,\n",
       " 0.00012999999999999123,\n",
       " 0.0009200000000000041,\n",
       " 0.0011900000000000036,\n",
       " 2.0000000000006124e-05,\n",
       " 0.0004899999999999974,\n",
       " 7.999999999999674e-05,\n",
       " 0.0,\n",
       " 0.00017000000000000348,\n",
       " 0.00025999999999999635,\n",
       " 0.0007299999999999945,\n",
       " 0.0021000000000000046,\n",
       " 0.0005199999999999996,\n",
       " 0.011700000000000002,\n",
       " 0.003909999999999997,\n",
       " 0.00018999999999999573,\n",
       " 0.0012199999999999989,\n",
       " 2.999999999998837e-05,\n",
       " 2.0000000000006124e-05,\n",
       " 0.0002999999999999947,\n",
       " 0.0064700000000000035,\n",
       " 0.02083,\n",
       " 0.006500000000000006,\n",
       " 0.006629999999999997,\n",
       " 0.0019899999999999918,\n",
       " 0.0012600000000000111,\n",
       " 0.0018299999999999983,\n",
       " 0.0006600000000000078,\n",
       " 0.0002500000000000002,\n",
       " 0.0019899999999999918,\n",
       " 0.0004799999999999943,\n",
       " 0.0003999999999999976,\n",
       " 0.010579999999999992,\n",
       " 0.0019799999999999957,\n",
       " 0.03251000000000001,\n",
       " 0.0023900000000000032,\n",
       " 0.004909999999999998,\n",
       " 0.00020000000000000573,\n",
       " 0.0020100000000000118,\n",
       " 0.0021499999999999853,\n",
       " 0.0007900000000000129,\n",
       " 0.0012700000000000211,\n",
       " 0.0023799999999999932,\n",
       " 0.008890000000000009,\n",
       " 0.004350000000000007,\n",
       " 0.0008699999999999958,\n",
       " 0.0019600000000000034,\n",
       " 0.004799999999999999,\n",
       " 0.00724000000000001,\n",
       " 0.0018599999999999867,\n",
       " 0.002490000000000006,\n",
       " 0.003390000000000004,\n",
       " 0.0007700000000000068,\n",
       " 0.00247,\n",
       " 0.0009600000000000164,\n",
       " 0.0006600000000000078,\n",
       " 0.0012300000000000227,\n",
       " 0.0011399999999999882,\n",
       " 0.00014999999999999736,\n",
       " 0.004979999999999998,\n",
       " 0.00032000000000000084,\n",
       " 0.0013800000000000062,\n",
       " 0.006939999999999988,\n",
       " 0.0049000000000000155,\n",
       " 0.0006499999999999978,\n",
       " 0.0004999999999999866,\n",
       " 0.0005000000000000143,\n",
       " 0.0015000000000000152,\n",
       " 0.001229999999999995,\n",
       " 0.00011999999999999511,\n",
       " 0.0016100000000000003,\n",
       " 0.0005900000000000072,\n",
       " 0.0016700000000000048,\n",
       " 3.0000000000002247e-05,\n",
       " 0.00018999999999999573,\n",
       " 0.0003500000000000031,\n",
       " 0.0002299999999999941,\n",
       " 0.00028000000000000247,\n",
       " 1.9999999999992246e-05,\n",
       " 0.003709999999999991,\n",
       " 0.007450000000000012,\n",
       " 0.0005399999999999988,\n",
       " 0.0016499999999999987,\n",
       " 0.0005099999999999966,\n",
       " 0.0005800000000000111,\n",
       " 9.999999999982245e-06,\n",
       " 0.0005300000000000027,\n",
       " 0.0010299999999999893,\n",
       " 0.00044000000000000983,\n",
       " 0.0003899999999999876,\n",
       " 0.0010300000000000031,\n",
       " 0.0038799999999999946,\n",
       " 0.002700000000000008,\n",
       " 0.000899999999999998,\n",
       " 0.0014799999999999952,\n",
       " 2.0000000000006124e-05,\n",
       " 0.0021100000000000146,\n",
       " 0.0007500000000000007,\n",
       " 0.00043999999999999595,\n",
       " 6.0000000000004494e-05,\n",
       " 0.00027000000000000635,\n",
       " 0.0009399999999999964,\n",
       " 0.00018999999999999573,\n",
       " 0.000789999999999999,\n",
       " 0.0,\n",
       " 0.0022199999999999998,\n",
       " 0.0007599999999999968,\n",
       " 0.000910000000000008,\n",
       " 8.000000000001062e-05,\n",
       " 0.00017000000000000348,\n",
       " 0.0,\n",
       " 0.00021000000000000185,\n",
       " 0.0011999999999999927,\n",
       " 0.002600000000000005,\n",
       " 0.0009000000000000119,\n",
       " 8.000000000001062e-05,\n",
       " 0.0002199999999999841,\n",
       " 6.999999999998674e-05,\n",
       " 0.002800000000000011,\n",
       " 0.0022200000000000136,\n",
       " 0.0011399999999999882,\n",
       " 0.0003500000000000031,\n",
       " 0.0004600000000000021,\n",
       " 0.00011999999999999511,\n",
       " 0.00010999999999999899,\n",
       " 3.999999999999837e-05,\n",
       " 0.00015999999999999348,\n",
       " 0.00032000000000000084,\n",
       " 0.0024899999999999922,\n",
       " 0.0004899999999999904,\n",
       " 0.000789999999999999,\n",
       " 9.999999999998899e-05,\n",
       " 4.000000000001225e-05,\n",
       " 0.00010999999999999899,\n",
       " 0.00017999999999998573,\n",
       " 0.0004299999999999998,\n",
       " 5.9999999999990616e-05,\n",
       " 0.0025000000000000022,\n",
       " 0.001799999999999996,\n",
       " 3.999999999999837e-05,\n",
       " 0.0010799999999999976,\n",
       " 0.00010000000000000286,\n",
       " 1.9999999999992246e-05,\n",
       " 0.0005000000000000004,\n",
       " 3.999999999998449e-05,\n",
       " 0.00015999999999999348,\n",
       " 0.0007999999999999952,\n",
       " 7.999999999999674e-05,\n",
       " 7.999999999999674e-05,\n",
       " 4.999999999999449e-05,\n",
       " 0.0003500000000000031,\n",
       " 3.999999999998449e-05,\n",
       " 0.000899999999999998,\n",
       " 0.004470000000000002,\n",
       " 0.0002999999999999947,\n",
       " 0.0,\n",
       " 0.006750000000000006,\n",
       " 0.0033200000000000104,\n",
       " 0.0013199999999999948,\n",
       " 0.00017999999999999267,\n",
       " 0.0002600000000000033,\n",
       " 0.0008299999999999974,\n",
       " 0.00027999999999999553,\n",
       " 0.002149999999999999,\n",
       " 0.0034399999999999986,\n",
       " 0.00068,\n",
       " 0.0001799999999999996,\n",
       " 0.002260000000000005,\n",
       " 0.0002299999999999941,\n",
       " 0.0010900000000000007,\n",
       " 6.0000000000004494e-05,\n",
       " 0.00045000000000000595,\n",
       " 0.00010000000000000286,\n",
       " 0.0001500000000000043,\n",
       " 0.0002699999999999994,\n",
       " 0.0002500000000000002,\n",
       " 0.004059999999999994,\n",
       " 0.0025600000000000067,\n",
       " 0.0005800000000000041,\n",
       " 0.0006299999999999986,\n",
       " 0.000449999999999999,\n",
       " 0.00023000000000000104,\n",
       " 5.000000000000837e-05,\n",
       " 0.00012000000000000205,\n",
       " 0.0018199999999999952,\n",
       " 0.00034,\n",
       " 0.00027999999999999553,\n",
       " 0.0011499999999999982,\n",
       " 0.0007500000000000007,\n",
       " 0.0007599999999999968,\n",
       " 0.00041000000000000064,\n",
       " 0.000559999999999998,\n",
       " 0.00021000000000000185,\n",
       " 0.0001300000000000051,\n",
       " 0.0007999999999999952,\n",
       " 0.00012999999999999817,\n",
       " 3.0000000000002247e-05,\n",
       " 0.0009899999999999978,\n",
       " 0.0,\n",
       " 0.005950000000000004,\n",
       " 0.0007299999999999945,\n",
       " 0.0,\n",
       " 0.0004000000000000045,\n",
       " 0.000449999999999999,\n",
       " 0.00045999999999999514,\n",
       " 3.0000000000002247e-05,\n",
       " 0.0003500000000000031,\n",
       " 0.0004200000000000037,\n",
       " 0.0008399999999999935,\n",
       " 0.0007699999999999999,\n",
       " 0.001460000000000003,\n",
       " 0.0085,\n",
       " 0.005739999999999999,\n",
       " 0.002230000000000003,\n",
       " 0.0008299999999999974,\n",
       " 0.0004900000000000043,\n",
       " 0.00029000000000000206,\n",
       " 0.00016000000000000042,\n",
       " 9.999999999996123e-06,\n",
       " 0.0001399999999999943,\n",
       " 0.00022000000000000491,\n",
       " 0.0034000000000000002,\n",
       " 0.0009899999999999978,\n",
       " 0.00019000000000000267,\n",
       " 0.0036300000000000013,\n",
       " 0.0022800000000000042,\n",
       " 0.0022199999999999998,\n",
       " 0.001130000000000006,\n",
       " 0.00021000000000000185,\n",
       " 0.0002699999999999994,\n",
       " 0.001460000000000003,\n",
       " 4.000000000000531e-05,\n",
       " 0.0003799999999999984,\n",
       " 0.0006999999999999992]"
      ]
     },
     "execution_count": 10,
     "metadata": {},
     "output_type": "execute_result"
    }
   ],
   "source": [
    "# Check\n",
    "\n",
    "anormaly_score"
   ]
  },
  {
   "cell_type": "code",
   "execution_count": 11,
   "metadata": {
    "ExecuteTime": {
     "end_time": "2019-05-09T10:32:14.990152Z",
     "start_time": "2019-05-09T10:32:14.823072Z"
    }
   },
   "outputs": [
    {
     "data": {
      "image/png": "[encoded data removed]",
      "text/plain": [
       "<Figure size 432x288 with 1 Axes>"
      ]
     },
     "metadata": {},
     "output_type": "display_data"
    }
   ],
   "source": [
    "# Plot the results\n",
    "\n",
    "plt.figure(facecolor=\"azure\", edgecolor=\"coral\", linewidth=2)\n",
    "\n",
    "plt.plot(anormaly_score)\n",
    "\n",
    "plt.title(\"Anormaly Scores\")\n",
    "plt.show()"
   ]
  },
  {
   "cell_type": "code",
   "execution_count": null,
   "metadata": {},
   "outputs": [],
   "source": []
  }
 ],
 "metadata": {
  "kernelspec": {
   "display_name": "Python 3",
   "language": "python",
   "name": "python3"
  },
  "language_info": {
   "codemirror_mode": {
    "name": "ipython",
    "version": 3
   },
   "file_extension": ".py",
   "mimetype": "text/x-python",
   "name": "python",
   "nbconvert_exporter": "python",
   "pygments_lexer": "ipython3",
   "version": "3.6.8"
  },
  "toc": {
   "base_numbering": 1,
   "nav_menu": {},
   "number_sections": true,
   "sideBar": true,
   "skip_h1_title": false,
   "title_cell": "Table of Contents",
   "title_sidebar": "Contents",
   "toc_cell": false,
   "toc_position": {},
   "toc_section_display": true,
   "toc_window_display": false
  },
  "varInspector": {
   "cols": {
    "lenName": 16,
    "lenType": 16,
    "lenVar": 40
   },
   "kernels_config": {
    "python": {
     "delete_cmd_postfix": "",
     "delete_cmd_prefix": "del ",
     "library": "var_list.py",
     "varRefreshCmd": "print(var_dic_list())"
    },
    "r": {
     "delete_cmd_postfix": ") ",
     "delete_cmd_prefix": "rm(",
     "library": "var_list.r",
     "varRefreshCmd": "cat(var_dic_list()) "
    }
   },
   "types_to_exclude": [
    "module",
    "function",
    "builtin_function_or_method",
    "instance",
    "_Feature"
   ],
   "window_display": false
  }
 },
 "nbformat": 4,
 "nbformat_minor": 2
}
