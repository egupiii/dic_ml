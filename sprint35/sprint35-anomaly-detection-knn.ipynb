{
 "cells": [
  {
   "cell_type": "markdown",
   "metadata": {},
   "source": [
    "# Anomaly Detection\n",
    "\n",
    "<br />\n",
    "\n",
    "There are 3 kinds of anomaly detections of time series data including outlier detection, abnormalities detection and change point detection.\n",
    "\n",
    "\n",
    "On this sprint, I am going to implement KNN to do outlier detections."
   ]
  },
  {
   "cell_type": "markdown",
   "metadata": {},
   "source": [
    "## [Task 1] Research"
   ]
  },
  {
   "cell_type": "markdown",
   "metadata": {},
   "source": [
    "    - Anomaly detection by KNN evaluates whether unknown data are regular or anomalous under a situation that there is a set of regular data of dimentional vectors.\n",
    "    \n",
    "    - If unknown data are far from the set of regilar data, it is possible that the unknown data are anomalous, and vice versa.\n",
    "    \n",
    "    - It is necessary to transform time series data to a set of vectors by taking any window width."
   ]
  },
  {
   "cell_type": "markdown",
   "metadata": {},
   "source": [
    "## [Task 2] Outlier Detection by KNN\n",
    "\n",
    "<br />\n",
    "\n",
    "I am going to do outlier detections for prices data of Bitcoin by KNN.\n",
    "\n",
    "<br />\n",
    "\n",
    "\"仮想通貨(暗号通貨)４本値CSVゲッター from Cryptowatch\"\n",
    "\n",
    "\n",
    "http://nipper.work/btc/index.php?market=bitFlyer&coin=BTCJPY&periods=86400&after=1420070400"
   ]
  },
  {
   "cell_type": "code",
   "execution_count": 1,
   "metadata": {
    "ExecuteTime": {
     "end_time": "2019-04-24T01:59:45.384512Z",
     "start_time": "2019-04-24T01:59:43.580033Z"
    }
   },
   "outputs": [],
   "source": [
    "from statistics import mean, variance\n",
    "\n",
    "import matplotlib.pyplot as plt\n",
    "import numpy as np\n",
    "import pandas as pd\n",
    "from sklearn.neighbors import NearestNeighbors"
   ]
  },
  {
   "cell_type": "code",
   "execution_count": 2,
   "metadata": {
    "ExecuteTime": {
     "end_time": "2019-04-24T01:59:47.635325Z",
     "start_time": "2019-04-24T01:59:47.605049Z"
    }
   },
   "outputs": [],
   "source": [
    "# Read the data\n",
    "\n",
    "data = pd.read_csv(\"btc.csv\", encoding=\"shift-jis\", header=None)"
   ]
  },
  {
   "cell_type": "code",
   "execution_count": 4,
   "metadata": {
    "ExecuteTime": {
     "end_time": "2019-04-24T02:00:06.567808Z",
     "start_time": "2019-04-24T02:00:06.551689Z"
    },
    "scrolled": true
   },
   "outputs": [
    {
     "data": {
      "text/html": [
       "<div>\n",
       "<style scoped>\n",
       "    .dataframe tbody tr th:only-of-type {\n",
       "        vertical-align: middle;\n",
       "    }\n",
       "\n",
       "    .dataframe tbody tr th {\n",
       "        vertical-align: top;\n",
       "    }\n",
       "\n",
       "    .dataframe thead th {\n",
       "        text-align: right;\n",
       "    }\n",
       "</style>\n",
       "<table border=\"1\" class=\"dataframe\">\n",
       "  <thead>\n",
       "    <tr style=\"text-align: right;\">\n",
       "      <th></th>\n",
       "      <th>0</th>\n",
       "      <th>1</th>\n",
       "      <th>2</th>\n",
       "      <th>3</th>\n",
       "      <th>4</th>\n",
       "      <th>5</th>\n",
       "    </tr>\n",
       "  </thead>\n",
       "  <tbody>\n",
       "    <tr>\n",
       "      <th>0</th>\n",
       "      <td>2016-12-30 00:00:00</td>\n",
       "      <td>0.00769</td>\n",
       "      <td>0.00875</td>\n",
       "      <td>0.00769</td>\n",
       "      <td>0.00845</td>\n",
       "      <td>7870.4500</td>\n",
       "    </tr>\n",
       "    <tr>\n",
       "      <th>1</th>\n",
       "      <td>2016-12-31 00:00:00</td>\n",
       "      <td>0.00850</td>\n",
       "      <td>0.00891</td>\n",
       "      <td>0.00842</td>\n",
       "      <td>0.00843</td>\n",
       "      <td>3269.1045</td>\n",
       "    </tr>\n",
       "    <tr>\n",
       "      <th>2</th>\n",
       "      <td>2017-01-01 00:00:00</td>\n",
       "      <td>0.00856</td>\n",
       "      <td>0.00864</td>\n",
       "      <td>0.00826</td>\n",
       "      <td>0.00833</td>\n",
       "      <td>3206.9350</td>\n",
       "    </tr>\n",
       "    <tr>\n",
       "      <th>3</th>\n",
       "      <td>2017-01-02 00:00:00</td>\n",
       "      <td>0.00838</td>\n",
       "      <td>0.00892</td>\n",
       "      <td>0.00811</td>\n",
       "      <td>0.00821</td>\n",
       "      <td>5814.5170</td>\n",
       "    </tr>\n",
       "    <tr>\n",
       "      <th>4</th>\n",
       "      <td>2017-01-03 00:00:00</td>\n",
       "      <td>0.00821</td>\n",
       "      <td>0.00854</td>\n",
       "      <td>0.00800</td>\n",
       "      <td>0.00850</td>\n",
       "      <td>690.7145</td>\n",
       "    </tr>\n",
       "  </tbody>\n",
       "</table>\n",
       "</div>"
      ],
      "text/plain": [
       "                     0        1        2        3        4          5\n",
       "0  2016-12-30 00:00:00  0.00769  0.00875  0.00769  0.00845  7870.4500\n",
       "1  2016-12-31 00:00:00  0.00850  0.00891  0.00842  0.00843  3269.1045\n",
       "2  2017-01-01 00:00:00  0.00856  0.00864  0.00826  0.00833  3206.9350\n",
       "3  2017-01-02 00:00:00  0.00838  0.00892  0.00811  0.00821  5814.5170\n",
       "4  2017-01-03 00:00:00  0.00821  0.00854  0.00800  0.00850   690.7145"
      ]
     },
     "execution_count": 4,
     "metadata": {},
     "output_type": "execute_result"
    }
   ],
   "source": [
    "# Check\n",
    "\n",
    "data.head()"
   ]
  },
  {
   "cell_type": "code",
   "execution_count": 5,
   "metadata": {
    "ExecuteTime": {
     "end_time": "2019-04-24T02:00:13.866814Z",
     "start_time": "2019-04-24T02:00:13.859766Z"
    }
   },
   "outputs": [
    {
     "data": {
      "text/plain": [
       "(366, 6)"
      ]
     },
     "execution_count": 5,
     "metadata": {},
     "output_type": "execute_result"
    }
   ],
   "source": [
    "data.shape"
   ]
  },
  {
   "cell_type": "markdown",
   "metadata": {},
   "source": [
    "- Explanations of the columns\n",
    "\n",
    "\n",
    "    - 0: Date and time\n",
    "    \n",
    "    - 1: Opening price\n",
    "    \n",
    "    - 2: Highest price\n",
    "    \n",
    "    - 3: Lowest price\n",
    "    \n",
    "    - 4: Closing price\n",
    "    \n",
    "    - 5: Volume"
   ]
  },
  {
   "cell_type": "code",
   "execution_count": 6,
   "metadata": {
    "ExecuteTime": {
     "end_time": "2019-04-24T02:00:25.145925Z",
     "start_time": "2019-04-24T02:00:20.262534Z"
    },
    "scrolled": true
   },
   "outputs": [
    {
     "data": {
      "image/png": "[encoded data removed]",
      "text/plain": [
       "<Figure size 432x288 with 1 Axes>"
      ]
     },
     "metadata": {},
     "output_type": "display_data"
    }
   ],
   "source": [
    "# Visualize the data\n",
    "\n",
    "plt.figure(facecolor=\"azure\", edgecolor=\"coral\", linewidth=2)\n",
    "\n",
    "plt.plot(data.iloc[:, 0], data.iloc[:, 1])\n",
    "\n",
    "plt.title(\"Price Fluctuation of Bitcoin\")\n",
    "plt.xlabel('Date and Time')\n",
    "plt.ylabel('Price')\n",
    "plt.show()"
   ]
  },
  {
   "cell_type": "code",
   "execution_count": 8,
   "metadata": {
    "ExecuteTime": {
     "end_time": "2019-04-24T02:01:11.840500Z",
     "start_time": "2019-04-24T02:01:11.830885Z"
    }
   },
   "outputs": [],
   "source": [
    "# Implement KNN for time series data\n",
    "\n",
    "\n",
    "def knn(data, wide, k):\n",
    "    \"\"\"\n",
    "    data: dataframe\n",
    "\n",
    "    wide: Width of a window\n",
    "\n",
    "    k: Hyperparameter\n",
    "    \"\"\"\n",
    "\n",
    "    anormaly_score = []\n",
    "\n",
    "    # Let 110 data a train dataset, and let the rest a test dataset\n",
    "    train = data.iloc[:183, 1]\n",
    "    test = data.iloc[184:, 1]\n",
    "\n",
    "    # Split the datasets into windows whose width is \"wide\"\n",
    "    train_window = embed(train, wide)\n",
    "    test_window = embed(test, wide)\n",
    "\n",
    "    neigh = NearestNeighbors(n_neighbors=k)\n",
    "    neigh.fit(train_window)\n",
    "    d = neigh.kneighbors(test_window)\n",
    "\n",
    "    anormaly_score = d[0]\n",
    "\n",
    "    return anormaly_score\n",
    "\n",
    "\n",
    "def embed(lst, dim):\n",
    "    emb = np.empty((0, dim), float)\n",
    "    for i in range(lst.size - dim + 1):\n",
    "        tmp = np.array(lst[i:i+dim])[::-1].reshape((1, -1))\n",
    "        emb = np.append(emb, tmp, axis=0)\n",
    "    return emb"
   ]
  },
  {
   "cell_type": "code",
   "execution_count": 9,
   "metadata": {
    "ExecuteTime": {
     "end_time": "2019-04-24T02:01:13.562426Z",
     "start_time": "2019-04-24T02:01:13.493732Z"
    }
   },
   "outputs": [],
   "source": [
    "# Validate the definitions\n",
    "\n",
    "anormaly_score = knn(data, 15, 1)"
   ]
  },
  {
   "cell_type": "code",
   "execution_count": 10,
   "metadata": {
    "ExecuteTime": {
     "end_time": "2019-04-24T02:01:15.319249Z",
     "start_time": "2019-04-24T02:01:15.308368Z"
    },
    "scrolled": true
   },
   "outputs": [
    {
     "data": {
      "text/plain": [
       "array([[0.06174525],\n",
       "       [0.06319904],\n",
       "       [0.05664549],\n",
       "       [0.04938809],\n",
       "       [0.0508881 ],\n",
       "       [0.05223992],\n",
       "       [0.04586066],\n",
       "       [0.04501503],\n",
       "       [0.0439332 ],\n",
       "       [0.04297865],\n",
       "       [0.04243431],\n",
       "       [0.04468529],\n",
       "       [0.04359473],\n",
       "       [0.05206372],\n",
       "       [0.05665158],\n",
       "       [0.05849752],\n",
       "       [0.06213734],\n",
       "       [0.06189602],\n",
       "       [0.05935762],\n",
       "       [0.0592179 ],\n",
       "       [0.05626867],\n",
       "       [0.05121603],\n",
       "       [0.05093961],\n",
       "       [0.04700643],\n",
       "       [0.04579688],\n",
       "       [0.04303894],\n",
       "       [0.03896508],\n",
       "       [0.03547963],\n",
       "       [0.03241037],\n",
       "       [0.03387488],\n",
       "       [0.043763  ],\n",
       "       [0.04873273],\n",
       "       [0.05347249],\n",
       "       [0.05895557],\n",
       "       [0.06257023],\n",
       "       [0.06740372],\n",
       "       [0.0700792 ],\n",
       "       [0.06884366],\n",
       "       [0.06894765],\n",
       "       [0.06689785],\n",
       "       [0.06204057],\n",
       "       [0.05675915],\n",
       "       [0.05248377],\n",
       "       [0.04594437],\n",
       "       [0.04643016],\n",
       "       [0.04599825],\n",
       "       [0.043094  ],\n",
       "       [0.04054674],\n",
       "       [0.0382971 ],\n",
       "       [0.03929945],\n",
       "       [0.04329441],\n",
       "       [0.04766709],\n",
       "       [0.04990032],\n",
       "       [0.05277421],\n",
       "       [0.05640639],\n",
       "       [0.06032185],\n",
       "       [0.06165107],\n",
       "       [0.06272938],\n",
       "       [0.06442761],\n",
       "       [0.06616588],\n",
       "       [0.06667682],\n",
       "       [0.06639182],\n",
       "       [0.06228564],\n",
       "       [0.05968548],\n",
       "       [0.05803556],\n",
       "       [0.05527975],\n",
       "       [0.05505251],\n",
       "       [0.05424006],\n",
       "       [0.0531268 ],\n",
       "       [0.05135887],\n",
       "       [0.0505876 ],\n",
       "       [0.04826711],\n",
       "       [0.04794157],\n",
       "       [0.04808602],\n",
       "       [0.04826685],\n",
       "       [0.04908487],\n",
       "       [0.05130269],\n",
       "       [0.05280751],\n",
       "       [0.05559572],\n",
       "       [0.05831941],\n",
       "       [0.059783  ],\n",
       "       [0.0614253 ],\n",
       "       [0.0628167 ],\n",
       "       [0.06278962],\n",
       "       [0.06278854],\n",
       "       [0.06207942],\n",
       "       [0.06122   ],\n",
       "       [0.05982544],\n",
       "       [0.05709109],\n",
       "       [0.05206561],\n",
       "       [0.04877938],\n",
       "       [0.04618998],\n",
       "       [0.04344051],\n",
       "       [0.04119832],\n",
       "       [0.03960648],\n",
       "       [0.03778308],\n",
       "       [0.03539968],\n",
       "       [0.03213294],\n",
       "       [0.02704169],\n",
       "       [0.02251156],\n",
       "       [0.01685689],\n",
       "       [0.01453623],\n",
       "       [0.0111512 ],\n",
       "       [0.00986231],\n",
       "       [0.00953781],\n",
       "       [0.00854747],\n",
       "       [0.00821959],\n",
       "       [0.01003746],\n",
       "       [0.01480645],\n",
       "       [0.01926972],\n",
       "       [0.02285082],\n",
       "       [0.01937704],\n",
       "       [0.01677758],\n",
       "       [0.01448416],\n",
       "       [0.01235795],\n",
       "       [0.01158212],\n",
       "       [0.01210543],\n",
       "       [0.01374009],\n",
       "       [0.01628767],\n",
       "       [0.01903681],\n",
       "       [0.01627021],\n",
       "       [0.01461353],\n",
       "       [0.01443777],\n",
       "       [0.01505378],\n",
       "       [0.01882794],\n",
       "       [0.0183461 ],\n",
       "       [0.01824264],\n",
       "       [0.01797941],\n",
       "       [0.01738069],\n",
       "       [0.01840622],\n",
       "       [0.01989852],\n",
       "       [0.02227951],\n",
       "       [0.02439642],\n",
       "       [0.02203083],\n",
       "       [0.02211896],\n",
       "       [0.01976755],\n",
       "       [0.0205097 ],\n",
       "       [0.0196335 ],\n",
       "       [0.01915623],\n",
       "       [0.01792457],\n",
       "       [0.01709877],\n",
       "       [0.01711799],\n",
       "       [0.01684729],\n",
       "       [0.01560345],\n",
       "       [0.01580216],\n",
       "       [0.01789238],\n",
       "       [0.01948174],\n",
       "       [0.01907738],\n",
       "       [0.01972274],\n",
       "       [0.02077063],\n",
       "       [0.02091624],\n",
       "       [0.02047288],\n",
       "       [0.01944147],\n",
       "       [0.01951371],\n",
       "       [0.01981308],\n",
       "       [0.01997565],\n",
       "       [0.01978172],\n",
       "       [0.02067179],\n",
       "       [0.02220819],\n",
       "       [0.02106192],\n",
       "       [0.02060214],\n",
       "       [0.01858549],\n",
       "       [0.01701227],\n",
       "       [0.01594403],\n",
       "       [0.01588718],\n",
       "       [0.0159335 ],\n",
       "       [0.01597669],\n",
       "       [0.01697775]])"
      ]
     },
     "execution_count": 10,
     "metadata": {},
     "output_type": "execute_result"
    }
   ],
   "source": [
    "# Check\n",
    "\n",
    "anormaly_score"
   ]
  },
  {
   "cell_type": "code",
   "execution_count": 11,
   "metadata": {
    "ExecuteTime": {
     "end_time": "2019-04-24T02:01:31.758443Z",
     "start_time": "2019-04-24T02:01:31.596180Z"
    }
   },
   "outputs": [
    {
     "data": {
      "image/png": "[encoded data removed]",
      "text/plain": [
       "<Figure size 432x288 with 1 Axes>"
      ]
     },
     "metadata": {},
     "output_type": "display_data"
    }
   ],
   "source": [
    "# Plot the results\n",
    "\n",
    "plt.figure(facecolor=\"azure\", edgecolor=\"coral\", linewidth=2)\n",
    "\n",
    "plt.plot(anormaly_score)\n",
    "\n",
    "plt.title(\"Anormaly Scores\")\n",
    "plt.show()"
   ]
  },
  {
   "cell_type": "code",
   "execution_count": null,
   "metadata": {},
   "outputs": [],
   "source": []
  }
 ],
 "metadata": {
  "kernelspec": {
   "display_name": "Python 3",
   "language": "python",
   "name": "python3"
  },
  "language_info": {
   "codemirror_mode": {
    "name": "ipython",
    "version": 3
   },
   "file_extension": ".py",
   "mimetype": "text/x-python",
   "name": "python",
   "nbconvert_exporter": "python",
   "pygments_lexer": "ipython3",
   "version": "3.6.8"
  },
  "toc": {
   "base_numbering": 1,
   "nav_menu": {},
   "number_sections": true,
   "sideBar": true,
   "skip_h1_title": false,
   "title_cell": "Table of Contents",
   "title_sidebar": "Contents",
   "toc_cell": false,
   "toc_position": {},
   "toc_section_display": true,
   "toc_window_display": false
  },
  "varInspector": {
   "cols": {
    "lenName": 16,
    "lenType": 16,
    "lenVar": 40
   },
   "kernels_config": {
    "python": {
     "delete_cmd_postfix": "",
     "delete_cmd_prefix": "del ",
     "library": "var_list.py",
     "varRefreshCmd": "print(var_dic_list())"
    },
    "r": {
     "delete_cmd_postfix": ") ",
     "delete_cmd_prefix": "rm(",
     "library": "var_list.r",
     "varRefreshCmd": "cat(var_dic_list()) "
    }
   },
   "types_to_exclude": [
    "module",
    "function",
    "builtin_function_or_method",
    "instance",
    "_Feature"
   ],
   "window_display": false
  }
 },
 "nbformat": 4,
 "nbformat_minor": 2
}
