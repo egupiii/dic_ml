{
 "cells": [
  {
   "cell_type": "markdown",
   "metadata": {},
   "source": [
    "# <u>何回折ったら富士山を超えるか問題</u>\n",
    "\n",
    "\n",
    "授業前課題では「 $ 1 $ 枚の紙を $ 43 $ 回折り曲げた時の厚さを計算するプログラム」を作成し、$ 43 $ 回折ることで月に届くことが確認できました。\n",
    "\n",
    "ここで「何回折ったらある厚さになるのか」という疑問が生まれます。こういったことを計算するプログラムを作成していきましょう。\n",
    "\n",
    "\n",
    "## 紙を折った時の厚さの数式\n",
    "\n",
    "\n",
    "授業前課題と同様ですが確認しておきます。\n",
    "\n",
    "$ n $ 回折った紙の厚さ $ t_{n} $ は以下のように表せます。\n",
    "\n",
    "折る前の紙の厚さ $ t_{0} $ は $ 0.00008 $ mとします。一般的なコピー用紙の厚さです。"
   ]
  },
  {
   "cell_type": "markdown",
   "metadata": {},
   "source": [
    "## 【課題】富士山を超える最小の折る回数\n",
    "\n",
    "\n",
    "厚さが「富士山( $ 3776 $ m)」を超えるのは何回紙を折った時か計算するプログラムを作成してください。\n",
    "\n",
    "<font color=\"red\">ヒント</font>\n",
    "\n",
    "if文を活用しましょう。"
   ]
  },
  {
   "cell_type": "code",
   "execution_count": 2,
   "metadata": {},
   "outputs": [
    {
     "name": "stdout",
     "output_type": "stream",
     "text": [
      "26\n"
     ]
    }
   ],
   "source": [
    "# thickness of a piece of a folded paper more than the height of Mt. Fuji\n",
    "\n",
    "thickness = 0.00008\n",
    "height_mt_fuji = 3776\n",
    "count = 0\n",
    "\n",
    "while thickness <= height_mt_fuji:\n",
    "    count += 1\n",
    "    thickness *= 2\n",
    "\n",
    "print(count)"
   ]
  },
  {
   "cell_type": "markdown",
   "metadata": {},
   "source": [
    "## 【課題】任意の厚さに対応した関数を作成\n",
    "\n",
    "\n",
    "距離を入力すると、何回折った時に超えるかを出力する関数を作成してください。引数として、折る前の厚さ $ t_{0} $ も設定できるようにしましょう。\n",
    "\n",
    "この関数を利用して、「最も近い太陽以外の恒星」に到達するには紙を何回折る必要があるか計算してください。「最も近い太陽以外の恒星」の距離は調査してください。"
   ]
  },
  {
   "cell_type": "code",
   "execution_count": 3,
   "metadata": {},
   "outputs": [],
   "source": [
    "# thickness of a piece of a folded paper more than the height of Mt. Fuji\n",
    "\n",
    "def folded_a_paper(thickness_paper):\n",
    "    count = 0\n",
    "    \n",
    "    # let dis to Alpha Centauri 9460730472580800m\n",
    "    a_centauri = 4.246 * 9460730472580800\n",
    "    \n",
    "    while thickness_paper <= a_centauri:\n",
    "        count += 1\n",
    "        thickness_paper *= 2\n",
    "    \n",
    "    return count"
   ]
  },
  {
   "cell_type": "code",
   "execution_count": 4,
   "metadata": {},
   "outputs": [
    {
     "data": {
      "text/plain": [
       "69"
      ]
     },
     "execution_count": 4,
     "metadata": {},
     "output_type": "execute_result"
    }
   ],
   "source": [
    "# result of the above def in a case that the thickness is 0.00008\n",
    "\n",
    "folded_a_paper(0.00008)"
   ]
  },
  {
   "cell_type": "markdown",
   "metadata": {},
   "source": [
    "## 【課題】必要な紙の長さ\n",
    "\n",
    "\n",
    "実際のところ身近にある紙は $ 43 $ 回はおろか $ 10 $ 回も折れません。しかし、大きな紙ほどたくさん折ることができ、トイレットペーパーのような長い紙を一方向に折ることを考えた時の折れる回数を求める公式が存在します。\n",
    "\n",
    "厚さ $ t_{0} $ の紙を $ n $ 回折るために必要な紙の長さ $ L $ は以下の公式で求まります。\n",
    "\n",
    "この公式を利用して、実際に紙を折り任意の厚さに到達するために必要な紙の長さを求める関数を作成してください。"
   ]
  },
  {
   "cell_type": "code",
   "execution_count": 8,
   "metadata": {},
   "outputs": [
    {
     "name": "stdout",
     "output_type": "stream",
     "text": [
      "37.69911184307752\n"
     ]
    }
   ],
   "source": [
    "import math\n",
    "\n",
    "def length_of_paper(t_0, dis):\n",
    "    n = 0\n",
    "    t_n = t_0\n",
    "    \n",
    "    while t_n <= dis:\n",
    "        n += 1\n",
    "        t_n *= 2\n",
    "    return math.pi*t_n/6 * (2**n+4) * (2**n-1)\n",
    "\n",
    "# verify the above def by using easy numbers\n",
    "print(length_of_paper(6, 10))"
   ]
  },
  {
   "cell_type": "markdown",
   "metadata": {},
   "source": [
    "そしてこれを使って「月」「富士山」「最も近い太陽以外の恒星」に届くために必要な紙の長さを求めてください。"
   ]
  },
  {
   "cell_type": "code",
   "execution_count": 6,
   "metadata": {},
   "outputs": [
    {
     "name": "stdout",
     "output_type": "stream",
     "text": [
      "1.2659842144726807e+19\n",
      "2.850742890840884e+34\n",
      "8.615841714548044e+57\n"
     ]
    }
   ],
   "source": [
    "# result of Mt. Fuji\n",
    "print(length_of_paper(0.00008, 3776))\n",
    "\n",
    "# result of moon\n",
    "print(length_of_paper(0.00008, 384400000))\n",
    "\n",
    "# result of a_centauri\n",
    "print(length_of_paper(0.00008, 4.246 * 9460730472580800))"
   ]
  },
  {
   "cell_type": "code",
   "execution_count": null,
   "metadata": {},
   "outputs": [],
   "source": []
  }
 ],
 "metadata": {
  "kernelspec": {
   "display_name": "Python 3",
   "language": "python",
   "name": "python3"
  },
  "language_info": {
   "codemirror_mode": {
    "name": "ipython",
    "version": 3
   },
   "file_extension": ".py",
   "mimetype": "text/x-python",
   "name": "python",
   "nbconvert_exporter": "python",
   "pygments_lexer": "ipython3",
   "version": "3.6.7"
  }
 },
 "nbformat": 4,
 "nbformat_minor": 2
}
