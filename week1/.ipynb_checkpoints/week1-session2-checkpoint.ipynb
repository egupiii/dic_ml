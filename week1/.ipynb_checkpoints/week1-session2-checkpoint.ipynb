{
 "cells": [
  {
   "cell_type": "code",
   "execution_count": 29,
   "metadata": {},
   "outputs": [
    {
     "name": "stdout",
     "output_type": "stream",
     "text": [
      "26\n"
     ]
    }
   ],
   "source": [
    "# thickness of a piece of a folded paper more than the height of Mt. Fuji\n",
    "\n",
    "thickness = 0.00008\n",
    "height_mt_fuji = 3776\n",
    "count = 0\n",
    "\n",
    "while thickness <= height_mt_fuji:\n",
    "    count += 1\n",
    "    thickness *= 2\n",
    "\n",
    "print(count)"
   ]
  },
  {
   "cell_type": "code",
   "execution_count": 30,
   "metadata": {},
   "outputs": [],
   "source": [
    "# thickness of a piece of a folded paper more than the height of Mt. Fuji\n",
    "\n",
    "def folded_a_paper(thickness_paper):\n",
    "    count = 0\n",
    "    \n",
    "    # let dis to Alpha Centauri 9460730472580800m\n",
    "    a_centauri = 4.246 * 9460730472580800\n",
    "    \n",
    "    while thickness_paper <= a_centauri:\n",
    "        count += 1\n",
    "        thickness_paper *= 2\n",
    "    \n",
    "    return count"
   ]
  },
  {
   "cell_type": "code",
   "execution_count": 31,
   "metadata": {},
   "outputs": [
    {
     "data": {
      "text/plain": [
       "69"
      ]
     },
     "execution_count": 31,
     "metadata": {},
     "output_type": "execute_result"
    }
   ],
   "source": [
    "# result of the above def in a case that the thickness is 0.00008\n",
    "\n",
    "folded_a_paper(0.00008)"
   ]
  },
  {
   "cell_type": "code",
   "execution_count": 32,
   "metadata": {},
   "outputs": [
    {
     "name": "stdout",
     "output_type": "stream",
     "text": [
      "18.84955592153876\n"
     ]
    }
   ],
   "source": [
    "import math\n",
    "\n",
    "def length_of_paper(t_0, dis):\n",
    "    n = 0\n",
    "    t_init = t_0\n",
    "    \n",
    "    while t_0 <= dis:\n",
    "        n += 1\n",
    "        t_0 *= 2\n",
    "    return math.pi*t_init/6 * (2**n+4) * (2**n-1)\n",
    "\n",
    "print(length_of_paper(6, 10)) # verify the above def by using easy numbers"
   ]
  },
  {
   "cell_type": "code",
   "execution_count": 33,
   "metadata": {},
   "outputs": [
    {
     "name": "stdout",
     "output_type": "stream",
     "text": [
      "188646348487.24017\n",
      "3.240919444170781e+21\n",
      "1.4595803601100348e+37\n"
     ]
    }
   ],
   "source": [
    "# result of Mt. Fuji\n",
    "print(length_of_paper(0.00008, 3776))\n",
    "\n",
    "# result of moon\n",
    "print(length_of_paper(0.00008, 384400000))\n",
    "\n",
    "# result of a_centauri\n",
    "print(length_of_paper(0.00008, 4.246 * 9460730472580800))"
   ]
  },
  {
   "cell_type": "code",
   "execution_count": null,
   "metadata": {},
   "outputs": [],
   "source": []
  }
 ],
 "metadata": {
  "kernelspec": {
   "display_name": "Python 3",
   "language": "python",
   "name": "python3"
  },
  "language_info": {
   "codemirror_mode": {
    "name": "ipython",
    "version": 3
   },
   "file_extension": ".py",
   "mimetype": "text/x-python",
   "name": "python",
   "nbconvert_exporter": "python",
   "pygments_lexer": "ipython3",
   "version": "3.6.7"
  }
 },
 "nbformat": 4,
 "nbformat_minor": 2
}
