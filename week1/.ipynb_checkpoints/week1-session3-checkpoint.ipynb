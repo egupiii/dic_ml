{
 "cells": [
  {
   "cell_type": "markdown",
   "metadata": {},
   "source": [
    "# 栗まんじゅう問題\n",
    "\n",
    "\n",
    "漫画ドラえもんには「バイバイン」という道具が登場する、 $ 2 $ の $ n $ 乗に関する有名なエピソードがあります。\n",
    "\n",
    "「バイバイン」は薬品で、これを振掛けるとその物体は $ 5 $ 分ごとに倍に増えるという働きがあります。作中では栗まんじゅうを増やしますが、食べきれなくなったためロケットを使い宇宙に捨てました。\n",
    "\n",
    "ここで度々話題になるのが、栗まんじゅうはその後宇宙でどのように増えていくのかについてです。様々な議論がされていますが、今回は単純に栗まんじゅうの体積がどう増えるかを計算してみましょう。"
   ]
  },
  {
   "cell_type": "markdown",
   "metadata": {},
   "source": [
    "## 【課題】栗まんじゅうが太陽系を覆う日\n",
    "\n",
    "\n",
    "$ 1 $ 個の栗まんじゅうにバイバインを振りかけた場合、太陽系が栗まんじゅうで覆われるのは何分後でしょうか。これを計算するプログラムを作成してください。\n",
    "\n",
    "栗まんじゅうや太陽系の体積を調査した上で仮定して計算してください。栗まんじゅうの隙間や重力などは考えず、問題を単純化して構いません。\n",
    "\n",
    "ボールにバイバインを振りかけた時、東京ドームが一杯になる時間など他の状況にも適用できるような汎用的なプログラムを作成してください。また、グラフを表示するなど分かりやすいノートブックを作成してください。"
   ]
  },
  {
   "cell_type": "code",
   "execution_count": 1,
   "metadata": {},
   "outputs": [
    {
     "name": "stdout",
     "output_type": "stream",
     "text": [
      "栗まんじゅうが太陽系を覆うのは、約18時間20分後です。\n"
     ]
    }
   ],
   "source": [
    "# volume of a manju of chestnut more than volume of Solar System\n",
    "\n",
    "import math\n",
    "\n",
    "# let volume of a manju of chestnut 65cm^3\n",
    "vol_of_manju = 65/(100**3)\n",
    "\n",
    "# let light-year 28000 and radius of solar system 9460730472580800m respectively\n",
    "vol_of_solar_system = 4/3*math.pi*((28000*9460730472580800)**3)\n",
    "\n",
    "count = 0\n",
    "\n",
    "while vol_of_manju <= vol_of_solar_system:\n",
    "    count += 1\n",
    "    vol_of_manju *= 2\n",
    "\n",
    "\n",
    "print(\"栗まんじゅうが太陽系を覆うのは、約{}時間{}分後です。\"\n",
    "      .format(count*5//60, count*5%60))"
   ]
  },
  {
   "cell_type": "code",
   "execution_count": null,
   "metadata": {},
   "outputs": [],
   "source": []
  }
 ],
 "metadata": {
  "kernelspec": {
   "display_name": "Python 3",
   "language": "python",
   "name": "python3"
  },
  "language_info": {
   "codemirror_mode": {
    "name": "ipython",
    "version": 3
   },
   "file_extension": ".py",
   "mimetype": "text/x-python",
   "name": "python",
   "nbconvert_exporter": "python",
   "pygments_lexer": "ipython3",
   "version": "3.6.7"
  }
 },
 "nbformat": 4,
 "nbformat_minor": 2
}
