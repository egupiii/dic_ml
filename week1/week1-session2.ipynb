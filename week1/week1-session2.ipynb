{
 "cells": [
  {
   "cell_type": "code",
   "execution_count": 5,
   "metadata": {},
   "outputs": [
    {
     "name": "stdout",
     "output_type": "stream",
     "text": [
      "26\n"
     ]
    }
   ],
   "source": [
    "# thickness of a folded paper more than height of Mt. Fuji\n",
    "\n",
    "thickness = 0.00008\n",
    "hight_mt_fuji = 3776\n",
    "count = 0\n",
    "\n",
    "while thickness <= hight_mt_fuji:\n",
    "    count += 1\n",
    "    thickness *= 2\n",
    "\n",
    "print(count)"
   ]
  },
  {
   "cell_type": "code",
   "execution_count": 1,
   "metadata": {},
   "outputs": [],
   "source": [
    "# thickness of a folded paper more than height of Mt. Fuji\n",
    "\n",
    "def folded_a_paper(thickness_paper):\n",
    "    count = 0\n",
    "    a_centauri = 4.246 * 9460730472580800\n",
    "    \n",
    "    while thickness_paper <= a_centauri:\n",
    "        count += 1\n",
    "        thickness_paper *= 2\n",
    "    \n",
    "    return count"
   ]
  },
  {
   "cell_type": "code",
   "execution_count": 2,
   "metadata": {},
   "outputs": [
    {
     "data": {
      "text/plain": [
       "49"
      ]
     },
     "execution_count": 2,
     "metadata": {},
     "output_type": "execute_result"
    }
   ],
   "source": [
    "folded_a_paper(100)"
   ]
  },
  {
   "cell_type": "code",
   "execution_count": 3,
   "metadata": {},
   "outputs": [],
   "source": [
    "import math\n",
    "\n",
    "def length_of_paper(t_0, dis):\n",
    "    n = 0\n",
    "    pi = math.pi\n",
    "    \n",
    "    while t_0 <= dis:\n",
    "        n += 1\n",
    "        t_0 *= 2\n",
    "    return pi*t_0/6 * (2**n+4) * (2**n-1)"
   ]
  },
  {
   "cell_type": "code",
   "execution_count": 4,
   "metadata": {},
   "outputs": [
    {
     "name": "stdout",
     "output_type": "stream",
     "text": [
      "1.2659842144726807e+19\n",
      "2.850742890840884e+34\n",
      "8.615841714548044e+57\n"
     ]
    }
   ],
   "source": [
    "# result of Mt. Fuji\n",
    "print(length_of_paper(0.00008, 3776))\n",
    "\n",
    "# result of moon\n",
    "print(length_of_paper(0.00008, 384400000))\n",
    "\n",
    "# result of a_centauri\n",
    "print(length_of_paper(0.00008, 4.246 * 9460730472580800))"
   ]
  },
  {
   "cell_type": "code",
   "execution_count": null,
   "metadata": {},
   "outputs": [],
   "source": []
  }
 ],
 "metadata": {
  "kernelspec": {
   "display_name": "Python 3",
   "language": "python",
   "name": "python3"
  },
  "language_info": {
   "codemirror_mode": {
    "name": "ipython",
    "version": 3
   },
   "file_extension": ".py",
   "mimetype": "text/x-python",
   "name": "python",
   "nbconvert_exporter": "python",
   "pygments_lexer": "ipython3",
   "version": "3.6.7"
  }
 },
 "nbformat": 4,
 "nbformat_minor": 2
}
