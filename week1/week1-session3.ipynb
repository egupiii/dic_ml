{
 "cells": [
  {
   "cell_type": "code",
   "execution_count": 1,
   "metadata": {},
   "outputs": [
    {
     "name": "stdout",
     "output_type": "stream",
     "text": [
      "栗まんじゅうが太陽系を覆うのは、約18時間20分後です。\n"
     ]
    }
   ],
   "source": [
    "# volume of maron manju more than volume of Solar System\n",
    "\n",
    "import math\n",
    "\n",
    "pi = math.pi\n",
    "\n",
    "vol_of_manju = 65/(100**3)\n",
    "vol_of_solar_system = 4/3*pi*((28000*9460730472580800)**3)\n",
    "\n",
    "count = 0\n",
    "\n",
    "while vol_of_manju <= vol_of_solar_system:\n",
    "    count += 1\n",
    "    vol_of_manju *= 2\n",
    "\n",
    "\n",
    "print(\"栗まんじゅうが太陽系を覆うのは、約{}時間{}分後です。\"\n",
    "      .format(count*5//60, count*5%60))"
   ]
  },
  {
   "cell_type": "code",
   "execution_count": null,
   "metadata": {},
   "outputs": [],
   "source": []
  }
 ],
 "metadata": {
  "kernelspec": {
   "display_name": "Python 3",
   "language": "python",
   "name": "python3"
  },
  "language_info": {
   "codemirror_mode": {
    "name": "ipython",
    "version": 3
   },
   "file_extension": ".py",
   "mimetype": "text/x-python",
   "name": "python",
   "nbconvert_exporter": "python",
   "pygments_lexer": "ipython3",
   "version": "3.6.7"
  }
 },
 "nbformat": 4,
 "nbformat_minor": 2
}
